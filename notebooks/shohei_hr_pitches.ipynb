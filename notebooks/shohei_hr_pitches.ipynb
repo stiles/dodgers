{
 "cells": [
  {
   "cell_type": "code",
   "execution_count": 1,
   "id": "e4c499a9-3cd1-4d12-a07b-0113bcac775e",
   "metadata": {},
   "outputs": [],
   "source": [
    "# Scrape a player's home run videos\n",
    "# Using Baseball Savant endpoints\n",
    "# For a given time period"
   ]
  },
  {
   "cell_type": "code",
   "execution_count": 2,
   "id": "f5daa856-21f3-4305-8948-7f8e3d729642",
   "metadata": {},
   "outputs": [],
   "source": [
    "import os\n",
    "import re\n",
    "import requests\n",
    "import subprocess\n",
    "import pandas as pd\n",
    "import jupyter_black\n",
    "from tqdm.notebook import tqdm\n",
    "from bs4 import BeautifulSoup"
   ]
  },
  {
   "cell_type": "code",
   "execution_count": 3,
   "id": "234b4aae-ccf4-4683-819f-a4f83a578ae4",
   "metadata": {},
   "outputs": [
    {
     "data": {
      "text/html": [
       "\n",
       "                <script type=\"application/javascript\" id=\"jupyter_black\">\n",
       "                (function() {\n",
       "                    if (window.IPython === undefined) {\n",
       "                        return\n",
       "                    }\n",
       "                    var msg = \"WARNING: it looks like you might have loaded \" +\n",
       "                        \"jupyter_black in a non-lab notebook with \" +\n",
       "                        \"`is_lab=True`. Please double check, and if \" +\n",
       "                        \"loading with `%load_ext` please review the README!\"\n",
       "                    console.log(msg)\n",
       "                    alert(msg)\n",
       "                })()\n",
       "                </script>\n",
       "                "
      ],
      "text/plain": [
       "<IPython.core.display.HTML object>"
      ]
     },
     "metadata": {},
     "output_type": "display_data"
    }
   ],
   "source": [
    "jupyter_black.load()\n",
    "pd.options.display.max_columns = 2000\n",
    "pd.options.display.max_rows = 1000\n",
    "pd.options.display.max_colwidth = None"
   ]
  },
  {
   "cell_type": "code",
   "execution_count": 4,
   "id": "9bd510ca-6b35-4156-8368-7f137ad22fa8",
   "metadata": {},
   "outputs": [],
   "source": [
    "# Define the input directory where the raw videos are stored\n",
    "os.makedirs(\"../videos\", exist_ok=True)\n",
    "input_dir = \"../videos/\"\n",
    "\n",
    "# Define the base directory where all processed videos will be stored\n",
    "output_dir_base = \"../processed_videos/\"\n",
    "os.makedirs(output_dir_base, exist_ok=True)"
   ]
  },
  {
   "cell_type": "code",
   "execution_count": 5,
   "id": "3676149b-7f12-4f8d-99f5-3ca0a5904f10",
   "metadata": {},
   "outputs": [],
   "source": [
    "# Headers we need for requests\n",
    "headers = {\n",
    "    \"User-Agent\": \"Mozilla/5.0 (Macintosh; Intel Mac OS X 10_15_7) AppleWebKit/537.36 (KHTML, like Gecko) Chrome/129.0.0.0 Safari/537.36\",\n",
    "}"
   ]
  },
  {
   "cell_type": "code",
   "execution_count": 6,
   "id": "bd3db901-cd8d-434e-b80b-a54660e3fb87",
   "metadata": {},
   "outputs": [],
   "source": [
    "# Define variables for requests\n",
    "event = \"home_run\"\n",
    "player = \"660271\"\n",
    "game_start = \"2024-03-28\"\n",
    "game_end = \"2024-09-30\"\n",
    "game_season = pd.to_datetime(game_end).strftime(\"%Y\")\n",
    "today = pd.Timestamp(\"today\").strftime(\"%Y-%m-%d\")\n",
    "base_video_url = \"https://baseballsavant.mlb.com\""
   ]
  },
  {
   "cell_type": "code",
   "execution_count": 7,
   "id": "1e96524f-32f6-473b-af0e-998ef60552b4",
   "metadata": {},
   "outputs": [],
   "source": [
    "# Get every pitch the player hit\n",
    "params = {\n",
    "    \"warehouse\": \"true\",\n",
    "    \"hfPT\": \"\",\n",
    "    \"hfAB\": \"\",\n",
    "    \"hfGT\": \"\",\n",
    "    \"hfPR\": \"\",\n",
    "    \"hfZ\": \"\",\n",
    "    \"hfStadium\": \"\",\n",
    "    \"hfBBL\": \"\",\n",
    "    \"hfNewZones\": \"\",\n",
    "    \"hfPull\": \"\",\n",
    "    \"hfC\": \"\",\n",
    "    \"hfSea\": f\"{game_season}|\",\n",
    "    \"hfSit\": \"\",\n",
    "    \"player_type\": \"batter\",\n",
    "    \"batters_lookup[]\": player,\n",
    "    \"hfFlag\": \"\",\n",
    "    \"metric_1\": \"\",\n",
    "    \"group_by\": \"name\",\n",
    "    \"min_pitches\": \"0\",\n",
    "    \"min_results\": \"0\",\n",
    "    \"min_pas\": \"0\",\n",
    "    \"sort_col\": \"pitches\",\n",
    "    \"player_event_sort\": \"\",\n",
    "    \"sort_order\": \"desc\",\n",
    "    \"type\": \"details\",\n",
    "    \"player_id\": player,\n",
    "    \"minors\": \"false\",\n",
    "}\n",
    "\n",
    "# Make the request\n",
    "spray_response = requests.get(\n",
    "    \"https://baseballsavant.mlb.com/player/spray\", params=params, headers=headers\n",
    ")\n",
    "\n",
    "# Read the response as json and conver to dataframe\n",
    "spray_data = spray_response.json()\n",
    "spray_df = pd.DataFrame(spray_data)"
   ]
  },
  {
   "cell_type": "code",
   "execution_count": 19,
   "id": "c8e03c5f-4b42-4d22-af12-d4cb0227151c",
   "metadata": {},
   "outputs": [],
   "source": [
    "# Slim the dataframe to just the columns we need\n",
    "keep_cols = [\n",
    "    \"batter_name\",\n",
    "    \"pitcher\",\n",
    "    \"pitcher_name\",\n",
    "    \"venue\",\n",
    "    \"game_date\",\n",
    "    \"game_year\",\n",
    "    \"hit_distance_sc\",\n",
    "    \"launch_angle\",\n",
    "    \"launch_speed\",\n",
    "    \"hc_x\",\n",
    "    \"hc_y\",\n",
    "    \"hc_x_ft\",\n",
    "    \"hc_y_ft\",\n",
    "    \"pitch_name\",\n",
    "    \"events\",\n",
    "]\n",
    "\n",
    "# Limit the number of columns in the dataframe\n",
    "# Also filter to date range, player and event type, e.g. \"home_run\"\n",
    "df = spray_df.query(\n",
    "    f'game_date > \"{game_start}\" and game_date < \"{game_end}\" and batter == {player} and events == \"{event}\"'\n",
    ")[keep_cols]\n",
    "\n",
    "# Sort the dataframe, so the events are in chronological order\n",
    "df_sorted = df.sort_values(\"game_date\").reset_index(drop=True)\n",
    "\n",
    "# Get a list of all the players who threw the pitches\n",
    "shohei_hr_pitchers = list(df_sorted[\"pitcher\"].unique())"
   ]
  },
  {
   "cell_type": "code",
   "execution_count": 20,
   "id": "8864eb05-a741-4186-8b97-6076211eabed",
   "metadata": {},
   "outputs": [
    {
     "data": {
      "text/plain": [
       "54"
      ]
     },
     "execution_count": 20,
     "metadata": {},
     "output_type": "execute_result"
    }
   ],
   "source": [
    "len(shohei_hr_pitchers)"
   ]
  },
  {
   "cell_type": "code",
   "execution_count": null,
   "id": "aad39883-7bc2-41eb-98af-8cd205946db6",
   "metadata": {},
   "outputs": [],
   "source": [
    "# Use the pitcher IDs to get data on the pitches\n",
    "video_urls = []\n",
    "\n",
    "for pitcher in tqdm(shohei_hr_pitchers):\n",
    "\n",
    "    params = {\n",
    "        \"hfPT\": \"\",\n",
    "        \"hfAB\": \"home\\\\.\\\\.run|\",\n",
    "        \"hfGT\": \"\",\n",
    "        \"hfPR\": \"\",\n",
    "        \"hfZ\": \"\",\n",
    "        \"hfStadium\": \"\",\n",
    "        \"hfBBL\": \"\",\n",
    "        \"hfNewZones\": \"\",\n",
    "        \"hfPull\": \"\",\n",
    "        \"hfC\": \"\",\n",
    "        \"hfSea\": \"2024|\",\n",
    "        \"hfSit\": \"\",\n",
    "        \"player_type\": \"pitcher\",\n",
    "        \"hfOuts\": \"\",\n",
    "        \"hfOpponent\": \"\",\n",
    "        \"pitcher_throws\": \"\",\n",
    "        \"batter_stands\": \"\",\n",
    "        \"hfSA\": \"\",\n",
    "        \"game_date_gt\": \"\",\n",
    "        \"game_date_lt\": \"\",\n",
    "        \"hfMo\": \"\",\n",
    "        \"hfTeam\": \"\",\n",
    "        \"home_road\": \"\",\n",
    "        \"hfRO\": \"\",\n",
    "        \"position\": \"\",\n",
    "        \"hfInfield\": \"\",\n",
    "        \"hfOutfield\": \"\",\n",
    "        \"hfInn\": \"\",\n",
    "        \"hfBBT\": \"\",\n",
    "        \"batters_lookup[]\": \"660271\",\n",
    "        \"hfFlag\": \"\",\n",
    "        \"metric_1\": \"\",\n",
    "        \"group_by\": \"name\",\n",
    "        \"min_pitches\": \"0\",\n",
    "        \"min_results\": \"0\",\n",
    "        \"min_pas\": \"0\",\n",
    "        \"sort_col\": \"velocity\",\n",
    "        \"player_event_sort\": \"api_p_release_speed\",\n",
    "        \"sort_order\": \"desc\",\n",
    "        \"chk_stats_velocity\": \"on\",\n",
    "        \"type\": \"details\",\n",
    "        \"player_id\": pitcher,\n",
    "    }\n",
    "\n",
    "    # Request the pitch data\n",
    "    pitch_response = requests.get(\n",
    "        \"https://baseballsavant.mlb.com/statcast_search\", params=params, headers=headers\n",
    "    )\n",
    "    # Parse out the video ids from the markup to form a list of video display page urls\n",
    "    soup = BeautifulSoup(pitch_response.content, \"html.parser\")\n",
    "\n",
    "    # Find all the video links (in case there are multiple home runs against same pitcher)\n",
    "    video_links = soup.find_all(\"a\")\n",
    "\n",
    "    for link in video_links:\n",
    "        video_id = link[\"href\"]\n",
    "        video_url = base_video_url + video_id\n",
    "        video_urls.append(video_url)\n",
    "        video_urls_unique = list(dict.fromkeys(video_urls))"
   ]
  },
  {
   "cell_type": "code",
   "execution_count": 23,
   "id": "e498b2c3-a23e-42ca-bb43-ded54bb6348b",
   "metadata": {},
   "outputs": [
    {
     "data": {
      "application/vnd.jupyter.widget-view+json": {
       "model_id": "c4bbf0fa8ac94fabb9e129a36f2ee077",
       "version_major": 2,
       "version_minor": 0
      },
      "text/plain": [
       "  0%|          | 0/55 [00:00<?, ?it/s]"
      ]
     },
     "metadata": {},
     "output_type": "display_data"
    }
   ],
   "source": [
    "# Loop through those video pages, fetching the actual video file urls\n",
    "video_file_urls = []\n",
    "\n",
    "for video_url in tqdm(video_urls):\n",
    "    video_page_response = requests.get(video_url, headers=headers)\n",
    "    video_page_content = BeautifulSoup(video_page_response.content, \"html.parser\")\n",
    "    video_file_url = video_page_content.find(\"source\")[\"src\"]\n",
    "    video_file_urls.append(video_file_url)"
   ]
  },
  {
   "cell_type": "code",
   "execution_count": 24,
   "id": "273d9158-3803-4a15-8496-4564ba1f8bbb",
   "metadata": {},
   "outputs": [
    {
     "data": {
      "application/vnd.jupyter.widget-view+json": {
       "model_id": "c6cec0e675654ff8ae49b22ac16dc0c2",
       "version_major": 2,
       "version_minor": 0
      },
      "text/plain": [
       "Downloading videos:   0%|          | 0/55 [00:00<?, ?it/s]"
      ]
     },
     "metadata": {},
     "output_type": "display_data"
    },
    {
     "name": "stdout",
     "output_type": "stream",
     "text": [
      "All videos downloaded successfully!!!\n"
     ]
    }
   ],
   "source": [
    "# Loop through each video file URL and download the file\n",
    "for idx, video_url in enumerate(tqdm(video_file_urls, desc=\"Downloading videos\")):\n",
    "    # Get the video content\n",
    "    video_response = requests.get(video_url, stream=True)\n",
    "\n",
    "    # Define the filename and path\n",
    "    video_filename = f\"../videos/otani_hr_{idx+1}.mp4\"\n",
    "\n",
    "    # Write the video content to the file\n",
    "    with open(video_filename, \"wb\") as video_file:\n",
    "        for chunk in video_response.iter_content(chunk_size=1024):\n",
    "            video_file.write(chunk)\n",
    "\n",
    "print(\"All videos downloaded successfully!!!\")"
   ]
  },
  {
   "cell_type": "markdown",
   "id": "953ee082-1ddd-491e-8989-02c762a3077f",
   "metadata": {},
   "source": [
    "---"
   ]
  },
  {
   "cell_type": "code",
   "execution_count": null,
   "id": "7b24bd99-ee8e-493d-9737-1ddcaabeec0d",
   "metadata": {},
   "outputs": [],
   "source": [
    "# Edit videos"
   ]
  },
  {
   "cell_type": "code",
   "execution_count": 25,
   "id": "23357f00-1488-4f06-bca4-a644994c8523",
   "metadata": {},
   "outputs": [],
   "source": [
    "def natural_sort_key(file_name):\n",
    "    \"\"\"Helper function to sort filenames with numbers in a natural order.\"\"\"\n",
    "    return [\n",
    "        int(text) if text.isdigit() else text for text in re.split(r\"(\\d+)\", file_name)\n",
    "    ]\n",
    "\n",
    "\n",
    "def process_video(\n",
    "    input_file,\n",
    "    output_file,\n",
    "    crop_params=None,\n",
    "    start_time=\"00:00:00.5\",\n",
    "    duration=None,\n",
    "    scale=True,\n",
    "):\n",
    "    \"\"\"Function to crop, trim, and scale videos with flexible options.\n",
    "\n",
    "    Args:\n",
    "    - input_file (str): Path to the input video file.\n",
    "    - output_file (str): Path to save the processed video.\n",
    "    - crop_params (str): Crop parameters (e.g., '405:720:(in_w-405)/2:0'). If None, no cropping.\n",
    "    - start_time (str): When to start the video (e.g., '00:00:00.5').\n",
    "    - duration (str): How long the video should be (e.g., '5'). If None, keeps the original length.\n",
    "    - scale (bool): Whether to scale to 1080x1920. If False, keeps the original width.\n",
    "    \"\"\"\n",
    "    # Use the full path to ffmpeg\n",
    "    ffmpeg_path = \"/opt/homebrew/bin/ffmpeg\"\n",
    "\n",
    "    # Basic ffmpeg command\n",
    "    command = [ffmpeg_path, \"-i\", input_file]\n",
    "\n",
    "    # Optional start time and duration\n",
    "    if start_time:\n",
    "        command.extend([\"-ss\", start_time])\n",
    "    if duration:\n",
    "        command.extend([\"-t\", duration])\n",
    "\n",
    "    # Apply cropping and scaling if provided, otherwise just scale or keep original width\n",
    "    if crop_params:\n",
    "        vf_options = f\"crop={crop_params}\"\n",
    "        if scale:\n",
    "            vf_options += \",scale=1080:1920\"\n",
    "    elif scale:\n",
    "        vf_options = \"scale=1080:1920\"\n",
    "    else:\n",
    "        vf_options = None  # No cropping or scaling\n",
    "\n",
    "    # Add video filter if applicable\n",
    "    if vf_options:\n",
    "        command.extend([\"-vf\", vf_options])\n",
    "\n",
    "    # Suppress output, overwrite existing file\n",
    "    command.extend([\"-loglevel\", \"quiet\", \"-y\", output_file])\n",
    "\n",
    "    # Run the ffmpeg command\n",
    "    subprocess.run(command, stdout=subprocess.DEVNULL, stderr=subprocess.STDOUT)\n",
    "\n",
    "\n",
    "# Directory paths\n",
    "input_dir = \"../videos/\"\n",
    "output_dir_base = \"../processed_videos/\"\n",
    "os.makedirs(output_dir_base, exist_ok=True)\n",
    "\n",
    "# List all video files and sort them naturally by number\n",
    "video_files = sorted(\n",
    "    [f for f in os.listdir(input_dir) if f.endswith(\".mp4\")], key=natural_sort_key\n",
    ")"
   ]
  },
  {
   "cell_type": "code",
   "execution_count": 26,
   "id": "f975e408-4cfd-4fb0-87b4-9c5d277ac194",
   "metadata": {},
   "outputs": [],
   "source": [
    "# Example usage: Experiment with different versions of the video\n",
    "for idx, video_file in enumerate(video_files):\n",
    "    input_file = os.path.join(input_dir, video_file)\n",
    "\n",
    "    # Flexible video versions\n",
    "    versions = [\n",
    "        # No cropping, no trimming, just wide\n",
    "        {\n",
    "            \"output_subdir\": \"wide\",\n",
    "            \"crop_params\": None,\n",
    "            \"duration\": None,\n",
    "            \"scale\": False,\n",
    "        },\n",
    "        # Cropping, trimming, and scaling for TikTok/YouTube Shorts\n",
    "        {\n",
    "            \"output_subdir\": \"cropped_trimmed\",\n",
    "            \"crop_params\": \"405:720:(in_w-405)/2:0\",\n",
    "            \"duration\": \"5\",\n",
    "            \"scale\": True,\n",
    "        },\n",
    "        # Cropping but no trimming (keep full duration)\n",
    "        {\n",
    "            \"output_subdir\": \"cropped_full\",\n",
    "            \"crop_params\": \"405:720:(in_w-405)/2:0\",\n",
    "            \"duration\": None,\n",
    "            \"scale\": True,\n",
    "        },\n",
    "        # Trimming but no cropping (just wide YouTube)\n",
    "        {\n",
    "            \"output_subdir\": \"trimmed_wide\",\n",
    "            \"crop_params\": None,\n",
    "            \"duration\": \"5\",\n",
    "            \"scale\": False,\n",
    "        },\n",
    "    ]\n",
    "\n",
    "    # Process each version of the video\n",
    "    for version in versions:\n",
    "        output_dir = os.path.join(output_dir_base, version[\"output_subdir\"])\n",
    "        os.makedirs(output_dir, exist_ok=True)\n",
    "        output_file = os.path.join(output_dir, f\"processed_hr_{idx+1}.mp4\")\n",
    "\n",
    "        # Run the processing function with specific version settings\n",
    "        process_video(\n",
    "            input_file,\n",
    "            output_file,\n",
    "            crop_params=version[\"crop_params\"],\n",
    "            start_time=\"00:00:00.5\",  # Adjust this if needed per video\n",
    "            duration=version[\"duration\"],\n",
    "            scale=version[\"scale\"],\n",
    "        )"
   ]
  },
  {
   "cell_type": "code",
   "execution_count": null,
   "id": "f349a810-c74c-4aa6-8bbd-674dcc83bb99",
   "metadata": {},
   "outputs": [],
   "source": []
  },
  {
   "cell_type": "code",
   "execution_count": null,
   "id": "7ae06b3a-ac30-4c3e-ac32-94e3e3ccdc53",
   "metadata": {},
   "outputs": [],
   "source": []
  },
  {
   "cell_type": "code",
   "execution_count": null,
   "id": "3162054b-94c5-40a6-bc03-72b854612594",
   "metadata": {},
   "outputs": [],
   "source": []
  },
  {
   "cell_type": "code",
   "execution_count": null,
   "id": "480d1e8a-363b-49b6-97eb-3bb2c95e7f13",
   "metadata": {},
   "outputs": [],
   "source": []
  },
  {
   "cell_type": "code",
   "execution_count": null,
   "id": "7c2073b8-49e7-4d77-869a-6a367aa38114",
   "metadata": {},
   "outputs": [],
   "source": []
  },
  {
   "cell_type": "code",
   "execution_count": null,
   "id": "4b1be7a8-742c-429a-a71e-4a487f99999f",
   "metadata": {},
   "outputs": [],
   "source": []
  },
  {
   "cell_type": "code",
   "execution_count": null,
   "id": "2e6d386c-9fbf-4d3f-9802-681bdea87541",
   "metadata": {},
   "outputs": [],
   "source": []
  },
  {
   "cell_type": "code",
   "execution_count": null,
   "id": "22fd5e8c-decc-4649-b583-940f6284c152",
   "metadata": {},
   "outputs": [],
   "source": []
  },
  {
   "cell_type": "code",
   "execution_count": null,
   "id": "1a339c98-f43d-4ee7-b2ed-3624804276ea",
   "metadata": {},
   "outputs": [],
   "source": []
  },
  {
   "cell_type": "code",
   "execution_count": null,
   "id": "ed98727b-5e73-4a31-9fcd-1cb31c9b5d60",
   "metadata": {},
   "outputs": [],
   "source": []
  },
  {
   "cell_type": "code",
   "execution_count": null,
   "id": "26bc3134-dc0d-4236-9a1f-c8c4f39969b2",
   "metadata": {},
   "outputs": [],
   "source": []
  },
  {
   "cell_type": "code",
   "execution_count": null,
   "id": "6fbeee5e-db90-413a-8e25-8f9c3d8ce734",
   "metadata": {},
   "outputs": [],
   "source": []
  },
  {
   "cell_type": "code",
   "execution_count": null,
   "id": "dd1c02b4-7a43-41b0-af81-54f052acea2d",
   "metadata": {},
   "outputs": [],
   "source": []
  },
  {
   "cell_type": "code",
   "execution_count": null,
   "id": "914bb67e-9fdc-4bb3-9e3d-077199afcae9",
   "metadata": {},
   "outputs": [],
   "source": []
  }
 ],
 "metadata": {
  "kernelspec": {
   "display_name": "Python 3 (ipykernel)",
   "language": "python",
   "name": "python3"
  },
  "language_info": {
   "codemirror_mode": {
    "name": "ipython",
    "version": 3
   },
   "file_extension": ".py",
   "mimetype": "text/x-python",
   "name": "python",
   "nbconvert_exporter": "python",
   "pygments_lexer": "ipython3",
   "version": "3.9.15"
  }
 },
 "nbformat": 4,
 "nbformat_minor": 5
}
