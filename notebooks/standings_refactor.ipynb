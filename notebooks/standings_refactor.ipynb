{
 "cells": [
  {
   "cell_type": "code",
   "execution_count": 31,
   "id": "3f7c96bb-3e49-4518-8336-64eb3e7039ed",
   "metadata": {},
   "outputs": [],
   "source": []
  },
  {
   "cell_type": "code",
   "execution_count": 36,
   "id": "76a56118-4868-418c-ae08-67fbd568d965",
   "metadata": {},
   "outputs": [
    {
     "name": "stdout",
     "output_type": "stream",
     "text": [
      "LOS ANGELES (June 28, 2025) — After 83 games this season, the Dodgers are in 1st place in the National League West division. The team has compiled a 52-31 record, winning 63% of its games so far. They've won 8 of the last 10 and are on pace to win at least 97 games in the regular season.\n"
     ]
    }
   ],
   "source": [
    "import pandas as pd\n",
    "import jupyter_black\n",
    "import requests\n",
    "from datetime import date\n",
    "\n",
    "# Headers for MLB API\n",
    "headers = {\n",
    "    'sec-ch-ua-platform': '\"macOS\"',\n",
    "    'Referer': 'https://www.mlb.com/',\n",
    "    'User-Agent': 'Mozilla/5.0 (Macintosh; Intel Mac OS X 10_15_7) AppleWebKit/537.36 (KHTML, like Gecko) Chrome/137.0.0.0 Safari/537.36',\n",
    "    'sec-ch-ua': '\"Google Chrome\";v=\"137\", \"Chromium\";v=\"137\", \"Not/A)Brand\";v=\"24\"',\n",
    "    'sec-ch-ua-mobile': '?0',\n",
    "}\n",
    "\n",
    "# Fetch standings data\n",
    "url = 'https://bdfed.stitch.mlbinfra.com/bdfed/transform-mlb-standings?&splitPcts=false&numberPcts=false&standingsView=division&sortTemplate=3&season=2025&leagueIds=103&&leagueIds=104&standingsTypes=regularSeason&contextTeamId=&teamId=&date=2025-06-27&hydrateAlias=noSchedule&favoriteTeams=119&sortDivisions=201,202,200,204,205,203&sortLeagues=103,104,115,114&sortSports=1'\n",
    "response = requests.get(url, headers=headers)\n",
    "json_data = response.json()\n",
    "\n",
    "# Combine all teamRecords across divisions\n",
    "team_records = []\n",
    "for record in json_data['records']:\n",
    "    team_records.extend(record['teamRecords'])\n",
    "\n",
    "# Flatten all keys (including nested team/team.division/etc.)\n",
    "df = pd.json_normalize(team_records, sep='_')\n",
    "\n",
    "row = df.query('abbreviation == \"LAD\"').iloc[0]\n",
    "\n",
    "# Parse variables\n",
    "games_played = row['wins'] + row['losses']\n",
    "division_place = int(row['divisionRank'])\n",
    "\n",
    "# Helper for ordinal suffix\n",
    "def ordinal(n):\n",
    "    return f\"{n}{'tsnrhtdd'[(n//10%10!=1)*(n%10<4)*n%10::4]}\"\n",
    "\n",
    "win_pct = float(row['pct']) * 100\n",
    "last_10_wins = int(row['record_lastTen'].split('-')[0])\n",
    "xwins = int(row['record_xWinLossSeason'].split('-')[0])\n",
    "\n",
    "# Assemble\n",
    "summary = (\n",
    "    f\"LOS ANGELES ({date.today():%B %d, %Y}) — After {games_played} games this season, \"\n",
    "    f\"the Dodgers are in {ordinal(division_place)} place in the National League West division. \"\n",
    "    f\"The team has compiled a {row['wins']}-{row['losses']} record, winning {win_pct:.0f}% of its games so far. \"\n",
    "    f\"They've won {last_10_wins} of the last 10 and are on pace to win at least {xwins} games in the regular season.\"\n",
    ")\n",
    "\n",
    "print(summary)"
   ]
  },
  {
   "cell_type": "code",
   "execution_count": null,
   "id": "b226af92-146e-43fe-a626-4efcd912fd0a",
   "metadata": {},
   "outputs": [],
   "source": []
  }
 ],
 "metadata": {
  "kernelspec": {
   "display_name": "Python 3 (ipykernel)",
   "language": "python",
   "name": "python3"
  },
  "language_info": {
   "codemirror_mode": {
    "name": "ipython",
    "version": 3
   },
   "file_extension": ".py",
   "mimetype": "text/x-python",
   "name": "python",
   "nbconvert_exporter": "python",
   "pygments_lexer": "ipython3",
   "version": "3.9.6"
  }
 },
 "nbformat": 4,
 "nbformat_minor": 5
}
