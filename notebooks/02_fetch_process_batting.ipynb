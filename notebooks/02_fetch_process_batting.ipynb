{
 "cells": [
  {
   "cell_type": "markdown",
   "id": "77ab12ec-6a2c-4fd8-8b1a-45b8e69448cb",
   "metadata": {},
   "source": [
    "# LA Dodgers batting: Combine current season with historical archive\n",
    "> This notebook downloads the team's current batting tables from [Baseball Reference](https://www.baseball-reference.com/teams/LAD/2024-batting.shtml), combines it with a historical archive to 1958 and outputs the data to CSV, JSON and Parquet formats for later analysis and visualization."
   ]
  },
  {
   "cell_type": "markdown",
   "id": "277c96d0-48d1-4944-8f3d-369979dbae0c",
   "metadata": {},
   "source": [
    "---"
   ]
  },
  {
   "cell_type": "markdown",
   "id": "b26f152f-1b2c-4231-9752-4ecbe64c4e6a",
   "metadata": {},
   "source": [
    "#### Import Python tools and Jupyter config"
   ]
  },
  {
   "cell_type": "code",
   "execution_count": 1,
   "id": "27cdbea4-067e-40fe-8a0e-52d79145a835",
   "metadata": {},
   "outputs": [],
   "source": [
    "import os\n",
    "import boto3\n",
    "import pandas as pd\n",
    "import jupyter_black\n",
    "from io import BytesIO\n",
    "from io import StringIO\n",
    "from tqdm.notebook import tqdm"
   ]
  },
  {
   "cell_type": "code",
   "execution_count": 2,
   "id": "4fec1b45-6a7b-4ca8-adbd-fb3e5a2da04b",
   "metadata": {
    "tags": []
   },
   "outputs": [
    {
     "data": {
      "text/html": [
       "\n",
       "                <script type=\"application/javascript\" id=\"jupyter_black\">\n",
       "                (function() {\n",
       "                    if (window.IPython === undefined) {\n",
       "                        return\n",
       "                    }\n",
       "                    var msg = \"WARNING: it looks like you might have loaded \" +\n",
       "                        \"jupyter_black in a non-lab notebook with \" +\n",
       "                        \"`is_lab=True`. Please double check, and if \" +\n",
       "                        \"loading with `%load_ext` please review the README!\"\n",
       "                    console.log(msg)\n",
       "                    alert(msg)\n",
       "                })()\n",
       "                </script>\n",
       "                "
      ],
      "text/plain": [
       "<IPython.core.display.HTML object>"
      ]
     },
     "metadata": {},
     "output_type": "display_data"
    }
   ],
   "source": [
    "jupyter_black.load()\n",
    "pd.options.display.max_columns = 100\n",
    "pd.options.display.max_rows = 1000\n",
    "pd.options.display.max_colwidth = None\n",
    "aws_key_id = os.environ.get(\"HAEKEO_AWS_KEY\")\n",
    "aws_secret_key = os.environ.get(\"HAEKEO_AWS_SECRET\")"
   ]
  },
  {
   "cell_type": "code",
   "execution_count": 3,
   "id": "61ab965c",
   "metadata": {},
   "outputs": [
    {
     "data": {
      "text/plain": [
       "Session(region_name='us-west-1')"
      ]
     },
     "execution_count": 3,
     "metadata": {},
     "output_type": "execute_result"
    }
   ],
   "source": [
    "boto3.Session(\n",
    "    aws_access_key_id=aws_key_id,\n",
    "    aws_secret_access_key=aws_secret_key,\n",
    "    region_name=\"us-west-1\",\n",
    ")"
   ]
  },
  {
   "cell_type": "markdown",
   "id": "fd4c08bc-ce9c-49b0-af2e-877593871769",
   "metadata": {},
   "source": [
    "---"
   ]
  },
  {
   "cell_type": "markdown",
   "id": "0028268b-647d-46db-8dbf-2f3ccf9a0651",
   "metadata": {},
   "source": [
    "## Fetch"
   ]
  },
  {
   "cell_type": "markdown",
   "id": "0e88ea7b-767d-4d28-9c05-0ad7e3cb61c7",
   "metadata": {},
   "source": [
    "#### Statistics page URL for the current season"
   ]
  },
  {
   "cell_type": "code",
   "execution_count": 4,
   "id": "7f3c83de-1386-4758-acda-5c98973b6d73",
   "metadata": {
    "tags": []
   },
   "outputs": [],
   "source": [
    "year = pd.to_datetime(\"now\").strftime(\"%Y\")"
   ]
  },
  {
   "cell_type": "code",
   "execution_count": 5,
   "id": "243f0bd4-bed5-45b4-89f3-0ef84f70a9b8",
   "metadata": {},
   "outputs": [],
   "source": [
    "url = f\"https://www.baseball-reference.com/teams/LAD/{year}-batting.shtml\""
   ]
  },
  {
   "cell_type": "markdown",
   "id": "9bed5334-4cdc-46a9-9aca-bac2238416de",
   "metadata": {},
   "source": [
    "#### Fetch batters table, excluding team totals"
   ]
  },
  {
   "cell_type": "code",
   "execution_count": 6,
   "id": "1bf1ccd4-85e2-4fc3-b263-97ef32c776d5",
   "metadata": {},
   "outputs": [],
   "source": [
    "player_totals_df = (\n",
    "    pd.read_html(url)[0]\n",
    "    .query(f\"~Rk.isna() and Rk != 'Rk'\")\n",
    "    .dropna(thresh=7)\n",
    "    .assign(season=year)\n",
    ")\n",
    "player_totals_df.columns = player_totals_df.columns.str.lower().str.replace(\n",
    "    \"+\", \"_plus\"\n",
    ")"
   ]
  },
  {
   "cell_type": "markdown",
   "id": "8011dbe7-79a1-4d3d-b723-ac21a0026b8f",
   "metadata": {},
   "source": [
    "#### Team stats"
   ]
  },
  {
   "cell_type": "code",
   "execution_count": 7,
   "id": "2f95737b-a2a3-4e7a-8b49-25aec5d4ea25",
   "metadata": {},
   "outputs": [],
   "source": [
    "summary_df = (\n",
    "    pd.read_html(url)[0]\n",
    "    .query(f\"Rk.isna() and Rk != 'Rk'\")\n",
    "    .dropna(thresh=7)\n",
    "    .assign(season=year)\n",
    ")\n",
    "summary_df.columns = summary_df.columns.str.lower().str.replace(\"+\", \"_plus\")"
   ]
  },
  {
   "cell_type": "markdown",
   "id": "db835c4f-edd8-4f78-8b92-c5c016d73c12",
   "metadata": {},
   "source": [
    "---"
   ]
  },
  {
   "cell_type": "markdown",
   "id": "9941afec-f2d3-4f27-89b1-6bc109d5226f",
   "metadata": {},
   "source": [
    "## Player stats"
   ]
  },
  {
   "cell_type": "markdown",
   "id": "964f56e5-3dde-4807-8cff-58bd816de0aa",
   "metadata": {},
   "source": [
    "#### Remove injury details listed parenthetically next to some players' names"
   ]
  },
  {
   "cell_type": "code",
   "execution_count": 8,
   "id": "e6ec9bd7-da87-485d-a2b9-e9476e55ec00",
   "metadata": {},
   "outputs": [],
   "source": [
    "player_totals_df[\"name\"] = (\n",
    "    player_totals_df[\"name\"].str.split(\"(\", expand=True)[0].str.strip()\n",
    ")"
   ]
  },
  {
   "cell_type": "markdown",
   "id": "08060079-1dbb-40a9-b2d8-6325e847c05d",
   "metadata": {},
   "source": [
    "#### Determine batter type, clean special characters from names"
   ]
  },
  {
   "cell_type": "code",
   "execution_count": 9,
   "id": "e0e0a0a3-7040-45f0-86cd-dd05c772116b",
   "metadata": {},
   "outputs": [],
   "source": [
    "def determine_and_clean_bats(name):\n",
    "    # Determine batting stance\n",
    "    if name.endswith(\"*\"):\n",
    "        bat = \"Left\"\n",
    "    elif name.endswith(\"#\"):\n",
    "        bat = \"Both\"\n",
    "    elif name.endswith(\"?\"):\n",
    "        bat = \"Unknown\"\n",
    "    else:\n",
    "        bat = \"Right\"\n",
    "\n",
    "    if name[-1] in \"*#?\":\n",
    "        name = name[:-1]\n",
    "\n",
    "    return bat, name"
   ]
  },
  {
   "cell_type": "markdown",
   "id": "dfba1791-ab6c-4700-b3c0-5ecb10b62f4f",
   "metadata": {},
   "source": [
    "#### Apply the function and separate the results into two columns"
   ]
  },
  {
   "cell_type": "code",
   "execution_count": 10,
   "id": "72553995-8b87-4735-9c78-d50e5d3358d2",
   "metadata": {},
   "outputs": [],
   "source": [
    "player_totals_df[\"bats\"], player_totals_df[\"name_clean\"] = zip(\n",
    "    *player_totals_df[\"name\"].apply(determine_and_clean_bats)\n",
    ")"
   ]
  },
  {
   "cell_type": "markdown",
   "id": "a8d3ce27-755e-4857-b0f4-893780163100",
   "metadata": {},
   "source": [
    "#### Replace the original 'player' column with the cleaned names"
   ]
  },
  {
   "cell_type": "code",
   "execution_count": 11,
   "id": "c063e288-4360-4aca-a5ac-9e5b811065b5",
   "metadata": {},
   "outputs": [],
   "source": [
    "player_totals_df[\"name\"] = player_totals_df[\"name_clean\"]\n",
    "del player_totals_df[\"name_clean\"]"
   ]
  },
  {
   "cell_type": "code",
   "execution_count": 12,
   "id": "983f0e74-731a-4711-a114-cf75a1ab5048",
   "metadata": {},
   "outputs": [],
   "source": [
    "player_totals_df[\n",
    "    [\n",
    "        \"g\",\n",
    "        \"pa\",\n",
    "        \"ab\",\n",
    "        \"r\",\n",
    "        \"h\",\n",
    "        \"2b\",\n",
    "        \"3b\",\n",
    "        \"hr\",\n",
    "        \"rbi\",\n",
    "        \"sb\",\n",
    "        \"cs\",\n",
    "        \"bb\",\n",
    "        \"so\",\n",
    "        \"tb\",\n",
    "        \"gdp\",\n",
    "        \"hbp\",\n",
    "        \"sh\",\n",
    "        \"sf\",\n",
    "        \"ibb\",\n",
    "    ]\n",
    "] = player_totals_df[\n",
    "    [\n",
    "        \"g\",\n",
    "        \"pa\",\n",
    "        \"ab\",\n",
    "        \"r\",\n",
    "        \"h\",\n",
    "        \"2b\",\n",
    "        \"3b\",\n",
    "        \"hr\",\n",
    "        \"rbi\",\n",
    "        \"sb\",\n",
    "        \"cs\",\n",
    "        \"bb\",\n",
    "        \"so\",\n",
    "        \"tb\",\n",
    "        \"gdp\",\n",
    "        \"hbp\",\n",
    "        \"sh\",\n",
    "        \"sf\",\n",
    "        \"ibb\",\n",
    "    ]\n",
    "].astype(\n",
    "    int\n",
    ")"
   ]
  },
  {
   "cell_type": "code",
   "execution_count": 13,
   "id": "6e14dbe4-2637-428a-b61e-19eb3f799f6e",
   "metadata": {},
   "outputs": [],
   "source": [
    "player_totals_df[[\"ba\", \"obp\", \"slg\", \"ops\", \"ops_plus\"]] = player_totals_df[\n",
    "    [\"ba\", \"obp\", \"slg\", \"ops\", \"ops_plus\"]\n",
    "].astype(float)"
   ]
  },
  {
   "cell_type": "markdown",
   "id": "36090417-0576-41ce-b32c-8675812251e4",
   "metadata": {},
   "source": [
    "---"
   ]
  },
  {
   "cell_type": "markdown",
   "id": "4d847b46-4853-47cc-b49d-6addb4a86a7b",
   "metadata": {},
   "source": [
    "## Team stats\n",
    "> The main batting table has totals for the team, with totals and ranks by season"
   ]
  },
  {
   "cell_type": "markdown",
   "id": "80c1ee9f-1e85-48fe-8e70-d84ab4f8c4f8",
   "metadata": {},
   "source": [
    "#### Team totals"
   ]
  },
  {
   "cell_type": "code",
   "execution_count": 14,
   "id": "c6b71004-8154-448d-9014-e31bf5004c34",
   "metadata": {},
   "outputs": [],
   "source": [
    "team_totals_df = summary_df.query('name == \"Team Totals\"').dropna(axis=1)"
   ]
  },
  {
   "cell_type": "markdown",
   "id": "cc383535-d12a-49d0-a893-f06a6a1a43c7",
   "metadata": {},
   "source": [
    "#### Team ranks"
   ]
  },
  {
   "cell_type": "code",
   "execution_count": 15,
   "id": "4648d85c-7b85-43e0-8588-a6fecdf3a700",
   "metadata": {},
   "outputs": [],
   "source": [
    "team_ranks_df = summary_df.query('name.str.contains(\"Rank\")').dropna(axis=1)"
   ]
  },
  {
   "cell_type": "markdown",
   "id": "a0f0044e-be97-474c-8d62-30eda2fc5e6b",
   "metadata": {},
   "source": [
    "---"
   ]
  },
  {
   "cell_type": "markdown",
   "id": "f76ec871-ed77-4701-83a8-14f9fc2c92d2",
   "metadata": {},
   "source": [
    "## Combine"
   ]
  },
  {
   "cell_type": "markdown",
   "id": "ca4e916a-6bcb-4cc3-adce-d94e5bec2d83",
   "metadata": {},
   "source": [
    "#### Concatenate current season player totals with historical player archive"
   ]
  },
  {
   "cell_type": "code",
   "execution_count": 16,
   "id": "5d4b846f-e0c7-43f0-987e-6f5c44f90aa5",
   "metadata": {},
   "outputs": [],
   "source": [
    "player_totals_archive_df = pd.read_parquet(\n",
    "    \"https://stilesdata.com/dodgers/data/batting/archive/dodgers_player_batting_statistics_1958_2023.parquet\"\n",
    ")"
   ]
  },
  {
   "cell_type": "code",
   "execution_count": 17,
   "id": "f1db9f2c-63be-4315-bcc7-a604366513c6",
   "metadata": {},
   "outputs": [],
   "source": [
    "players_full_df = (\n",
    "    pd.concat([player_totals_df, player_totals_archive_df])\n",
    "    .sort_values(\"season\", ascending=False)\n",
    "    .reset_index(drop=True)\n",
    ")"
   ]
  },
  {
   "cell_type": "code",
   "execution_count": 18,
   "id": "1b647791-323a-417c-8ff7-a9c8bf843699",
   "metadata": {},
   "outputs": [],
   "source": [
    "team_totals_archive_df = pd.read_parquet(\n",
    "    \"https://stilesdata.com/dodgers/data/batting/archive/dodgers_team_batting_statistics_1958_2023.parquet\"\n",
    ")"
   ]
  },
  {
   "cell_type": "code",
   "execution_count": 19,
   "id": "c0726fb7-0bd8-4aeb-b871-f7e114029e5c",
   "metadata": {},
   "outputs": [],
   "source": [
    "team_full_df = (\n",
    "    pd.concat([team_totals_df, team_totals_archive_df])\n",
    "    .sort_values(\"season\", ascending=False)\n",
    "    .reset_index(drop=True)\n",
    ")"
   ]
  },
  {
   "cell_type": "code",
   "execution_count": 20,
   "id": "371dad12-0e1e-46a2-9c3f-27c9e6a28d17",
   "metadata": {},
   "outputs": [],
   "source": [
    "team_ranks_archive_df = pd.read_parquet(\n",
    "    \"https://stilesdata.com/dodgers/data/batting/archive/dodgers_team_batting_rankings_1958_2023.parquet\"\n",
    ")"
   ]
  },
  {
   "cell_type": "code",
   "execution_count": 21,
   "id": "4e2a9d98-5656-4077-bf23-59acfebce4f0",
   "metadata": {},
   "outputs": [],
   "source": [
    "team_ranks_full_df = (\n",
    "    pd.concat([team_ranks_df, team_ranks_archive_df])\n",
    "    .sort_values(\"season\", ascending=False)\n",
    "    .reset_index(drop=True)\n",
    ")"
   ]
  },
  {
   "cell_type": "markdown",
   "id": "25031975-9bda-4a0e-8d17-c54ae4205a97",
   "metadata": {},
   "source": [
    "---"
   ]
  },
  {
   "cell_type": "markdown",
   "id": "4c5ade52-998c-4224-a19f-e9fbf1584ac0",
   "metadata": {},
   "source": [
    "## Export"
   ]
  },
  {
   "cell_type": "markdown",
   "id": "7fe096c2-9081-42ac-8453-cda66c8ae8d0",
   "metadata": {},
   "source": [
    "#### Function to save dataframes with different formats and file extensions"
   ]
  },
  {
   "cell_type": "code",
   "execution_count": 22,
   "id": "def3ffac-6939-429b-8e39-b9ad2c43ae41",
   "metadata": {},
   "outputs": [],
   "source": [
    "def save_dataframe(df, path_without_extension, formats):\n",
    "    \"\"\"\n",
    "    Save DataFrames in multiple formats.\n",
    "    \"\"\"\n",
    "    for file_format in formats:\n",
    "        if file_format == \"csv\":\n",
    "            df.to_csv(f\"{path_without_extension}.{file_format}\", index=False)\n",
    "        elif file_format == \"json\":\n",
    "            df.to_json(\n",
    "                f\"{path_without_extension}.{file_format}\", indent=4, orient=\"records\"\n",
    "            )\n",
    "        elif file_format == \"parquet\":\n",
    "            df.to_parquet(f\"{path_without_extension}.{file_format}\", index=False)\n",
    "        else:\n",
    "            print(f\"Unsupported format: {file_format}\")"
   ]
  },
  {
   "cell_type": "code",
   "execution_count": 23,
   "id": "13f05f3c-487e-4b9e-8b59-19d3cd6fd4ca",
   "metadata": {},
   "outputs": [],
   "source": [
    "# Save local files\n",
    "\n",
    "formats = [\"csv\", \"json\", \"parquet\"]\n",
    "save_dataframe(\n",
    "    players_full_df,\n",
    "    f\"../data/batting/dodgers_player_batting_1958_present\",\n",
    "    formats,\n",
    ")\n",
    "save_dataframe(\n",
    "    team_full_df, f\"../data/batting/dodgers_team_batting_1958_present\", formats\n",
    ")\n",
    "save_dataframe(\n",
    "    team_ranks_full_df,\n",
    "    f\"../data/batting/dodgers_team_batting_ranks_1958_present\",\n",
    "    formats,\n",
    ")"
   ]
  },
  {
   "cell_type": "code",
   "execution_count": 24,
   "id": "f252bef4",
   "metadata": {},
   "outputs": [],
   "source": [
    "def save_to_s3(\n",
    "    df, base_path, s3_bucket, formats=[\"csv\", \"json\", \"parquet\"], profile_name=\"default\"\n",
    "):\n",
    "    \"\"\"\n",
    "    Save Pandas DataFrame in specified formats and upload to S3 bucket using a specified AWS profile.\n",
    "\n",
    "    :param df: DataFrame to save.\n",
    "    :param base_path: Base file path without format extension.\n",
    "    :param s3_bucket: S3 bucket name.\n",
    "    :param formats: List of formats to save -- 'csv', 'json', 'parquet'.\n",
    "    :param profile_name: AWS CLI profile name to use for credentials.\n",
    "    \"\"\"\n",
    "    session = boto3.Session(profile_name=profile_name)\n",
    "    s3_resource = session.resource(\"s3\")\n",
    "\n",
    "    for fmt in formats:\n",
    "        file_path = f\"{base_path}.{fmt}\"\n",
    "        if fmt == \"csv\":\n",
    "            buffer = BytesIO()\n",
    "            df.to_csv(buffer, index=False)\n",
    "            content_type = \"text/csv\"\n",
    "        elif fmt == \"json\":\n",
    "            buffer = BytesIO()\n",
    "            df.to_json(buffer, orient=\"records\", lines=True)\n",
    "            content_type = \"application/json\"\n",
    "        elif fmt == \"parquet\":\n",
    "            buffer = BytesIO()\n",
    "            df.to_parquet(buffer, index=False)\n",
    "            content_type = \"application/octet-stream\"\n",
    "\n",
    "        buffer.seek(0)\n",
    "        s3_resource.Bucket(s3_bucket).put_object(\n",
    "            Key=file_path, Body=buffer, ContentType=content_type\n",
    "        )\n",
    "        print(f\"Uploaded {fmt} to {s3_bucket}/{file_path}\")"
   ]
  },
  {
   "cell_type": "code",
   "execution_count": 25,
   "id": "20a48d05",
   "metadata": {},
   "outputs": [
    {
     "name": "stdout",
     "output_type": "stream",
     "text": [
      "Uploaded csv to stilesdata.com/dodgers/data/batting/dodgers_player_batting_1958_present.csv\n"
     ]
    },
    {
     "name": "stdout",
     "output_type": "stream",
     "text": [
      "Uploaded json to stilesdata.com/dodgers/data/batting/dodgers_player_batting_1958_present.json\n",
      "Uploaded parquet to stilesdata.com/dodgers/data/batting/dodgers_player_batting_1958_present.parquet\n",
      "Uploaded csv to stilesdata.com/dodgers/data/batting/dodgers_team_batting_1958_present.csv\n",
      "Uploaded json to stilesdata.com/dodgers/data/batting/dodgers_team_batting_1958_present.json\n",
      "Uploaded parquet to stilesdata.com/dodgers/data/batting/dodgers_team_batting_1958_present.parquet\n",
      "Uploaded csv to stilesdata.com/dodgers/data/batting/dodgers_team_batting_ranks_1958_present.csv\n",
      "Uploaded json to stilesdata.com/dodgers/data/batting/dodgers_team_batting_ranks_1958_present.json\n",
      "Uploaded parquet to stilesdata.com/dodgers/data/batting/dodgers_team_batting_ranks_1958_present.parquet\n"
     ]
    }
   ],
   "source": [
    "# Save to S3\n",
    "save_to_s3(\n",
    "    players_full_df,\n",
    "    \"dodgers/data/batting/dodgers_player_batting_1958_present\",\n",
    "    \"stilesdata.com\",\n",
    "    profile_name=\"haekeo\",\n",
    ")\n",
    "save_to_s3(\n",
    "    team_full_df,\n",
    "    \"dodgers/data/batting/dodgers_team_batting_1958_present\",\n",
    "    \"stilesdata.com\",\n",
    "    profile_name=\"haekeo\",\n",
    ")\n",
    "save_to_s3(\n",
    "    team_ranks_full_df,\n",
    "    \"dodgers/data/batting/dodgers_team_batting_ranks_1958_present\",\n",
    "    \"stilesdata.com\",\n",
    "    profile_name=\"haekeo\",\n",
    ")"
   ]
  },
  {
   "cell_type": "code",
   "execution_count": 26,
   "id": "d9fd5c3f",
   "metadata": {},
   "outputs": [
    {
     "name": "stdout",
     "output_type": "stream",
     "text": [
      "[NbConvertApp] Converting notebook 02_fetch_process_batting.ipynb to script\n",
      "[NbConvertApp] Writing 7795 bytes to ../02_fetch_process_batting.py\n"
     ]
    }
   ],
   "source": [
    "# Save a copy of notebook as python script\n",
    "# !jupyter nbconvert --to script --no-prompt --output ../02_fetch_process_batting 02_fetch_process_batting.ipynb"
   ]
  }
 ],
 "metadata": {
  "kernelspec": {
   "display_name": "Python 3 (ipykernel)",
   "language": "python",
   "name": "python3"
  },
  "language_info": {
   "codemirror_mode": {
    "name": "ipython",
    "version": 3
   },
   "file_extension": ".py",
   "mimetype": "text/x-python",
   "name": "python",
   "nbconvert_exporter": "python",
   "pygments_lexer": "ipython3",
   "version": "3.9.15"
  }
 },
 "nbformat": 4,
 "nbformat_minor": 5
}
