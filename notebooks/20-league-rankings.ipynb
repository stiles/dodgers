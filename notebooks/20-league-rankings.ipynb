{
 "cells": [
  {
   "cell_type": "markdown",
   "id": "77ab12ec-6a2c-4fd8-8b1a-45b8e69448cb",
   "metadata": {
    "panel-layout": {
     "height": 93.5781,
     "visible": true,
     "width": 100
    }
   },
   "source": [
    "# Dodgers Data Bot\n",
    "> This notebook is a sketchpad for data collected in this project. Nothing to see here! "
   ]
  },
  {
   "cell_type": "markdown",
   "id": "277c96d0-48d1-4944-8f3d-369979dbae0c",
   "metadata": {
    "panel-layout": {
     "height": 24,
     "visible": true,
     "width": 100
    }
   },
   "source": [
    "---"
   ]
  },
  {
   "cell_type": "code",
   "execution_count": 35,
   "id": "27cdbea4-067e-40fe-8a0e-52d79145a835",
   "metadata": {},
   "outputs": [],
   "source": [
    "import os\n",
    "import requests\n",
    "import time\n",
    "import pandas as pd\n",
    "import jupyter_black\n",
    "import altair as alt\n",
    "from IPython.display import Image\n",
    "from tqdm.notebook import tqdm\n",
    "from bs4 import BeautifulSoup\n",
    "from io import StringIO\n",
    "import time"
   ]
  },
  {
   "cell_type": "code",
   "execution_count": 36,
   "id": "8883a38f-ba47-4625-b179-956caaf147bf",
   "metadata": {
    "panel-layout": {
     "height": 27.1406,
     "visible": true,
     "width": 100
    },
    "tags": []
   },
   "outputs": [
    {
     "data": {
      "text/plain": [
       "DataTransformerRegistry.enable('default')"
      ]
     },
     "execution_count": 36,
     "metadata": {},
     "output_type": "execute_result"
    }
   ],
   "source": [
    "jupyter_black.load()\n",
    "pd.options.display.max_columns = 100\n",
    "pd.options.display.max_rows = 1000\n",
    "pd.options.display.max_colwidth = None\n",
    "alt.data_transformers.disable_max_rows()"
   ]
  },
  {
   "cell_type": "code",
   "execution_count": 37,
   "id": "d465bd88-2fb2-4424-9ee0-d43f8364e610",
   "metadata": {
    "panel-layout": {
     "height": 27.1406,
     "visible": true,
     "width": 100
    },
    "tags": []
   },
   "outputs": [],
   "source": [
    "profile_name = os.environ.get(\"AWS_PERSONAL_PROFILE\")"
   ]
  },
  {
   "cell_type": "markdown",
   "id": "fd4c08bc-ce9c-49b0-af2e-877593871769",
   "metadata": {
    "panel-layout": {
     "height": 24,
     "visible": true,
     "width": 100
    }
   },
   "source": [
    "---"
   ]
  },
  {
   "cell_type": "code",
   "execution_count": 47,
   "id": "6bbd0c45-bb6f-49c7-82ff-12c048efe1c1",
   "metadata": {},
   "outputs": [],
   "source": [
    "headers = {\n",
    "    \"sec-ch-ua-platform\": '\"macOS\"',\n",
    "    \"Referer\": \"https://www.mlb.com/\",\n",
    "    \"User-Agent\": \"Mozilla/5.0 (Macintosh; Intel Mac OS X 10_15_7) AppleWebKit/537.36 (KHTML, like Gecko) Chrome/132.0.0.0 Safari/537.36\",\n",
    "    \"sec-ch-ua\": '\"Not A(Brand\";v=\"8\", \"Chromium\";v=\"132\", \"Google Chrome\";v=\"132\"',\n",
    "    \"sec-ch-ua-mobile\": \"?0\",\n",
    "}\n",
    "\n",
    "url = \"https://bdfed.stitch.mlbinfra.com/bdfed/stats/team?&env=prod&sportId=1&gameType=R&group=hitting&order=desc&sortStat=homeRuns&stats=season&season=2025&limit=30&offset=0\"\n",
    "\n",
    "response = requests.get(url, headers=headers)\n",
    "\n",
    "stats_json = response.json()[\"stats\"]\n",
    "stats_df = pd.DataFrame(stats_json)"
   ]
  },
  {
   "cell_type": "code",
   "execution_count": 55,
   "id": "186da7b4-b5ee-4796-b206-5b5ea2ac3b28",
   "metadata": {},
   "outputs": [],
   "source": [
    "# Define metadata columns to skip ranking.\n",
    "metadata_cols = [\n",
    "    \"year\",\n",
    "    \"type\",\n",
    "    \"rank\",\n",
    "    \"shortName\",\n",
    "    \"teamId\",\n",
    "    \"teamAbbrev\",\n",
    "    \"teamName\",\n",
    "    \"teamShortName\",\n",
    "    \"leagueAbbrev\",\n",
    "    \"leagueName\",\n",
    "    \"leagueShortName\",\n",
    "]\n",
    "\n",
    "# Identify the statistic columns.\n",
    "stats_cols = [col for col in stats_df.columns if col not in metadata_cols]\n",
    "\n",
    "# Define for each stat whether a higher value is good ('desc') or a lower value is good ('asc').\n",
    "rank_order = {\n",
    "    \"gamesPlayed\": \"desc\",  # more games is usually better (more opportunities)\n",
    "    \"groundOuts\": \"asc\",  # fewer outs are better\n",
    "    \"airOuts\": \"asc\",  # fewer outs are better\n",
    "    \"runs\": \"desc\",\n",
    "    \"doubles\": \"desc\",\n",
    "    \"triples\": \"desc\",\n",
    "    \"homeRuns\": \"desc\",\n",
    "    \"strikeOuts\": \"asc\",  # fewer strikeouts is good\n",
    "    \"baseOnBalls\": \"desc\",\n",
    "    \"intentionalWalks\": \"desc\",\n",
    "    \"hits\": \"desc\",\n",
    "    \"hitByPitch\": \"desc\",  # getting on base is positive\n",
    "    \"avg\": \"desc\",\n",
    "    \"atBats\": \"desc\",  # more opportunities (ambiguous, but using desc)\n",
    "    \"obp\": \"desc\",\n",
    "    \"slg\": \"desc\",\n",
    "    \"ops\": \"desc\",\n",
    "    \"caughtStealing\": \"asc\",  # fewer caught stealing is better\n",
    "    \"stolenBases\": \"desc\",\n",
    "    \"stolenBasePercentage\": \"desc\",\n",
    "    \"groundIntoDoublePlay\": \"asc\",  # fewer double plays is better\n",
    "    \"numberOfPitches\": \"desc\",  # more pitches usually means more plate appearances\n",
    "    \"plateAppearances\": \"desc\",\n",
    "    \"totalBases\": \"desc\",\n",
    "    \"rbi\": \"desc\",\n",
    "    \"leftOnBase\": \"asc\",  # fewer left on base is preferred\n",
    "    \"sacBunts\": \"asc\",  # fewer sacrifices is often better\n",
    "    \"sacFlies\": \"asc\",  # fewer sac flies is better\n",
    "    \"babip\": \"desc\",\n",
    "    \"groundOutsToAirouts\": \"asc\",  # lower ratio is assumed better here\n",
    "    \"catchersInterference\": \"asc\",  # fewer interferences is good\n",
    "    \"atBatsPerHomeRun\": \"asc\",  # lower is clearly better\n",
    "}\n",
    "\n",
    "# Calculate rankings for each stat column based on its desired order.\n",
    "# Using dictionary comprehension to build a DataFrame of ranks.\n",
    "stats_rank = pd.DataFrame(\n",
    "    {\n",
    "        stat: stats_df[stat].rank(method=\"min\", ascending=(rank_order[stat] == \"asc\"))\n",
    "        for stat in stats_cols\n",
    "    }\n",
    ")\n",
    "\n",
    "keep_cols = [\n",
    "    \"runs\",\n",
    "    \"avg\",\n",
    "    \"obp\",\n",
    "    \"slg\",\n",
    "    \"doubles\",\n",
    "    # \"triples\",\n",
    "    \"homeRuns\",\n",
    "    \"atBatsPerHomeRun\",\n",
    "    \"baseOnBalls\",\n",
    "    \"stolenBases\",\n",
    "    \"stolenBasePercentage\",\n",
    "]\n",
    "\n",
    "# Filter for the Dodgers row (using teamAbbrev 'LAD').\n",
    "dodgers_filter = stats_df[\"teamAbbrev\"] == \"LAD\"\n",
    "dodgers_stats = stats_df.loc[dodgers_filter, stats_cols].iloc[0]\n",
    "dodgers_ranks = stats_rank.loc[dodgers_filter].iloc[0].astype(int)\n",
    "\n",
    "# Create a new DataFrame summarizing each stat, the Dodgers' value, and their league rank.\n",
    "dodgers_results = (\n",
    "    pd.DataFrame(\n",
    "        {\n",
    "            \"stat\": stats_cols,\n",
    "            \"value\": dodgers_stats.values,\n",
    "            \"league_rank\": dodgers_ranks.values,\n",
    "        }\n",
    "    )\n",
    "    .query(f\"stat.isin({keep_cols})\")\n",
    "    .reset_index(drop=True)\n",
    ")"
   ]
  },
  {
   "cell_type": "code",
   "execution_count": 56,
   "id": "9ee1d032-7bc4-4478-bfac-55b4ff4ab8c8",
   "metadata": {},
   "outputs": [
    {
     "data": {
      "text/html": [
       "<div>\n",
       "<style scoped>\n",
       "    .dataframe tbody tr th:only-of-type {\n",
       "        vertical-align: middle;\n",
       "    }\n",
       "\n",
       "    .dataframe tbody tr th {\n",
       "        vertical-align: top;\n",
       "    }\n",
       "\n",
       "    .dataframe thead th {\n",
       "        text-align: right;\n",
       "    }\n",
       "</style>\n",
       "<table border=\"1\" class=\"dataframe\">\n",
       "  <thead>\n",
       "    <tr style=\"text-align: right;\">\n",
       "      <th></th>\n",
       "      <th>stat</th>\n",
       "      <th>value</th>\n",
       "      <th>league_rank</th>\n",
       "    </tr>\n",
       "  </thead>\n",
       "  <tbody>\n",
       "    <tr>\n",
       "      <th>0</th>\n",
       "      <td>runs</td>\n",
       "      <td>79</td>\n",
       "      <td>9</td>\n",
       "    </tr>\n",
       "    <tr>\n",
       "      <th>1</th>\n",
       "      <td>doubles</td>\n",
       "      <td>20</td>\n",
       "      <td>21</td>\n",
       "    </tr>\n",
       "    <tr>\n",
       "      <th>2</th>\n",
       "      <td>homeRuns</td>\n",
       "      <td>31</td>\n",
       "      <td>2</td>\n",
       "    </tr>\n",
       "    <tr>\n",
       "      <th>3</th>\n",
       "      <td>baseOnBalls</td>\n",
       "      <td>62</td>\n",
       "      <td>7</td>\n",
       "    </tr>\n",
       "    <tr>\n",
       "      <th>4</th>\n",
       "      <td>avg</td>\n",
       "      <td>.230</td>\n",
       "      <td>17</td>\n",
       "    </tr>\n",
       "    <tr>\n",
       "      <th>5</th>\n",
       "      <td>obp</td>\n",
       "      <td>.310</td>\n",
       "      <td>13</td>\n",
       "    </tr>\n",
       "    <tr>\n",
       "      <th>6</th>\n",
       "      <td>slg</td>\n",
       "      <td>.431</td>\n",
       "      <td>8</td>\n",
       "    </tr>\n",
       "    <tr>\n",
       "      <th>7</th>\n",
       "      <td>stolenBases</td>\n",
       "      <td>9</td>\n",
       "      <td>22</td>\n",
       "    </tr>\n",
       "    <tr>\n",
       "      <th>8</th>\n",
       "      <td>stolenBasePercentage</td>\n",
       "      <td>.750</td>\n",
       "      <td>19</td>\n",
       "    </tr>\n",
       "    <tr>\n",
       "      <th>9</th>\n",
       "      <td>atBatsPerHomeRun</td>\n",
       "      <td>18.81</td>\n",
       "      <td>3</td>\n",
       "    </tr>\n",
       "  </tbody>\n",
       "</table>\n",
       "</div>"
      ],
      "text/plain": [
       "                   stat  value  league_rank\n",
       "0                  runs     79            9\n",
       "1               doubles     20           21\n",
       "2              homeRuns     31            2\n",
       "3           baseOnBalls     62            7\n",
       "4                   avg   .230           17\n",
       "5                   obp   .310           13\n",
       "6                   slg   .431            8\n",
       "7           stolenBases      9           22\n",
       "8  stolenBasePercentage   .750           19\n",
       "9      atBatsPerHomeRun  18.81            3"
      ]
     },
     "execution_count": 56,
     "metadata": {},
     "output_type": "execute_result"
    }
   ],
   "source": [
    "dodgers_results"
   ]
  },
  {
   "cell_type": "code",
   "execution_count": 54,
   "id": "518957ec-28ef-4d1f-b691-2810f436bb3c",
   "metadata": {},
   "outputs": [],
   "source": []
  },
  {
   "cell_type": "code",
   "execution_count": null,
   "id": "5ffb07c2-28af-4b05-a6a6-e96bd28fe39a",
   "metadata": {},
   "outputs": [],
   "source": []
  },
  {
   "cell_type": "code",
   "execution_count": null,
   "id": "6c474152-76c7-4c57-9d99-b5279f2f2dec",
   "metadata": {},
   "outputs": [],
   "source": []
  },
  {
   "cell_type": "code",
   "execution_count": null,
   "id": "90d5309d-72e5-46ed-afe4-12961f5cd1f2",
   "metadata": {},
   "outputs": [],
   "source": []
  }
 ],
 "metadata": {
  "kernelspec": {
   "display_name": "Python 3 (ipykernel)",
   "language": "python",
   "name": "python3"
  },
  "language_info": {
   "codemirror_mode": {
    "name": "ipython",
    "version": 3
   },
   "file_extension": ".py",
   "mimetype": "text/x-python",
   "name": "python",
   "nbconvert_exporter": "python",
   "pygments_lexer": "ipython3",
   "version": "3.9.15"
  },
  "panel-cell-order": [
   "77ab12ec-6a2c-4fd8-8b1a-45b8e69448cb",
   "277c96d0-48d1-4944-8f3d-369979dbae0c",
   "b26f152f-1b2c-4231-9752-4ecbe64c4e6a",
   "890c26c6-a7d4-42ff-8d19-ef0d8d6cfb5b",
   "fd4c08bc-ce9c-49b0-af2e-877593871769",
   "0028268b-647d-46db-8dbf-2f3ccf9a0651",
   "0e88ea7b-767d-4d28-9c05-0ad7e3cb61c7",
   "2409aca7-c3cd-4d6a-9290-e8acb93c9bd1",
   "6cd092eb-5772-48c9-97cf-0e2d62f0632f",
   "1e7ae03c-c6bf-46ae-a417-ebf155cadad2",
   "aa31605f-50d3-4af6-8bf0-068f3fd9d313",
   "e408b594-904b-4b9c-92c2-55dc41982f0b",
   "2409dbf1-8d23-489f-bea9-d840bae0bae8",
   "3978864d-34d2-4947-8c33-a1d7e40f4121",
   "0e167509-a196-42a6-bf71-084e8a607128",
   "8575f3c0-5cac-4265-8e5c-9c72b135b43f",
   "2cedc251-d7e6-4134-9793-72ce4d5a62f4",
   "d0f77d9e-5f69-4a87-be53-b643029b9c4c",
   "830d1f22-c971-4ad4-ae2c-9a1d2c2e4e27"
  ]
 },
 "nbformat": 4,
 "nbformat_minor": 5
}
