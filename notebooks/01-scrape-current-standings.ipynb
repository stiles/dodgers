{
 "cells": [
  {
   "cell_type": "markdown",
   "id": "77ab12ec-6a2c-4fd8-8b1a-45b8e69448cb",
   "metadata": {},
   "source": [
    "# LA Dodgers Standings, 1958-present\n",
    "> This notebook downloads the team's current standings table from [Baseball Reference](https://www.baseball-reference.com/teams/LAD/2024-schedule-scores.shtml) and combines it with historic records for later analysis and visualization."
   ]
  },
  {
   "cell_type": "markdown",
   "id": "277c96d0-48d1-4944-8f3d-369979dbae0c",
   "metadata": {},
   "source": [
    "---"
   ]
  },
  {
   "cell_type": "markdown",
   "id": "b26f152f-1b2c-4231-9752-4ecbe64c4e6a",
   "metadata": {},
   "source": [
    "#### Import Python tools and Jupyter config"
   ]
  },
  {
   "cell_type": "code",
   "execution_count": 24,
   "id": "27cdbea4-067e-40fe-8a0e-52d79145a835",
   "metadata": {},
   "outputs": [],
   "source": [
    "import os\n",
    "import numpy as np\n",
    "import pandas as pd\n",
    "import jupyter_black\n",
    "from time import sleep\n",
    "from tqdm.notebook import tqdm"
   ]
  },
  {
   "cell_type": "code",
   "execution_count": 25,
   "id": "f36a83ad-d9ca-4a7a-8071-b92ae2deb992",
   "metadata": {
    "tags": []
   },
   "outputs": [],
   "source": [
    "jupyter_black.load()\n",
    "pd.options.display.max_columns = 100\n",
    "pd.options.display.max_rows = 100\n",
    "pd.options.display.max_colwidth = None"
   ]
  },
  {
   "cell_type": "code",
   "execution_count": 26,
   "id": "2d479268-e59a-4a75-87fc-39e78f1284e0",
   "metadata": {
    "tags": []
   },
   "outputs": [],
   "source": [
    "profile_name = os.environ.get(\"AWS_PERSONAL_PROFILE\")"
   ]
  },
  {
   "cell_type": "code",
   "execution_count": 27,
   "id": "f32934e9-0ea3-4080-b44b-73673b258cc3",
   "metadata": {
    "tags": []
   },
   "outputs": [],
   "source": [
    "today = pd.Timestamp(\"today\").strftime(\"%Y-%m-%d\")"
   ]
  },
  {
   "cell_type": "markdown",
   "id": "fd4c08bc-ce9c-49b0-af2e-877593871769",
   "metadata": {},
   "source": [
    "---"
   ]
  },
  {
   "cell_type": "markdown",
   "id": "0028268b-647d-46db-8dbf-2f3ccf9a0651",
   "metadata": {},
   "source": [
    "## Fetch"
   ]
  },
  {
   "cell_type": "markdown",
   "id": "0e88ea7b-767d-4d28-9c05-0ad7e3cb61c7",
   "metadata": {},
   "source": [
    "#### Import historic game-by-game results, 1958-2023"
   ]
  },
  {
   "cell_type": "code",
   "execution_count": 28,
   "id": "ad71d4ed-8277-411e-9b69-29443d5e5064",
   "metadata": {},
   "outputs": [],
   "source": [
    "historic_df = pd.read_parquet(\n",
    "    \"../data/standings/archive/dodgers_standings_1958_2023.parquet\"\n",
    ")"
   ]
  },
  {
   "cell_type": "markdown",
   "id": "9bed5334-4cdc-46a9-9aca-bac2238416de",
   "metadata": {},
   "source": [
    "#### Define some variables we need for the request"
   ]
  },
  {
   "cell_type": "code",
   "execution_count": 29,
   "id": "7d62b61b-8648-4852-b851-35ea4374e3be",
   "metadata": {},
   "outputs": [],
   "source": [
    "year = 2024\n",
    "url = f\"https://www.baseball-reference.com/teams/LAD/{year}-schedule-scores.shtml\""
   ]
  },
  {
   "cell_type": "markdown",
   "id": "240acaa8-9370-4c2d-9a92-4dae5846554d",
   "metadata": {},
   "source": [
    "#### Get the current year's table"
   ]
  },
  {
   "cell_type": "code",
   "execution_count": 30,
   "id": "2644803b-a3a9-4e03-b31c-f6358367f918",
   "metadata": {},
   "outputs": [],
   "source": [
    "src = (\n",
    "    pd.read_html(url)[0]\n",
    "    .query(\"Tm !='Tm' and Inn != 'Game Preview, and Matchups'\")\n",
    "    .drop([\"Unnamed: 2\", \"Streak\", \"Orig. Scheduled\"], axis=1)\n",
    "    .rename(columns={\"Unnamed: 4\": \"home_away\"})\n",
    "    .assign(season=year)\n",
    ")"
   ]
  },
  {
   "cell_type": "markdown",
   "id": "fe8fc055-78f5-4c7b-ad7d-28462dcec003",
   "metadata": {},
   "source": [
    "---"
   ]
  },
  {
   "cell_type": "markdown",
   "id": "9903885e-0173-4f30-b072-95d62d11c202",
   "metadata": {},
   "source": [
    "## Process"
   ]
  },
  {
   "cell_type": "markdown",
   "id": "5fc3a5bf-20db-4b2d-8503-bc9584a37fab",
   "metadata": {},
   "source": [
    "#### Clean columns"
   ]
  },
  {
   "cell_type": "code",
   "execution_count": 31,
   "id": "f320417b-6c70-4225-b36c-cc884adf009b",
   "metadata": {},
   "outputs": [],
   "source": [
    "src.columns = src.columns.str.lower().str.replace(\"/\", \"_\").str.replace(\"-\", \"-\")"
   ]
  },
  {
   "cell_type": "code",
   "execution_count": 32,
   "id": "e4fcba0a-62bd-4273-9c5a-138c334d193b",
   "metadata": {},
   "outputs": [],
   "source": [
    "src.columns = [\n",
    "    \"gm\",\n",
    "    \"date\",\n",
    "    \"tm\",\n",
    "    \"home_away\",\n",
    "    \"opp\",\n",
    "    \"result\",\n",
    "    \"r\",\n",
    "    \"ra\",\n",
    "    \"inn\",\n",
    "    \"record\",\n",
    "    \"rank\",\n",
    "    \"gb\",\n",
    "    \"win\",\n",
    "    \"loss\",\n",
    "    \"save\",\n",
    "    \"time\",\n",
    "    \"day_night\",\n",
    "    \"attendance\",\n",
    "    \"cli\",\n",
    "    \"year\",\n",
    "]"
   ]
  },
  {
   "cell_type": "markdown",
   "id": "7c564523-1f80-4e35-ac0d-b32eb8b51e7e",
   "metadata": {},
   "source": [
    "#### Convert date types where needed"
   ]
  },
  {
   "cell_type": "code",
   "execution_count": 33,
   "id": "90cebd73-967c-459e-8131-0022e473067a",
   "metadata": {},
   "outputs": [],
   "source": [
    "src[\"gm\"] = src[\"gm\"].astype(int)\n",
    "src[\"year\"] = src[\"year\"].astype(str)"
   ]
  },
  {
   "cell_type": "markdown",
   "id": "e6bf6050-d736-4870-b9fd-ff64eb7e30a5",
   "metadata": {},
   "source": [
    "#### Split, format date"
   ]
  },
  {
   "cell_type": "code",
   "execution_count": 34,
   "id": "b44c9d60-6645-4c45-a780-4d83d42a53d1",
   "metadata": {},
   "outputs": [],
   "source": [
    "src[[\"weekday\", \"date\"]] = src[\"date\"].str.split(\", \", expand=True)"
   ]
  },
  {
   "cell_type": "code",
   "execution_count": 35,
   "id": "ff7102a2-3a34-482a-a797-8720c0ec820c",
   "metadata": {},
   "outputs": [],
   "source": [
    "src[\"date\"] = src[\"date\"].str.replace(\" (1)\", \"\").str.replace(\" (2)\", \"\")"
   ]
  },
  {
   "cell_type": "code",
   "execution_count": 36,
   "id": "1118289c-ac46-4c60-a853-912fbb47124a",
   "metadata": {},
   "outputs": [],
   "source": [
    "src[\"game_date\"] = pd.to_datetime(src[\"date\"] + \", \" + src[\"year\"], format=\"%b %d, %Y\")"
   ]
  },
  {
   "cell_type": "markdown",
   "id": "e9dcc4ed-691f-453d-a551-e8d55f879f52",
   "metadata": {},
   "source": [
    "#### Clean home-away column"
   ]
  },
  {
   "cell_type": "code",
   "execution_count": 37,
   "id": "27dd14d9-ec21-4f67-8073-904971663943",
   "metadata": {},
   "outputs": [],
   "source": [
    "src.loc[src.home_away == \"@\", \"home_away\"] = \"away\"\n",
    "src.loc[src.home_away.isna(), \"home_away\"] = \"home\""
   ]
  },
  {
   "cell_type": "markdown",
   "id": "5cdea5b2-ce39-4982-a2ea-7cea3e0f0d4a",
   "metadata": {},
   "source": [
    "#### Games back figures as a number"
   ]
  },
  {
   "cell_type": "code",
   "execution_count": 38,
   "id": "0aa41fbe-6a6a-4d0d-b598-5ae734f731db",
   "metadata": {},
   "outputs": [],
   "source": [
    "src[\"gb\"] = (\n",
    "    src[\"gb\"].str.replace(\"up \", \"up\").str.replace(\"up\", \"+\").str.replace(\"Tied\", \"0\")\n",
    ")"
   ]
  },
  {
   "cell_type": "code",
   "execution_count": 39,
   "id": "9c9675b6-0a4f-4fa5-afda-e13b677889d1",
   "metadata": {},
   "outputs": [],
   "source": [
    "src[\"gb\"] = (\n",
    "    src[\"gb\"]\n",
    "    .apply(\n",
    "        lambda x: float(x) if x.startswith(\"+\") else -float(x) if float(x) != 0 else 0\n",
    "    )\n",
    "    .astype(float)\n",
    ")"
   ]
  },
  {
   "cell_type": "markdown",
   "id": "bf9edf4e-0713-490e-80fb-af0f16b1f874",
   "metadata": {},
   "source": [
    "#### Just the columns we need"
   ]
  },
  {
   "cell_type": "code",
   "execution_count": 40,
   "id": "d0761f2b-6f05-43ab-8372-206b9bc96f70",
   "metadata": {},
   "outputs": [],
   "source": [
    "src_df = src[\n",
    "    [\n",
    "        \"gm\",\n",
    "        \"game_date\",\n",
    "        \"home_away\",\n",
    "        \"opp\",\n",
    "        \"result\",\n",
    "        \"r\",\n",
    "        \"ra\",\n",
    "        \"record\",\n",
    "        \"rank\",\n",
    "        \"gb\",\n",
    "        \"time\",\n",
    "        \"day_night\",\n",
    "        \"attendance\",\n",
    "        \"year\",\n",
    "    ]\n",
    "].copy()"
   ]
  },
  {
   "cell_type": "markdown",
   "id": "7b33afa7-82f9-4727-9693-2e6762c48a1f",
   "metadata": {},
   "source": [
    "----"
   ]
  },
  {
   "cell_type": "markdown",
   "id": "042888da-758b-4738-a758-3e6939db784b",
   "metadata": {},
   "source": [
    "## Concatenate"
   ]
  },
  {
   "cell_type": "markdown",
   "id": "eea84875-2cb8-44a9-ac00-7d87879ffea2",
   "metadata": {},
   "source": [
    "#### Historic and current dataframes combined into one"
   ]
  },
  {
   "cell_type": "code",
   "execution_count": 41,
   "id": "6cf71e25-c884-4755-9ce9-34ea4c8199cf",
   "metadata": {},
   "outputs": [],
   "source": [
    "df = pd.concat([src_df, historic_df]).sort_values(\"game_date\", ascending=False)"
   ]
  },
  {
   "cell_type": "code",
   "execution_count": 42,
   "id": "614e22c3-205a-49ba-9815-b5c43de8293e",
   "metadata": {},
   "outputs": [],
   "source": [
    "df[\"r\"] = df[\"r\"].fillna(np.nan).astype(float)\n",
    "df[\"ra\"] = df[\"ra\"].fillna(np.nan).astype(float)\n",
    "df[\"attendance\"] = df[\"attendance\"].fillna(np.nan).astype(float)"
   ]
  },
  {
   "cell_type": "code",
   "execution_count": 43,
   "id": "8667afb3-2fc5-4d9e-8a49-95424467a8f5",
   "metadata": {},
   "outputs": [
    {
     "data": {
      "text/html": [
       "<div>\n",
       "<style scoped>\n",
       "    .dataframe tbody tr th:only-of-type {\n",
       "        vertical-align: middle;\n",
       "    }\n",
       "\n",
       "    .dataframe tbody tr th {\n",
       "        vertical-align: top;\n",
       "    }\n",
       "\n",
       "    .dataframe thead th {\n",
       "        text-align: right;\n",
       "    }\n",
       "</style>\n",
       "<table border=\"1\" class=\"dataframe\">\n",
       "  <thead>\n",
       "    <tr style=\"text-align: right;\">\n",
       "      <th></th>\n",
       "      <th>gm</th>\n",
       "      <th>game_date</th>\n",
       "      <th>home_away</th>\n",
       "      <th>opp</th>\n",
       "      <th>result</th>\n",
       "      <th>r</th>\n",
       "      <th>ra</th>\n",
       "      <th>record</th>\n",
       "      <th>rank</th>\n",
       "      <th>gb</th>\n",
       "      <th>time</th>\n",
       "      <th>day_night</th>\n",
       "      <th>attendance</th>\n",
       "      <th>year</th>\n",
       "      <th>time_minutes</th>\n",
       "    </tr>\n",
       "  </thead>\n",
       "  <tbody>\n",
       "    <tr>\n",
       "      <th>17</th>\n",
       "      <td>17</td>\n",
       "      <td>2024-04-13</td>\n",
       "      <td>home</td>\n",
       "      <td>SDP</td>\n",
       "      <td>W</td>\n",
       "      <td>5.0</td>\n",
       "      <td>2.0</td>\n",
       "      <td>11-6</td>\n",
       "      <td>1</td>\n",
       "      <td>3.0</td>\n",
       "      <td>2:36</td>\n",
       "      <td>N</td>\n",
       "      <td>44582.0</td>\n",
       "      <td>2024</td>\n",
       "      <td>NaN</td>\n",
       "    </tr>\n",
       "    <tr>\n",
       "      <th>16</th>\n",
       "      <td>16</td>\n",
       "      <td>2024-04-12</td>\n",
       "      <td>home</td>\n",
       "      <td>SDP</td>\n",
       "      <td>L</td>\n",
       "      <td>7.0</td>\n",
       "      <td>8.0</td>\n",
       "      <td>10-6</td>\n",
       "      <td>1</td>\n",
       "      <td>2.0</td>\n",
       "      <td>3:14</td>\n",
       "      <td>N</td>\n",
       "      <td>49606.0</td>\n",
       "      <td>2024</td>\n",
       "      <td>NaN</td>\n",
       "    </tr>\n",
       "    <tr>\n",
       "      <th>15</th>\n",
       "      <td>15</td>\n",
       "      <td>2024-04-10</td>\n",
       "      <td>away</td>\n",
       "      <td>MIN</td>\n",
       "      <td>L</td>\n",
       "      <td>2.0</td>\n",
       "      <td>3.0</td>\n",
       "      <td>10-5</td>\n",
       "      <td>1</td>\n",
       "      <td>3.0</td>\n",
       "      <td>2:31</td>\n",
       "      <td>D</td>\n",
       "      <td>18640.0</td>\n",
       "      <td>2024</td>\n",
       "      <td>NaN</td>\n",
       "    </tr>\n",
       "    <tr>\n",
       "      <th>14</th>\n",
       "      <td>14</td>\n",
       "      <td>2024-04-09</td>\n",
       "      <td>away</td>\n",
       "      <td>MIN</td>\n",
       "      <td>W</td>\n",
       "      <td>6.0</td>\n",
       "      <td>3.0</td>\n",
       "      <td>10-4</td>\n",
       "      <td>1</td>\n",
       "      <td>4.0</td>\n",
       "      <td>2:23</td>\n",
       "      <td>N</td>\n",
       "      <td>17024.0</td>\n",
       "      <td>2024</td>\n",
       "      <td>NaN</td>\n",
       "    </tr>\n",
       "    <tr>\n",
       "      <th>13</th>\n",
       "      <td>13</td>\n",
       "      <td>2024-04-08</td>\n",
       "      <td>away</td>\n",
       "      <td>MIN</td>\n",
       "      <td>W</td>\n",
       "      <td>4.0</td>\n",
       "      <td>2.0</td>\n",
       "      <td>9-4</td>\n",
       "      <td>1</td>\n",
       "      <td>3.0</td>\n",
       "      <td>2:15</td>\n",
       "      <td>N</td>\n",
       "      <td>15177.0</td>\n",
       "      <td>2024</td>\n",
       "      <td>NaN</td>\n",
       "    </tr>\n",
       "  </tbody>\n",
       "</table>\n",
       "</div>"
      ],
      "text/plain": [
       "    gm  game_date home_away  opp result    r   ra record rank   gb  time  \\\n",
       "17  17 2024-04-13      home  SDP      W  5.0  2.0   11-6    1  3.0  2:36   \n",
       "16  16 2024-04-12      home  SDP      L  7.0  8.0   10-6    1  2.0  3:14   \n",
       "15  15 2024-04-10      away  MIN      L  2.0  3.0   10-5    1  3.0  2:31   \n",
       "14  14 2024-04-09      away  MIN      W  6.0  3.0   10-4    1  4.0  2:23   \n",
       "13  13 2024-04-08      away  MIN      W  4.0  2.0    9-4    1  3.0  2:15   \n",
       "\n",
       "   day_night  attendance  year  time_minutes  \n",
       "17         N     44582.0  2024           NaN  \n",
       "16         N     49606.0  2024           NaN  \n",
       "15         D     18640.0  2024           NaN  \n",
       "14         N     17024.0  2024           NaN  \n",
       "13         N     15177.0  2024           NaN  "
      ]
     },
     "execution_count": 43,
     "metadata": {},
     "output_type": "execute_result"
    }
   ],
   "source": [
    "df.head()"
   ]
  },
  {
   "cell_type": "code",
   "execution_count": 44,
   "id": "9afbeb45-a558-4ba4-be24-4f8666fa2af5",
   "metadata": {},
   "outputs": [
    {
     "data": {
      "text/html": [
       "<div>\n",
       "<style scoped>\n",
       "    .dataframe tbody tr th:only-of-type {\n",
       "        vertical-align: middle;\n",
       "    }\n",
       "\n",
       "    .dataframe tbody tr th {\n",
       "        vertical-align: top;\n",
       "    }\n",
       "\n",
       "    .dataframe thead th {\n",
       "        text-align: right;\n",
       "    }\n",
       "</style>\n",
       "<table border=\"1\" class=\"dataframe\">\n",
       "  <thead>\n",
       "    <tr style=\"text-align: right;\">\n",
       "      <th></th>\n",
       "      <th>gm</th>\n",
       "      <th>game_date</th>\n",
       "      <th>home_away</th>\n",
       "      <th>opp</th>\n",
       "      <th>result</th>\n",
       "      <th>r</th>\n",
       "      <th>ra</th>\n",
       "      <th>record</th>\n",
       "      <th>rank</th>\n",
       "      <th>gb</th>\n",
       "      <th>time</th>\n",
       "      <th>day_night</th>\n",
       "      <th>attendance</th>\n",
       "      <th>year</th>\n",
       "      <th>time_minutes</th>\n",
       "    </tr>\n",
       "  </thead>\n",
       "  <tbody>\n",
       "    <tr>\n",
       "      <th>4</th>\n",
       "      <td>5</td>\n",
       "      <td>1958-04-19</td>\n",
       "      <td>home</td>\n",
       "      <td>SFG</td>\n",
       "      <td>L</td>\n",
       "      <td>4.0</td>\n",
       "      <td>11.0</td>\n",
       "      <td>2-3</td>\n",
       "      <td>5</td>\n",
       "      <td>-2.5</td>\n",
       "      <td>2:37:00</td>\n",
       "      <td>D</td>\n",
       "      <td>41303.0</td>\n",
       "      <td>1958</td>\n",
       "      <td>157.0</td>\n",
       "    </tr>\n",
       "    <tr>\n",
       "      <th>3</th>\n",
       "      <td>4</td>\n",
       "      <td>1958-04-18</td>\n",
       "      <td>home</td>\n",
       "      <td>SFG</td>\n",
       "      <td>W</td>\n",
       "      <td>6.0</td>\n",
       "      <td>5.0</td>\n",
       "      <td>2-2</td>\n",
       "      <td>3</td>\n",
       "      <td>-1.5</td>\n",
       "      <td>3:00:00</td>\n",
       "      <td>D</td>\n",
       "      <td>78672.0</td>\n",
       "      <td>1958</td>\n",
       "      <td>180.0</td>\n",
       "    </tr>\n",
       "    <tr>\n",
       "      <th>2</th>\n",
       "      <td>3</td>\n",
       "      <td>1958-04-17</td>\n",
       "      <td>away</td>\n",
       "      <td>SFG</td>\n",
       "      <td>L</td>\n",
       "      <td>4.0</td>\n",
       "      <td>7.0</td>\n",
       "      <td>1-2</td>\n",
       "      <td>6</td>\n",
       "      <td>-1.5</td>\n",
       "      <td>2:50:00</td>\n",
       "      <td>D</td>\n",
       "      <td>12520.0</td>\n",
       "      <td>1958</td>\n",
       "      <td>170.0</td>\n",
       "    </tr>\n",
       "    <tr>\n",
       "      <th>1</th>\n",
       "      <td>2</td>\n",
       "      <td>1958-04-16</td>\n",
       "      <td>away</td>\n",
       "      <td>SFG</td>\n",
       "      <td>W</td>\n",
       "      <td>13.0</td>\n",
       "      <td>1.0</td>\n",
       "      <td>1-1</td>\n",
       "      <td>4</td>\n",
       "      <td>-0.5</td>\n",
       "      <td>3:03:00</td>\n",
       "      <td>N</td>\n",
       "      <td>22735.0</td>\n",
       "      <td>1958</td>\n",
       "      <td>183.0</td>\n",
       "    </tr>\n",
       "    <tr>\n",
       "      <th>0</th>\n",
       "      <td>1</td>\n",
       "      <td>1958-04-15</td>\n",
       "      <td>away</td>\n",
       "      <td>SFG</td>\n",
       "      <td>L</td>\n",
       "      <td>0.0</td>\n",
       "      <td>8.0</td>\n",
       "      <td>0-1</td>\n",
       "      <td>5</td>\n",
       "      <td>-1.0</td>\n",
       "      <td>2:29:00</td>\n",
       "      <td>D</td>\n",
       "      <td>23448.0</td>\n",
       "      <td>1958</td>\n",
       "      <td>149.0</td>\n",
       "    </tr>\n",
       "  </tbody>\n",
       "</table>\n",
       "</div>"
      ],
      "text/plain": [
       "   gm  game_date home_away  opp result     r    ra record rank   gb     time  \\\n",
       "4   5 1958-04-19      home  SFG      L   4.0  11.0    2-3    5 -2.5  2:37:00   \n",
       "3   4 1958-04-18      home  SFG      W   6.0   5.0    2-2    3 -1.5  3:00:00   \n",
       "2   3 1958-04-17      away  SFG      L   4.0   7.0    1-2    6 -1.5  2:50:00   \n",
       "1   2 1958-04-16      away  SFG      W  13.0   1.0    1-1    4 -0.5  3:03:00   \n",
       "0   1 1958-04-15      away  SFG      L   0.0   8.0    0-1    5 -1.0  2:29:00   \n",
       "\n",
       "  day_night  attendance  year  time_minutes  \n",
       "4         D     41303.0  1958         157.0  \n",
       "3         D     78672.0  1958         180.0  \n",
       "2         D     12520.0  1958         170.0  \n",
       "1         N     22735.0  1958         183.0  \n",
       "0         D     23448.0  1958         149.0  "
      ]
     },
     "execution_count": 44,
     "metadata": {},
     "output_type": "execute_result"
    }
   ],
   "source": [
    "df.tail()"
   ]
  },
  {
   "cell_type": "markdown",
   "id": "6cd092eb-5772-48c9-97cf-0e2d62f0632f",
   "metadata": {},
   "source": [
    "---"
   ]
  },
  {
   "cell_type": "markdown",
   "id": "2cedc251-d7e6-4134-9793-72ce4d5a62f4",
   "metadata": {},
   "source": [
    "## Exports"
   ]
  },
  {
   "cell_type": "markdown",
   "id": "d0f77d9e-5f69-4a87-be53-b643029b9c4c",
   "metadata": {},
   "source": [
    "#### CSV format"
   ]
  },
  {
   "cell_type": "code",
   "execution_count": 45,
   "id": "e84208b5-e99e-4a3a-96a3-3325eeea9b96",
   "metadata": {},
   "outputs": [],
   "source": [
    "# df.to_csv(\"data/processed/dodgers_standings_1958_present.csv\", index=False)"
   ]
  },
  {
   "cell_type": "markdown",
   "id": "6bde47df-4a10-4731-85c3-1cfb881fd1b1",
   "metadata": {},
   "source": [
    "#### JSON"
   ]
  },
  {
   "cell_type": "code",
   "execution_count": 46,
   "id": "a2a3e0ae-02b2-47e9-9a6b-649d7866a57d",
   "metadata": {},
   "outputs": [],
   "source": [
    "# df.to_json(\n",
    "#     \"data/processed/dodgers_standings_1958_present.json\", indent=4, orient=\"records\"\n",
    "# )"
   ]
  },
  {
   "cell_type": "markdown",
   "id": "dc53d782-7990-4faa-aaa0-6fe5624c6f83",
   "metadata": {},
   "source": [
    "#### Parquet"
   ]
  },
  {
   "cell_type": "code",
   "execution_count": 47,
   "id": "127ec57c-3fd1-45a0-a053-85fb8eec28fc",
   "metadata": {},
   "outputs": [],
   "source": [
    "# df.to_parquet(\"data/processed/dodgers_standings_1958_present.parquet\", index=False)"
   ]
  },
  {
   "cell_type": "markdown",
   "id": "002299ca-f511-494e-be4e-ef65b3e3a1e7",
   "metadata": {},
   "source": [
    "#### S3"
   ]
  },
  {
   "cell_type": "code",
   "execution_count": 48,
   "id": "eeee218f-a017-46ea-8602-3cf4a7192cec",
   "metadata": {},
   "outputs": [],
   "source": [
    "# !aws s3 cp data/processed/dodgers_standings_1958_present.json s3://stilesdata.com/dodgers/dodgers_standings_1958_present.json --profile {profile_name}"
   ]
  }
 ],
 "metadata": {
  "kernelspec": {
   "display_name": "Python 3 (ipykernel)",
   "language": "python",
   "name": "python3"
  },
  "language_info": {
   "codemirror_mode": {
    "name": "ipython",
    "version": 3
   },
   "file_extension": ".py",
   "mimetype": "text/x-python",
   "name": "python",
   "nbconvert_exporter": "python",
   "pygments_lexer": "ipython3",
   "version": "3.9.15"
  }
 },
 "nbformat": 4,
 "nbformat_minor": 5
}
