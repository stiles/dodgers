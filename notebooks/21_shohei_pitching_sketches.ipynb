{
 "cells": [
  {
   "cell_type": "code",
   "execution_count": 11,
   "id": "b788fa9e-14b5-4494-9c82-920d8d02bc34",
   "metadata": {},
   "outputs": [
    {
     "name": "stdout",
     "output_type": "stream",
     "text": [
      "\n",
      "Pitch Mix DataFrame:\n",
      "  pitchType          name  percent  count\n",
      "0        ST       Sweeper     35.7     10\n",
      "1        FF   Four Seamer     32.1      9\n",
      "2        SI        Sinker     28.6      8\n",
      "3        FS  Split Finger      3.6      1\n",
      "\n",
      "Sample Pitches DataFrame:\n",
      "                         gd pitch_type    vel     x     z\n",
      "0  2025-06-16T00:00:00.000Z         FF   98.3  0.22  2.77\n",
      "1  2025-06-16T00:00:00.000Z         FF   98.6   1.5  1.44\n",
      "2  2025-06-16T00:00:00.000Z         FF   99.1  1.12  1.89\n",
      "3  2025-06-16T00:00:00.000Z         FF   98.3  2.04  0.78\n",
      "4  2025-06-16T00:00:00.000Z         FF  100.2  1.25   1.1\n"
     ]
    }
   ],
   "source": [
    "import re\n",
    "import json\n",
    "import requests\n",
    "import pandas as pd\n",
    "from bs4 import BeautifulSoup\n",
    "\n",
    "# Fetch page content\n",
    "url = \"https://baseballsavant.mlb.com/savant-player/shohei-ohtani-660271?stats=statcast-r-pitching-mlb&playerType=pitcher\"\n",
    "html = requests.get(url).text\n",
    "soup = BeautifulSoup(html, \"html.parser\")\n",
    "\n",
    "# Locate the JS script with the data\n",
    "script = next(tag for tag in soup.find_all(\"script\") if \"statcastPitches\" in tag.text)\n",
    "script_text = script.text\n",
    "\n",
    "# --- Extract statcastPitches block ---\n",
    "pitches_match = re.search(r\"statcastPitches\\s*:\\s*(\\{.*?\\})\\s*,\\s*pitchBreakdown\", script_text, re.DOTALL)\n",
    "pitches_raw = pitches_match.group(1).replace(\"'\", '\"').replace(\"undefined\", \"null\")\n",
    "statcast_pitches = json.loads(pitches_raw)\n",
    "\n",
    "# Flatten and convert to DataFrame\n",
    "all_pitches = []\n",
    "for pitch_type, pitches in statcast_pitches.items():\n",
    "    for pitch in pitches:\n",
    "        pitch[\"pitch_type\"] = pitch_type\n",
    "        all_pitches.append(pitch)\n",
    "\n",
    "pitches_df = pd.DataFrame(all_pitches)\n",
    "\n",
    "# --- Extract pitchBreakdown block ---\n",
    "breakdown_match = re.search(r\"pitchBreakdown\\s*:\\s*(\\[[^\\]]+\\])\", script_text)\n",
    "breakdown_raw = breakdown_match.group(1).replace(\"'\", '\"')\n",
    "pitch_distribution = json.loads(breakdown_raw)\n",
    "distribution_df = pd.DataFrame(pitch_distribution)\n",
    "\n",
    "# --- Final Output ---\n",
    "print(\"\\nPitch Mix DataFrame:\")\n",
    "print(distribution_df[[\"pitchType\", \"name\", \"percent\", \"count\"]])\n",
    "\n",
    "print(\"\\nSample Pitches DataFrame:\")\n",
    "print(pitches_df[[\"gd\", \"pitch_type\", \"vel\", \"x\", \"z\"]].head())"
   ]
  },
  {
   "cell_type": "code",
   "execution_count": null,
   "id": "a03474f9-5b79-4384-92fd-024772d2a995",
   "metadata": {},
   "outputs": [],
   "source": []
  }
 ],
 "metadata": {
  "kernelspec": {
   "display_name": "Python 3 (ipykernel)",
   "language": "python",
   "name": "python3"
  },
  "language_info": {
   "codemirror_mode": {
    "name": "ipython",
    "version": 3
   },
   "file_extension": ".py",
   "mimetype": "text/x-python",
   "name": "python",
   "nbconvert_exporter": "python",
   "pygments_lexer": "ipython3",
   "version": "3.9.6"
  }
 },
 "nbformat": 4,
 "nbformat_minor": 5
}
