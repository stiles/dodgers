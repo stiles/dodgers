{
 "cells": [
  {
   "cell_type": "markdown",
   "id": "77ab12ec-6a2c-4fd8-8b1a-45b8e69448cb",
   "metadata": {},
   "source": [
    "# LA Dodgers current season performance\n",
    "> This notebook downloads the team's current season and outputs the data to CSV, JSON and Parquet formats for later analysis and visualization."
   ]
  },
  {
   "cell_type": "markdown",
   "id": "277c96d0-48d1-4944-8f3d-369979dbae0c",
   "metadata": {},
   "source": [
    "---"
   ]
  },
  {
   "cell_type": "code",
   "execution_count": 20,
   "id": "27cdbea4-067e-40fe-8a0e-52d79145a835",
   "metadata": {},
   "outputs": [],
   "source": [
    "import os\n",
    "import boto3\n",
    "import pandas as pd\n",
    "from io import BytesIO\n",
    "from io import StringIO"
   ]
  },
  {
   "cell_type": "code",
   "execution_count": 21,
   "id": "4fec1b45-6a7b-4ca8-adbd-fb3e5a2da04b",
   "metadata": {
    "tags": []
   },
   "outputs": [],
   "source": [
    "pd.options.display.max_columns = 100\n",
    "pd.options.display.max_rows = 1000\n",
    "pd.options.display.max_colwidth = None\n",
    "aws_key_id = os.environ.get(\"AWS_ACCESS_KEY_ID\")\n",
    "aws_secret_key = os.environ.get(\"AWS_SECRET_ACCESS_KEY\")"
   ]
  },
  {
   "cell_type": "code",
   "execution_count": 22,
   "id": "f080d6c8-8d63-465f-9737-4aa71bc7a411",
   "metadata": {},
   "outputs": [
    {
     "data": {
      "text/plain": [
       "Session(region_name='us-west-1')"
      ]
     },
     "execution_count": 22,
     "metadata": {},
     "output_type": "execute_result"
    }
   ],
   "source": [
    "boto3.Session(\n",
    "    aws_access_key_id=aws_key_id,\n",
    "    aws_secret_access_key=aws_secret_key,\n",
    "    region_name=\"us-west-1\",\n",
    ")"
   ]
  },
  {
   "cell_type": "code",
   "execution_count": 23,
   "id": "2122b3cd-0132-4048-8db9-a6b001cd88af",
   "metadata": {},
   "outputs": [],
   "source": [
    "year = pd.to_datetime(\"now\").strftime(\"%Y\")"
   ]
  },
  {
   "cell_type": "code",
   "execution_count": 24,
   "id": "6ee089a4-5be8-408f-96cd-10892aa759d0",
   "metadata": {},
   "outputs": [
    {
     "data": {
      "text/plain": [
       "'\\nFetch\\n'"
      ]
     },
     "execution_count": 24,
     "metadata": {},
     "output_type": "execute_result"
    }
   ],
   "source": [
    "\"\"\"\n",
    "Fetch\n",
    "\"\"\""
   ]
  },
  {
   "cell_type": "code",
   "execution_count": 25,
   "id": "bb6e631c-09f3-4905-8c98-3cca5cc5b6b4",
   "metadata": {},
   "outputs": [],
   "source": [
    "df = pd.read_parquet('https://stilesdata.com/dodgers/data/standings/dodgers_standings_1958_present.parquet')"
   ]
  },
  {
   "cell_type": "code",
   "execution_count": null,
   "id": "14f278a7-4b15-4e29-baaf-0b6e3e6ae4bf",
   "metadata": {},
   "outputs": [],
   "source": [
    "wl_df = df.query(\"year == '2024'\")[[\"gm\", \"game_date\", \"result\", \"r\", \"ra\"]].copy()\n",
    "wl_df[\"result\"] = wl_df[\"result\"].str.split(\"-\", expand=True)[0]\n",
    "wl_df[\"run_diff\"] = wl_df[\"r\"] - wl_df[\"ra\"]"
   ]
  },
  {
   "cell_type": "code",
   "execution_count": 48,
   "id": "dab6cf2f-ed3e-4bd1-945e-3729c498d9bc",
   "metadata": {},
   "outputs": [],
   "source": [
    "wl_df['game_date'] = wl_df['game_date'].astype(str)"
   ]
  },
  {
   "cell_type": "code",
   "execution_count": 49,
   "id": "1d381aad-655d-4df3-abbb-ef87806b5fef",
   "metadata": {},
   "outputs": [
    {
     "data": {
      "text/plain": [
       "' \\nEXPORT\\n'"
      ]
     },
     "execution_count": 49,
     "metadata": {},
     "output_type": "execute_result"
    }
   ],
   "source": [
    "\"\"\" \n",
    "EXPORT\n",
    "\"\"\""
   ]
  },
  {
   "cell_type": "code",
   "execution_count": 50,
   "id": "def3ffac-6939-429b-8e39-b9ad2c43ae41",
   "metadata": {},
   "outputs": [],
   "source": [
    "# Function to save dataframes with different formats and file extensions\n",
    "def save_dataframe(df, path_without_extension, formats):\n",
    "    \"\"\"\n",
    "    Save DataFrames in multiple formats.\n",
    "    \"\"\"\n",
    "    for file_format in formats:\n",
    "        if file_format == \"csv\":\n",
    "            df.to_csv(f\"{path_without_extension}.{file_format}\", index=False)\n",
    "        elif file_format == \"json\":\n",
    "            df.to_json(\n",
    "                f\"{path_without_extension}.{file_format}\", indent=4, orient=\"records\"\n",
    "            )\n",
    "        elif file_format == \"parquet\":\n",
    "            df.to_parquet(f\"{path_without_extension}.{file_format}\", index=False)\n",
    "        else:\n",
    "            print(f\"Unsupported format: {file_format}\")"
   ]
  },
  {
   "cell_type": "code",
   "execution_count": 51,
   "id": "256c4633-85b2-4080-b78e-bc33dae022cb",
   "metadata": {},
   "outputs": [],
   "source": [
    "# Save local files\n",
    "formats = [\"csv\", \"json\", \"parquet\"]\n",
    "save_dataframe(wl_df, f\"../data/standings/dodgers_wins_losses_current\", formats)"
   ]
  },
  {
   "cell_type": "code",
   "execution_count": 52,
   "id": "f252bef4",
   "metadata": {},
   "outputs": [],
   "source": [
    "# Function to export to s3 in various formats\n",
    "def save_to_s3(\n",
    "    df, base_path, s3_bucket, formats=[\"csv\", \"json\", \"parquet\"], profile_name=\"default\"\n",
    "):\n",
    "    \"\"\"\n",
    "    Save Pandas DataFrame in specified formats and upload to S3 bucket using a specified AWS profile.\n",
    "\n",
    "    :param df: DataFrame to save.\n",
    "    :param base_path: Base file path without format extension.\n",
    "    :param s3_bucket: S3 bucket name.\n",
    "    :param formats: List of formats to save -- 'csv', 'json', 'parquet'.\n",
    "    :param profile_name: AWS CLI profile name to use for credentials.\n",
    "    \"\"\"\n",
    "    session = boto3.Session(profile_name=profile_name)\n",
    "    s3_resource = session.resource(\"s3\")\n",
    "\n",
    "    for fmt in formats:\n",
    "        file_path = f\"{base_path}.{fmt}\"\n",
    "        if fmt == \"csv\":\n",
    "            buffer = BytesIO()\n",
    "            df.to_csv(buffer, index=False)\n",
    "            content_type = \"text/csv\"\n",
    "        elif fmt == \"json\":\n",
    "            buffer = BytesIO()\n",
    "            df.to_json(buffer, indent=4, orient=\"records\", lines=False)\n",
    "            content_type = \"application/json\"\n",
    "        elif fmt == \"parquet\":\n",
    "            buffer = BytesIO()\n",
    "            df.to_parquet(buffer, index=False)\n",
    "            content_type = \"application/octet-stream\"\n",
    "\n",
    "        buffer.seek(0)\n",
    "        s3_resource.Bucket(s3_bucket).put_object(\n",
    "            Key=file_path, Body=buffer, ContentType=content_type\n",
    "        )\n",
    "        print(f\"Uploaded {fmt} to {s3_bucket}/{file_path}\")"
   ]
  },
  {
   "cell_type": "code",
   "execution_count": 53,
   "id": "20a48d05",
   "metadata": {},
   "outputs": [
    {
     "name": "stdout",
     "output_type": "stream",
     "text": [
      "Uploaded csv to stilesdata.com/dodgers/data/standings/dodgers_wins_losses_current.csv\n",
      "Uploaded json to stilesdata.com/dodgers/data/standings/dodgers_wins_losses_current.json\n",
      "Uploaded parquet to stilesdata.com/dodgers/data/standings/dodgers_wins_losses_current.parquet\n"
     ]
    }
   ],
   "source": [
    "# Save to S3\n",
    "save_to_s3(\n",
    "    wl_df,\n",
    "    \"dodgers/data/standings/dodgers_wins_losses_current\",\n",
    "    \"stilesdata.com\",\n",
    "    profile_name=\"haekeo\",\n",
    ")"
   ]
  },
  {
   "cell_type": "code",
   "execution_count": 54,
   "id": "d9fd5c3f",
   "metadata": {},
   "outputs": [
    {
     "name": "stdout",
     "output_type": "stream",
     "text": [
      "[NbConvertApp] Converting notebook 10_fetch_process_wins_losses_current.ipynb to script\n",
      "[NbConvertApp] Writing 3626 bytes to ../scripts/08_fetch_process_wins_losses_current.py\n"
     ]
    }
   ],
   "source": [
    "# Save a copy of notebook as a python script\n",
    "!jupyter nbconvert --to script --no-prompt --output ../scripts/08_fetch_process_wins_losses_current 10_fetch_process_wins_losses_current.ipynb"
   ]
  },
  {
   "cell_type": "code",
   "execution_count": null,
   "id": "5c1ca90b-345c-4013-afe7-8ebf0d75a601",
   "metadata": {},
   "outputs": [],
   "source": []
  }
 ],
 "metadata": {
  "kernelspec": {
   "display_name": "Python 3 (ipykernel)",
   "language": "python",
   "name": "python3"
  },
  "language_info": {
   "codemirror_mode": {
    "name": "ipython",
    "version": 3
   },
   "file_extension": ".py",
   "mimetype": "text/x-python",
   "name": "python",
   "nbconvert_exporter": "python",
   "pygments_lexer": "ipython3",
   "version": "3.9.15"
  }
 },
 "nbformat": 4,
 "nbformat_minor": 5
}
