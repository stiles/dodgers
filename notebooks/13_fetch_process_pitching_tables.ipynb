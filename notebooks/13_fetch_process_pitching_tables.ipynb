{
 "cells": [
  {
   "cell_type": "markdown",
   "id": "77ab12ec-6a2c-4fd8-8b1a-45b8e69448cb",
   "metadata": {
    "panel-layout": {
     "height": 93.5781,
     "visible": true,
     "width": 100
    }
   },
   "source": [
    "# LA Dodgers pitching logs by season, 1958-2024\n",
    "> This notebook visusalizes current and past game-by-game and cumulative totals for strikeouts, walks, ERA, etc., using data from [Baseball Reference](https://www.baseball-reference.com/teams/tgl.cgi?team=LAD&t=p&year=2024)."
   ]
  },
  {
   "cell_type": "markdown",
   "id": "277c96d0-48d1-4944-8f3d-369979dbae0c",
   "metadata": {
    "panel-layout": {
     "height": 24,
     "visible": true,
     "width": 100
    }
   },
   "source": [
    "---"
   ]
  },
  {
   "cell_type": "code",
   "execution_count": 1,
   "id": "b1d9b0bf-098e-4aec-bb6f-6d4232b887e1",
   "metadata": {},
   "outputs": [],
   "source": [
    "#!/usr/bin/env python\n",
    "# coding: utf-8\n",
    "\n",
    "import os\n",
    "import requests\n",
    "import datetime\n",
    "import pandas as pd\n",
    "from io import BytesIO\n",
    "import boto3\n",
    "import logging"
   ]
  },
  {
   "cell_type": "code",
   "execution_count": 2,
   "id": "42e5dacd-2693-4d59-9e28-7f608ad32e43",
   "metadata": {},
   "outputs": [],
   "source": [
    "start_year = '1958'\n",
    "end_year = '2024'"
   ]
  },
  {
   "cell_type": "code",
   "execution_count": 3,
   "id": "f5bc2769-ed97-4471-956d-c8caf06ec9ad",
   "metadata": {},
   "outputs": [],
   "source": [
    "# Set up basic configuration for logging\n",
    "logging.basicConfig(level=logging.INFO, format='%(asctime)s - %(levelname)s - %(message)s')\n",
    "\n",
    "# # Determine if running in a GitHub Actions environment\n",
    "# is_github_actions = os.getenv('GITHUB_ACTIONS') == 'true'\n",
    "\n",
    "# # AWS credentials and session initialization\n",
    "# aws_key_id = os.environ.get(\"AWS_ACCESS_KEY_ID\")\n",
    "# aws_secret_key = os.environ.get(\"AWS_SECRET_ACCESS_KEY\")\n",
    "# aws_region = \"us-west-1\"\n",
    "\n",
    "# # Conditional AWS session creation based on the environment\n",
    "# if is_github_actions:\n",
    "#     # In GitHub Actions, use environment variables directly\n",
    "#     session = boto3.Session(\n",
    "#         aws_access_key_id=aws_key_id,\n",
    "#         aws_secret_access_key=aws_secret_key,\n",
    "#         region_name=aws_region\n",
    "#     )\n",
    "# else:\n",
    "#     # Locally, use a specific profile\n",
    "#     session = boto3.Session(profile_name=\"haekeo\", region_name=aws_region)\n",
    "\n",
    "# s3_resource = session.resource(\"s3\")\n",
    "\n",
    "# Base directory settings\n",
    "base_dir = os.getcwd()\n",
    "data_dir = os.path.join(base_dir, 'data', 'pitching')\n",
    "# os.makedirs(data_dir, exist_ok=True)\n",
    "\n",
    "profile_name = os.environ.get(\"AWS_PERSONAL_PROFILE\")\n",
    "today = datetime.date.today()\n",
    "year = today.year\n",
    "year = '2024'"
   ]
  },
  {
   "cell_type": "code",
   "execution_count": 4,
   "id": "f3b5035a-fe8a-4b93-b158-1f123e225469",
   "metadata": {},
   "outputs": [],
   "source": [
    "# Headers to mimic a browser request\n",
    "headers = {\n",
    "    \"User-Agent\": \"Mozilla/5.0 (Macintosh; Intel Mac OS X 10_15_7) AppleWebKit/537.36 (KHTML, like Gecko) Chrome/109.0.0.0 Safari/537.36\",\n",
    "}"
   ]
  },
  {
   "cell_type": "code",
   "execution_count": 5,
   "id": "2ec4ea46-e1e9-4f07-a277-c81e7dbcc244",
   "metadata": {},
   "outputs": [],
   "source": [
    "# Fetch archive game logs\n",
    "archive_url = \"https://stilesdata.com/dodgers/data/pitching/archive/dodgers_historic_pitching_gamelogs_1958_2023.parquet\"\n",
    "archive_df = pd.read_parquet(archive_url)"
   ]
  },
  {
   "cell_type": "code",
   "execution_count": 6,
   "id": "a2c87d84-87f3-47d8-9e45-6a977823796b",
   "metadata": {},
   "outputs": [],
   "source": [
    "# Fetch Current game logs\n",
    "current_url = f\"https://www.baseball-reference.com/teams/tgl.cgi?team=LAD&t=p&year={year}\"\n",
    "current_src = pd.read_html(current_url)[1].assign(year=year).query('SO != \"SO\"')\n",
    "current_src.columns = current_src.columns.str.lower()"
   ]
  },
  {
   "cell_type": "code",
   "execution_count": 7,
   "id": "5c2ee993-09ad-468b-9c28-6a47300d6be4",
   "metadata": {},
   "outputs": [],
   "source": [
    "# Process current game logs\n",
    "current_src[\"game_date\"] = pd.to_datetime(\n",
    "    current_src[\"date\"] + \" \" + current_src[\"year\"].astype(str),\n",
    "    format=\"%b %d %Y\",\n",
    "    errors=\"coerce\"\n",
    ").dt.strftime(\"%Y-%m-%d\")"
   ]
  },
  {
   "cell_type": "code",
   "execution_count": 8,
   "id": "8f5b7a97-a8f6-4721-8b49-0e73f7100b9b",
   "metadata": {},
   "outputs": [],
   "source": [
    "# Just the columns we need\n",
    "keep_cols = ['gtm', 'year', 'game_date', 'h', 'hr', 'er', 'so', 'era']\n",
    "current_df = current_src[keep_cols].copy()"
   ]
  },
  {
   "cell_type": "code",
   "execution_count": 9,
   "id": "a905b67f-2b31-49ae-9aa5-5f5acc636139",
   "metadata": {},
   "outputs": [],
   "source": [
    "# Define value columns\n",
    "int_cols = [\"gtm\", 'h', 'hr', 'er', 'so']\n",
    "\n",
    "# Convert value columns to numbers\n",
    "current_df[int_cols] = current_df[int_cols].astype(int)\n",
    "current_df['era'] = current_df['era'].astype(float)\n",
    "current_df['era_cum'] = current_df['era']"
   ]
  },
  {
   "cell_type": "code",
   "execution_count": 10,
   "id": "a0b6f0f8-5949-41a8-8407-717d9b246962",
   "metadata": {},
   "outputs": [],
   "source": [
    "# Calculate cumulative columns\n",
    "for col in ['h', 'hr', 'er', 'so']:\n",
    "    current_df[f\"{col}_cum\"] = current_df.groupby(\"year\")[col].cumsum()"
   ]
  },
  {
   "cell_type": "code",
   "execution_count": 11,
   "id": "3f5eefa4-434d-42a3-826e-8a46a5743dcd",
   "metadata": {},
   "outputs": [
    {
     "data": {
      "text/plain": [
       "'\\nMERGE\\n'"
      ]
     },
     "execution_count": 11,
     "metadata": {},
     "output_type": "execute_result"
    }
   ],
   "source": [
    "\"\"\"\n",
    "MERGE\n",
    "\"\"\""
   ]
  },
  {
   "cell_type": "code",
   "execution_count": 12,
   "id": "d194adf4-95a9-4578-a721-a401707ee6c7",
   "metadata": {},
   "outputs": [],
   "source": [
    "# Combine current and archive data\n",
    "df = (\n",
    "    pd.concat([current_df, archive_df])\n",
    "    .sort_values([\"year\", \"gtm\"], ascending=[False, True])\n",
    "    .reset_index(drop=True)\n",
    "    .drop_duplicates()\n",
    ")"
   ]
  },
  {
   "cell_type": "code",
   "execution_count": 13,
   "id": "1822746d-2b82-4bcf-a119-456811d3c2a2",
   "metadata": {},
   "outputs": [
    {
     "data": {
      "text/plain": [
       "'\\nOUTPUT\\n'"
      ]
     },
     "execution_count": 13,
     "metadata": {},
     "output_type": "execute_result"
    }
   ],
   "source": [
    "\"\"\"\n",
    "OUTPUT\n",
    "\"\"\""
   ]
  },
  {
   "cell_type": "code",
   "execution_count": 14,
   "id": "97235262-e668-46ec-a91a-99734a9d8bc3",
   "metadata": {},
   "outputs": [],
   "source": [
    "# Optimize DataFrame for output\n",
    "optimized_df = df[['gtm', 'year', 'game_date', 'era_cum','h_cum', 'hr_cum', 'er_cum', 'so_cum']].copy()"
   ]
  },
  {
   "cell_type": "code",
   "execution_count": 15,
   "id": "65cd6529-37b6-4913-9c83-a44e350f5004",
   "metadata": {},
   "outputs": [],
   "source": [
    "# Function to save DataFrame to S3\n",
    "def save_to_s3(df, base_path, s3_bucket, formats):\n",
    "    for fmt in formats:\n",
    "        try:\n",
    "            buffer = BytesIO()\n",
    "            if fmt == \"csv\":\n",
    "                df.to_csv(buffer, index=False)\n",
    "                content_type = \"text/csv\"\n",
    "            elif fmt == \"json\":\n",
    "                df.to_json(buffer, indent=4, orient=\"records\", lines=False)\n",
    "                content_type = \"application/json\"\n",
    "            elif fmt == \"parquet\":\n",
    "                df.to_parquet(buffer, index=False)\n",
    "                content_type = \"application/octet-stream\"\n",
    "            buffer.seek(0)\n",
    "            s3_resource.Bucket(s3_bucket).put_object(Key=f\"{base_path}.{fmt}\", Body=buffer, ContentType=content_type)\n",
    "            logging.info(f\"Uploaded {fmt} to {s3_bucket}/{base_path}.{fmt}\")\n",
    "        except Exception as e:\n",
    "            logging.error(f\"Failed to upload {fmt} to S3: {e}\")\n",
    "\n",
    "# Saving files locally and to S3\n",
    "# file_path = os.path.join(data_dir, 'dodgers_historic_pitching_gamelogs_1958-present')\n",
    "# formats = [\"csv\", \"json\", \"parquet\"]\n",
    "# # save_dataframe(optimized_df, file_path, formats)\n",
    "# save_to_s3(optimized_df, \"dodgers/data/pitching/dodgers_historic_pitching_gamelogs_1958-present\", \"stilesdata.com\", formats)"
   ]
  },
  {
   "cell_type": "code",
   "execution_count": 16,
   "id": "496de512-941e-40d8-ba29-6e6810939925",
   "metadata": {},
   "outputs": [],
   "source": [
    "def save_dataframe(df, path_without_extension, formats):\n",
    "    \"\"\"\n",
    "    Save a DataFrame in multiple formats.\n",
    "    \"\"\"\n",
    "    for file_format in formats:\n",
    "        if file_format == \"csv\":\n",
    "            df.to_csv(f\"{path_without_extension}.{file_format}\", index=False)\n",
    "        elif file_format == \"json\":\n",
    "            df.to_json(\n",
    "                f\"{path_without_extension}.{file_format}\", indent=4, orient=\"records\"\n",
    "            )\n",
    "        elif file_format == \"parquet\":\n",
    "            df.to_parquet(f\"{path_without_extension}.{file_format}\", index=False)\n",
    "        else:\n",
    "            print(f\"Unsupported format: {file_format}\")"
   ]
  },
  {
   "cell_type": "code",
   "execution_count": 19,
   "id": "f9b77fbb-2db7-437e-a50b-54103bb65a08",
   "metadata": {},
   "outputs": [],
   "source": [
    "df['year'] = df['year'].astype(str)"
   ]
  },
  {
   "cell_type": "code",
   "execution_count": 20,
   "id": "f009c5f2-3807-462d-9542-29edb8c20f30",
   "metadata": {},
   "outputs": [],
   "source": [
    "formats = [\"csv\", \"json\", \"parquet\"]\n",
    "save_dataframe(\n",
    "    df,\n",
    "    f\"data/pitching/archive/dodgers_historic_pitching_gamelogs_{start_year}_{end_year}\",\n",
    "    formats,\n",
    ")"
   ]
  }
 ],
 "metadata": {
  "kernelspec": {
   "display_name": "Python 3 (ipykernel)",
   "language": "python",
   "name": "python3"
  },
  "language_info": {
   "codemirror_mode": {
    "name": "ipython",
    "version": 3
   },
   "file_extension": ".py",
   "mimetype": "text/x-python",
   "name": "python",
   "nbconvert_exporter": "python",
   "pygments_lexer": "ipython3",
   "version": "3.9.6"
  },
  "panel-cell-order": [
   "77ab12ec-6a2c-4fd8-8b1a-45b8e69448cb",
   "277c96d0-48d1-4944-8f3d-369979dbae0c",
   "b26f152f-1b2c-4231-9752-4ecbe64c4e6a",
   "890c26c6-a7d4-42ff-8d19-ef0d8d6cfb5b",
   "fd4c08bc-ce9c-49b0-af2e-877593871769",
   "0028268b-647d-46db-8dbf-2f3ccf9a0651",
   "0e88ea7b-767d-4d28-9c05-0ad7e3cb61c7",
   "2409aca7-c3cd-4d6a-9290-e8acb93c9bd1",
   "6cd092eb-5772-48c9-97cf-0e2d62f0632f",
   "1e7ae03c-c6bf-46ae-a417-ebf155cadad2",
   "aa31605f-50d3-4af6-8bf0-068f3fd9d313",
   "e408b594-904b-4b9c-92c2-55dc41982f0b",
   "2409dbf1-8d23-489f-bea9-d840bae0bae8",
   "3978864d-34d2-4947-8c33-a1d7e40f4121",
   "0e167509-a196-42a6-bf71-084e8a607128",
   "8575f3c0-5cac-4265-8e5c-9c72b135b43f",
   "2cedc251-d7e6-4134-9793-72ce4d5a62f4",
   "d0f77d9e-5f69-4a87-be53-b643029b9c4c",
   "830d1f22-c971-4ad4-ae2c-9a1d2c2e4e27"
  ]
 },
 "nbformat": 4,
 "nbformat_minor": 5
}
