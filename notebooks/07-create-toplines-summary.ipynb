{
 "cells": [
  {
   "cell_type": "markdown",
   "id": "77ab12ec-6a2c-4fd8-8b1a-45b8e69448cb",
   "metadata": {},
   "source": [
    "# LA Dodgers toplines\n",
    "> This notebook extracts key statistics from the project's processed tables for display in a dashboard."
   ]
  },
  {
   "cell_type": "markdown",
   "id": "277c96d0-48d1-4944-8f3d-369979dbae0c",
   "metadata": {},
   "source": [
    "---"
   ]
  },
  {
   "cell_type": "markdown",
   "id": "b26f152f-1b2c-4231-9752-4ecbe64c4e6a",
   "metadata": {},
   "source": [
    "#### Import Python tools and Jupyter config"
   ]
  },
  {
   "cell_type": "code",
   "execution_count": 1,
   "id": "673e5f7a-f032-46db-9af0-4ca203e725b3",
   "metadata": {},
   "outputs": [],
   "source": [
    "import os\n",
    "import boto3\n",
    "import pandas as pd\n",
    "import jupyter_black\n",
    "import altair as alt\n",
    "from io import BytesIO"
   ]
  },
  {
   "cell_type": "code",
   "execution_count": 2,
   "id": "0c2d2205-143f-4a7b-89f3-53f9953acf90",
   "metadata": {},
   "outputs": [
    {
     "data": {
      "text/html": [
       "\n",
       "                <script type=\"application/javascript\" id=\"jupyter_black\">\n",
       "                (function() {\n",
       "                    if (window.IPython === undefined) {\n",
       "                        return\n",
       "                    }\n",
       "                    var msg = \"WARNING: it looks like you might have loaded \" +\n",
       "                        \"jupyter_black in a non-lab notebook with \" +\n",
       "                        \"`is_lab=True`. Please double check, and if \" +\n",
       "                        \"loading with `%load_ext` please review the README!\"\n",
       "                    console.log(msg)\n",
       "                    alert(msg)\n",
       "                })()\n",
       "                </script>\n",
       "                "
      ],
      "text/plain": [
       "<IPython.core.display.HTML object>"
      ]
     },
     "metadata": {},
     "output_type": "display_data"
    }
   ],
   "source": [
    "jupyter_black.load()\n",
    "pd.options.display.max_columns = 100\n",
    "pd.options.display.max_rows = 1000\n",
    "pd.options.display.max_colwidth = None"
   ]
  },
  {
   "cell_type": "markdown",
   "id": "0f8d905a-abfb-4857-9931-af198b6269eb",
   "metadata": {},
   "source": [
    "---"
   ]
  },
  {
   "cell_type": "markdown",
   "id": "19edef7b-0fa7-47b9-ba9b-010c4e5fff40",
   "metadata": {},
   "source": [
    "## Read"
   ]
  },
  {
   "cell_type": "markdown",
   "id": "212520b6-8678-4560-b626-4872e616ef3f",
   "metadata": {},
   "source": [
    "#### Standings"
   ]
  },
  {
   "cell_type": "code",
   "execution_count": null,
   "id": "9ca2bb29-0ce5-4c95-b605-0aab076f96d9",
   "metadata": {},
   "outputs": [],
   "source": [
    "history = pd.read_parquet(\n",
    "    \"https://stilesdata.com/dodgers/data/standings/archive/dodgers_standings_1958_2023.parquet\"\n",
    ")"
   ]
  },
  {
   "cell_type": "code",
   "execution_count": null,
   "id": "6f017ae7-57da-4ba8-bc4d-8f3e652e8a2b",
   "metadata": {},
   "outputs": [],
   "source": [
    "history[[\"r\", \"ra\", \"attendance\", \"gm\", \"rank\"]] = history[\n",
    "    [\"r\", \"ra\", \"attendance\", \"gm\", \"rank\"]\n",
    "].astype(int)"
   ]
  },
  {
   "cell_type": "code",
   "execution_count": 31,
   "id": "414fc535-61fc-4d38-8d8c-26ca614b32ff",
   "metadata": {},
   "outputs": [],
   "source": [
    "history.to_parquet(\n",
    "    \"../data/standings/archive/dodgers_standings_1958_2023.parquet\", index=False\n",
    ")\n",
    "history.to_json(\n",
    "    \"../data/standings/archive/dodgers_standings_1958_2023.json\",\n",
    "    indent=4,\n",
    "    orient=\"records\",\n",
    ")\n",
    "history.to_csv(\"../data/standings/archive/dodgers_standings_1958_2023.csv\", index=False)"
   ]
  },
  {
   "cell_type": "code",
   "execution_count": null,
   "id": "bce08f66-d744-42eb-89f6-fb2a8858e570",
   "metadata": {},
   "outputs": [],
   "source": [
    "standings = pd.read_parquet(\n",
    "    \"https://stilesdata.com/dodgers/data/standings/dodgers_standings_1958_present.parquet\"\n",
    ").query(\"year == '2024'\")\n",
    "standings_past = pd.read_parquet(\n",
    "    \"https://stilesdata.com/dodgers/data/standings/dodgers_standings_1958_present.parquet\"\n",
    ").query(\"year != '2024'\")\n",
    "standings_now = standings.query(\"game_date == game_date.max()\").copy()"
   ]
  },
  {
   "cell_type": "code",
   "execution_count": 25,
   "id": "f038e5ef-3f09-4559-bfa3-ef5a79a55579",
   "metadata": {},
   "outputs": [],
   "source": [
    "standings_now.loc[standings_now.result == \"L\", \"result_clean\"] = \"loss\"\n",
    "standings_now.loc[standings_now.result == \"W\", \"result_clean\"] = \"win\""
   ]
  },
  {
   "cell_type": "code",
   "execution_count": 26,
   "id": "d1461b18-6c58-474d-816c-3f173da134a5",
   "metadata": {},
   "outputs": [
    {
     "data": {
      "text/html": [
       "<div>\n",
       "<style scoped>\n",
       "    .dataframe tbody tr th:only-of-type {\n",
       "        vertical-align: middle;\n",
       "    }\n",
       "\n",
       "    .dataframe tbody tr th {\n",
       "        vertical-align: top;\n",
       "    }\n",
       "\n",
       "    .dataframe thead th {\n",
       "        text-align: right;\n",
       "    }\n",
       "</style>\n",
       "<table border=\"1\" class=\"dataframe\">\n",
       "  <thead>\n",
       "    <tr style=\"text-align: right;\">\n",
       "      <th></th>\n",
       "      <th>gm</th>\n",
       "      <th>game_date</th>\n",
       "      <th>home_away</th>\n",
       "      <th>opp</th>\n",
       "      <th>result</th>\n",
       "      <th>r</th>\n",
       "      <th>ra</th>\n",
       "      <th>record</th>\n",
       "      <th>rank</th>\n",
       "      <th>gb</th>\n",
       "      <th>time</th>\n",
       "      <th>time_minutes</th>\n",
       "      <th>day_night</th>\n",
       "      <th>attendance</th>\n",
       "      <th>year</th>\n",
       "      <th>wins</th>\n",
       "      <th>losses</th>\n",
       "      <th>win_pct</th>\n",
       "      <th>game_day</th>\n",
       "    </tr>\n",
       "  </thead>\n",
       "  <tbody>\n",
       "    <tr>\n",
       "      <th>0</th>\n",
       "      <td>26</td>\n",
       "      <td>2024-04-24</td>\n",
       "      <td>away</td>\n",
       "      <td>WSN</td>\n",
       "      <td>W</td>\n",
       "      <td>11</td>\n",
       "      <td>2</td>\n",
       "      <td>15-11</td>\n",
       "      <td>1</td>\n",
       "      <td>1.5</td>\n",
       "      <td>2:40:00</td>\n",
       "      <td>160</td>\n",
       "      <td>N</td>\n",
       "      <td>26298</td>\n",
       "      <td>2024</td>\n",
       "      <td>15</td>\n",
       "      <td>11</td>\n",
       "      <td>0.58</td>\n",
       "      <td>Wednesday</td>\n",
       "    </tr>\n",
       "    <tr>\n",
       "      <th>1</th>\n",
       "      <td>25</td>\n",
       "      <td>2024-04-23</td>\n",
       "      <td>away</td>\n",
       "      <td>WSN</td>\n",
       "      <td>W</td>\n",
       "      <td>4</td>\n",
       "      <td>1</td>\n",
       "      <td>14-11</td>\n",
       "      <td>1</td>\n",
       "      <td>1.5</td>\n",
       "      <td>3:10:00</td>\n",
       "      <td>190</td>\n",
       "      <td>N</td>\n",
       "      <td>27806</td>\n",
       "      <td>2024</td>\n",
       "      <td>14</td>\n",
       "      <td>11</td>\n",
       "      <td>0.56</td>\n",
       "      <td>Tuesday</td>\n",
       "    </tr>\n",
       "    <tr>\n",
       "      <th>2</th>\n",
       "      <td>24</td>\n",
       "      <td>2024-04-21</td>\n",
       "      <td>home</td>\n",
       "      <td>NYM</td>\n",
       "      <td>W</td>\n",
       "      <td>10</td>\n",
       "      <td>0</td>\n",
       "      <td>13-11</td>\n",
       "      <td>1</td>\n",
       "      <td>1.0</td>\n",
       "      <td>2:18:00</td>\n",
       "      <td>138</td>\n",
       "      <td>D</td>\n",
       "      <td>49287</td>\n",
       "      <td>2024</td>\n",
       "      <td>13</td>\n",
       "      <td>11</td>\n",
       "      <td>0.54</td>\n",
       "      <td>Sunday</td>\n",
       "    </tr>\n",
       "    <tr>\n",
       "      <th>3</th>\n",
       "      <td>23</td>\n",
       "      <td>2024-04-20</td>\n",
       "      <td>home</td>\n",
       "      <td>NYM</td>\n",
       "      <td>L</td>\n",
       "      <td>4</td>\n",
       "      <td>6</td>\n",
       "      <td>12-11</td>\n",
       "      <td>1</td>\n",
       "      <td>1.0</td>\n",
       "      <td>3:20:00</td>\n",
       "      <td>200</td>\n",
       "      <td>D</td>\n",
       "      <td>45373</td>\n",
       "      <td>2024</td>\n",
       "      <td>12</td>\n",
       "      <td>11</td>\n",
       "      <td>0.52</td>\n",
       "      <td>Saturday</td>\n",
       "    </tr>\n",
       "    <tr>\n",
       "      <th>4</th>\n",
       "      <td>22</td>\n",
       "      <td>2024-04-19</td>\n",
       "      <td>home</td>\n",
       "      <td>NYM</td>\n",
       "      <td>L</td>\n",
       "      <td>4</td>\n",
       "      <td>9</td>\n",
       "      <td>12-10</td>\n",
       "      <td>1</td>\n",
       "      <td>1.0</td>\n",
       "      <td>3:03:00</td>\n",
       "      <td>183</td>\n",
       "      <td>N</td>\n",
       "      <td>44783</td>\n",
       "      <td>2024</td>\n",
       "      <td>12</td>\n",
       "      <td>10</td>\n",
       "      <td>0.55</td>\n",
       "      <td>Friday</td>\n",
       "    </tr>\n",
       "  </tbody>\n",
       "</table>\n",
       "</div>"
      ],
      "text/plain": [
       "   gm   game_date home_away  opp result   r  ra record  rank   gb     time  \\\n",
       "0  26  2024-04-24      away  WSN      W  11   2  15-11     1  1.5  2:40:00   \n",
       "1  25  2024-04-23      away  WSN      W   4   1  14-11     1  1.5  3:10:00   \n",
       "2  24  2024-04-21      home  NYM      W  10   0  13-11     1  1.0  2:18:00   \n",
       "3  23  2024-04-20      home  NYM      L   4   6  12-11     1  1.0  3:20:00   \n",
       "4  22  2024-04-19      home  NYM      L   4   9  12-10     1  1.0  3:03:00   \n",
       "\n",
       "   time_minutes day_night  attendance  year  wins  losses  win_pct   game_day  \n",
       "0           160         N       26298  2024    15      11     0.58  Wednesday  \n",
       "1           190         N       27806  2024    14      11     0.56    Tuesday  \n",
       "2           138         D       49287  2024    13      11     0.54     Sunday  \n",
       "3           200         D       45373  2024    12      11     0.52   Saturday  \n",
       "4           183         N       44783  2024    12      10     0.55     Friday  "
      ]
     },
     "execution_count": 26,
     "metadata": {},
     "output_type": "execute_result"
    }
   ],
   "source": [
    "standings.head()"
   ]
  },
  {
   "cell_type": "code",
   "execution_count": 11,
   "id": "6c067e5f-18b6-4625-b3c8-40b92004d213",
   "metadata": {},
   "outputs": [],
   "source": [
    "batting = pd.read_parquet(\n",
    "    \"https://stilesdata.com/dodgers/data/batting/dodgers_team_batting_1958_present.parquet\"\n",
    ")"
   ]
  },
  {
   "cell_type": "code",
   "execution_count": 12,
   "id": "f5c10fac-553b-4095-9e6c-b7ed27fb5de5",
   "metadata": {},
   "outputs": [],
   "source": [
    "batting_past = batting.query(\"season != '2024'\").copy()\n",
    "batting_now = batting.query(\"season == '2024'\").copy()"
   ]
  },
  {
   "cell_type": "markdown",
   "id": "0fef3097-ce6e-4bf5-b340-676132c074c2",
   "metadata": {},
   "source": [
    "---"
   ]
  },
  {
   "cell_type": "markdown",
   "id": "845588a1-1146-47c2-9693-5c589768b76d",
   "metadata": {},
   "source": [
    "## Key statistics"
   ]
  },
  {
   "cell_type": "markdown",
   "id": "a62a69a4-1df0-45a8-b048-68a0da7c026d",
   "metadata": {},
   "source": [
    "#### 1. Current season record (Wins-Losses)\n",
    "> Provides an immediate understanding of the team's overall performance for the season."
   ]
  },
  {
   "cell_type": "code",
   "execution_count": 7,
   "id": "1ee3eabe-7a40-4b40-9a23-0267f5dd1b3f",
   "metadata": {},
   "outputs": [],
   "source": [
    "games = standings_now[\"gm\"].loc[0]\n",
    "wins = standings_now[\"wins\"].loc[0]\n",
    "losses = standings_now[\"losses\"].loc[0]"
   ]
  },
  {
   "cell_type": "code",
   "execution_count": 8,
   "id": "b109904b-9039-48a1-a4c3-3e35ba205a88",
   "metadata": {},
   "outputs": [],
   "source": [
    "record = standings_now[\"record\"].loc[0]"
   ]
  },
  {
   "cell_type": "markdown",
   "id": "93c7da2d-465f-46e6-8859-86506c443a5b",
   "metadata": {},
   "source": [
    "#### 2. Win percentage\n",
    "> Allows for normalization of success to compare across different seasons or different numbers of games played."
   ]
  },
  {
   "cell_type": "code",
   "execution_count": 9,
   "id": "ff86ddce-ca29-4df1-aa5b-8275a54437fa",
   "metadata": {},
   "outputs": [],
   "source": [
    "win_pct = int(standings_now[\"win_pct\"].loc[0] * 100)\n",
    "win_pct_decade_thispoint = int(\n",
    "    standings_past.query(f\"gm == {games}\").head(10)[\"win_pct\"].mean().round(2) * 100\n",
    ")"
   ]
  },
  {
   "cell_type": "markdown",
   "id": "eaa517c6-f0f8-4ed7-8321-5049652fbd39",
   "metadata": {},
   "source": [
    "#### 3. Run differential\n",
    "> A positive run differential generally correlates with a stronger team performance and is predictive of future success."
   ]
  },
  {
   "cell_type": "code",
   "execution_count": 10,
   "id": "682b289a-2049-4dca-b548-2b715ba1f0f2",
   "metadata": {},
   "outputs": [],
   "source": [
    "runs = standings[\"r\"].sum()\n",
    "runs_against = standings[\"ra\"].sum()"
   ]
  },
  {
   "cell_type": "code",
   "execution_count": 11,
   "id": "e6677f98-6b31-48df-a88a-6e775c7b57ef",
   "metadata": {},
   "outputs": [],
   "source": [
    "run_diff = runs - runs_against"
   ]
  },
  {
   "cell_type": "markdown",
   "id": "0949aa55-2411-402b-bef0-ea297464b09b",
   "metadata": {},
   "source": [
    "#### 4. Home runs and home runs per game\n",
    "> Reflects the team's power-hitting capabilities, significant for scoring strategies."
   ]
  },
  {
   "cell_type": "code",
   "execution_count": 12,
   "id": "8f183a36-157e-44fc-aafb-f3c9d852870a",
   "metadata": {},
   "outputs": [],
   "source": [
    "batting_past[\"hr_game\"] = (\n",
    "    batting_past[\"hr\"].astype(int) / batting_past[\"g\"].astype(int)\n",
    ").round(2)"
   ]
  },
  {
   "cell_type": "code",
   "execution_count": 13,
   "id": "12211727-ff46-4ad7-95bd-1d02c2698cc9",
   "metadata": {},
   "outputs": [],
   "source": [
    "home_runs = int(batting_now[\"hr\"].sum())\n",
    "home_runs_game = (home_runs / games).round(2)\n",
    "home_runs_game_last = batting_past.query('season == \"2023\"')[\"hr_game\"].iloc[0]"
   ]
  },
  {
   "cell_type": "code",
   "execution_count": 14,
   "id": "5a8eb225-ba80-42cf-a923-8761c32604e8",
   "metadata": {},
   "outputs": [],
   "source": [
    "games_decade = batting_past.head(10)[\"g\"].astype(int).sum()\n",
    "home_runs_decade = batting_past.head(10)[\"hr\"].astype(int).sum()"
   ]
  },
  {
   "cell_type": "code",
   "execution_count": 15,
   "id": "057e4277-8a5b-4b2d-bac6-68cf0a50e0da",
   "metadata": {},
   "outputs": [],
   "source": [
    "home_runs_game_decade = (home_runs_decade / games_decade).round(2)"
   ]
  },
  {
   "cell_type": "markdown",
   "id": "38aa37af-9612-4d85-9ac8-4878c9b9e017",
   "metadata": {},
   "source": [
    "#### 5. Earned run average (ERA)\n",
    "> A key measure of pitching staff effectiveness, with a lower ERA indicating better performance."
   ]
  },
  {
   "cell_type": "markdown",
   "id": "7f20bb91-5031-4b54-8e78-a23502acdb5f",
   "metadata": {},
   "source": [
    "#### Batting average and on\n",
    "> Summarizes players' strength in getting on base — and hopefully scoring runs."
   ]
  },
  {
   "cell_type": "code",
   "execution_count": 16,
   "id": "8a881d69-e39d-4e5b-9de3-617cae18ba25",
   "metadata": {},
   "outputs": [],
   "source": [
    "batting_average = batting_now[\"ba\"].iloc[0]"
   ]
  },
  {
   "cell_type": "code",
   "execution_count": 17,
   "id": "784a04f3-fb2a-4241-8e5d-2dc153d088f9",
   "metadata": {},
   "outputs": [],
   "source": [
    "batting_average_decade = (\n",
    "    batting_past.head(10)[\"ba\"]\n",
    "    .astype(float)\n",
    "    .mean()\n",
    "    .round(3)\n",
    "    .astype(str)\n",
    "    .replace(\"0.\", \".\")\n",
    ")"
   ]
  },
  {
   "cell_type": "markdown",
   "id": "a4d1f927-54bd-4feb-ad18-1a8edcb748ff",
   "metadata": {},
   "source": [
    "#### 7. Stolen bases\n",
    "> Stolen bases can significantly impact game dynamics and indicate the team's strategic play."
   ]
  },
  {
   "cell_type": "code",
   "execution_count": 18,
   "id": "d3045cfb-8b3c-4ab2-8af9-9273523bbeed",
   "metadata": {},
   "outputs": [],
   "source": [
    "stolen_bases = int(batting_now[\"sb\"].iloc[0])\n",
    "stolen_bases_game = (stolen_bases / games).round(2)"
   ]
  },
  {
   "cell_type": "code",
   "execution_count": 19,
   "id": "c4ae9fa5-ff04-4aac-9aed-dcb72e9d373f",
   "metadata": {},
   "outputs": [],
   "source": [
    "stolen_decade = batting_past.head(10)[\"sb\"].astype(int).sum()\n",
    "games_decade = batting_past.head(10)[\"g\"].astype(int).sum()\n",
    "stolen_bases_decade_game = (stolen_decade / games_decade).round(2)"
   ]
  },
  {
   "cell_type": "markdown",
   "id": "a38ea3cb-5fd0-4ef9-8944-ea718c0b5efe",
   "metadata": {},
   "source": [
    "#### 8. Fielding percentage\n",
    "> Indicates the team's defensive capabilities, with a higher percentage reflecting better performance."
   ]
  },
  {
   "cell_type": "markdown",
   "id": "6576365d-d874-4fcf-a707-83cf650e7f5e",
   "metadata": {},
   "source": [
    "#### 9. Recent trend (last 10 games)\n",
    "> Provides insight into the team's current form and momentum, which is essential for assessing changes in performance."
   ]
  },
  {
   "cell_type": "code",
   "execution_count": 20,
   "id": "1ba0cde7-0971-4a74-9415-1b577fcaf9ea",
   "metadata": {},
   "outputs": [],
   "source": [
    "last_10 = standings[\"result\"].head(10)\n",
    "win_count_trend = last_10[last_10 == \"W\"].count()\n",
    "loss_count_trend = last_10[last_10 == \"L\"].count()"
   ]
  },
  {
   "cell_type": "code",
   "execution_count": 21,
   "id": "9df1532c-c7d5-45f3-a601-c11ba5c6c934",
   "metadata": {},
   "outputs": [],
   "source": [
    "win_loss_trend = f\"Recent trend: {win_count_trend} wins, {loss_count_trend} losses\""
   ]
  },
  {
   "cell_type": "markdown",
   "id": "8bbc0527-d423-40e9-b3ca-0acc25a30e6e",
   "metadata": {},
   "source": [
    "#### 10. Summary\n",
    "> Creates one file to import for topline statistics and a narrative summary of the standings now."
   ]
  },
  {
   "cell_type": "code",
   "execution_count": 22,
   "id": "1c49da62-45ee-4b33-9ead-7a4da1af73fa",
   "metadata": {},
   "outputs": [],
   "source": [
    "summary = f\"The Dodgers have played {games} games this season compiling a {record} record — a winning percentage of {win_pct}%. The team's last game was a {standings_now['r'].iloc[0]}-{standings_now['ra'].iloc[0]} {standings_now['home_away'].iloc[0]} {standings_now['result_clean'].iloc[0]} to the {standings_now['opp'].iloc[0]} in front of {'{:,}'.format(standings_now['attendance'].iloc[0])} fans. The team has won {win_count_trend} of its last 10 games.\""
   ]
  },
  {
   "cell_type": "code",
   "execution_count": 36,
   "id": "88beac6c-23f1-4780-8e89-8d906ebae74b",
   "metadata": {},
   "outputs": [],
   "source": [
    "summary_data = [\n",
    "    {\"stat\": \"wins\", \"value\": wins, \"category\": \"standings\"},\n",
    "    {\"stat\": \"losses\", \"value\": losses, \"category\": \"standings\"},\n",
    "    {\"stat\": \"record\", \"value\": record, \"category\": \"standings\"},\n",
    "    {\"stat\": \"win_pct\", \"value\": f\"{win_pct}%\", \"category\": \"standings\"},\n",
    "    {\n",
    "        \"stat\": \"win_pct_decade_thispoint\",\n",
    "        \"value\": f\"{win_pct_decade_thispoint}%\",\n",
    "        \"category\": \"standings\",\n",
    "    },\n",
    "    {\"stat\": \"runs\", \"value\": runs, \"category\": \"standings\"},\n",
    "    {\"stat\": \"runs_against\", \"value\": runs_against, \"category\": \"standings\"},\n",
    "    {\"stat\": \"run_differential\", \"value\": run_diff, \"category\": \"standings\"},\n",
    "    {\"stat\": \"home_runs\", \"value\": home_runs, \"category\": \"batting\"},\n",
    "    {\"stat\": \"home_runs_game\", \"value\": home_runs_game, \"category\": \"batting\"},\n",
    "    {\n",
    "        \"stat\": \"home_runs_game_last\",\n",
    "        \"value\": home_runs_game_last,\n",
    "        \"category\": \"batting\",\n",
    "    },\n",
    "    {\n",
    "        \"stat\": \"home_runs_game_decade\",\n",
    "        \"value\": home_runs_game_decade,\n",
    "        \"category\": \"batting\",\n",
    "    },\n",
    "    {\"stat\": \"stolen_bases\", \"value\": stolen_bases, \"category\": \"batting\"},\n",
    "    {\"stat\": \"stolen_bases_game\", \"value\": stolen_bases_game, \"category\": \"batting\"},\n",
    "    {\n",
    "        \"stat\": \"stolen_bases_decade_game\",\n",
    "        \"value\": stolen_bases_decade_game,\n",
    "        \"category\": \"batting\",\n",
    "    },\n",
    "    {\"stat\": \"batting_average\", \"value\": batting_average, \"category\": \"batting\"},\n",
    "    {\n",
    "        \"stat\": \"batting_average_decade\",\n",
    "        \"value\": batting_average_decade,\n",
    "        \"category\": \"batting\",\n",
    "    },\n",
    "    {\"stat\": \"summary\", \"value\": summary, \"category\": \"standings\"},\n",
    "]"
   ]
  },
  {
   "cell_type": "code",
   "execution_count": null,
   "id": "6c9ca40b-04d1-4423-b89f-83c29d3909bd",
   "metadata": {},
   "outputs": [],
   "source": [
    "summary_df = pd.DataFrame(summary_data)"
   ]
  },
  {
   "cell_type": "code",
   "execution_count": 38,
   "id": "15ee367c-5625-46a1-b82a-55f2969e1ea2",
   "metadata": {},
   "outputs": [
    {
     "data": {
      "text/html": [
       "<div>\n",
       "<style scoped>\n",
       "    .dataframe tbody tr th:only-of-type {\n",
       "        vertical-align: middle;\n",
       "    }\n",
       "\n",
       "    .dataframe tbody tr th {\n",
       "        vertical-align: top;\n",
       "    }\n",
       "\n",
       "    .dataframe thead th {\n",
       "        text-align: right;\n",
       "    }\n",
       "</style>\n",
       "<table border=\"1\" class=\"dataframe\">\n",
       "  <thead>\n",
       "    <tr style=\"text-align: right;\">\n",
       "      <th></th>\n",
       "      <th>stat</th>\n",
       "      <th>value</th>\n",
       "      <th>category</th>\n",
       "    </tr>\n",
       "  </thead>\n",
       "  <tbody>\n",
       "    <tr>\n",
       "      <th>0</th>\n",
       "      <td>wins</td>\n",
       "      <td>15</td>\n",
       "      <td>standings</td>\n",
       "    </tr>\n",
       "    <tr>\n",
       "      <th>1</th>\n",
       "      <td>losses</td>\n",
       "      <td>11</td>\n",
       "      <td>standings</td>\n",
       "    </tr>\n",
       "    <tr>\n",
       "      <th>2</th>\n",
       "      <td>record</td>\n",
       "      <td>15-11</td>\n",
       "      <td>standings</td>\n",
       "    </tr>\n",
       "    <tr>\n",
       "      <th>3</th>\n",
       "      <td>win_pct</td>\n",
       "      <td>57%</td>\n",
       "      <td>standings</td>\n",
       "    </tr>\n",
       "    <tr>\n",
       "      <th>4</th>\n",
       "      <td>win_pct_decade_thispoint</td>\n",
       "      <td>57%</td>\n",
       "      <td>standings</td>\n",
       "    </tr>\n",
       "    <tr>\n",
       "      <th>5</th>\n",
       "      <td>runs</td>\n",
       "      <td>139</td>\n",
       "      <td>standings</td>\n",
       "    </tr>\n",
       "    <tr>\n",
       "      <th>6</th>\n",
       "      <td>runs_against</td>\n",
       "      <td>112</td>\n",
       "      <td>standings</td>\n",
       "    </tr>\n",
       "    <tr>\n",
       "      <th>7</th>\n",
       "      <td>run_differential</td>\n",
       "      <td>27</td>\n",
       "      <td>standings</td>\n",
       "    </tr>\n",
       "    <tr>\n",
       "      <th>8</th>\n",
       "      <td>home_runs</td>\n",
       "      <td>30</td>\n",
       "      <td>batting</td>\n",
       "    </tr>\n",
       "    <tr>\n",
       "      <th>9</th>\n",
       "      <td>home_runs_game</td>\n",
       "      <td>1.15</td>\n",
       "      <td>batting</td>\n",
       "    </tr>\n",
       "    <tr>\n",
       "      <th>10</th>\n",
       "      <td>home_runs_game_last</td>\n",
       "      <td>1.54</td>\n",
       "      <td>batting</td>\n",
       "    </tr>\n",
       "    <tr>\n",
       "      <th>11</th>\n",
       "      <td>home_runs_game_decade</td>\n",
       "      <td>1.36</td>\n",
       "      <td>batting</td>\n",
       "    </tr>\n",
       "    <tr>\n",
       "      <th>12</th>\n",
       "      <td>stolen_bases</td>\n",
       "      <td>16</td>\n",
       "      <td>batting</td>\n",
       "    </tr>\n",
       "    <tr>\n",
       "      <th>13</th>\n",
       "      <td>stolen_bases_game</td>\n",
       "      <td>0.62</td>\n",
       "      <td>batting</td>\n",
       "    </tr>\n",
       "    <tr>\n",
       "      <th>14</th>\n",
       "      <td>stolen_bases_decade_game</td>\n",
       "      <td>0.49</td>\n",
       "      <td>batting</td>\n",
       "    </tr>\n",
       "    <tr>\n",
       "      <th>15</th>\n",
       "      <td>batting_average</td>\n",
       "      <td>.268</td>\n",
       "      <td>batting</td>\n",
       "    </tr>\n",
       "    <tr>\n",
       "      <th>16</th>\n",
       "      <td>batting_average_decade</td>\n",
       "      <td>.253</td>\n",
       "      <td>batting</td>\n",
       "    </tr>\n",
       "    <tr>\n",
       "      <th>17</th>\n",
       "      <td>summary</td>\n",
       "      <td>The Dodgers have played 26 games this season compiling a 15-11 record — a winning percentage of 57%. The team's last game was a 11-2 away win to the WSN in front of 26,298 fans. The team has won 5 of its last 10 games.</td>\n",
       "      <td>standings</td>\n",
       "    </tr>\n",
       "  </tbody>\n",
       "</table>\n",
       "</div>"
      ],
      "text/plain": [
       "                        stat  \\\n",
       "0                       wins   \n",
       "1                     losses   \n",
       "2                     record   \n",
       "3                    win_pct   \n",
       "4   win_pct_decade_thispoint   \n",
       "5                       runs   \n",
       "6               runs_against   \n",
       "7           run_differential   \n",
       "8                  home_runs   \n",
       "9             home_runs_game   \n",
       "10       home_runs_game_last   \n",
       "11     home_runs_game_decade   \n",
       "12              stolen_bases   \n",
       "13         stolen_bases_game   \n",
       "14  stolen_bases_decade_game   \n",
       "15           batting_average   \n",
       "16    batting_average_decade   \n",
       "17                   summary   \n",
       "\n",
       "                                                                                                                                                                                                                         value  \\\n",
       "0                                                                                                                                                                                                                           15   \n",
       "1                                                                                                                                                                                                                           11   \n",
       "2                                                                                                                                                                                                                        15-11   \n",
       "3                                                                                                                                                                                                                          57%   \n",
       "4                                                                                                                                                                                                                          57%   \n",
       "5                                                                                                                                                                                                                          139   \n",
       "6                                                                                                                                                                                                                          112   \n",
       "7                                                                                                                                                                                                                           27   \n",
       "8                                                                                                                                                                                                                           30   \n",
       "9                                                                                                                                                                                                                         1.15   \n",
       "10                                                                                                                                                                                                                        1.54   \n",
       "11                                                                                                                                                                                                                        1.36   \n",
       "12                                                                                                                                                                                                                          16   \n",
       "13                                                                                                                                                                                                                        0.62   \n",
       "14                                                                                                                                                                                                                        0.49   \n",
       "15                                                                                                                                                                                                                        .268   \n",
       "16                                                                                                                                                                                                                        .253   \n",
       "17  The Dodgers have played 26 games this season compiling a 15-11 record — a winning percentage of 57%. The team's last game was a 11-2 away win to the WSN in front of 26,298 fans. The team has won 5 of its last 10 games.   \n",
       "\n",
       "     category  \n",
       "0   standings  \n",
       "1   standings  \n",
       "2   standings  \n",
       "3   standings  \n",
       "4   standings  \n",
       "5   standings  \n",
       "6   standings  \n",
       "7   standings  \n",
       "8     batting  \n",
       "9     batting  \n",
       "10    batting  \n",
       "11    batting  \n",
       "12    batting  \n",
       "13    batting  \n",
       "14    batting  \n",
       "15    batting  \n",
       "16    batting  \n",
       "17  standings  "
      ]
     },
     "execution_count": 38,
     "metadata": {},
     "output_type": "execute_result"
    }
   ],
   "source": [
    "summary_df"
   ]
  },
  {
   "cell_type": "code",
   "execution_count": 25,
   "id": "b0d87159-ac96-4a31-a163-7971140955c3",
   "metadata": {},
   "outputs": [],
   "source": [
    "summary_df.to_csv(\"../data/standings/season_summary_latest.csv\", index=False)\n",
    "summary_df.to_json(\n",
    "    \"../data/standings/season_summary_latest.csv\", indent=4, orient=\"records\"\n",
    ")"
   ]
  },
  {
   "cell_type": "markdown",
   "id": "49f7797b-dca9-4e5c-b66a-f8ed01863b55",
   "metadata": {},
   "source": [
    "#### S3"
   ]
  },
  {
   "cell_type": "code",
   "execution_count": 27,
   "id": "0f5b710e-08f6-43c8-8d1d-bd33e4eac0b4",
   "metadata": {},
   "outputs": [
    {
     "name": "stdout",
     "output_type": "stream",
     "text": [
      "Uploaded csv to stilesdata.com/dodgers/data/standings/season_summary_latest.csv\n",
      "Uploaded json to stilesdata.com/dodgers/data/standings/season_summary_latest.json\n"
     ]
    }
   ],
   "source": [
    "def save_to_s3(df, base_path, s3_bucket, formats=[\"csv\", \"json\"]):\n",
    "    \"\"\"\n",
    "    Save Pandas DataFrame in specified formats and upload to S3 bucket using environment credentials.\n",
    "\n",
    "    :param df: DataFrame to save.\n",
    "    :param base_path: Base file path without format extension.\n",
    "    :param s3_bucket: S3 bucket name.\n",
    "    :param formats: List of formats to save -- 'csv', 'json'.\n",
    "    \"\"\"\n",
    "    # Create session using environment variables directly\n",
    "    session = boto3.Session(\n",
    "        aws_access_key_id=os.getenv(\"AWS_ACCESS_KEY_ID\"),\n",
    "        aws_secret_access_key=os.getenv(\"AWS_SECRET_ACCESS_KEY\"),\n",
    "        region_name=\"us-west-1\",\n",
    "        profile_name=\"haekeo\",\n",
    "    )\n",
    "    s3_resource = session.resource(\"s3\")\n",
    "\n",
    "    for fmt in formats:\n",
    "        file_path = f\"{base_path}.{fmt}\"\n",
    "        buffer = BytesIO()\n",
    "        if fmt == \"csv\":\n",
    "            df.to_csv(buffer, index=False)\n",
    "            content_type = \"text/csv\"\n",
    "        elif fmt == \"json\":\n",
    "            df.to_json(buffer, orient=\"records\", lines=True)\n",
    "            content_type = \"application/json\"\n",
    "\n",
    "        buffer.seek(0)\n",
    "        s3_resource.Bucket(s3_bucket).put_object(\n",
    "            Key=file_path, Body=buffer, ContentType=content_type\n",
    "        )\n",
    "        print(f\"Uploaded {fmt} to {s3_bucket}/{file_path}\")\n",
    "\n",
    "\n",
    "# Save to S3\n",
    "save_to_s3(\n",
    "    summary_df,\n",
    "    \"dodgers/data/standings/season_summary_latest\",\n",
    "    \"stilesdata.com\",\n",
    ")"
   ]
  },
  {
   "cell_type": "code",
   "execution_count": null,
   "id": "e4522d64-5740-4f9a-882e-2d219e321394",
   "metadata": {},
   "outputs": [],
   "source": [
    "# !jupyter nbconvert --to script --no-prompt --output ../scripts/06-create-toplines-summary 07-create-toplines-summary.ipynb"
   ]
  },
  {
   "cell_type": "code",
   "execution_count": 33,
   "id": "6e8bef2e-bea8-4947-a167-d3b0057aa7bf",
   "metadata": {},
   "outputs": [
    {
     "data": {
      "text/plain": [
       "stat          object\n",
       "stat_value    object\n",
       "category      object\n",
       "dtype: object"
      ]
     },
     "execution_count": 33,
     "metadata": {},
     "output_type": "execute_result"
    }
   ],
   "source": [
    "summary_df.dtypes"
   ]
  },
  {
   "cell_type": "code",
   "execution_count": null,
   "id": "0f764f44-25d6-44f0-91df-644527b0408a",
   "metadata": {},
   "outputs": [],
   "source": []
  },
  {
   "cell_type": "code",
   "execution_count": null,
   "id": "4ba2477a-e333-47b7-862c-e750027792cb",
   "metadata": {},
   "outputs": [],
   "source": []
  }
 ],
 "metadata": {
  "kernelspec": {
   "display_name": "Python 3 (ipykernel)",
   "language": "python",
   "name": "python3"
  },
  "language_info": {
   "codemirror_mode": {
    "name": "ipython",
    "version": 3
   },
   "file_extension": ".py",
   "mimetype": "text/x-python",
   "name": "python",
   "nbconvert_exporter": "python",
   "pygments_lexer": "ipython3",
   "version": "3.9.15"
  }
 },
 "nbformat": 4,
 "nbformat_minor": 5
}
