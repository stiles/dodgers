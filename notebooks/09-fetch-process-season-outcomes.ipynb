{
 "cells": [
  {
   "cell_type": "markdown",
   "id": "77ab12ec-6a2c-4fd8-8b1a-45b8e69448cb",
   "metadata": {},
   "source": [
    "# LA Dodgers season outcomes\n",
    "> This notebook downloads the team's past season outcomes table from [Baseball Reference](https://www.baseball-reference.com/teams/LAD/) and outputs the data to CSV, JSON and Parquet formats for later analysis and visualization."
   ]
  },
  {
   "cell_type": "markdown",
   "id": "277c96d0-48d1-4944-8f3d-369979dbae0c",
   "metadata": {},
   "source": [
    "---"
   ]
  },
  {
   "cell_type": "code",
   "execution_count": 1,
   "id": "27cdbea4-067e-40fe-8a0e-52d79145a835",
   "metadata": {},
   "outputs": [],
   "source": [
    "import os\n",
    "import boto3\n",
    "import pandas as pd\n",
    "from io import BytesIO\n",
    "from io import StringIO"
   ]
  },
  {
   "cell_type": "code",
   "execution_count": 2,
   "id": "4fec1b45-6a7b-4ca8-adbd-fb3e5a2da04b",
   "metadata": {
    "tags": []
   },
   "outputs": [],
   "source": [
    "pd.options.display.max_columns = 100\n",
    "pd.options.display.max_rows = 1000\n",
    "pd.options.display.max_colwidth = None\n",
    "aws_key_id = os.environ.get(\"AWS_ACCESS_KEY_ID\")\n",
    "aws_secret_key = os.environ.get(\"AWS_SECRET_ACCESS_KEY\")"
   ]
  },
  {
   "cell_type": "code",
   "execution_count": 3,
   "id": "f080d6c8-8d63-465f-9737-4aa71bc7a411",
   "metadata": {},
   "outputs": [
    {
     "data": {
      "text/plain": [
       "Session(region_name='us-west-1')"
      ]
     },
     "execution_count": 3,
     "metadata": {},
     "output_type": "execute_result"
    }
   ],
   "source": [
    "boto3.Session(\n",
    "    aws_access_key_id=aws_key_id,\n",
    "    aws_secret_access_key=aws_secret_key,\n",
    "    region_name=\"us-west-1\",\n",
    ")"
   ]
  },
  {
   "cell_type": "code",
   "execution_count": 4,
   "id": "2122b3cd-0132-4048-8db9-a6b001cd88af",
   "metadata": {},
   "outputs": [],
   "source": [
    "year = pd.to_datetime(\"now\").strftime(\"%Y\")"
   ]
  },
  {
   "cell_type": "code",
   "execution_count": 5,
   "id": "8e2aae33-77ab-4eff-8138-0b320c0aa38f",
   "metadata": {},
   "outputs": [
    {
     "data": {
      "text/plain": [
       "'\\nFetch\\n'"
      ]
     },
     "execution_count": 5,
     "metadata": {},
     "output_type": "execute_result"
    }
   ],
   "source": [
    "\"\"\"\n",
    "Fetch\n",
    "\"\"\""
   ]
  },
  {
   "cell_type": "code",
   "execution_count": 6,
   "id": "0b5ed1cf-7d96-4b36-9b91-ceaecb117115",
   "metadata": {},
   "outputs": [],
   "source": [
    "url = f\"https://www.baseball-reference.com/teams/LAD/\""
   ]
  },
  {
   "cell_type": "code",
   "execution_count": 7,
   "id": "4496747a-45e3-4d12-9dbb-f2e9cb03347e",
   "metadata": {},
   "outputs": [],
   "source": [
    "# Get table with season results\n",
    "history_df = pd.read_html(url)[0]"
   ]
  },
  {
   "cell_type": "code",
   "execution_count": 8,
   "id": "d41d4697-3b1a-456a-9989-e4f0e8b883be",
   "metadata": {},
   "outputs": [],
   "source": [
    "history_df.columns = [\n",
    "    \"year\",\n",
    "    \"team\",\n",
    "    \"league\",\n",
    "    \"games\",\n",
    "    \"wins\",\n",
    "    \"losses\",\n",
    "    \"ties\",\n",
    "    \"win_pct\",\n",
    "    \"drop\",\n",
    "    \"finish\",\n",
    "    \"games_back\",\n",
    "    \"playoffs\",\n",
    "    \"runs\",\n",
    "    \"runs_allowed\",\n",
    "    \"attendance\",\n",
    "    \"batter_age\",\n",
    "    \"pitcher_age\",\n",
    "    \"players_used\",\n",
    "    \"pitchers_used\",\n",
    "    \"top_player\",\n",
    "    \"manager\",\n",
    "]"
   ]
  },
  {
   "cell_type": "code",
   "execution_count": 9,
   "id": "00220093-65c0-4ee4-b31a-d851b3ed3fec",
   "metadata": {},
   "outputs": [],
   "source": [
    "# Split, reuse playoffs column\n",
    "history_df[\"playoff_record\"] = (\n",
    "    history_df[\"playoffs\"].str.split(\"(\", expand=True)[1].str.replace(\")\", \"\")\n",
    ")\n",
    "history_df[\"playoffs\"] = (\n",
    "    history_df[\"playoffs\"].str.split(\"(\", expand=True)[0].fillna(\"\")\n",
    ").str.strip()"
   ]
  },
  {
   "cell_type": "code",
   "execution_count": 10,
   "id": "2d62bfe9-a756-477b-99d2-1ac442e66291",
   "metadata": {},
   "outputs": [],
   "source": [
    "# Results\n",
    "history_df[\"games_back\"] = history_df[\"games_back\"].str.replace(\"--\", \"0\").astype(float)\n",
    "history_df[\"league_place\"] = history_df[\"finish\"].str.split(\" of \", expand=True)[0]"
   ]
  },
  {
   "cell_type": "code",
   "execution_count": 11,
   "id": "e6f41889-26b3-49c2-afb2-dbf3b067c24d",
   "metadata": {},
   "outputs": [],
   "source": [
    "# Just the columns we need\n",
    "history_df = history_df.drop(\n",
    "    [\n",
    "        \"team\",\n",
    "        \"drop\",\n",
    "        \"league\",\n",
    "        \"pitchers_used\",\n",
    "        \"players_used\",\n",
    "        \"top_player\",\n",
    "        \"manager\",\n",
    "        \"playoff_record\",\n",
    "    ],\n",
    "    axis=1,\n",
    ").query(\"year > 1957\")"
   ]
  },
  {
   "cell_type": "code",
   "execution_count": 12,
   "id": "1d381aad-655d-4df3-abbb-ef87806b5fef",
   "metadata": {},
   "outputs": [
    {
     "data": {
      "text/plain": [
       "' \\nEXPORT\\n'"
      ]
     },
     "execution_count": 12,
     "metadata": {},
     "output_type": "execute_result"
    }
   ],
   "source": [
    "\"\"\" \n",
    "EXPORT\n",
    "\"\"\""
   ]
  },
  {
   "cell_type": "code",
   "execution_count": 13,
   "id": "def3ffac-6939-429b-8e39-b9ad2c43ae41",
   "metadata": {},
   "outputs": [],
   "source": [
    "# Function to save dataframes with different formats and file extensions\n",
    "def save_dataframe(df, path_without_extension, formats):\n",
    "    \"\"\"\n",
    "    Save DataFrames in multiple formats.\n",
    "    \"\"\"\n",
    "    for file_format in formats:\n",
    "        if file_format == \"csv\":\n",
    "            df.to_csv(f\"{path_without_extension}.{file_format}\", index=False)\n",
    "        elif file_format == \"json\":\n",
    "            df.to_json(\n",
    "                f\"{path_without_extension}.{file_format}\", indent=4, orient=\"records\"\n",
    "            )\n",
    "        elif file_format == \"parquet\":\n",
    "            df.to_parquet(f\"{path_without_extension}.{file_format}\", index=False)\n",
    "        else:\n",
    "            print(f\"Unsupported format: {file_format}\")"
   ]
  },
  {
   "cell_type": "code",
   "execution_count": 14,
   "id": "256c4633-85b2-4080-b78e-bc33dae022cb",
   "metadata": {},
   "outputs": [],
   "source": [
    "# Save local files\n",
    "formats = [\"csv\", \"json\", \"parquet\"]\n",
    "save_dataframe(history_df, f\"../data/standings/dodgers_season_outcomes\", formats)"
   ]
  },
  {
   "cell_type": "code",
   "execution_count": 15,
   "id": "f252bef4",
   "metadata": {},
   "outputs": [],
   "source": [
    "# Function to export to s3 in various formats\n",
    "def save_to_s3(\n",
    "    df, base_path, s3_bucket, formats=[\"csv\", \"json\", \"parquet\"], profile_name=\"default\"\n",
    "):\n",
    "    \"\"\"\n",
    "    Save Pandas DataFrame in specified formats and upload to S3 bucket using a specified AWS profile.\n",
    "\n",
    "    :param df: DataFrame to save.\n",
    "    :param base_path: Base file path without format extension.\n",
    "    :param s3_bucket: S3 bucket name.\n",
    "    :param formats: List of formats to save -- 'csv', 'json', 'parquet'.\n",
    "    :param profile_name: AWS CLI profile name to use for credentials.\n",
    "    \"\"\"\n",
    "    session = boto3.Session(profile_name=profile_name)\n",
    "    s3_resource = session.resource(\"s3\")\n",
    "\n",
    "    for fmt in formats:\n",
    "        file_path = f\"{base_path}.{fmt}\"\n",
    "        if fmt == \"csv\":\n",
    "            buffer = BytesIO()\n",
    "            df.to_csv(buffer, index=False)\n",
    "            content_type = \"text/csv\"\n",
    "        elif fmt == \"json\":\n",
    "            buffer = BytesIO()\n",
    "            df.to_json(buffer, orient=\"records\", lines=True)\n",
    "            content_type = \"application/json\"\n",
    "        elif fmt == \"parquet\":\n",
    "            buffer = BytesIO()\n",
    "            df.to_parquet(buffer, index=False)\n",
    "            content_type = \"application/octet-stream\"\n",
    "\n",
    "        buffer.seek(0)\n",
    "        s3_resource.Bucket(s3_bucket).put_object(\n",
    "            Key=file_path, Body=buffer, ContentType=content_type\n",
    "        )\n",
    "        print(f\"Uploaded {fmt} to {s3_bucket}/{file_path}\")"
   ]
  },
  {
   "cell_type": "code",
   "execution_count": 16,
   "id": "20a48d05",
   "metadata": {},
   "outputs": [
    {
     "name": "stdout",
     "output_type": "stream",
     "text": [
      "Uploaded csv to stilesdata.com/dodgers/data/standings/dodgers_season_outcomes.csv\n",
      "Uploaded json to stilesdata.com/dodgers/data/standings/dodgers_season_outcomes.json\n",
      "Uploaded parquet to stilesdata.com/dodgers/data/standings/dodgers_season_outcomes.parquet\n"
     ]
    }
   ],
   "source": [
    "# Save to S3\n",
    "save_to_s3(\n",
    "    history_df,\n",
    "    \"dodgers/data/standings/dodgers_season_outcomes\",\n",
    "    \"stilesdata.com\",\n",
    "    profile_name=\"haekeo\",\n",
    ")"
   ]
  },
  {
   "cell_type": "code",
   "execution_count": 17,
   "id": "d9fd5c3f",
   "metadata": {},
   "outputs": [
    {
     "name": "stdout",
     "output_type": "stream",
     "text": [
      "[NbConvertApp] Converting notebook 09-fetch-process-season-outcomes.ipynb to script\n",
      "[NbConvertApp] Writing 4581 bytes to ../scripts/07-fetch-process-season-outcomes.py\n"
     ]
    }
   ],
   "source": [
    "# Save a copy of notebook as a python script\n",
    "!jupyter nbconvert --to script --no-prompt --output ../scripts/07-fetch-process-season-outcomes 09-fetch-process-season-outcomes.ipynb"
   ]
  }
 ],
 "metadata": {
  "kernelspec": {
   "display_name": "Python 3 (ipykernel)",
   "language": "python",
   "name": "python3"
  },
  "language_info": {
   "codemirror_mode": {
    "name": "ipython",
    "version": 3
   },
   "file_extension": ".py",
   "mimetype": "text/x-python",
   "name": "python",
   "nbconvert_exporter": "python",
   "pygments_lexer": "ipython3",
   "version": "3.9.15"
  }
 },
 "nbformat": 4,
 "nbformat_minor": 5
}
