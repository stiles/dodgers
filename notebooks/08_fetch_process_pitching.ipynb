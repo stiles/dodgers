{
 "cells": [
  {
   "cell_type": "markdown",
   "id": "77ab12ec-6a2c-4fd8-8b1a-45b8e69448cb",
   "metadata": {},
   "source": [
    "# LA Dodgers pitching\n",
    "> This notebook downloads the team's current pitching table from [Baseball Reference](https://www.baseball-reference.com/teams/LAD/2024-pitching.shtml#all_team_pitching) and outputs the data to CSV, JSON and Parquet formats for later analysis and visualization."
   ]
  },
  {
   "cell_type": "markdown",
   "id": "277c96d0-48d1-4944-8f3d-369979dbae0c",
   "metadata": {},
   "source": [
    "---"
   ]
  },
  {
   "cell_type": "markdown",
   "id": "b26f152f-1b2c-4231-9752-4ecbe64c4e6a",
   "metadata": {},
   "source": [
    "#### Import Python tools and Jupyter config"
   ]
  },
  {
   "cell_type": "code",
   "execution_count": 1,
   "id": "27cdbea4-067e-40fe-8a0e-52d79145a835",
   "metadata": {},
   "outputs": [],
   "source": [
    "import os\n",
    "import boto3\n",
    "import pandas as pd\n",
    "import jupyter_black\n",
    "from io import BytesIO\n",
    "from io import StringIO\n",
    "from tqdm.notebook import tqdm"
   ]
  },
  {
   "cell_type": "code",
   "execution_count": 2,
   "id": "4fec1b45-6a7b-4ca8-adbd-fb3e5a2da04b",
   "metadata": {
    "tags": []
   },
   "outputs": [
    {
     "data": {
      "text/html": [
       "\n",
       "                <script type=\"application/javascript\" id=\"jupyter_black\">\n",
       "                (function() {\n",
       "                    if (window.IPython === undefined) {\n",
       "                        return\n",
       "                    }\n",
       "                    var msg = \"WARNING: it looks like you might have loaded \" +\n",
       "                        \"jupyter_black in a non-lab notebook with \" +\n",
       "                        \"`is_lab=True`. Please double check, and if \" +\n",
       "                        \"loading with `%load_ext` please review the README!\"\n",
       "                    console.log(msg)\n",
       "                    alert(msg)\n",
       "                })()\n",
       "                </script>\n",
       "                "
      ],
      "text/plain": [
       "<IPython.core.display.HTML object>"
      ]
     },
     "metadata": {},
     "output_type": "display_data"
    }
   ],
   "source": [
    "jupyter_black.load()\n",
    "pd.options.display.max_columns = 100\n",
    "pd.options.display.max_rows = 1000\n",
    "pd.options.display.max_colwidth = None\n",
    "aws_key_id = os.environ.get(\"HAEKEO_AWS_KEY\")\n",
    "aws_secret_key = os.environ.get(\"HAEKEO_AWS_SECRET\")"
   ]
  },
  {
   "cell_type": "code",
   "execution_count": 3,
   "id": "61ab965c",
   "metadata": {},
   "outputs": [
    {
     "data": {
      "text/plain": [
       "Session(region_name='us-west-1')"
      ]
     },
     "execution_count": 3,
     "metadata": {},
     "output_type": "execute_result"
    }
   ],
   "source": [
    "boto3.Session(\n",
    "    aws_access_key_id=aws_key_id,\n",
    "    aws_secret_access_key=aws_secret_key,\n",
    "    region_name=\"us-west-1\",\n",
    ")"
   ]
  },
  {
   "cell_type": "markdown",
   "id": "fd4c08bc-ce9c-49b0-af2e-877593871769",
   "metadata": {},
   "source": [
    "---"
   ]
  },
  {
   "cell_type": "markdown",
   "id": "0028268b-647d-46db-8dbf-2f3ccf9a0651",
   "metadata": {},
   "source": [
    "## Fetch"
   ]
  },
  {
   "cell_type": "markdown",
   "id": "0e88ea7b-767d-4d28-9c05-0ad7e3cb61c7",
   "metadata": {},
   "source": [
    "#### Pitching for the current season"
   ]
  },
  {
   "cell_type": "code",
   "execution_count": 4,
   "id": "7f3c83de-1386-4758-acda-5c98973b6d73",
   "metadata": {
    "tags": []
   },
   "outputs": [],
   "source": [
    "year = pd.to_datetime(\"now\").strftime(\"%Y\")"
   ]
  },
  {
   "cell_type": "code",
   "execution_count": 5,
   "id": "0b5ed1cf-7d96-4b36-9b91-ceaecb117115",
   "metadata": {},
   "outputs": [],
   "source": [
    "url = f\"https://www.baseball-reference.com/teams/LAD/{year}-pitching.shtml#all_team_pitching\""
   ]
  },
  {
   "cell_type": "markdown",
   "id": "4d7cfda6-e76a-44d6-91a6-7301b414963f",
   "metadata": {},
   "source": [
    "---"
   ]
  },
  {
   "cell_type": "markdown",
   "id": "8011dbe7-79a1-4d3d-b723-ac21a0026b8f",
   "metadata": {},
   "source": [
    "## Team stats"
   ]
  },
  {
   "cell_type": "code",
   "execution_count": 6,
   "id": "35520ec0-949e-4ed6-93e0-f53da6ac7fe8",
   "metadata": {},
   "outputs": [],
   "source": [
    "summary_df = (\n",
    "    pd.read_html(url)[0]\n",
    "    .query(f\"Rk.isna() and Rk != 'Rk'\")\n",
    "    .dropna(thresh=7)\n",
    "    .assign(season=year)\n",
    ")\n",
    "summary_df.columns = summary_df.columns.str.lower()"
   ]
  },
  {
   "cell_type": "markdown",
   "id": "c3a40cf0-0d18-473f-b8f1-907b5f0d3a62",
   "metadata": {},
   "source": [
    "#### Ranks"
   ]
  },
  {
   "cell_type": "code",
   "execution_count": 7,
   "id": "dceb4219-9830-4853-be24-ff773ca96873",
   "metadata": {},
   "outputs": [],
   "source": [
    "ranks = (\n",
    "    summary_df.query('name == \"Rank in 15 NL teams\"')\n",
    "    .dropna(axis=1)\n",
    "    .reset_index(drop=True)\n",
    ").copy()"
   ]
  },
  {
   "cell_type": "markdown",
   "id": "14478343-0649-4c56-95ed-6e46b80c082c",
   "metadata": {},
   "source": [
    "#### Totals"
   ]
  },
  {
   "cell_type": "code",
   "execution_count": 8,
   "id": "40d8b7a3-919c-4415-a9b0-86f6a920e6dd",
   "metadata": {},
   "outputs": [],
   "source": [
    "totals = (\n",
    "    summary_df.query('name == \"Team Totals\"')\n",
    "    .dropna(axis=1)\n",
    "    .reset_index(drop=True)\n",
    "    .copy()\n",
    ")"
   ]
  },
  {
   "cell_type": "code",
   "execution_count": 9,
   "id": "64779aad-427f-4269-bf03-953fef08e3a2",
   "metadata": {},
   "outputs": [
    {
     "data": {
      "text/plain": [
       "'1'"
      ]
     },
     "execution_count": 9,
     "metadata": {},
     "output_type": "execute_result"
    }
   ],
   "source": [
    "ranks[\"era\"].iloc[0]"
   ]
  },
  {
   "cell_type": "code",
   "execution_count": 10,
   "id": "5669920d-3207-43d8-977e-47cf73a6cbbf",
   "metadata": {},
   "outputs": [
    {
     "data": {
      "text/plain": [
       "'3.16'"
      ]
     },
     "execution_count": 10,
     "metadata": {},
     "output_type": "execute_result"
    }
   ],
   "source": [
    "totals[\"era\"].iloc[0]"
   ]
  },
  {
   "cell_type": "code",
   "execution_count": 11,
   "id": "e5748eb8-264c-413a-ae44-5c9a7a14f8db",
   "metadata": {},
   "outputs": [
    {
     "data": {
      "text/html": [
       "<div>\n",
       "<style scoped>\n",
       "    .dataframe tbody tr th:only-of-type {\n",
       "        vertical-align: middle;\n",
       "    }\n",
       "\n",
       "    .dataframe tbody tr th {\n",
       "        vertical-align: top;\n",
       "    }\n",
       "\n",
       "    .dataframe thead th {\n",
       "        text-align: right;\n",
       "    }\n",
       "</style>\n",
       "<table border=\"1\" class=\"dataframe\">\n",
       "  <thead>\n",
       "    <tr style=\"text-align: right;\">\n",
       "      <th></th>\n",
       "      <th>rk</th>\n",
       "      <th>pos</th>\n",
       "      <th>name</th>\n",
       "      <th>age</th>\n",
       "      <th>w</th>\n",
       "      <th>l</th>\n",
       "      <th>w-l%</th>\n",
       "      <th>era</th>\n",
       "      <th>g</th>\n",
       "      <th>gs</th>\n",
       "      <th>gf</th>\n",
       "      <th>cg</th>\n",
       "      <th>sho</th>\n",
       "      <th>sv</th>\n",
       "      <th>ip</th>\n",
       "      <th>h</th>\n",
       "      <th>r</th>\n",
       "      <th>er</th>\n",
       "      <th>hr</th>\n",
       "      <th>bb</th>\n",
       "      <th>ibb</th>\n",
       "      <th>so</th>\n",
       "      <th>hbp</th>\n",
       "      <th>bk</th>\n",
       "      <th>wp</th>\n",
       "      <th>bf</th>\n",
       "      <th>era+</th>\n",
       "      <th>fip</th>\n",
       "      <th>whip</th>\n",
       "      <th>h9</th>\n",
       "      <th>hr9</th>\n",
       "      <th>bb9</th>\n",
       "      <th>so9</th>\n",
       "      <th>so/w</th>\n",
       "      <th>season</th>\n",
       "    </tr>\n",
       "  </thead>\n",
       "  <tbody>\n",
       "    <tr>\n",
       "      <th>25</th>\n",
       "      <td>NaN</td>\n",
       "      <td>NaN</td>\n",
       "      <td>Team Totals</td>\n",
       "      <td>29.5</td>\n",
       "      <td>29</td>\n",
       "      <td>15</td>\n",
       "      <td>.659</td>\n",
       "      <td>3.16</td>\n",
       "      <td>44</td>\n",
       "      <td>44</td>\n",
       "      <td>44</td>\n",
       "      <td>0</td>\n",
       "      <td>0</td>\n",
       "      <td>14</td>\n",
       "      <td>396.1</td>\n",
       "      <td>307</td>\n",
       "      <td>152</td>\n",
       "      <td>139</td>\n",
       "      <td>44</td>\n",
       "      <td>131</td>\n",
       "      <td>4</td>\n",
       "      <td>368</td>\n",
       "      <td>18</td>\n",
       "      <td>1</td>\n",
       "      <td>18</td>\n",
       "      <td>1609</td>\n",
       "      <td>131</td>\n",
       "      <td>3.85</td>\n",
       "      <td>1.105</td>\n",
       "      <td>7.0</td>\n",
       "      <td>1.0</td>\n",
       "      <td>3.0</td>\n",
       "      <td>8.4</td>\n",
       "      <td>2.81</td>\n",
       "      <td>2024</td>\n",
       "    </tr>\n",
       "    <tr>\n",
       "      <th>26</th>\n",
       "      <td>NaN</td>\n",
       "      <td>NaN</td>\n",
       "      <td>Rank in 15 NL teams</td>\n",
       "      <td>NaN</td>\n",
       "      <td>2</td>\n",
       "      <td>13</td>\n",
       "      <td>NaN</td>\n",
       "      <td>1</td>\n",
       "      <td>NaN</td>\n",
       "      <td>NaN</td>\n",
       "      <td>NaN</td>\n",
       "      <td>4</td>\n",
       "      <td>4</td>\n",
       "      <td>2</td>\n",
       "      <td>2</td>\n",
       "      <td>3</td>\n",
       "      <td>2</td>\n",
       "      <td>3</td>\n",
       "      <td>7</td>\n",
       "      <td>5</td>\n",
       "      <td>NaN</td>\n",
       "      <td>6</td>\n",
       "      <td>NaN</td>\n",
       "      <td>NaN</td>\n",
       "      <td>NaN</td>\n",
       "      <td>NaN</td>\n",
       "      <td>NaN</td>\n",
       "      <td>NaN</td>\n",
       "      <td>NaN</td>\n",
       "      <td>NaN</td>\n",
       "      <td>NaN</td>\n",
       "      <td>NaN</td>\n",
       "      <td>NaN</td>\n",
       "      <td>NaN</td>\n",
       "      <td>2024</td>\n",
       "    </tr>\n",
       "  </tbody>\n",
       "</table>\n",
       "</div>"
      ],
      "text/plain": [
       "     rk  pos                 name   age   w   l  w-l%   era    g   gs   gf cg  \\\n",
       "25  NaN  NaN          Team Totals  29.5  29  15  .659  3.16   44   44   44  0   \n",
       "26  NaN  NaN  Rank in 15 NL teams   NaN   2  13   NaN     1  NaN  NaN  NaN  4   \n",
       "\n",
       "   sho  sv     ip    h    r   er  hr   bb  ibb   so  hbp   bk   wp    bf era+  \\\n",
       "25   0  14  396.1  307  152  139  44  131    4  368   18    1   18  1609  131   \n",
       "26   4   2      2    3    2    3   7    5  NaN    6  NaN  NaN  NaN   NaN  NaN   \n",
       "\n",
       "     fip   whip   h9  hr9  bb9  so9  so/w season  \n",
       "25  3.85  1.105  7.0  1.0  3.0  8.4  2.81   2024  \n",
       "26   NaN    NaN  NaN  NaN  NaN  NaN   NaN   2024  "
      ]
     },
     "execution_count": 11,
     "metadata": {},
     "output_type": "execute_result"
    }
   ],
   "source": [
    "summary_df.head()"
   ]
  },
  {
   "cell_type": "markdown",
   "id": "a0f0044e-be97-474c-8d62-30eda2fc5e6b",
   "metadata": {},
   "source": [
    "---"
   ]
  },
  {
   "cell_type": "markdown",
   "id": "4c5ade52-998c-4224-a19f-e9fbf1584ac0",
   "metadata": {},
   "source": [
    "## Export"
   ]
  },
  {
   "cell_type": "markdown",
   "id": "7fe096c2-9081-42ac-8453-cda66c8ae8d0",
   "metadata": {},
   "source": [
    "#### Function to save dataframes with different formats and file extensions"
   ]
  },
  {
   "cell_type": "code",
   "execution_count": 12,
   "id": "def3ffac-6939-429b-8e39-b9ad2c43ae41",
   "metadata": {},
   "outputs": [],
   "source": [
    "def save_dataframe(df, path_without_extension, formats):\n",
    "    \"\"\"\n",
    "    Save DataFrames in multiple formats.\n",
    "    \"\"\"\n",
    "    for file_format in formats:\n",
    "        if file_format == \"csv\":\n",
    "            df.to_csv(f\"{path_without_extension}.{file_format}\", index=False)\n",
    "        elif file_format == \"json\":\n",
    "            df.to_json(\n",
    "                f\"{path_without_extension}.{file_format}\", indent=4, orient=\"records\"\n",
    "            )\n",
    "        elif file_format == \"parquet\":\n",
    "            df.to_parquet(f\"{path_without_extension}.{file_format}\", index=False)\n",
    "        else:\n",
    "            print(f\"Unsupported format: {file_format}\")"
   ]
  },
  {
   "cell_type": "markdown",
   "id": "fce14232-fdb0-47d9-ad32-8c57870a96a8",
   "metadata": {},
   "source": [
    "#### Save local files"
   ]
  },
  {
   "cell_type": "code",
   "execution_count": 13,
   "id": "256c4633-85b2-4080-b78e-bc33dae022cb",
   "metadata": {},
   "outputs": [],
   "source": [
    "formats = [\"csv\", \"json\", \"parquet\"]\n",
    "save_dataframe(totals, f\"../data/pitching/dodgers_pitching_totals_current\", formats)\n",
    "save_dataframe(\n",
    "    ranks,\n",
    "    f\"../data/pitching/dodgers_pitching_ranks_current\",\n",
    "    formats,\n",
    ")"
   ]
  },
  {
   "cell_type": "code",
   "execution_count": 14,
   "id": "f252bef4",
   "metadata": {},
   "outputs": [],
   "source": [
    "def save_to_s3(\n",
    "    df, base_path, s3_bucket, formats=[\"csv\", \"json\", \"parquet\"], profile_name=\"default\"\n",
    "):\n",
    "    \"\"\"\n",
    "    Save Pandas DataFrame in specified formats and upload to S3 bucket using a specified AWS profile.\n",
    "\n",
    "    :param df: DataFrame to save.\n",
    "    :param base_path: Base file path without format extension.\n",
    "    :param s3_bucket: S3 bucket name.\n",
    "    :param formats: List of formats to save -- 'csv', 'json', 'parquet'.\n",
    "    :param profile_name: AWS CLI profile name to use for credentials.\n",
    "    \"\"\"\n",
    "    session = boto3.Session(profile_name=profile_name)\n",
    "    s3_resource = session.resource(\"s3\")\n",
    "\n",
    "    for fmt in formats:\n",
    "        file_path = f\"{base_path}.{fmt}\"\n",
    "        if fmt == \"csv\":\n",
    "            buffer = BytesIO()\n",
    "            df.to_csv(buffer, index=False)\n",
    "            content_type = \"text/csv\"\n",
    "        elif fmt == \"json\":\n",
    "            buffer = BytesIO()\n",
    "            df.to_json(buffer, orient=\"records\", lines=True)\n",
    "            content_type = \"application/json\"\n",
    "        elif fmt == \"parquet\":\n",
    "            buffer = BytesIO()\n",
    "            df.to_parquet(buffer, index=False)\n",
    "            content_type = \"application/octet-stream\"\n",
    "\n",
    "        buffer.seek(0)\n",
    "        s3_resource.Bucket(s3_bucket).put_object(\n",
    "            Key=file_path, Body=buffer, ContentType=content_type\n",
    "        )\n",
    "        print(f\"Uploaded {fmt} to {s3_bucket}/{file_path}\")"
   ]
  },
  {
   "cell_type": "code",
   "execution_count": 15,
   "id": "20a48d05",
   "metadata": {},
   "outputs": [
    {
     "name": "stdout",
     "output_type": "stream",
     "text": [
      "Uploaded csv to stilesdata.com/dodgers/data/pitching/dodgers_pitching_totals_current.csv\n",
      "Uploaded json to stilesdata.com/dodgers/data/pitching/dodgers_pitching_totals_current.json\n",
      "Uploaded parquet to stilesdata.com/dodgers/data/pitching/dodgers_pitching_totals_current.parquet\n",
      "Uploaded csv to stilesdata.com/dodgers/data/pitching/dodgers_pitching_ranks_current.csv\n",
      "Uploaded json to stilesdata.com/dodgers/data/pitching/dodgers_pitching_ranks_current.json\n",
      "Uploaded parquet to stilesdata.com/dodgers/data/pitching/dodgers_pitching_ranks_current.parquet\n"
     ]
    }
   ],
   "source": [
    "# Save to S3\n",
    "save_to_s3(\n",
    "    totals,\n",
    "    \"dodgers/data/pitching/dodgers_pitching_totals_current\",\n",
    "    \"stilesdata.com\",\n",
    "    profile_name=\"haekeo\",\n",
    ")\n",
    "save_to_s3(\n",
    "    ranks,\n",
    "    \"dodgers/data/pitching/dodgers_pitching_ranks_current\",\n",
    "    \"stilesdata.com\",\n",
    "    profile_name=\"haekeo\",\n",
    ")"
   ]
  },
  {
   "cell_type": "code",
   "execution_count": 16,
   "id": "d9fd5c3f",
   "metadata": {},
   "outputs": [
    {
     "name": "stdout",
     "output_type": "stream",
     "text": [
      "[NbConvertApp] Converting notebook 08_fetch_process_pitching.ipynb to script\n",
      "[NbConvertApp] Writing 4387 bytes to ../scripts/05_fetch_process_pitching.py\n"
     ]
    }
   ],
   "source": [
    "# Save a copy of notebook as python script\n",
    "!jupyter nbconvert --to script --no-prompt --output ../scripts/05_fetch_process_pitching 08_fetch_process_pitching.ipynb"
   ]
  }
 ],
 "metadata": {
  "kernelspec": {
   "display_name": "Python 3 (ipykernel)",
   "language": "python",
   "name": "python3"
  },
  "language_info": {
   "codemirror_mode": {
    "name": "ipython",
    "version": 3
   },
   "file_extension": ".py",
   "mimetype": "text/x-python",
   "name": "python",
   "nbconvert_exporter": "python",
   "pygments_lexer": "ipython3",
   "version": "3.9.15"
  }
 },
 "nbformat": 4,
 "nbformat_minor": 5
}
