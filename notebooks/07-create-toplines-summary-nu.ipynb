{
 "cells": [
  {
   "cell_type": "markdown",
   "id": "77ab12ec-6a2c-4fd8-8b1a-45b8e69448cb",
   "metadata": {},
   "source": [
    "# LA Dodgers toplines\n",
    "> This notebook extracts key statistics from the project's processed tables for display in a dashboard."
   ]
  },
  {
   "cell_type": "markdown",
   "id": "277c96d0-48d1-4944-8f3d-369979dbae0c",
   "metadata": {},
   "source": [
    "---"
   ]
  },
  {
   "cell_type": "code",
   "execution_count": 33,
   "id": "1fd039f6",
   "metadata": {},
   "outputs": [],
   "source": [
    "import os\n",
    "import pandas as pd\n",
    "import boto3\n",
    "from io import BytesIO"
   ]
  },
  {
   "cell_type": "code",
   "execution_count": null,
   "id": "2adc802c",
   "metadata": {},
   "outputs": [],
   "source": [
    "\n",
    "def read_parquet_s3(url, sort_by=None):\n",
    "    \"\"\"Read a Parquet file from the S3 URL.\n",
    "    Only sort the dataframe if a sort column is provided.\n",
    "    Batting doesn't have game dates because it's annual totals.\"\"\"\n",
    "    df = pd.read_parquet(url)\n",
    "    if sort_by and sort_by in df.columns:\n",
    "        df.sort_values(sort_by, ascending=False, inplace=True)\n",
    "    return df"
   ]
  },
  {
   "cell_type": "code",
   "execution_count": null,
   "id": "f1e5e298",
   "metadata": {},
   "outputs": [],
   "source": [
    "\n",
    "# URLs for data\n",
    "standings_url = \"https://stilesdata.com/dodgers/data/standings/dodgers_standings_1958_present.parquet\"\n",
    "batting_url = \"https://stilesdata.com/dodgers/data/batting/dodgers_team_batting_1958_present.parquet\""
   ]
  },
  {
   "cell_type": "code",
   "execution_count": null,
   "id": "78336f3c",
   "metadata": {},
   "outputs": [],
   "source": [
    "\n",
    "# Load the data\n",
    "standings = read_parquet_s3(standings_url, sort_by='game_date').query(\"year == '2024'\")\n",
    "standings['result'] = standings['result'].str.split('-wo', expand=True)[0]\n",
    "standings.loc[standings.result == \"L\", \"result_clean\"] = \"loss\"\n",
    "standings.loc[standings.result == \"W\", \"result_clean\"] = \"win\"\n",
    "standings_past = read_parquet_s3(standings_url, sort_by='game_date').query(\"year != '2024'\")\n",
    "standings_now = standings.query(\"game_date == game_date.max()\").copy()\n",
    "\n",
    "batting = read_parquet_s3(batting_url)\n",
    "batting_past = batting.query(\"season != '2024'\").copy()\n",
    "batting_now = batting.query(\"season == '2024'\").copy()"
   ]
  },
  {
   "cell_type": "code",
   "execution_count": null,
   "id": "d5900a11",
   "metadata": {},
   "outputs": [],
   "source": [
    "\n",
    "def current_season_stats(standings_now, standings_past):\n",
    "    games = standings_now[\"gm\"].iloc[0]\n",
    "    wins = standings_now[\"wins\"].iloc[0]\n",
    "    losses = standings_now[\"losses\"].iloc[0]\n",
    "    record = standings_now[\"record\"].iloc[0]\n",
    "    win_pct = int(standings_now[\"win_pct\"].iloc[0] * 100)\n",
    "    win_pct_decade_thispoint = int(\n",
    "        standings_past.query(f\"gm == {games}\").head(10)[\"win_pct\"].mean().round(2) * 100\n",
    "    )\n",
    "    return games, wins, losses, record, win_pct, win_pct_decade_thispoint\n"
   ]
  },
  {
   "cell_type": "code",
   "execution_count": null,
   "id": "cfcc8992",
   "metadata": {},
   "outputs": [],
   "source": [
    "\n",
    "def run_differential(standings):\n",
    "    runs = standings[\"r\"].sum()\n",
    "    runs_against = standings[\"ra\"].sum()\n",
    "    run_diff = runs - runs_against\n",
    "    return runs, runs_against, run_diff\n"
   ]
  },
  {
   "cell_type": "code",
   "execution_count": null,
   "id": "85726375",
   "metadata": {},
   "outputs": [],
   "source": [
    "\n",
    "def home_run_stats(batting_now, batting_past):\n",
    "    games = int(batting_now[\"g\"].iloc[0])\n",
    "    home_runs = int(batting_now[\"hr\"].sum())\n",
    "    home_runs_game = round(home_runs / games, 2)\n",
    "    batting_past[\"hr_game\"] = batting_past[\"hr\"].astype(int) / batting_past[\"g\"].astype(int).round(2)\n",
    "    home_runs_game_last = batting_past.query('season == \"2023\"')[\"hr_game\"].iloc[0]\n",
    "    games_decade = batting_past.head(10)[\"g\"].astype(int).sum()\n",
    "    home_runs_decade = batting_past.head(10)[\"hr\"].astype(int).sum()\n",
    "    home_runs_game_decade = round(home_runs_decade / games_decade, 2)\n",
    "    return home_runs, home_runs_game, home_runs_game_last, home_runs_game_decade\n"
   ]
  },
  {
   "cell_type": "code",
   "execution_count": null,
   "id": "ce207bce",
   "metadata": {},
   "outputs": [],
   "source": [
    "\n",
    "def batting_and_stolen_base_stats(batting_now, batting_past, games):\n",
    "    batting_average = batting_now[\"ba\"].iloc[0]\n",
    "    batting_average_decade = round(\n",
    "        batting_past.head(10)[\"ba\"].astype(float).mean(), 3\n",
    "    ).astype(str).replace(\"0.\", \".\")\n",
    "    stolen_bases = int(batting_now[\"sb\"].iloc[0])\n",
    "    stolen_bases_game = round(stolen_bases / games, 2)\n",
    "    stolen_decade = batting_past.head(10)[\"sb\"].astype(int).sum()\n",
    "    stolen_bases_decade_game = round(stolen_decade / games, 2)\n",
    "    return batting_average, batting_average_decade, stolen_bases, stolen_bases_game, stolen_bases_decade_game\n"
   ]
  },
  {
   "cell_type": "code",
   "execution_count": null,
   "id": "667faa12",
   "metadata": {},
   "outputs": [],
   "source": [
    "\n",
    "def generate_summary(standings_now, wins, losses, win_pct):\n",
    "    last_game = standings_now.iloc[0]\n",
    "    summary = (\n",
    "        f\"The Dodgers have played {games} games this season compiling a {record} record — \"\n",
    "        f\"a winning percentage of {win_pct}%. The team's last game was a \"\n",
    "        f\"{last_game['r']}-{last_game['ra']} {last_game['home_away']} {last_game['result_clean']} \"\n",
    "        f\"to the {last_game['opp']} in front of {'{:,}'.format(last_game['attendance'])} fans. \"\n",
    "        f\"The team has won {win_count_trend} of its last 10 games.\"\n",
    "    )\n",
    "    return summary\n"
   ]
  },
  {
   "cell_type": "code",
   "execution_count": null,
   "id": "ebeb4c63",
   "metadata": {},
   "outputs": [],
   "source": [
    "\n",
    "def recent_trend(standings):\n",
    "    last_10 = standings.iloc[:10]['result']  # Ensuring the last 10 games are considered\n",
    "    win_count_trend = last_10[last_10 == \"W\"].count()\n",
    "    loss_count_trend = last_10[last_10 == \"L\"].count()\n",
    "    return win_count_trend, loss_count_trend, f\"Recent trend: {win_count_trend} wins, {loss_count_trend} losses\"\n"
   ]
  },
  {
   "cell_type": "code",
   "execution_count": null,
   "id": "70dc1029",
   "metadata": {},
   "outputs": [],
   "source": [
    "\n",
    "games, wins, losses, record, win_pct, win_pct_decade_thispoint = current_season_stats(standings_now, standings_past)\n",
    "runs, runs_against, run_diff = run_differential(standings)\n",
    "home_runs, home_runs_game, home_runs_game_last, home_runs_game_decade = home_run_stats(batting_now, batting_past)\n",
    "batting_average, batting_average_decade, stolen_bases, stolen_bases_game, stolen_bases_decade_game = batting_and_stolen_base_stats(batting_now, batting_past, games)\n",
    "win_count_trend, loss_count_trend, win_loss_trend = recent_trend(standings.iloc[:10])\n"
   ]
  },
  {
   "cell_type": "code",
   "execution_count": null,
   "id": "08382070",
   "metadata": {},
   "outputs": [],
   "source": [
    "\n",
    "summary = generate_summary(standings, wins, losses, win_pct)\n"
   ]
  },
  {
   "cell_type": "code",
   "execution_count": null,
   "id": "213de0e7",
   "metadata": {},
   "outputs": [
    {
     "data": {
      "text/plain": [
       "\"The Dodgers have played 34 games this season compiling a 21-13 record — a winning percentage of 62%. The team's last game was a 4-3 home win to the ATL in front of 50,859 fans. The team has won 8 of its last 10 games.\""
      ]
     },
     "execution_count": 30,
     "metadata": {},
     "output_type": "execute_result"
    }
   ],
   "source": [
    "summary"
   ]
  },
  {
   "cell_type": "code",
   "execution_count": 36,
   "id": "969525fa",
   "metadata": {},
   "outputs": [],
   "source": [
    "\n",
    "summary_data = [\n",
    "    {\"stat_label\": \"Wins\", \"stat\": \"wins\", \"value\": wins, \"category\": \"standings\"},\n",
    "    {\"stat_label\": \"Losses\", \"stat\": \"losses\", \"value\": losses, \"category\": \"standings\"},\n",
    "    {\"stat_label\": \"Record\", \"stat\": \"record\", \"value\": record, \"category\": \"standings\"},\n",
    "    {\"stat_label\": \"Win percentage\", \"stat\": \"win_pct\", \"value\": f\"{win_pct}%\", \"category\": \"standings\"},\n",
    "    {\"stat_label\": \"Win % this decade\", \"stat\": \"win_pct_decade_thispoint\", \"value\": f\"{win_pct_decade_thispoint}%\", \"category\": \"standings\"},\n",
    "    {\"stat_label\": \"Runs\", \"stat\": \"runs\", \"value\": runs, \"category\": \"standings\"},\n",
    "    {\"stat_label\": \"Runs against\", \"stat\": \"runs_against\", \"value\": runs_against, \"category\": \"standings\"},\n",
    "    {\"stat_label\": \"Run differential\", \"stat\": \"run_differential\", \"value\": run_diff, \"category\": \"standings\"},\n",
    "    {\"stat_label\": \"Home runs\", \"stat\": \"home_runs\", \"value\": home_runs, \"category\": \"batting\"},\n",
    "    {\"stat_label\": \"Home runs/game\", \"stat\": \"home_runs_game\", \"value\": home_runs_game, \"category\": \"batting\"},\n",
    "    {\"stat_label\": \"HR/game last season\", \"stat\": \"home_runs_game_last\", \"value\": home_runs_game_last, \"category\": \"batting\"},\n",
    "    {\"stat_label\": \"HR/game last decade\", \"stat\": \"home_runs_game_decade\", \"value\": home_runs_game_decade, \"category\": \"batting\"},\n",
    "    {\"stat_label\": \"Stolen bases\", \"stat\": \"stolen_bases\", \"value\": stolen_bases, \"category\": \"batting\"},\n",
    "    {\"stat_label\": \"Stolen bases per game\", \"stat\": \"stolen_bases_game\", \"value\": stolen_bases_game, \"category\": \"batting\"},\n",
    "    {\"stat_label\": \"Stolen per game last decade\", \"stat\": \"stolen_bases_decade_game\", \"value\": stolen_bases_decade_game, \"category\": \"batting\"},\n",
    "    {\"stat_label\": \"Batting average\", \"stat\": \"batting_average\", \"value\": batting_average, \"category\": \"batting\"},\n",
    "    {\"stat_label\": \"Batting average last decade\", \"stat\": \"batting_average_decade\", \"value\": batting_average_decade, \"category\": \"batting\"},\n",
    "    {\"stat_label\": \"Recent trned\", \"stat\": \"recent_trend\", \"value\": win_loss_trend, \"category\": \"standings\"},\n",
    "    {\"stat_label\": \"Team summary\", \"stat\": \"summary\", \"value\": summary, \"category\": \"standings\"}\n",
    "]\n"
   ]
  },
  {
   "cell_type": "code",
   "execution_count": 43,
   "id": "5089b77d",
   "metadata": {},
   "outputs": [],
   "source": [
    "summary_df = pd.DataFrame(summary_data)"
   ]
  },
  {
   "cell_type": "code",
   "execution_count": 44,
   "id": "c057c8e7",
   "metadata": {},
   "outputs": [
    {
     "data": {
      "text/html": [
       "<div>\n",
       "<style scoped>\n",
       "    .dataframe tbody tr th:only-of-type {\n",
       "        vertical-align: middle;\n",
       "    }\n",
       "\n",
       "    .dataframe tbody tr th {\n",
       "        vertical-align: top;\n",
       "    }\n",
       "\n",
       "    .dataframe thead th {\n",
       "        text-align: right;\n",
       "    }\n",
       "</style>\n",
       "<table border=\"1\" class=\"dataframe\">\n",
       "  <thead>\n",
       "    <tr style=\"text-align: right;\">\n",
       "      <th></th>\n",
       "      <th>stat</th>\n",
       "      <th>value</th>\n",
       "      <th>category</th>\n",
       "    </tr>\n",
       "  </thead>\n",
       "  <tbody>\n",
       "    <tr>\n",
       "      <th>0</th>\n",
       "      <td>wins</td>\n",
       "      <td>21</td>\n",
       "      <td>standings</td>\n",
       "    </tr>\n",
       "    <tr>\n",
       "      <th>1</th>\n",
       "      <td>losses</td>\n",
       "      <td>13</td>\n",
       "      <td>standings</td>\n",
       "    </tr>\n",
       "    <tr>\n",
       "      <th>2</th>\n",
       "      <td>record</td>\n",
       "      <td>21-13</td>\n",
       "      <td>standings</td>\n",
       "    </tr>\n",
       "    <tr>\n",
       "      <th>3</th>\n",
       "      <td>win_pct</td>\n",
       "      <td>62%</td>\n",
       "      <td>standings</td>\n",
       "    </tr>\n",
       "    <tr>\n",
       "      <th>4</th>\n",
       "      <td>win_pct_decade_thispoint</td>\n",
       "      <td>57%</td>\n",
       "      <td>standings</td>\n",
       "    </tr>\n",
       "    <tr>\n",
       "      <th>5</th>\n",
       "      <td>runs</td>\n",
       "      <td>181</td>\n",
       "      <td>standings</td>\n",
       "    </tr>\n",
       "    <tr>\n",
       "      <th>6</th>\n",
       "      <td>runs_against</td>\n",
       "      <td>131</td>\n",
       "      <td>standings</td>\n",
       "    </tr>\n",
       "    <tr>\n",
       "      <th>7</th>\n",
       "      <td>run_differential</td>\n",
       "      <td>50</td>\n",
       "      <td>standings</td>\n",
       "    </tr>\n",
       "    <tr>\n",
       "      <th>8</th>\n",
       "      <td>home_runs</td>\n",
       "      <td>39</td>\n",
       "      <td>batting</td>\n",
       "    </tr>\n",
       "    <tr>\n",
       "      <th>9</th>\n",
       "      <td>home_runs_game</td>\n",
       "      <td>1.15</td>\n",
       "      <td>batting</td>\n",
       "    </tr>\n",
       "    <tr>\n",
       "      <th>10</th>\n",
       "      <td>home_runs_game_last</td>\n",
       "      <td>1.537037</td>\n",
       "      <td>batting</td>\n",
       "    </tr>\n",
       "    <tr>\n",
       "      <th>11</th>\n",
       "      <td>home_runs_game_decade</td>\n",
       "      <td>1.36</td>\n",
       "      <td>batting</td>\n",
       "    </tr>\n",
       "    <tr>\n",
       "      <th>12</th>\n",
       "      <td>stolen_bases</td>\n",
       "      <td>24</td>\n",
       "      <td>batting</td>\n",
       "    </tr>\n",
       "    <tr>\n",
       "      <th>13</th>\n",
       "      <td>stolen_bases_game</td>\n",
       "      <td>0.71</td>\n",
       "      <td>batting</td>\n",
       "    </tr>\n",
       "    <tr>\n",
       "      <th>14</th>\n",
       "      <td>stolen_bases_decade_game</td>\n",
       "      <td>22.0</td>\n",
       "      <td>batting</td>\n",
       "    </tr>\n",
       "    <tr>\n",
       "      <th>15</th>\n",
       "      <td>batting_average</td>\n",
       "      <td>.271</td>\n",
       "      <td>batting</td>\n",
       "    </tr>\n",
       "    <tr>\n",
       "      <th>16</th>\n",
       "      <td>batting_average_decade</td>\n",
       "      <td>.253</td>\n",
       "      <td>batting</td>\n",
       "    </tr>\n",
       "    <tr>\n",
       "      <th>17</th>\n",
       "      <td>recent_trend</td>\n",
       "      <td>Recent trend: 8 wins, 2 losses</td>\n",
       "      <td>standings</td>\n",
       "    </tr>\n",
       "    <tr>\n",
       "      <th>18</th>\n",
       "      <td>summary</td>\n",
       "      <td>The Dodgers have played 34 games this season c...</td>\n",
       "      <td>standings</td>\n",
       "    </tr>\n",
       "  </tbody>\n",
       "</table>\n",
       "</div>"
      ],
      "text/plain": [
       "                        stat  \\\n",
       "0                       wins   \n",
       "1                     losses   \n",
       "2                     record   \n",
       "3                    win_pct   \n",
       "4   win_pct_decade_thispoint   \n",
       "5                       runs   \n",
       "6               runs_against   \n",
       "7           run_differential   \n",
       "8                  home_runs   \n",
       "9             home_runs_game   \n",
       "10       home_runs_game_last   \n",
       "11     home_runs_game_decade   \n",
       "12              stolen_bases   \n",
       "13         stolen_bases_game   \n",
       "14  stolen_bases_decade_game   \n",
       "15           batting_average   \n",
       "16    batting_average_decade   \n",
       "17              recent_trend   \n",
       "18                   summary   \n",
       "\n",
       "                                                value   category  \n",
       "0                                                  21  standings  \n",
       "1                                                  13  standings  \n",
       "2                                               21-13  standings  \n",
       "3                                                 62%  standings  \n",
       "4                                                 57%  standings  \n",
       "5                                                 181  standings  \n",
       "6                                                 131  standings  \n",
       "7                                                  50  standings  \n",
       "8                                                  39    batting  \n",
       "9                                                1.15    batting  \n",
       "10                                           1.537037    batting  \n",
       "11                                               1.36    batting  \n",
       "12                                                 24    batting  \n",
       "13                                               0.71    batting  \n",
       "14                                               22.0    batting  \n",
       "15                                               .271    batting  \n",
       "16                                               .253    batting  \n",
       "17                     Recent trend: 8 wins, 2 losses  standings  \n",
       "18  The Dodgers have played 34 games this season c...  standings  "
      ]
     },
     "execution_count": 44,
     "metadata": {},
     "output_type": "execute_result"
    }
   ],
   "source": [
    "summary_df"
   ]
  },
  {
   "cell_type": "code",
   "execution_count": null,
   "id": "8620a450",
   "metadata": {},
   "outputs": [],
   "source": []
  }
 ],
 "metadata": {
  "kernelspec": {
   "display_name": "Python 3 (ipykernel)",
   "language": "python",
   "name": "python3"
  },
  "language_info": {
   "codemirror_mode": {
    "name": "ipython",
    "version": 3
   },
   "file_extension": ".py",
   "mimetype": "text/x-python",
   "name": "python",
   "nbconvert_exporter": "python",
   "pygments_lexer": "ipython3",
   "version": "3.9.15"
  }
 },
 "nbformat": 4,
 "nbformat_minor": 5
}
