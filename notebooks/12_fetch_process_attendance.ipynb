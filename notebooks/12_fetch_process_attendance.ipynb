{
 "cells": [
  {
   "cell_type": "markdown",
   "id": "77ab12ec-6a2c-4fd8-8b1a-45b8e69448cb",
   "metadata": {
    "panel-layout": {
     "height": 93.5781,
     "visible": true,
     "width": 100
    }
   },
   "source": [
    "# MLB attendance figures by location\n",
    "> This notebook visusalizes team home stadium attendance statistics using data from [Baseball Reference](https://www.baseball-reference.com/leagues/AL/2024-misc.shtml) and [Esri](https://hub.arcgis.com/datasets/f60004d3037e42ad93cb03b9590cafec_0/about)."
   ]
  },
  {
   "cell_type": "markdown",
   "id": "277c96d0-48d1-4944-8f3d-369979dbae0c",
   "metadata": {
    "panel-layout": {
     "height": 24,
     "visible": true,
     "width": 100
    }
   },
   "source": [
    "---"
   ]
  },
  {
   "cell_type": "code",
   "execution_count": 90,
   "id": "d6fd0fc9-2dda-4592-926b-e56e6c67ac41",
   "metadata": {},
   "outputs": [],
   "source": [
    "#!/usr/bin/env python\n",
    "# coding: utf-8\n",
    "\n",
    "import os\n",
    "import boto3\n",
    "import logging\n",
    "import datetime\n",
    "import pandas as pd\n",
    "import geopandas as gpd\n",
    "from io import BytesIO\n",
    "\n",
    "# Set up basic configuration for logging\n",
    "logging.basicConfig(level=logging.INFO, format='%(asctime)s - %(levelname)s - %(message)s')\n",
    "\n",
    "# Determine if running in a GitHub Actions environment\n",
    "is_github_actions = os.getenv('GITHUB_ACTIONS') == 'true'\n",
    "\n",
    "# AWS credentials and session initialization\n",
    "aws_key_id = os.environ.get(\"AWS_ACCESS_KEY_ID\")\n",
    "aws_secret_key = os.environ.get(\"AWS_SECRET_ACCESS_KEY\")\n",
    "aws_region = \"us-west-1\"\n",
    "\n",
    "# Conditional AWS session creation based on the environment\n",
    "if is_github_actions:\n",
    "    # In GitHub Actions, use environment variables directly\n",
    "    session = boto3.Session(\n",
    "        aws_access_key_id=aws_key_id,\n",
    "        aws_secret_access_key=aws_secret_key,\n",
    "        region_name=aws_region\n",
    "    )\n",
    "else:\n",
    "    # Locally, use a specific profile\n",
    "    session = boto3.Session(profile_name=\"haekeo\", region_name=aws_region)\n",
    "\n",
    "s3_resource = session.resource(\"s3\")\n",
    "\n",
    "# Base directory settings\n",
    "base_dir = os.getcwd()\n",
    "data_dir = os.path.join(base_dir, 'data', 'standings')\n",
    "os.makedirs(data_dir, exist_ok=True)\n",
    "\n",
    "profile_name = os.environ.get(\"AWS_PERSONAL_PROFILE\")\n",
    "today = datetime.date.today()\n",
    "year = today.year\n",
    "\n",
    "\"\"\"\n",
    "FETCH: MLB ATTENDANCE\n",
    "\"\"\"\n",
    "\n",
    "src_dfs = []\n",
    "\n",
    "leagues = ['AL', 'NL']\n",
    "for league in leagues:\n",
    "    url = f'https://www.baseball-reference.com/leagues/{league}/2024-misc.shtml'\n",
    "    src = (pd.read_html(url)[0])[['Tm', 'Attendance', 'Attend/G']].assign(league=league)\n",
    "    src_dfs.append(src)\n",
    "\n",
    "df = pd.concat(src_dfs).rename(columns={'Tm':'team', 'Attendance':'attendance', 'Attend/G':'attend_game'}).sort_values('attend_game', ascending=False).reset_index(drop=True)\n",
    "\n",
    "\"\"\"\n",
    "GEOGRAPHY: MLB STADIUMS\n",
    "\"\"\"\n",
    "\n",
    "gdf = gpd.read_file('https://services.arcgis.com/P3ePLMYs2RVChkJx/arcgis/rest/services/Major_League_Baseball_Stadiums/FeatureServer/0/query?outFields=*&where=1%3D1&f=geojson')\n",
    "gdf.columns = gdf.columns.str.lower()\n",
    "\n",
    "gdf.loc[gdf[\"team\"] == \"Cleveland Indians\", \"team\"] = 'Cleveland Guardians'\n",
    "gdf.loc[gdf[\"league\"] == \"National\", \"league\"] = 'NL'\n",
    "gdf.loc[gdf[\"league\"] == \"American\", \"league\"] = 'AL'\n",
    "gdf.loc[gdf[\"team\"] == \"Houston Astros\", \"league\"] = 'AL'\n",
    "gdf.loc[gdf[\"team\"] == \"Oakland Athletics\", \"name\"] = 'Oakland Coliseum'\n",
    "gdf.loc[gdf[\"team\"] == \"Baltimore Orioles\", \"name\"] = 'Camden Yards'\n",
    "\n",
    "\n",
    "\"\"\"\n",
    "MERGE GEO/VALUES\n",
    "\"\"\"\n",
    "merged = pd.merge(df, gdf.drop(columns=['geometry']), on=['team', 'league'])"
   ]
  },
  {
   "cell_type": "code",
   "execution_count": 91,
   "id": "8c1b578a-254f-4757-9fc8-5c1336eb7d2f",
   "metadata": {},
   "outputs": [],
   "source": [
    "# Function to save DataFrame to S3 as JSON\n",
    "def save_to_s3(df, s3_path, s3_bucket):\n",
    "    try:\n",
    "        buffer = BytesIO()\n",
    "        df.to_json(buffer, orient=\"records\", lines=False)\n",
    "        buffer.seek(0)\n",
    "        s3_resource.Bucket(s3_bucket).put_object(Key=s3_path, Body=buffer, ContentType=\"application/json\")\n",
    "        logging.info(f\"Uploaded JSON to {s3_bucket}/{s3_path}\")\n",
    "    except Exception as e:\n",
    "        logging.error(f\"Failed to upload JSON to S3: {e}\")\n",
    "\n",
    "# Saving DataFrame to S3\n",
    "s3_path = \"dodgers/data/standings/mlb_team_attendance.json\"\n",
    "save_to_s3(merged, s3_path, \"stilesdata.com\")"
   ]
  },
  {
   "cell_type": "code",
   "execution_count": 93,
   "id": "6a6c980d-2d00-4699-8689-e3c431312bc7",
   "metadata": {},
   "outputs": [
    {
     "name": "stdout",
     "output_type": "stream",
     "text": [
      "[NbConvertApp] Converting notebook 12_fetch_process_attendance.ipynb to script\n",
      "[NbConvertApp] Writing 3607 bytes to ../scripts/10_fetch_process_attendance.py\n"
     ]
    }
   ],
   "source": [
    "# Save a copy of notebook as a python script\n",
    "# !jupyter nbconvert --to script --no-prompt --output ../scripts/10_fetch_process_attendance 12_fetch_process_attendance.ipynb"
   ]
  },
  {
   "cell_type": "code",
   "execution_count": null,
   "id": "583cb217-fc6a-43e6-bf8a-11d0d6b2f7c1",
   "metadata": {},
   "outputs": [],
   "source": []
  }
 ],
 "metadata": {
  "kernelspec": {
   "display_name": "Python 3 (ipykernel)",
   "language": "python",
   "name": "python3"
  },
  "language_info": {
   "codemirror_mode": {
    "name": "ipython",
    "version": 3
   },
   "file_extension": ".py",
   "mimetype": "text/x-python",
   "name": "python",
   "nbconvert_exporter": "python",
   "pygments_lexer": "ipython3",
   "version": "3.9.15"
  },
  "panel-cell-order": [
   "77ab12ec-6a2c-4fd8-8b1a-45b8e69448cb",
   "277c96d0-48d1-4944-8f3d-369979dbae0c",
   "b26f152f-1b2c-4231-9752-4ecbe64c4e6a",
   "890c26c6-a7d4-42ff-8d19-ef0d8d6cfb5b",
   "fd4c08bc-ce9c-49b0-af2e-877593871769",
   "0028268b-647d-46db-8dbf-2f3ccf9a0651",
   "0e88ea7b-767d-4d28-9c05-0ad7e3cb61c7",
   "2409aca7-c3cd-4d6a-9290-e8acb93c9bd1",
   "6cd092eb-5772-48c9-97cf-0e2d62f0632f",
   "1e7ae03c-c6bf-46ae-a417-ebf155cadad2",
   "aa31605f-50d3-4af6-8bf0-068f3fd9d313",
   "e408b594-904b-4b9c-92c2-55dc41982f0b",
   "2409dbf1-8d23-489f-bea9-d840bae0bae8",
   "3978864d-34d2-4947-8c33-a1d7e40f4121",
   "0e167509-a196-42a6-bf71-084e8a607128",
   "8575f3c0-5cac-4265-8e5c-9c72b135b43f",
   "2cedc251-d7e6-4134-9793-72ce4d5a62f4",
   "d0f77d9e-5f69-4a87-be53-b643029b9c4c",
   "830d1f22-c971-4ad4-ae2c-9a1d2c2e4e27"
  ]
 },
 "nbformat": 4,
 "nbformat_minor": 5
}
