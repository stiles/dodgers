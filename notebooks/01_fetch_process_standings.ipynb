{
 "cells": [
  {
   "cell_type": "markdown",
   "id": "77ab12ec-6a2c-4fd8-8b1a-45b8e69448cb",
   "metadata": {},
   "source": [
    "# LA Dodgers Standings, 1958-present\n",
    "> This notebook downloads the team's current standings table from [Baseball Reference](https://www.baseball-reference.com/teams/LAD/2024-schedule-scores.shtml) and combines it with historic records for later analysis and visualization."
   ]
  },
  {
   "cell_type": "markdown",
   "id": "277c96d0-48d1-4944-8f3d-369979dbae0c",
   "metadata": {},
   "source": [
    "---"
   ]
  },
  {
   "cell_type": "markdown",
   "id": "b26f152f-1b2c-4231-9752-4ecbe64c4e6a",
   "metadata": {},
   "source": [
    "#### Import Python tools and Jupyter config"
   ]
  },
  {
   "cell_type": "code",
   "execution_count": 7,
   "id": "27cdbea4-067e-40fe-8a0e-52d79145a835",
   "metadata": {},
   "outputs": [],
   "source": [
    "#!/usr/bin/env python\n",
    "# coding: utf-8\n",
    "\n",
    "\"\"\"\n",
    "LA Dodgers Standings, 1958-present\n",
    "This script downloads the team's current standings table from Baseball Reference and combines it with historic records.\n",
    "\"\"\"\n",
    "\n",
    "import os\n",
    "import pandas as pd\n",
    "import requests\n",
    "from bs4 import BeautifulSoup\n",
    "import boto3\n",
    "from io import StringIO"
   ]
  },
  {
   "cell_type": "code",
   "execution_count": 8,
   "id": "334ca508",
   "metadata": {},
   "outputs": [],
   "source": [
    "\n",
    "# Configuration\n",
    "year = 2024\n",
    "url = f\"https://www.baseball-reference.com/teams/LAD/{year}-schedule-scores.shtml\"\n",
    "output_dir = \"data/standings\"\n",
    "csv_file = f\"{output_dir}/dodgers_standings_1958_present.csv\"\n",
    "json_file = f\"{output_dir}/dodgers_standings_1958_present.json\"\n",
    "historic_file = f\"https://stilesdata.com/dodgers/data/standings/archive/dodgers_standings_1958_2023.parquet\"\n",
    "parquet_file = f\"{output_dir}/dodgers_standings_1958_present.parquet\"\n",
    "s3_bucket = \"stilesdata.com\""
   ]
  },
  {
   "cell_type": "code",
   "execution_count": 9,
   "id": "4b97f003",
   "metadata": {},
   "outputs": [],
   "source": [
    "# Assume AWS credentials are set as environment variables\n",
    "aws_access_key_id = os.getenv('HAEKEO_AWS_KEY')\n",
    "aws_secret_access_key = os.getenv('HAEKEO_AWS_SECRET')\n",
    "session = boto3.Session(\n",
    "    aws_access_key_id=aws_access_key_id,\n",
    "    aws_secret_access_key=aws_secret_access_key,\n",
    ")\n",
    "s3 = session.resource('s3')"
   ]
  },
  {
   "cell_type": "code",
   "execution_count": 10,
   "id": "e6f8938a",
   "metadata": {},
   "outputs": [],
   "source": [
    "\n",
    "# Fetch and process the current year's data\n",
    "def fetch_current_year_data(url, year):\n",
    "    response = requests.get(url)\n",
    "    soup = BeautifulSoup(response.content, 'html.parser')\n",
    "    src = (pd.read_html(StringIO(str(soup)))[0].query(\"Tm !='Tm' and Inn != 'Game Preview, and Matchups'\")\n",
    "              .drop([\"Unnamed: 2\", \"Streak\", \"Orig. Scheduled\"], axis=1)\n",
    "              .rename(columns={\"Unnamed: 4\": \"home_away\"})\n",
    "              .assign(season=year))\n",
    "    \n",
    "    src.columns = src.columns.str.lower().str.replace(\"/\", \"_\").str.replace(\"-\", \"-\")\n",
    "    src.columns = [\n",
    "        \"gm\",\n",
    "        \"date\",\n",
    "        \"tm\",\n",
    "        \"home_away\",\n",
    "        \"opp\",\n",
    "        \"result\",\n",
    "        \"r\",\n",
    "        \"ra\",\n",
    "        \"inn\",\n",
    "        \"record\",\n",
    "        \"rank\",\n",
    "        \"gb\",\n",
    "        \"win\",\n",
    "        \"loss\",\n",
    "        \"save\",\n",
    "        \"time\",\n",
    "        \"day_night\",\n",
    "        \"attendance\",\n",
    "        \"cli\",\n",
    "        \"year\",\n",
    "    ]\n",
    "\n",
    "    # Convert date types where needed\n",
    "    src[\"gm\"] = src[\"gm\"].astype(int)\n",
    "    src[\"year\"] = src[\"year\"].astype(str)\n",
    "\n",
    "    # Split, format date\n",
    "    src[[\"weekday\", \"date\"]] = src[\"date\"].str.split(\", \", expand=True)\n",
    "    src[\"date\"] = src[\"date\"].str.replace(\" (1)\", \"\").str.replace(\" (2)\", \"\")\n",
    "    src[\"game_date\"] = pd.to_datetime(src[\"date\"] + \", \" + src[\"year\"], format=\"%b %d, %Y\").astype(str)\n",
    "\n",
    "    # Clean home-away column\n",
    "    src.loc[src.home_away == \"@\", \"home_away\"] = \"away\"\n",
    "    src.loc[src.home_away.isna(), \"home_away\"] = \"home\"\n",
    "\n",
    "    # Games back figures as a number\n",
    "    src[\"gb\"] = (\n",
    "        src[\"gb\"].str.replace(\"up \", \"up\").str.replace(\"up\", \"+\").str.replace(\"Tied\", \"0\")\n",
    "    )\n",
    "    src[\"gb\"] = src[\"gb\"].apply(\n",
    "        lambda x: float(x) if x.startswith(\"+\") else -float(x) if float(x) != 0 else 0\n",
    "    )\n",
    "\n",
    "    src[\"attendance\"] = src[\"attendance\"].fillna(0)\n",
    "    src[\"gm\"] = src[\"gm\"].astype(int)\n",
    "    src[[\"r\", \"ra\", \"attendance\", \"gm\", \"rank\"]] = src[\n",
    "        [\"r\", \"ra\", \"attendance\", \"gm\", \"rank\"]\n",
    "    ].astype(int)\n",
    "\n",
    "    src[\"time\"] = src[\"time\"] + \":00\"\n",
    "    src[\"time_minutes\"] = pd.to_timedelta(src[\"time\"]).dt.total_seconds() / 60\n",
    "    src[\"time_minutes\"] = src[\"time_minutes\"].astype(int)\n",
    "\n",
    "    # Just the columns we need\n",
    "    src_df = src[\n",
    "        [\n",
    "            \"gm\",\n",
    "            \"game_date\",\n",
    "            \"home_away\",\n",
    "            \"opp\",\n",
    "            \"result\",\n",
    "            \"r\",\n",
    "            \"ra\",\n",
    "            \"record\",\n",
    "            \"rank\",\n",
    "            \"gb\",\n",
    "            \"time\",\n",
    "            \"time_minutes\",\n",
    "            \"day_night\",\n",
    "            \"attendance\",\n",
    "            \"year\",\n",
    "        ]\n",
    "    ].copy()\n",
    "    \n",
    "    return src_df"
   ]
  },
  {
   "cell_type": "code",
   "execution_count": 11,
   "id": "cf49182e",
   "metadata": {},
   "outputs": [],
   "source": [
    "# Load historic data\n",
    "def load_historic_data(filepath):\n",
    "    return pd.read_parquet(filepath)"
   ]
  },
  {
   "cell_type": "code",
   "execution_count": 12,
   "id": "2a91cb1d",
   "metadata": {},
   "outputs": [],
   "source": [
    "# Main function\n",
    "def main():\n",
    "    # Check if output directory exists\n",
    "    os.makedirs(output_dir, exist_ok=True)\n",
    "    \n",
    "    src_df = fetch_current_year_data(url, year)\n",
    "    historic_df = load_historic_data(historic_file)\n",
    "    historic_df['game_date'] = historic_df['game_date'].astype(str)\n",
    "    historic_df['rank'] = historic_df['rank'].astype(int)\n",
    "\n",
    "    # Concatenate historic and current dataframes\n",
    "    df = pd.concat([src_df, historic_df]).sort_values(\"game_date\", ascending=False).drop_duplicates(subset=['gm', 'year']).reset_index(drop=True)\n",
    "\n",
    "    df.to_json(json_file, indent=4, orient=\"records\")\n",
    "    df.to_csv(csv_file, index=False)\n",
    "    df.to_parquet(parquet_file, index=False)\n",
    "    \n",
    "    # Upload to S3 using boto3\n",
    "    # Define S3 keys for each file type\n",
    "    s3_key_csv = \"dodgers/data/standings/dodgers_standings_1958_present.csv\"\n",
    "    s3_key_json = \"dodgers/data/standings/dodgers_standings_1958_present.json\"\n",
    "    s3_key_parquet = \"dodgers/data/standings/dodgers_standings_1958_present.parquet\"\n",
    "\n",
    "    # Upload to S3 using boto3\n",
    "    s3.Bucket(s3_bucket).upload_file(csv_file, s3_key_csv)\n",
    "    s3.Bucket(s3_bucket).upload_file(json_file, s3_key_json)\n",
    "    s3.Bucket(s3_bucket).upload_file(parquet_file, s3_key_parquet)\n",
    "\n",
    "if __name__ == \"__main__\":\n",
    "    main()"
   ]
  },
  {
   "cell_type": "code",
   "execution_count": 13,
   "id": "6f48fc27",
   "metadata": {},
   "outputs": [
    {
     "name": "stdout",
     "output_type": "stream",
     "text": [
      "[NbConvertApp] Converting notebook 01_fetch_process_standings.ipynb to script\n",
      "[NbConvertApp] Writing 5534 bytes to ../01_fetch_process_standings.py\n"
     ]
    }
   ],
   "source": [
    "# Save a copy of notebook as python script\n",
    "# !jupyter nbconvert --to script --no-prompt --output ../01_fetch_process_standings 01_fetch_process_standings.ipynb"
   ]
  }
 ],
 "metadata": {
  "kernelspec": {
   "display_name": "Python 3 (ipykernel)",
   "language": "python",
   "name": "python3"
  },
  "language_info": {
   "codemirror_mode": {
    "name": "ipython",
    "version": 3
   },
   "file_extension": ".py",
   "mimetype": "text/x-python",
   "name": "python",
   "nbconvert_exporter": "python",
   "pygments_lexer": "ipython3",
   "version": "3.9.15"
  }
 },
 "nbformat": 4,
 "nbformat_minor": 5
}
