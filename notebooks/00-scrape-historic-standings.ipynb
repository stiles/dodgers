{
 "cells": [
  {
   "cell_type": "markdown",
   "id": "77ab12ec-6a2c-4fd8-8b1a-45b8e69448cb",
   "metadata": {},
   "source": [
    "# LA Dodgers Standings, 1958-2023\n",
    "> This notebook downloads historic standing tables from [Baseball Reference](https://www.baseball-reference.com/teams/LAD/2024-schedule-scores.shtml) and outputs them to CSV, JSON and Parquet formats for later analysis and visualization."
   ]
  },
  {
   "cell_type": "markdown",
   "id": "277c96d0-48d1-4944-8f3d-369979dbae0c",
   "metadata": {},
   "source": [
    "---"
   ]
  },
  {
   "cell_type": "markdown",
   "id": "b26f152f-1b2c-4231-9752-4ecbe64c4e6a",
   "metadata": {},
   "source": [
    "#### Import Python tools and Jupyter config"
   ]
  },
  {
   "cell_type": "code",
   "execution_count": 216,
   "id": "27cdbea4-067e-40fe-8a0e-52d79145a835",
   "metadata": {},
   "outputs": [],
   "source": [
    "import pandas as pd\n",
    "import jupyter_black\n",
    "from time import sleep\n",
    "from tqdm.notebook import tqdm"
   ]
  },
  {
   "cell_type": "code",
   "execution_count": 217,
   "id": "890c26c6-a7d4-42ff-8d19-ef0d8d6cfb5b",
   "metadata": {
    "tags": []
   },
   "outputs": [],
   "source": [
    "jupyter_black.load()\n",
    "pd.options.display.max_columns = 100\n",
    "pd.options.display.max_rows = 1000\n",
    "pd.options.display.max_colwidth = None"
   ]
  },
  {
   "cell_type": "markdown",
   "id": "fd4c08bc-ce9c-49b0-af2e-877593871769",
   "metadata": {},
   "source": [
    "---"
   ]
  },
  {
   "cell_type": "markdown",
   "id": "0028268b-647d-46db-8dbf-2f3ccf9a0651",
   "metadata": {},
   "source": [
    "## Fetch"
   ]
  },
  {
   "cell_type": "markdown",
   "id": "0e88ea7b-767d-4d28-9c05-0ad7e3cb61c7",
   "metadata": {},
   "source": [
    "#### List comprehension of historic urls"
   ]
  },
  {
   "cell_type": "code",
   "execution_count": null,
   "id": "2c32116e-2db7-40fd-806b-5817806ae5f8",
   "metadata": {},
   "outputs": [],
   "source": [
    "urls = [\n",
    "    f\"https://www.baseball-reference.com/teams/LAD/{year}-schedule-scores.shtml\"\n",
    "    for year in range(1958, 2025)\n",
    "]"
   ]
  },
  {
   "cell_type": "markdown",
   "id": "9bed5334-4cdc-46a9-9aca-bac2238416de",
   "metadata": {},
   "source": [
    "#### Loop through urls, fetch standings table, store in list of dataframes"
   ]
  },
  {
   "cell_type": "code",
   "execution_count": 220,
   "id": "dab1e530-46c5-4f3f-806b-7b2abcf201c9",
   "metadata": {},
   "outputs": [
    {
     "data": {
      "application/vnd.jupyter.widget-view+json": {
       "model_id": "47cf0188465b44718d4893692e55295a",
       "version_major": 2,
       "version_minor": 0
      },
      "text/plain": [
       "  0%|          | 0/67 [00:00<?, ?it/s]"
      ]
     },
     "metadata": {},
     "output_type": "display_data"
    }
   ],
   "source": [
    "dfs = []\n",
    "\n",
    "for url in tqdm(urls):\n",
    "    year = url.split(\"/\")[5].replace(\"-schedule-scores.shtml\", \"\")\n",
    "    src_df = (\n",
    "        pd.read_html(url)[0]\n",
    "        .query(\"Tm !='Tm' and Inn != 'Game Preview, and Matchups'\")\n",
    "        .drop([\"Unnamed: 2\", \"Streak\", \"Orig. Scheduled\"], axis=1)\n",
    "        .rename(columns={\"Unnamed: 4\": \"home_away\"})\n",
    "        .assign(season=year)\n",
    "    )\n",
    "    dfs.append(src_df)\n",
    "    sleep(4)"
   ]
  },
  {
   "cell_type": "markdown",
   "id": "18fd4c9d-e11f-4730-9b66-d116c079902b",
   "metadata": {},
   "source": [
    "#### Concatenate into one historic dataframe"
   ]
  },
  {
   "cell_type": "code",
   "execution_count": 233,
   "id": "675a92e2-9ac9-49a7-b798-2a1d4f5551a6",
   "metadata": {},
   "outputs": [],
   "source": [
    "src = pd.concat(dfs)"
   ]
  },
  {
   "cell_type": "markdown",
   "id": "c2ffee7e-b39b-4a50-8e96-ce0a0d69b6e6",
   "metadata": {},
   "source": [
    "---"
   ]
  },
  {
   "cell_type": "markdown",
   "id": "9903885e-0173-4f30-b072-95d62d11c202",
   "metadata": {},
   "source": [
    "## Process"
   ]
  },
  {
   "cell_type": "markdown",
   "id": "5fc3a5bf-20db-4b2d-8503-bc9584a37fab",
   "metadata": {},
   "source": [
    "#### Clean columns"
   ]
  },
  {
   "cell_type": "code",
   "execution_count": 234,
   "id": "f320417b-6c70-4225-b36c-cc884adf009b",
   "metadata": {},
   "outputs": [],
   "source": [
    "src.columns = src.columns.str.lower().str.replace(\"/\", \"_\").str.replace(\"-\", \"-\")"
   ]
  },
  {
   "cell_type": "code",
   "execution_count": 235,
   "id": "e4fcba0a-62bd-4273-9c5a-138c334d193b",
   "metadata": {},
   "outputs": [],
   "source": [
    "src.columns = [\n",
    "    \"gm\",\n",
    "    \"date\",\n",
    "    \"tm\",\n",
    "    \"home_away\",\n",
    "    \"opp\",\n",
    "    \"result\",\n",
    "    \"r\",\n",
    "    \"ra\",\n",
    "    \"inn\",\n",
    "    \"record\",\n",
    "    \"rank\",\n",
    "    \"gb\",\n",
    "    \"win\",\n",
    "    \"loss\",\n",
    "    \"save\",\n",
    "    \"time\",\n",
    "    \"day_night\",\n",
    "    \"attendance\",\n",
    "    \"cli\",\n",
    "    \"year\",\n",
    "]"
   ]
  },
  {
   "cell_type": "markdown",
   "id": "e6bf6050-d736-4870-b9fd-ff64eb7e30a5",
   "metadata": {},
   "source": [
    "#### Split, format date"
   ]
  },
  {
   "cell_type": "code",
   "execution_count": 236,
   "id": "b44c9d60-6645-4c45-a780-4d83d42a53d1",
   "metadata": {},
   "outputs": [],
   "source": [
    "src[[\"weekday\", \"date\"]] = src[\"date\"].str.split(\", \", expand=True)"
   ]
  },
  {
   "cell_type": "code",
   "execution_count": 237,
   "id": "ff7102a2-3a34-482a-a797-8720c0ec820c",
   "metadata": {},
   "outputs": [],
   "source": [
    "src[\"date\"] = src[\"date\"].str.replace(\" (1)\", \"\").str.replace(\" (2)\", \"\")"
   ]
  },
  {
   "cell_type": "code",
   "execution_count": 238,
   "id": "968559ef-a37d-4933-aff2-cb0fb5081f16",
   "metadata": {},
   "outputs": [],
   "source": [
    "src[\"game_date\"] = pd.to_datetime(src[\"date\"] + \", \" + src[\"year\"], format=\"%b %d, %Y\")"
   ]
  },
  {
   "cell_type": "markdown",
   "id": "e9dcc4ed-691f-453d-a551-e8d55f879f52",
   "metadata": {},
   "source": [
    "#### Clean home-away column"
   ]
  },
  {
   "cell_type": "code",
   "execution_count": 239,
   "id": "1fa462d0-16cf-49f8-b51e-27374d333261",
   "metadata": {},
   "outputs": [],
   "source": [
    "src.loc[src.home_away == \"@\", \"home_away\"] = \"away\"\n",
    "src.loc[src.home_away.isna(), \"home_away\"] = \"home\""
   ]
  },
  {
   "cell_type": "markdown",
   "id": "60765117-ccc4-4cd2-afd9-2bc438e196b1",
   "metadata": {},
   "source": [
    "#### Format \"games back\" as a number (positive = lead; negative = behind)"
   ]
  },
  {
   "cell_type": "code",
   "execution_count": 240,
   "id": "95f41732-4d06-4fa4-82d6-e88d5aff4579",
   "metadata": {},
   "outputs": [],
   "source": [
    "src[\"gb\"] = (\n",
    "    src[\"gb\"].str.replace(\"up \", \"up\").str.replace(\"up\", \"+\").str.replace(\"Tied\", \"0\")\n",
    ")"
   ]
  },
  {
   "cell_type": "code",
   "execution_count": 241,
   "id": "d994ac82-3ee4-406c-ae16-336b448d4697",
   "metadata": {},
   "outputs": [],
   "source": [
    "src[\"gb\"] = src[\"gb\"].apply(\n",
    "    lambda x: float(x) if x.startswith(\"+\") else -float(x) if float(x) != 0 else 0\n",
    ")"
   ]
  },
  {
   "cell_type": "markdown",
   "id": "94ea1c28-9247-4a97-9f77-4c950003ee3e",
   "metadata": {},
   "source": [
    "#### The *number* of games"
   ]
  },
  {
   "cell_type": "code",
   "execution_count": 242,
   "id": "90b51bfa-f337-4ab7-918e-c1d3fbe564d0",
   "metadata": {},
   "outputs": [],
   "source": [
    "src[\"attendance\"] = src[\"attendance\"].fillna(0)\n",
    "src[\"gm\"] = src[\"gm\"].astype(int)\n",
    "src[[\"r\", \"ra\", \"attendance\", \"gm\"]] = src[[\"r\", \"ra\", \"attendance\", \"gm\"]].astype(int)"
   ]
  },
  {
   "cell_type": "markdown",
   "id": "b382c862-880a-4db8-8cba-05c08607d242",
   "metadata": {},
   "source": [
    "#### Convert the 'time' column to timedelta, then to minutes"
   ]
  },
  {
   "cell_type": "code",
   "execution_count": 243,
   "id": "ccdd20ab-6d32-49ed-9bfb-2468411968e4",
   "metadata": {},
   "outputs": [],
   "source": [
    "src[\"time\"] = src[\"time\"] + \":00\""
   ]
  },
  {
   "cell_type": "code",
   "execution_count": 244,
   "id": "ae7c11f5-d12d-42ba-b9ce-20d914c412ad",
   "metadata": {},
   "outputs": [],
   "source": [
    "src[\"time_minutes\"] = pd.to_timedelta(src[\"time\"]).dt.total_seconds() / 60\n",
    "src[\"time_minutes\"] = src[\"time_minutes\"].astype(int)"
   ]
  },
  {
   "cell_type": "markdown",
   "id": "458ff264-8e9a-4a1c-a3ea-27f105b81ac8",
   "metadata": {},
   "source": [
    "#### Just the columns we need, in a clean dataframe"
   ]
  },
  {
   "cell_type": "code",
   "execution_count": 245,
   "id": "1801ab58-c77f-4c77-9250-6103eb3ed55a",
   "metadata": {},
   "outputs": [],
   "source": [
    "df = src[\n",
    "    [\n",
    "        \"gm\",\n",
    "        \"game_date\",\n",
    "        \"home_away\",\n",
    "        \"opp\",\n",
    "        \"result\",\n",
    "        \"r\",\n",
    "        \"ra\",\n",
    "        \"record\",\n",
    "        \"rank\",\n",
    "        \"gb\",\n",
    "        \"time\",\n",
    "        \"time_minutes\",\n",
    "        \"day_night\",\n",
    "        \"attendance\",\n",
    "        \"year\",\n",
    "    ]\n",
    "].copy()"
   ]
  },
  {
   "cell_type": "markdown",
   "id": "ef16a450-81a7-4284-b5d1-81974a1fb42e",
   "metadata": {},
   "source": [
    "---"
   ]
  },
  {
   "cell_type": "markdown",
   "id": "2cedc251-d7e6-4134-9793-72ce4d5a62f4",
   "metadata": {},
   "source": [
    "## Exports"
   ]
  },
  {
   "cell_type": "markdown",
   "id": "d0f77d9e-5f69-4a87-be53-b643029b9c4c",
   "metadata": {},
   "source": [
    "#### CSV format"
   ]
  },
  {
   "cell_type": "code",
   "execution_count": 246,
   "id": "e84208b5-e99e-4a3a-96a3-3325eeea9b96",
   "metadata": {},
   "outputs": [],
   "source": [
    "df.to_csv(\"../data/processed/dodgers_standings_1958_2023.csv\", index=False)"
   ]
  },
  {
   "cell_type": "markdown",
   "id": "830d1f22-c971-4ad4-ae2c-9a1d2c2e4e27",
   "metadata": {},
   "source": [
    "#### JSON"
   ]
  },
  {
   "cell_type": "code",
   "execution_count": 247,
   "id": "caa25ee4-0a65-4423-abea-0d78434c0036",
   "metadata": {},
   "outputs": [],
   "source": [
    "df.to_json(\n",
    "    \"../data/processed/dodgers_standings_1958_2023.json\", indent=4, orient=\"records\"\n",
    ")"
   ]
  },
  {
   "cell_type": "markdown",
   "id": "45b20d5f-dd62-41bf-8437-a768fe8f3359",
   "metadata": {},
   "source": [
    "#### Parquet"
   ]
  },
  {
   "cell_type": "code",
   "execution_count": 248,
   "id": "b466b230-0037-41e7-b47d-76c9e7a79ef6",
   "metadata": {},
   "outputs": [],
   "source": [
    "df.to_parquet(\"../data/processed/dodgers_standings_1958_2023.parquet\", index=False)"
   ]
  },
  {
   "cell_type": "code",
   "execution_count": 249,
   "id": "850bcc67-210b-4e2d-a0a5-1076aa35a558",
   "metadata": {},
   "outputs": [
    {
     "data": {
      "text/plain": [
       "Index(['gm', 'game_date', 'home_away', 'opp', 'result', 'r', 'ra', 'record',\n",
       "       'rank', 'gb', 'time', 'time_minutes', 'day_night', 'attendance',\n",
       "       'year'],\n",
       "      dtype='object')"
      ]
     },
     "execution_count": 249,
     "metadata": {},
     "output_type": "execute_result"
    }
   ],
   "source": [
    "df.columns"
   ]
  },
  {
   "cell_type": "code",
   "execution_count": null,
   "id": "236ecaa8-7fc4-46e9-b453-cafb2cf0ce34",
   "metadata": {},
   "outputs": [],
   "source": []
  },
  {
   "cell_type": "code",
   "execution_count": 250,
   "id": "46f6a396-c17d-4e33-a535-750fab562f96",
   "metadata": {},
   "outputs": [
    {
     "data": {
      "text/html": [
       "<div>\n",
       "<style scoped>\n",
       "    .dataframe tbody tr th:only-of-type {\n",
       "        vertical-align: middle;\n",
       "    }\n",
       "\n",
       "    .dataframe tbody tr th {\n",
       "        vertical-align: top;\n",
       "    }\n",
       "\n",
       "    .dataframe thead th {\n",
       "        text-align: right;\n",
       "    }\n",
       "</style>\n",
       "<table border=\"1\" class=\"dataframe\">\n",
       "  <thead>\n",
       "    <tr style=\"text-align: right;\">\n",
       "      <th></th>\n",
       "      <th>gm</th>\n",
       "      <th>game_date</th>\n",
       "      <th>home_away</th>\n",
       "      <th>opp</th>\n",
       "      <th>result</th>\n",
       "      <th>r</th>\n",
       "      <th>ra</th>\n",
       "      <th>record</th>\n",
       "      <th>rank</th>\n",
       "      <th>gb</th>\n",
       "      <th>time</th>\n",
       "      <th>time_minutes</th>\n",
       "      <th>day_night</th>\n",
       "      <th>attendance</th>\n",
       "      <th>year</th>\n",
       "    </tr>\n",
       "  </thead>\n",
       "  <tbody>\n",
       "    <tr>\n",
       "      <th>7</th>\n",
       "      <td>7</td>\n",
       "      <td>2024-04-01</td>\n",
       "      <td>home</td>\n",
       "      <td>SFG</td>\n",
       "      <td>W</td>\n",
       "      <td>8</td>\n",
       "      <td>3</td>\n",
       "      <td>5-2</td>\n",
       "      <td>1</td>\n",
       "      <td>1.0</td>\n",
       "      <td>2:38:00</td>\n",
       "      <td>158</td>\n",
       "      <td>N</td>\n",
       "      <td>49044</td>\n",
       "      <td>2024</td>\n",
       "    </tr>\n",
       "    <tr>\n",
       "      <th>8</th>\n",
       "      <td>8</td>\n",
       "      <td>2024-04-02</td>\n",
       "      <td>home</td>\n",
       "      <td>SFG</td>\n",
       "      <td>W</td>\n",
       "      <td>5</td>\n",
       "      <td>4</td>\n",
       "      <td>6-2</td>\n",
       "      <td>1</td>\n",
       "      <td>1.0</td>\n",
       "      <td>2:57:00</td>\n",
       "      <td>177</td>\n",
       "      <td>N</td>\n",
       "      <td>49365</td>\n",
       "      <td>2024</td>\n",
       "    </tr>\n",
       "    <tr>\n",
       "      <th>9</th>\n",
       "      <td>9</td>\n",
       "      <td>2024-04-03</td>\n",
       "      <td>home</td>\n",
       "      <td>SFG</td>\n",
       "      <td>W</td>\n",
       "      <td>5</td>\n",
       "      <td>4</td>\n",
       "      <td>7-2</td>\n",
       "      <td>1</td>\n",
       "      <td>2.0</td>\n",
       "      <td>2:25:00</td>\n",
       "      <td>145</td>\n",
       "      <td>N</td>\n",
       "      <td>52746</td>\n",
       "      <td>2024</td>\n",
       "    </tr>\n",
       "    <tr>\n",
       "      <th>10</th>\n",
       "      <td>10</td>\n",
       "      <td>2024-04-05</td>\n",
       "      <td>away</td>\n",
       "      <td>CHC</td>\n",
       "      <td>L</td>\n",
       "      <td>7</td>\n",
       "      <td>9</td>\n",
       "      <td>7-3</td>\n",
       "      <td>1</td>\n",
       "      <td>2.0</td>\n",
       "      <td>2:57:00</td>\n",
       "      <td>177</td>\n",
       "      <td>D</td>\n",
       "      <td>34981</td>\n",
       "      <td>2024</td>\n",
       "    </tr>\n",
       "    <tr>\n",
       "      <th>11</th>\n",
       "      <td>11</td>\n",
       "      <td>2024-04-06</td>\n",
       "      <td>away</td>\n",
       "      <td>CHC</td>\n",
       "      <td>W</td>\n",
       "      <td>4</td>\n",
       "      <td>1</td>\n",
       "      <td>8-3</td>\n",
       "      <td>1</td>\n",
       "      <td>3.0</td>\n",
       "      <td>2:45:00</td>\n",
       "      <td>165</td>\n",
       "      <td>D</td>\n",
       "      <td>41040</td>\n",
       "      <td>2024</td>\n",
       "    </tr>\n",
       "  </tbody>\n",
       "</table>\n",
       "</div>"
      ],
      "text/plain": [
       "    gm  game_date home_away  opp result  r  ra record rank   gb     time  \\\n",
       "7    7 2024-04-01      home  SFG      W  8   3    5-2    1  1.0  2:38:00   \n",
       "8    8 2024-04-02      home  SFG      W  5   4    6-2    1  1.0  2:57:00   \n",
       "9    9 2024-04-03      home  SFG      W  5   4    7-2    1  2.0  2:25:00   \n",
       "10  10 2024-04-05      away  CHC      L  7   9    7-3    1  2.0  2:57:00   \n",
       "11  11 2024-04-06      away  CHC      W  4   1    8-3    1  3.0  2:45:00   \n",
       "\n",
       "    time_minutes day_night  attendance  year  \n",
       "7            158         N       49044  2024  \n",
       "8            177         N       49365  2024  \n",
       "9            145         N       52746  2024  \n",
       "10           177         D       34981  2024  \n",
       "11           165         D       41040  2024  "
      ]
     },
     "execution_count": 250,
     "metadata": {},
     "output_type": "execute_result"
    }
   ],
   "source": [
    "df.tail()"
   ]
  }
 ],
 "metadata": {
  "kernelspec": {
   "display_name": "Python 3 (ipykernel)",
   "language": "python",
   "name": "python3"
  },
  "language_info": {
   "codemirror_mode": {
    "name": "ipython",
    "version": 3
   },
   "file_extension": ".py",
   "mimetype": "text/x-python",
   "name": "python",
   "nbconvert_exporter": "python",
   "pygments_lexer": "ipython3",
   "version": "3.9.15"
  }
 },
 "nbformat": 4,
 "nbformat_minor": 5
}
