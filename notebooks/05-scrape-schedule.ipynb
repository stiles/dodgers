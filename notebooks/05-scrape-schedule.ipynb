{
 "cells": [
  {
   "cell_type": "markdown",
   "id": "77ab12ec-6a2c-4fd8-8b1a-45b8e69448cb",
   "metadata": {},
   "source": [
    "# LA Dodgers schedule\n",
    "> This notebook downloads and processes the team's current schedule from [Major League Baseball](https://www.mlb.com/dodgers/schedule) and outputs the data to CSV, JSON and Parquet formats for later analysis and visualization."
   ]
  },
  {
   "cell_type": "markdown",
   "id": "277c96d0-48d1-4944-8f3d-369979dbae0c",
   "metadata": {},
   "source": [
    "---"
   ]
  },
  {
   "cell_type": "markdown",
   "id": "b26f152f-1b2c-4231-9752-4ecbe64c4e6a",
   "metadata": {},
   "source": [
    "#### Import Python tools and Jupyter config"
   ]
  },
  {
   "cell_type": "code",
   "execution_count": 32,
   "id": "27cdbea4-067e-40fe-8a0e-52d79145a835",
   "metadata": {},
   "outputs": [],
   "source": [
    "import requests\n",
    "import pandas as pd\n",
    "import jupyter_black\n",
    "from pandas import json_normalize\n",
    "from datetime import datetime, timedelta"
   ]
  },
  {
   "cell_type": "code",
   "execution_count": 33,
   "id": "4fec1b45-6a7b-4ca8-adbd-fb3e5a2da04b",
   "metadata": {
    "tags": []
   },
   "outputs": [],
   "source": [
    "jupyter_black.load()\n",
    "pd.options.display.max_columns = 100\n",
    "pd.options.display.max_rows = 1000\n",
    "pd.options.display.max_colwidth = None"
   ]
  },
  {
   "cell_type": "markdown",
   "id": "fd4c08bc-ce9c-49b0-af2e-877593871769",
   "metadata": {},
   "source": [
    "---"
   ]
  },
  {
   "cell_type": "markdown",
   "id": "0028268b-647d-46db-8dbf-2f3ccf9a0651",
   "metadata": {},
   "source": [
    "## Fetch"
   ]
  },
  {
   "cell_type": "markdown",
   "id": "0e88ea7b-767d-4d28-9c05-0ad7e3cb61c7",
   "metadata": {},
   "source": [
    "#### Function for date ranges in the request"
   ]
  },
  {
   "cell_type": "code",
   "execution_count": 35,
   "id": "a1bdbe55-ab63-40a4-b4da-a8546c1c04cf",
   "metadata": {},
   "outputs": [],
   "source": [
    "def generate_date_ranges(start_date, end_date, delta_days=45):\n",
    "    \"\"\"Generate start and end dates for each API request within the allowed range.\"\"\"\n",
    "    current_date = start_date\n",
    "    while current_date < end_date:\n",
    "        yield (\n",
    "            current_date,\n",
    "            min(end_date, current_date + timedelta(days=delta_days - 1)),\n",
    "        )\n",
    "        current_date += timedelta(days=delta_days)"
   ]
  },
  {
   "cell_type": "markdown",
   "id": "28b1eaa5-137e-4396-baf8-d4b6d31fa0d5",
   "metadata": {},
   "source": [
    "#### Setup for API requests"
   ]
  },
  {
   "cell_type": "code",
   "execution_count": 36,
   "id": "c6131bfe-c560-4edf-8bb5-28c3a89e7b63",
   "metadata": {},
   "outputs": [],
   "source": [
    "headers = {\n",
    "    \"sec-ch-ua\": '\"Google Chrome\";v=\"123\", \"Not:A-Brand\";v=\"8\", \"Chromium\";v=\"123\"',\n",
    "    \"Accept\": \"application/json, text/javascript, */*; q=0.01\",\n",
    "    \"Referer\": \"https://www.mlb.com/\",\n",
    "    \"sec-ch-ua-mobile\": \"?0\",\n",
    "    \"User-Agent\": \"Mozilla/5.0 (Macintosh; Intel Mac OS X 10_15_7) AppleWebKit/537.36 (KHTML, like Gecko) Chrome/123.0.0.0 Safari/537.36\",\n",
    "    \"sec-ch-ua-platform\": '\"macOS\"',\n",
    "}"
   ]
  },
  {
   "cell_type": "code",
   "execution_count": 37,
   "id": "8cc56bb1-5762-40b5-b1f6-51fa0950368b",
   "metadata": {},
   "outputs": [],
   "source": [
    "base_url = \"https://statsapi.mlb.com/api/v1/schedule\""
   ]
  },
  {
   "cell_type": "code",
   "execution_count": 38,
   "id": "f2197318-7325-4209-b664-b21b1ac6fdcc",
   "metadata": {},
   "outputs": [],
   "source": [
    "# Define the season's date range\n",
    "season_start = datetime(2024, 4, 1)\n",
    "season_end = datetime(2024, 9, 30)"
   ]
  },
  {
   "cell_type": "code",
   "execution_count": 39,
   "id": "20527eea-aea1-44c4-82f9-bd42f8ab2095",
   "metadata": {},
   "outputs": [],
   "source": [
    "# Collect data for all date ranges\n",
    "all_games = []\n",
    "for start, end in generate_date_ranges(season_start, season_end):\n",
    "    params = {\n",
    "        \"lang\": \"en\",\n",
    "        \"sportIds\": \"1\",\n",
    "        \"hydrate\": \"team(venue(timezone)),venue(timezone),game(seriesStatus,seriesSummary,tickets,promotions,sponsorships,content(summary,media(epg))),seriesStatus,seriesSummary,broadcasts(all),linescore,tickets,event(tickets,game,sport,league,status,xref),radioBroadcasts\",\n",
    "        \"season\": \"2024\",\n",
    "        \"startDate\": start.strftime(\"%Y-%m-%d\"),\n",
    "        \"endDate\": end.strftime(\"%Y-%m-%d\"),\n",
    "        \"teamId\": \"119\",  # LA Dodgers teamId\n",
    "        \"timeZone\": \"America/Los_Angeles\",\n",
    "        \"eventTypes\": \"primary\",\n",
    "        \"scheduleTypes\": \"games,events,xref\",\n",
    "    }\n",
    "    response = requests.get(base_url, headers=headers, params=params)\n",
    "    if response.status_code == 200:\n",
    "        games = response.json().get(\"dates\", [])\n",
    "        all_games.extend(games)\n",
    "    else:\n",
    "        print(f\"Failed to fetch data for range {start} to {end}\")"
   ]
  },
  {
   "cell_type": "code",
   "execution_count": 40,
   "id": "6ff6d4a8-2cbc-4ea3-88f9-aaaec1a8b5f2",
   "metadata": {},
   "outputs": [],
   "source": [
    "# Optionally convert to DataFrame\n",
    "games_df = pd.json_normalize(\n",
    "    all_games, record_path=[\"games\"], meta=[\"date\"], errors=\"ignore\"\n",
    ")"
   ]
  },
  {
   "cell_type": "code",
   "execution_count": 41,
   "id": "ad85a4bd-abed-43a9-a2f1-71972575b9bd",
   "metadata": {},
   "outputs": [
    {
     "ename": "TypeError",
     "evalue": "Already tz-aware, use tz_convert to convert.",
     "output_type": "error",
     "traceback": [
      "\u001b[0;31m---------------------------------------------------------------------------\u001b[0m",
      "\u001b[0;31mTypeError\u001b[0m                                 Traceback (most recent call last)",
      "Cell \u001b[0;32mIn[41], line 86\u001b[0m\n\u001b[1;32m     83\u001b[0m games_df[\u001b[38;5;124m'\u001b[39m\u001b[38;5;124mHome Win\u001b[39m\u001b[38;5;124m'\u001b[39m] \u001b[38;5;241m=\u001b[39m games_df[\u001b[38;5;124m'\u001b[39m\u001b[38;5;124mHome Win\u001b[39m\u001b[38;5;124m'\u001b[39m]\u001b[38;5;241m.\u001b[39mapply(\u001b[38;5;28;01mlambda\u001b[39;00m x: \u001b[38;5;124m'\u001b[39m\u001b[38;5;124mWin\u001b[39m\u001b[38;5;124m'\u001b[39m \u001b[38;5;28;01mif\u001b[39;00m x \u001b[38;5;28;01melse\u001b[39;00m \u001b[38;5;124m'\u001b[39m\u001b[38;5;124mLose\u001b[39m\u001b[38;5;124m'\u001b[39m)\n\u001b[1;32m     85\u001b[0m \u001b[38;5;66;03m# Convert gameDate to just the date part and local timezone adjustment if needed\u001b[39;00m\n\u001b[0;32m---> 86\u001b[0m games_df[\u001b[38;5;124m'\u001b[39m\u001b[38;5;124mGame Date\u001b[39m\u001b[38;5;124m'\u001b[39m] \u001b[38;5;241m=\u001b[39m \u001b[43mpd\u001b[49m\u001b[38;5;241;43m.\u001b[39;49m\u001b[43mto_datetime\u001b[49m\u001b[43m(\u001b[49m\u001b[43mgames_df\u001b[49m\u001b[43m[\u001b[49m\u001b[38;5;124;43m'\u001b[39;49m\u001b[38;5;124;43mGame Date\u001b[39;49m\u001b[38;5;124;43m'\u001b[39;49m\u001b[43m]\u001b[49m\u001b[43m)\u001b[49m\u001b[38;5;241;43m.\u001b[39;49m\u001b[43mdt\u001b[49m\u001b[38;5;241;43m.\u001b[39;49m\u001b[43mtz_localize\u001b[49m\u001b[43m(\u001b[49m\u001b[38;5;124;43m'\u001b[39;49m\u001b[38;5;124;43mUTC\u001b[39;49m\u001b[38;5;124;43m'\u001b[39;49m\u001b[43m)\u001b[49m\u001b[38;5;241m.\u001b[39mdt\u001b[38;5;241m.\u001b[39mtz_convert(\u001b[38;5;124m'\u001b[39m\u001b[38;5;124mAmerica/Los_Angeles\u001b[39m\u001b[38;5;124m'\u001b[39m)\u001b[38;5;241m.\u001b[39mdt\u001b[38;5;241m.\u001b[39mstrftime(\u001b[38;5;124m'\u001b[39m\u001b[38;5;124m%\u001b[39m\u001b[38;5;124mY-\u001b[39m\u001b[38;5;124m%\u001b[39m\u001b[38;5;124mm-\u001b[39m\u001b[38;5;132;01m%d\u001b[39;00m\u001b[38;5;124m \u001b[39m\u001b[38;5;124m%\u001b[39m\u001b[38;5;124mH:\u001b[39m\u001b[38;5;124m%\u001b[39m\u001b[38;5;124mM:\u001b[39m\u001b[38;5;124m%\u001b[39m\u001b[38;5;124mS\u001b[39m\u001b[38;5;124m'\u001b[39m)\n\u001b[1;32m     88\u001b[0m \u001b[38;5;28mprint\u001b[39m(games_df)\n",
      "File \u001b[0;32m~/.local/share/virtualenvs/dodgers-3mN3FOuF/lib/python3.9/site-packages/pandas/core/accessor.py:112\u001b[0m, in \u001b[0;36mPandasDelegate._add_delegate_accessors.<locals>._create_delegator_method.<locals>.f\u001b[0;34m(self, *args, **kwargs)\u001b[0m\n\u001b[1;32m    111\u001b[0m \u001b[38;5;28;01mdef\u001b[39;00m \u001b[38;5;21mf\u001b[39m(\u001b[38;5;28mself\u001b[39m, \u001b[38;5;241m*\u001b[39margs, \u001b[38;5;241m*\u001b[39m\u001b[38;5;241m*\u001b[39mkwargs):\n\u001b[0;32m--> 112\u001b[0m     \u001b[38;5;28;01mreturn\u001b[39;00m \u001b[38;5;28;43mself\u001b[39;49m\u001b[38;5;241;43m.\u001b[39;49m\u001b[43m_delegate_method\u001b[49m\u001b[43m(\u001b[49m\u001b[43mname\u001b[49m\u001b[43m,\u001b[49m\u001b[43m \u001b[49m\u001b[38;5;241;43m*\u001b[39;49m\u001b[43margs\u001b[49m\u001b[43m,\u001b[49m\u001b[43m \u001b[49m\u001b[38;5;241;43m*\u001b[39;49m\u001b[38;5;241;43m*\u001b[39;49m\u001b[43mkwargs\u001b[49m\u001b[43m)\u001b[49m\n",
      "File \u001b[0;32m~/.local/share/virtualenvs/dodgers-3mN3FOuF/lib/python3.9/site-packages/pandas/core/indexes/accessors.py:132\u001b[0m, in \u001b[0;36mProperties._delegate_method\u001b[0;34m(self, name, *args, **kwargs)\u001b[0m\n\u001b[1;32m    129\u001b[0m values \u001b[38;5;241m=\u001b[39m \u001b[38;5;28mself\u001b[39m\u001b[38;5;241m.\u001b[39m_get_values()\n\u001b[1;32m    131\u001b[0m method \u001b[38;5;241m=\u001b[39m \u001b[38;5;28mgetattr\u001b[39m(values, name)\n\u001b[0;32m--> 132\u001b[0m result \u001b[38;5;241m=\u001b[39m \u001b[43mmethod\u001b[49m\u001b[43m(\u001b[49m\u001b[38;5;241;43m*\u001b[39;49m\u001b[43margs\u001b[49m\u001b[43m,\u001b[49m\u001b[43m \u001b[49m\u001b[38;5;241;43m*\u001b[39;49m\u001b[38;5;241;43m*\u001b[39;49m\u001b[43mkwargs\u001b[49m\u001b[43m)\u001b[49m\n\u001b[1;32m    134\u001b[0m \u001b[38;5;28;01mif\u001b[39;00m \u001b[38;5;129;01mnot\u001b[39;00m is_list_like(result):\n\u001b[1;32m    135\u001b[0m     \u001b[38;5;28;01mreturn\u001b[39;00m result\n",
      "File \u001b[0;32m~/.local/share/virtualenvs/dodgers-3mN3FOuF/lib/python3.9/site-packages/pandas/core/indexes/datetimes.py:293\u001b[0m, in \u001b[0;36mDatetimeIndex.tz_localize\u001b[0;34m(self, tz, ambiguous, nonexistent)\u001b[0m\n\u001b[1;32m    286\u001b[0m \u001b[38;5;129m@doc\u001b[39m(DatetimeArray\u001b[38;5;241m.\u001b[39mtz_localize)\n\u001b[1;32m    287\u001b[0m \u001b[38;5;28;01mdef\u001b[39;00m \u001b[38;5;21mtz_localize\u001b[39m(\n\u001b[1;32m    288\u001b[0m     \u001b[38;5;28mself\u001b[39m,\n\u001b[0;32m   (...)\u001b[0m\n\u001b[1;32m    291\u001b[0m     nonexistent: TimeNonexistent \u001b[38;5;241m=\u001b[39m \u001b[38;5;124m\"\u001b[39m\u001b[38;5;124mraise\u001b[39m\u001b[38;5;124m\"\u001b[39m,\n\u001b[1;32m    292\u001b[0m ) \u001b[38;5;241m-\u001b[39m\u001b[38;5;241m>\u001b[39m Self:\n\u001b[0;32m--> 293\u001b[0m     arr \u001b[38;5;241m=\u001b[39m \u001b[38;5;28;43mself\u001b[39;49m\u001b[38;5;241;43m.\u001b[39;49m\u001b[43m_data\u001b[49m\u001b[38;5;241;43m.\u001b[39;49m\u001b[43mtz_localize\u001b[49m\u001b[43m(\u001b[49m\u001b[43mtz\u001b[49m\u001b[43m,\u001b[49m\u001b[43m \u001b[49m\u001b[43mambiguous\u001b[49m\u001b[43m,\u001b[49m\u001b[43m \u001b[49m\u001b[43mnonexistent\u001b[49m\u001b[43m)\u001b[49m\n\u001b[1;32m    294\u001b[0m     \u001b[38;5;28;01mreturn\u001b[39;00m \u001b[38;5;28mtype\u001b[39m(\u001b[38;5;28mself\u001b[39m)\u001b[38;5;241m.\u001b[39m_simple_new(arr, name\u001b[38;5;241m=\u001b[39m\u001b[38;5;28mself\u001b[39m\u001b[38;5;241m.\u001b[39mname)\n",
      "File \u001b[0;32m~/.local/share/virtualenvs/dodgers-3mN3FOuF/lib/python3.9/site-packages/pandas/core/arrays/_mixins.py:81\u001b[0m, in \u001b[0;36mravel_compat.<locals>.method\u001b[0;34m(self, *args, **kwargs)\u001b[0m\n\u001b[1;32m     78\u001b[0m \u001b[38;5;129m@wraps\u001b[39m(meth)\n\u001b[1;32m     79\u001b[0m \u001b[38;5;28;01mdef\u001b[39;00m \u001b[38;5;21mmethod\u001b[39m(\u001b[38;5;28mself\u001b[39m, \u001b[38;5;241m*\u001b[39margs, \u001b[38;5;241m*\u001b[39m\u001b[38;5;241m*\u001b[39mkwargs):\n\u001b[1;32m     80\u001b[0m     \u001b[38;5;28;01mif\u001b[39;00m \u001b[38;5;28mself\u001b[39m\u001b[38;5;241m.\u001b[39mndim \u001b[38;5;241m==\u001b[39m \u001b[38;5;241m1\u001b[39m:\n\u001b[0;32m---> 81\u001b[0m         \u001b[38;5;28;01mreturn\u001b[39;00m \u001b[43mmeth\u001b[49m\u001b[43m(\u001b[49m\u001b[38;5;28;43mself\u001b[39;49m\u001b[43m,\u001b[49m\u001b[43m \u001b[49m\u001b[38;5;241;43m*\u001b[39;49m\u001b[43margs\u001b[49m\u001b[43m,\u001b[49m\u001b[43m \u001b[49m\u001b[38;5;241;43m*\u001b[39;49m\u001b[38;5;241;43m*\u001b[39;49m\u001b[43mkwargs\u001b[49m\u001b[43m)\u001b[49m\n\u001b[1;32m     83\u001b[0m     flags \u001b[38;5;241m=\u001b[39m \u001b[38;5;28mself\u001b[39m\u001b[38;5;241m.\u001b[39m_ndarray\u001b[38;5;241m.\u001b[39mflags\n\u001b[1;32m     84\u001b[0m     flat \u001b[38;5;241m=\u001b[39m \u001b[38;5;28mself\u001b[39m\u001b[38;5;241m.\u001b[39mravel(\u001b[38;5;124m\"\u001b[39m\u001b[38;5;124mK\u001b[39m\u001b[38;5;124m\"\u001b[39m)\n",
      "File \u001b[0;32m~/.local/share/virtualenvs/dodgers-3mN3FOuF/lib/python3.9/site-packages/pandas/core/arrays/datetimes.py:1083\u001b[0m, in \u001b[0;36mDatetimeArray.tz_localize\u001b[0;34m(self, tz, ambiguous, nonexistent)\u001b[0m\n\u001b[1;32m   1081\u001b[0m         new_dates \u001b[38;5;241m=\u001b[39m tz_convert_from_utc(\u001b[38;5;28mself\u001b[39m\u001b[38;5;241m.\u001b[39masi8, \u001b[38;5;28mself\u001b[39m\u001b[38;5;241m.\u001b[39mtz, reso\u001b[38;5;241m=\u001b[39m\u001b[38;5;28mself\u001b[39m\u001b[38;5;241m.\u001b[39m_creso)\n\u001b[1;32m   1082\u001b[0m     \u001b[38;5;28;01melse\u001b[39;00m:\n\u001b[0;32m-> 1083\u001b[0m         \u001b[38;5;28;01mraise\u001b[39;00m \u001b[38;5;167;01mTypeError\u001b[39;00m(\u001b[38;5;124m\"\u001b[39m\u001b[38;5;124mAlready tz-aware, use tz_convert to convert.\u001b[39m\u001b[38;5;124m\"\u001b[39m)\n\u001b[1;32m   1084\u001b[0m \u001b[38;5;28;01melse\u001b[39;00m:\n\u001b[1;32m   1085\u001b[0m     tz \u001b[38;5;241m=\u001b[39m timezones\u001b[38;5;241m.\u001b[39mmaybe_get_tz(tz)\n",
      "\u001b[0;31mTypeError\u001b[0m: Already tz-aware, use tz_convert to convert."
     ]
    }
   ],
   "source": [
    "import pandas as pd\n",
    "\n",
    "\n",
    "# Sample JSON Data (simulating the response you might get from the API)\n",
    "data = {\n",
    "    \"date\": \"2024-04-01\",\n",
    "    \"games\": [\n",
    "        {\n",
    "            \"gamePk\": 746170,\n",
    "            \"link\": \"/api/v1.1/game/746170/feed/live\",\n",
    "            \"gameType\": \"R\",\n",
    "            \"season\": \"2024\",\n",
    "            \"gameDate\": \"2024-04-01T19:10:00-07:00\",\n",
    "            \"status\": {\n",
    "                \"abstractGameState\": \"Final\",\n",
    "                \"codedGameState\": \"F\",\n",
    "                \"detailedState\": \"Final\",\n",
    "                \"statusCode\": \"F\",\n",
    "                \"startTimeTBD\": False,\n",
    "                \"abstractGameCode\": \"F\"\n",
    "            },\n",
    "            \"teams\": {\n",
    "                \"away\": {\n",
    "                    \"score\": 3,\n",
    "                    \"team\": {\n",
    "                        \"id\": 137,\n",
    "                        \"name\": \"San Francisco Giants\",\n",
    "                        \"link\": \"/api/v1/teams/137\"\n",
    "                    },\n",
    "                    \"isWinner\": False,\n",
    "                    \"splitSquad\": False,\n",
    "                    \"seriesNumber\": 2\n",
    "                },\n",
    "                \"home\": {\n",
    "                    \"score\": 8,\n",
    "                    \"team\": {\n",
    "                        \"id\": 119,\n",
    "                        \"name\": \"Los Angeles Dodgers\",\n",
    "                        \"link\": \"/api/v1/teams/119\"\n",
    "                    },\n",
    "                    \"isWinner\": True,\n",
    "                    \"splitSquad\": False,\n",
    "                    \"seriesNumber\": 3\n",
    "                }\n",
    "            },\n",
    "            \"venue\": {\n",
    "                \"id\": 22,\n",
    "                \"name\": \"Dodger Stadium\",\n",
    "                \"link\": \"/api/v1/venues/22\"\n",
    "            }\n",
    "        }\n",
    "    ]\n",
    "}\n",
    "\n",
    "# Using json_normalize to convert JSON to DataFrame\n",
    "games_data = json_normalize(\n",
    "    data['games'],\n",
    "    sep='_'\n",
    ")\n",
    "\n",
    "# Selecting and renaming the necessary columns\n",
    "games_df = games_data[[\n",
    "    'gameDate',\n",
    "    'venue_name',\n",
    "    'teams_home_team_name',\n",
    "    'teams_away_team_name',\n",
    "    'teams_home_score',\n",
    "    'teams_away_score',\n",
    "    'teams_home_isWinner'\n",
    "]].copy()\n",
    "\n",
    "games_df.columns = [\n",
    "    'Game Date',\n",
    "    'Venue',\n",
    "    'Home Team',\n",
    "    'Away Team',\n",
    "    'Home Score',\n",
    "    'Away Score',\n",
    "    'Home Win'\n",
    "]\n",
    "\n",
    "# Convert 'Home Win' from boolean to string for clarity\n",
    "games_df['Home Win'] = games_df['Home Win'].apply(lambda x: 'Win' if x else 'Lose')\n",
    "\n",
    "# Convert gameDate to just the date part and local timezone adjustment if needed\n",
    "games_df['Game Date'] = pd.to_datetime(games_df['Game Date']).dt.tz_localize('UTC').dt.tz_convert('America/Los_Angeles').dt.strftime('%Y-%m-%d %H:%M:%S')\n",
    "\n",
    "print(games_df)\n"
   ]
  },
  {
   "cell_type": "code",
   "execution_count": null,
   "id": "c73ae4ca-dc01-441b-8e6e-b257c2d467cb",
   "metadata": {},
   "outputs": [],
   "source": []
  },
  {
   "cell_type": "code",
   "execution_count": null,
   "id": "024303a4-9eed-4ae3-91c7-d43fe96a3929",
   "metadata": {},
   "outputs": [],
   "source": []
  },
  {
   "cell_type": "code",
   "execution_count": null,
   "id": "0924e4d1-f911-446d-984c-f8d5ec009c49",
   "metadata": {},
   "outputs": [],
   "source": []
  },
  {
   "cell_type": "code",
   "execution_count": null,
   "id": "947e0423-9ec5-496a-a7c5-d44965bb5835",
   "metadata": {},
   "outputs": [],
   "source": [
    "print(games_df.head())  # Print the first few rows to check\n",
    "\n",
    "# Save to CSV\n",
    "games_df.to_csv(\"dodgers_2024_schedule.csv\", index=False)"
   ]
  },
  {
   "cell_type": "code",
   "execution_count": null,
   "id": "a65153a5-fc15-48b9-b53c-a3722bb6f05d",
   "metadata": {},
   "outputs": [],
   "source": []
  },
  {
   "cell_type": "code",
   "execution_count": null,
   "id": "a0a62c6e-0d59-4492-84d5-7a0dc0e3ab03",
   "metadata": {},
   "outputs": [],
   "source": []
  },
  {
   "cell_type": "markdown",
   "id": "25031975-9bda-4a0e-8d17-c54ae4205a97",
   "metadata": {},
   "source": [
    "---"
   ]
  },
  {
   "cell_type": "markdown",
   "id": "4c5ade52-998c-4224-a19f-e9fbf1584ac0",
   "metadata": {},
   "source": [
    "## Export"
   ]
  },
  {
   "cell_type": "markdown",
   "id": "7fe096c2-9081-42ac-8453-cda66c8ae8d0",
   "metadata": {},
   "source": [
    "#### Function to save dataframes with different formats and file extensions"
   ]
  },
  {
   "cell_type": "code",
   "execution_count": 23,
   "id": "def3ffac-6939-429b-8e39-b9ad2c43ae41",
   "metadata": {},
   "outputs": [],
   "source": [
    "def save_dataframe(df, path_without_extension, formats):\n",
    "    \"\"\"\n",
    "    Save DataFrames in multiple formats.\n",
    "    \"\"\"\n",
    "    for file_format in formats:\n",
    "        if file_format == \"csv\":\n",
    "            df.to_csv(f\"{path_without_extension}.{file_format}\", index=False)\n",
    "        elif file_format == \"json\":\n",
    "            df.to_json(\n",
    "                f\"{path_without_extension}.{file_format}\", indent=4, orient=\"records\"\n",
    "            )\n",
    "        elif file_format == \"parquet\":\n",
    "            df.to_parquet(f\"{path_without_extension}.{file_format}\", index=False)\n",
    "        else:\n",
    "            print(f\"Unsupported format: {file_format}\")"
   ]
  },
  {
   "cell_type": "code",
   "execution_count": 24,
   "id": "626e737f-2164-489a-9b24-6a3dff14bda3",
   "metadata": {},
   "outputs": [],
   "source": [
    "formats = [\"csv\", \"json\", \"parquet\"]\n",
    "save_dataframe(\n",
    "    players_full_df,\n",
    "    f\"../data/batting/dodgers_player_batting_1958_present\",\n",
    "    formats,\n",
    ")\n",
    "save_dataframe(\n",
    "    team_full_df, f\"../data/batting/dodgers_team_batting_1958_present\", formats\n",
    ")\n",
    "save_dataframe(\n",
    "    team_ranks_full_df,\n",
    "    f\"../data/batting/dodgers_team_batting_ranks_1958_present\",\n",
    "    formats,\n",
    ")"
   ]
  }
 ],
 "metadata": {
  "kernelspec": {
   "display_name": "Python 3 (ipykernel)",
   "language": "python",
   "name": "python3"
  },
  "language_info": {
   "codemirror_mode": {
    "name": "ipython",
    "version": 3
   },
   "file_extension": ".py",
   "mimetype": "text/x-python",
   "name": "python",
   "nbconvert_exporter": "python",
   "pygments_lexer": "ipython3",
   "version": "3.9.15"
  }
 },
 "nbformat": 4,
 "nbformat_minor": 5
}
