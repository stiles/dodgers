{
 "cells": [
  {
   "cell_type": "code",
   "execution_count": 1,
   "id": "32848bc8-2747-48d9-b9ab-f041df414255",
   "metadata": {},
   "outputs": [],
   "source": [
    "#!/usr/bin/env python\n",
    "# coding: utf-8\n",
    "\n",
    "import os\n",
    "import requests\n",
    "import datetime\n",
    "import pandas as pd\n",
    "from io import BytesIO\n",
    "import boto3\n",
    "import logging"
   ]
  },
  {
   "cell_type": "code",
   "execution_count": 2,
   "id": "f152603c-694e-4c17-b28f-140883165a8e",
   "metadata": {},
   "outputs": [
    {
     "name": "stderr",
     "output_type": "stream",
     "text": [
      "2024-05-29 10:40:06,475 - INFO - Found credentials in shared credentials file: ~/.aws/credentials\n"
     ]
    }
   ],
   "source": [
    "# Set up basic configuration for logging\n",
    "logging.basicConfig(\n",
    "    level=logging.INFO, format=\"%(asctime)s - %(levelname)s - %(message)s\"\n",
    ")\n",
    "\n",
    "# Determine if running in a GitHub Actions environment\n",
    "is_github_actions = os.getenv(\"GITHUB_ACTIONS\") == \"true\"\n",
    "\n",
    "# AWS credentials and session initialization\n",
    "aws_key_id = os.environ.get(\"AWS_ACCESS_KEY_ID\")\n",
    "aws_secret_key = os.environ.get(\"AWS_SECRET_ACCESS_KEY\")\n",
    "aws_region = \"us-west-1\"\n",
    "\n",
    "# Conditional AWS session creation based on the environment\n",
    "if is_github_actions:\n",
    "    # In GitHub Actions, use environment variables directly\n",
    "    session = boto3.Session(\n",
    "        aws_access_key_id=aws_key_id,\n",
    "        aws_secret_access_key=aws_secret_key,\n",
    "        region_name=aws_region,\n",
    "    )\n",
    "else:\n",
    "    # Locally, use a specific profile\n",
    "    session = boto3.Session(profile_name=\"haekeo\", region_name=aws_region)\n",
    "\n",
    "s3_resource = session.resource(\"s3\")\n",
    "\n",
    "# Base directory settings\n",
    "base_dir = os.getcwd()\n",
    "data_dir = os.path.join(base_dir, \"data\", \"batting\")\n",
    "# os.makedirs(data_dir, exist_ok=True)\n",
    "\n",
    "profile_name = os.environ.get(\"AWS_PERSONAL_PROFILE\")\n",
    "today = datetime.date.today()\n",
    "year = today.year"
   ]
  },
  {
   "cell_type": "code",
   "execution_count": 3,
   "id": "9e7fee31-5e92-4df3-81e5-860cd188b5b8",
   "metadata": {},
   "outputs": [],
   "source": [
    "# Headers for requests\n",
    "headers = {\n",
    "    \"sec-ch-ua\": '\"Chromium\";v=\"124\", \"Google Chrome\";v=\"124\", \"Not-A.Brand\";v=\"99\"',\n",
    "    \"User-Agent\": \"Mozilla/5.0 (Macintosh; Intel Mac OS X 10_15_7) AppleWebKit/537.36 (KHTML, like Gecko) Chrome/124.0.0.0 Safari/537.36\",\n",
    "    \"sec-ch-ua-platform\": '\"macOS\"',\n",
    "}"
   ]
  },
  {
   "cell_type": "code",
   "execution_count": 4,
   "id": "107ed2a2-60be-423f-8600-ada1717608a2",
   "metadata": {},
   "outputs": [],
   "source": [
    "batter_list = requests.get(\n",
    "    \"https://bdfed.stitch.mlbinfra.com/bdfed/stats/player?&env=prod&season=2024&sportId=1&stats=season&group=hitting&gameType=R&offset=0&sortStat=plateAppearances&order=desc&teamId=119\",\n",
    "    headers=headers,\n",
    ")"
   ]
  },
  {
   "cell_type": "code",
   "execution_count": 5,
   "id": "fa9a4b83-b6ca-4b42-956d-9ea7f8d4c623",
   "metadata": {},
   "outputs": [],
   "source": [
    "cols = [\n",
    "    \"playerName\",\n",
    "    \"positionAbbrev\",\n",
    "    \"plateAppearances\",\n",
    "    \"totalBases\",\n",
    "    \"leftOnBase\",\n",
    "    \"extraBaseHits\",\n",
    "    \"pitchesPerPlateAppearance\",\n",
    "    \"walksPerPlateAppearance\",\n",
    "    \"strikeoutsPerPlateAppearance\",\n",
    "    \"homeRunsPerPlateAppearance\",\n",
    "    \"flyOuts\",\n",
    "    \"totalSwings\",\n",
    "    \"swingAndMisses\",\n",
    "    \"ballsInPlay\",\n",
    "    \"popOuts\",\n",
    "    \"lineOuts\",\n",
    "    \"groundOuts\",\n",
    "    \"flyHits\",\n",
    "    \"popHits\",\n",
    "    \"lineHits\",\n",
    "    \"groundHits\",\n",
    "    \"gamesPlayed\",\n",
    "    \"airOuts\",\n",
    "    \"runs\",\n",
    "    \"doubles\",\n",
    "    \"triples\",\n",
    "    \"homeRuns\",\n",
    "    \"strikeOuts\",\n",
    "    \"baseOnBalls\",\n",
    "    \"intentionalWalks\",\n",
    "    \"hits\",\n",
    "    \"avg\",\n",
    "    \"atBats\",\n",
    "    \"obp\",\n",
    "    \"slg\",\n",
    "    \"ops\",\n",
    "    \"stolenBases\",\n",
    "    \"groundIntoDoublePlay\",\n",
    "    \"rbi\",\n",
    "]"
   ]
  },
  {
   "cell_type": "code",
   "execution_count": null,
   "id": "75817e0b-e3bc-425c-8aff-5b9f24328b3b",
   "metadata": {},
   "outputs": [],
   "source": [
    "df = pd.DataFrame(batter_list.json()[\"stats\"])[cols].rename(\n",
    "    columns={\n",
    "        \"playerName\": \"player\",\n",
    "        \"positionAbbrev\": \"postion\",\n",
    "        \"walksPerPlateAppearance\": \"bbper\",\n",
    "        \"strikeoutsPerPlateAppearance\": \"soper\",\n",
    "        \"homeRunsPerPlateAppearance\": \"hrper\",\n",
    "    }\n",
    ")"
   ]
  },
  {
   "cell_type": "code",
   "execution_count": 11,
   "id": "a25574ed-488d-4bdd-9880-64f04cfc2327",
   "metadata": {},
   "outputs": [
    {
     "data": {
      "text/plain": [
       "Index(['year', 'playerId', 'playerName', 'type', 'rank', 'playerFullName',\n",
       "       'playerFirstName', 'playerLastName', 'playerUseName',\n",
       "       'playerInitLastName', 'teamId', 'teamAbbrev', 'teamName',\n",
       "       'teamShortName', 'leagueName', 'leagueId', 'positionAbbrev', 'position',\n",
       "       'primaryPositionAbbrev', 'plateAppearances', 'totalBases', 'leftOnBase',\n",
       "       'sacBunts', 'sacFlies', 'babip', 'extraBaseHits', 'hitByPitch', 'gidp',\n",
       "       'gidpOpp', 'numberOfPitches', 'pitchesPerPlateAppearance',\n",
       "       'walksPerPlateAppearance', 'strikeoutsPerPlateAppearance',\n",
       "       'homeRunsPerPlateAppearance', 'walksPerStrikeout', 'iso',\n",
       "       'reachedOnError', 'walkOffs', 'flyOuts', 'totalSwings',\n",
       "       'swingAndMisses', 'ballsInPlay', 'popOuts', 'lineOuts', 'groundOuts',\n",
       "       'flyHits', 'popHits', 'lineHits', 'groundHits', 'gamesPlayed',\n",
       "       'airOuts', 'runs', 'doubles', 'triples', 'homeRuns', 'strikeOuts',\n",
       "       'baseOnBalls', 'intentionalWalks', 'hits', 'avg', 'atBats', 'obp',\n",
       "       'slg', 'ops', 'caughtStealing', 'stolenBases', 'stolenBasePercentage',\n",
       "       'groundIntoDoublePlay', 'rbi', 'groundOutsToAirouts',\n",
       "       'catchersInterference', 'atBatsPerHomeRun'],\n",
       "      dtype='object')"
      ]
     },
     "execution_count": 11,
     "metadata": {},
     "output_type": "execute_result"
    }
   ],
   "source": [
    "pd.DataFrame(batter_list.json()[\"stats\"]).columns"
   ]
  },
  {
   "cell_type": "code",
   "execution_count": 7,
   "id": "387dc781-0145-49ce-bb55-05da1b9fa16f",
   "metadata": {},
   "outputs": [],
   "source": [
    "df[\"fetched\"] = today.strftime(\"%Y-%m-%d\")"
   ]
  },
  {
   "cell_type": "code",
   "execution_count": 8,
   "id": "776a85b0-0eca-4689-8c1e-6d50b66870a8",
   "metadata": {},
   "outputs": [
    {
     "name": "stderr",
     "output_type": "stream",
     "text": [
      "2024-05-29 10:40:07,285 - INFO - Uploaded csv to stilesdata.com/dodgers/data/batting/dodgers_player_batting_current_table.csv\n",
      "2024-05-29 10:40:07,398 - INFO - Uploaded json to stilesdata.com/dodgers/data/batting/dodgers_player_batting_current_table.json\n",
      "2024-05-29 10:40:07,578 - INFO - Uploaded parquet to stilesdata.com/dodgers/data/batting/dodgers_player_batting_current_table.parquet\n"
     ]
    }
   ],
   "source": [
    "# Function to save DataFrame to S3\n",
    "def save_to_s3(df, base_path, s3_bucket, formats):\n",
    "    for fmt in formats:\n",
    "        try:\n",
    "            buffer = BytesIO()\n",
    "            if fmt == \"csv\":\n",
    "                df.to_csv(buffer, index=False)\n",
    "                content_type = \"text/csv\"\n",
    "            elif fmt == \"json\":\n",
    "                df.to_json(buffer, indent=4, orient=\"records\", lines=False)\n",
    "                content_type = \"application/json\"\n",
    "            elif fmt == \"parquet\":\n",
    "                df.to_parquet(buffer, index=False)\n",
    "                content_type = \"application/octet-stream\"\n",
    "            buffer.seek(0)\n",
    "            s3_resource.Bucket(s3_bucket).put_object(\n",
    "                Key=f\"{base_path}.{fmt}\", Body=buffer, ContentType=content_type\n",
    "            )\n",
    "            logging.info(f\"Uploaded {fmt} to {s3_bucket}/{base_path}.{fmt}\")\n",
    "        except Exception as e:\n",
    "            logging.error(f\"Failed to upload {fmt} to S3: {e}\")\n",
    "\n",
    "\n",
    "# Saving files locally and to S3\n",
    "file_path = os.path.join(data_dir, \"dodgers_player_batting_current_table\")\n",
    "formats = [\"csv\", \"json\", \"parquet\"]\n",
    "# save_dataframe(optimized_df, file_path, formats)\n",
    "save_to_s3(\n",
    "    df,\n",
    "    \"dodgers/data/batting/dodgers_player_batting_current_table\",\n",
    "    \"stilesdata.com\",\n",
    "    formats,\n",
    ")"
   ]
  },
  {
   "cell_type": "code",
   "execution_count": 9,
   "id": "5484bfb1-27af-44f0-80aa-6ef220b5eaa2",
   "metadata": {},
   "outputs": [
    {
     "name": "stdout",
     "output_type": "stream",
     "text": [
      "[NbConvertApp] Converting notebook 14_fetch_process_batting_mlb.ipynb to script\n",
      "[NbConvertApp] Writing 4377 bytes to ../scripts/14_fetch_process_batting_mlb.py\n"
     ]
    }
   ],
   "source": [
    "# Save a copy of notebook as a python script\n",
    "!jupyter nbconvert --to script --no-prompt --output ../scripts/14_fetch_process_batting_mlb 14_fetch_process_batting_mlb.ipynb"
   ]
  }
 ],
 "metadata": {
  "kernelspec": {
   "display_name": "Python 3 (ipykernel)",
   "language": "python",
   "name": "python3"
  },
  "language_info": {
   "codemirror_mode": {
    "name": "ipython",
    "version": 3
   },
   "file_extension": ".py",
   "mimetype": "text/x-python",
   "name": "python",
   "nbconvert_exporter": "python",
   "pygments_lexer": "ipython3",
   "version": "3.9.15"
  }
 },
 "nbformat": 4,
 "nbformat_minor": 5
}
