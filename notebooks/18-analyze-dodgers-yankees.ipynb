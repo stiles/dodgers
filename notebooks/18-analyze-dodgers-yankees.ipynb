{
 "cells": [
  {
   "cell_type": "code",
   "execution_count": 25,
   "id": "fea0c999-99c6-4a79-9834-5da44ce8fa23",
   "metadata": {},
   "outputs": [],
   "source": [
    "import pandas as pd\n",
    "import jupyter_black"
   ]
  },
  {
   "cell_type": "code",
   "execution_count": 26,
   "id": "5c7dde9c-0ac6-4255-960c-5df328a42f12",
   "metadata": {},
   "outputs": [],
   "source": [
    "all_games_df = pd.read_parquet('../data/standings/dodgers_yankees_history_1924_2024.parquet')"
   ]
  },
  {
   "cell_type": "code",
   "execution_count": 27,
   "id": "87dba164-0126-4bba-bcd1-0a8a638d5faa",
   "metadata": {},
   "outputs": [],
   "source": [
    "dodgers_df = all_games_df.query('team == \"LAD\" or team == \"BRO\"').reset_index(drop=True).copy()"
   ]
  },
  {
   "cell_type": "code",
   "execution_count": 28,
   "id": "07b88a6a-bf6f-4fe3-bc51-cbd22976ceff",
   "metadata": {},
   "outputs": [],
   "source": [
    "yankees_dodgers_df = dodgers_df.query('opp == \"NYY\"').reset_index(drop=True).copy()"
   ]
  },
  {
   "cell_type": "code",
   "execution_count": 185,
   "id": "027f9890-97a0-42aa-b0bd-d1208c55a281",
   "metadata": {},
   "outputs": [],
   "source": [
    "reg_season_games = len(yankees_dodgers_df)"
   ]
  },
  {
   "cell_type": "markdown",
   "id": "0d8b2add-1fa5-465d-a8cf-ef4c69aaa819",
   "metadata": {},
   "source": [
    "---"
   ]
  },
  {
   "cell_type": "code",
   "execution_count": 151,
   "id": "c2e1068c-57f2-4e9a-9865-2d242bde9073",
   "metadata": {},
   "outputs": [],
   "source": [
    "postseason_table = pd.read_html('https://www.baseball-reference.com/postseason/')[0]\n",
    "postseason_df = postseason_table.rename(columns={'Series': 'series', 'Unnamed: 1': 'split', 'Unnamed: 2': 'teams'})\n",
    "postseason_df[['winner', 'loser']] = postseason_df['teams'].str.split(' vs. ', expand=True)"
   ]
  },
  {
   "cell_type": "code",
   "execution_count": 152,
   "id": "03cf16a1-7782-4a10-b633-bed20ba6f3d2",
   "metadata": {},
   "outputs": [],
   "source": [
    "postseason_df['w_name'] = postseason_df['winner'].str.replace(')', '').str.split('(', expand=True)[0]\n",
    "postseason_df['w_record'] = postseason_df['winner'].str.replace(')', '').str.split('(', expand=True)[1]\n",
    "postseason_df['w_league'] = postseason_df['w_record'].str.split(',', expand=True)[1]\n",
    "\n",
    "postseason_df['l_name'] = postseason_df['loser'].str.replace(')', '').str.split('(', expand=True)[0]\n",
    "postseason_df['l_record'] = postseason_df['loser'].str.replace(')', '').str.split('(', expand=True)[1]\n",
    "postseason_df['l_league'] = postseason_df['l_record'].str.split(',', expand=True)[1]"
   ]
  },
  {
   "cell_type": "code",
   "execution_count": 153,
   "id": "a1b822ea-d687-4788-940e-d0f1f6faadda",
   "metadata": {},
   "outputs": [],
   "source": [
    "postseason_df['w_games'] = postseason_df['split'].str.split('-', expand=True, n=1)[0]\n",
    "postseason_df['l_games'] = postseason_df['split'].str.split('-', expand=True, n=1)[1]"
   ]
  },
  {
   "cell_type": "code",
   "execution_count": 154,
   "id": "e51382ca-ef7c-4300-aabd-69ed8b585cc4",
   "metadata": {},
   "outputs": [],
   "source": [
    "postseason_slim_df = postseason_df.drop(['teams', 'winner', 'loser', 'w_record', 'l_record', 'split'], axis=1).dropna().reset_index(drop=True).copy()"
   ]
  },
  {
   "cell_type": "code",
   "execution_count": 155,
   "id": "b406379d-af98-4d85-984a-bfd8181ac804",
   "metadata": {},
   "outputs": [],
   "source": [
    "postseason_slim_df['year'] = postseason_slim_df['series'].str.split(' ', n=1, expand=True)[0]\n",
    "postseason_slim_df['series'] = postseason_slim_df['series'].str.split(' ', n=1, expand=True)[1]"
   ]
  },
  {
   "cell_type": "code",
   "execution_count": 158,
   "id": "8f0d99f1-c702-4f2c-9db9-6d6fa274f6a7",
   "metadata": {},
   "outputs": [],
   "source": [
    "world_series_df =  postseason_slim_df.query('series.str.contains(\"World Series\")')"
   ]
  },
  {
   "cell_type": "code",
   "execution_count": 159,
   "id": "b35e808f-7758-4d8d-865c-a7d3e2dc243d",
   "metadata": {},
   "outputs": [],
   "source": [
    "# Filter the DataFrame to show only rows where the winning or losing team contains \"Yankees\" or \"Dodgers\"\n",
    "filtered_df = world_series_df[\n",
    "    world_series_df['w_name'].str.contains(\"Yankees|Dodgers\", case=False) |\n",
    "    world_series_df['l_name'].str.contains(\"Yankees|Dodgers\", case=False)\n",
    "]"
   ]
  },
  {
   "cell_type": "code",
   "execution_count": null,
   "id": "9a593567-0947-494b-8163-86d499f6d4d4",
   "metadata": {},
   "outputs": [],
   "source": [
    "# Filter the DataFrame to show only rows where the Yankees played against the Dodgers\n",
    "yankees_vs_dodgers_df = world_series_df[\n",
    "    (world_series_df['w_name'].str.contains(\"Yankees\", case=False) & world_series_df['l_name'].str.contains(\"Dodgers\", case=False)) |\n",
    "    (world_series_df['w_name'].str.contains(\"Dodgers\", case=False) & world_series_df['l_name'].str.contains(\"Yankees\", case=False))\n",
    "]"
   ]
  },
  {
   "cell_type": "code",
   "execution_count": 210,
   "id": "0a034c21-2a2d-4257-b66f-ecd8242a74a4",
   "metadata": {},
   "outputs": [
    {
     "data": {
      "text/html": [
       "<div>\n",
       "<style scoped>\n",
       "    .dataframe tbody tr th:only-of-type {\n",
       "        vertical-align: middle;\n",
       "    }\n",
       "\n",
       "    .dataframe tbody tr th {\n",
       "        vertical-align: top;\n",
       "    }\n",
       "\n",
       "    .dataframe thead th {\n",
       "        text-align: right;\n",
       "    }\n",
       "</style>\n",
       "<table border=\"1\" class=\"dataframe\">\n",
       "  <thead>\n",
       "    <tr style=\"text-align: right;\">\n",
       "      <th></th>\n",
       "      <th>series</th>\n",
       "      <th>w_name</th>\n",
       "      <th>w_league</th>\n",
       "      <th>l_name</th>\n",
       "      <th>l_league</th>\n",
       "      <th>w_games</th>\n",
       "      <th>l_games</th>\n",
       "      <th>year</th>\n",
       "    </tr>\n",
       "  </thead>\n",
       "  <tbody>\n",
       "    <tr>\n",
       "      <th>283</th>\n",
       "      <td>World Series</td>\n",
       "      <td>Los Angeles Dodgers</td>\n",
       "      <td>NL</td>\n",
       "      <td>New York Yankees</td>\n",
       "      <td>AL</td>\n",
       "      <td>4</td>\n",
       "      <td>2</td>\n",
       "      <td>1981</td>\n",
       "    </tr>\n",
       "    <tr>\n",
       "      <th>296</th>\n",
       "      <td>World Series</td>\n",
       "      <td>New York Yankees</td>\n",
       "      <td>AL</td>\n",
       "      <td>Los Angeles Dodgers</td>\n",
       "      <td>NL</td>\n",
       "      <td>4</td>\n",
       "      <td>2</td>\n",
       "      <td>1978</td>\n",
       "    </tr>\n",
       "    <tr>\n",
       "      <th>299</th>\n",
       "      <td>World Series</td>\n",
       "      <td>New York Yankees</td>\n",
       "      <td>AL</td>\n",
       "      <td>Los Angeles Dodgers</td>\n",
       "      <td>NL</td>\n",
       "      <td>4</td>\n",
       "      <td>2</td>\n",
       "      <td>1977</td>\n",
       "    </tr>\n",
       "    <tr>\n",
       "      <th>331</th>\n",
       "      <td>World Series</td>\n",
       "      <td>Los Angeles Dodgers</td>\n",
       "      <td>NL</td>\n",
       "      <td>New York Yankees</td>\n",
       "      <td>AL</td>\n",
       "      <td>4</td>\n",
       "      <td>0</td>\n",
       "      <td>1963</td>\n",
       "    </tr>\n",
       "    <tr>\n",
       "      <th>338</th>\n",
       "      <td>World Series</td>\n",
       "      <td>New York Yankees</td>\n",
       "      <td>AL</td>\n",
       "      <td>Brooklyn Dodgers</td>\n",
       "      <td>NL</td>\n",
       "      <td>4</td>\n",
       "      <td>3</td>\n",
       "      <td>1956</td>\n",
       "    </tr>\n",
       "    <tr>\n",
       "      <th>339</th>\n",
       "      <td>World Series</td>\n",
       "      <td>Brooklyn Dodgers</td>\n",
       "      <td>NL</td>\n",
       "      <td>New York Yankees</td>\n",
       "      <td>AL</td>\n",
       "      <td>4</td>\n",
       "      <td>3</td>\n",
       "      <td>1955</td>\n",
       "    </tr>\n",
       "    <tr>\n",
       "      <th>341</th>\n",
       "      <td>World Series</td>\n",
       "      <td>New York Yankees</td>\n",
       "      <td>AL</td>\n",
       "      <td>Brooklyn Dodgers</td>\n",
       "      <td>NL</td>\n",
       "      <td>4</td>\n",
       "      <td>2</td>\n",
       "      <td>1953</td>\n",
       "    </tr>\n",
       "    <tr>\n",
       "      <th>342</th>\n",
       "      <td>World Series</td>\n",
       "      <td>New York Yankees</td>\n",
       "      <td>AL</td>\n",
       "      <td>Brooklyn Dodgers</td>\n",
       "      <td>NL</td>\n",
       "      <td>4</td>\n",
       "      <td>3</td>\n",
       "      <td>1952</td>\n",
       "    </tr>\n",
       "    <tr>\n",
       "      <th>345</th>\n",
       "      <td>World Series</td>\n",
       "      <td>New York Yankees</td>\n",
       "      <td>AL</td>\n",
       "      <td>Brooklyn Dodgers</td>\n",
       "      <td>NL</td>\n",
       "      <td>4</td>\n",
       "      <td>1</td>\n",
       "      <td>1949</td>\n",
       "    </tr>\n",
       "    <tr>\n",
       "      <th>350</th>\n",
       "      <td>World Series</td>\n",
       "      <td>New York Yankees</td>\n",
       "      <td>AL</td>\n",
       "      <td>Brooklyn Dodgers</td>\n",
       "      <td>NL</td>\n",
       "      <td>4</td>\n",
       "      <td>3</td>\n",
       "      <td>1947</td>\n",
       "    </tr>\n",
       "    <tr>\n",
       "      <th>363</th>\n",
       "      <td>World Series</td>\n",
       "      <td>New York Yankees</td>\n",
       "      <td>AL</td>\n",
       "      <td>Brooklyn Dodgers</td>\n",
       "      <td>NL</td>\n",
       "      <td>4</td>\n",
       "      <td>1</td>\n",
       "      <td>1941</td>\n",
       "    </tr>\n",
       "  </tbody>\n",
       "</table>\n",
       "</div>"
      ],
      "text/plain": [
       "           series                w_name w_league                l_name  \\\n",
       "283  World Series  Los Angeles Dodgers        NL     New York Yankees    \n",
       "296  World Series     New York Yankees        AL  Los Angeles Dodgers    \n",
       "299  World Series     New York Yankees        AL  Los Angeles Dodgers    \n",
       "331  World Series  Los Angeles Dodgers        NL     New York Yankees    \n",
       "338  World Series     New York Yankees        AL     Brooklyn Dodgers    \n",
       "339  World Series     Brooklyn Dodgers        NL     New York Yankees    \n",
       "341  World Series     New York Yankees        AL     Brooklyn Dodgers    \n",
       "342  World Series     New York Yankees        AL     Brooklyn Dodgers    \n",
       "345  World Series     New York Yankees        AL     Brooklyn Dodgers    \n",
       "350  World Series     New York Yankees        AL     Brooklyn Dodgers    \n",
       "363  World Series     New York Yankees        AL     Brooklyn Dodgers    \n",
       "\n",
       "    l_league w_games l_games  year  \n",
       "283       AL       4       2  1981  \n",
       "296       NL       4       2  1978  \n",
       "299       NL       4       2  1977  \n",
       "331       AL       4       0  1963  \n",
       "338       NL       4       3  1956  \n",
       "339       AL       4       3  1955  \n",
       "341       NL       4       2  1953  \n",
       "342       NL       4       3  1952  \n",
       "345       NL       4       1  1949  \n",
       "350       NL       4       3  1947  \n",
       "363       NL       4       1  1941  "
      ]
     },
     "execution_count": 210,
     "metadata": {},
     "output_type": "execute_result"
    }
   ],
   "source": [
    "yankees_vs_dodgers_df"
   ]
  },
  {
   "cell_type": "code",
   "execution_count": null,
   "id": "c8681998-ff82-4b50-81af-491f0e3cab19",
   "metadata": {},
   "outputs": [],
   "source": [
    "ws_together_count = len(yankees_vs_dodgers_df)"
   ]
  },
  {
   "cell_type": "code",
   "execution_count": 193,
   "id": "532319f6-e8a7-4ab6-844f-097d7214d7d3",
   "metadata": {},
   "outputs": [],
   "source": [
    "last_ws_year = yankees_vs_dodgers_df['year'].max()\n",
    "first_ws_year = yankees_vs_dodgers_df['year'].min()"
   ]
  },
  {
   "cell_type": "code",
   "execution_count": 167,
   "id": "d68e4aa2-6113-4bc1-be95-a1bd771ab050",
   "metadata": {},
   "outputs": [],
   "source": [
    "dodgers_wins_df = yankees_vs_dodgers_df.query('w_name.str.contains(\"Dodgers\")')\n",
    "yankees_wins_df = yankees_vs_dodgers_df.query('w_name.str.contains(\"Yankees\")')"
   ]
  },
  {
   "cell_type": "code",
   "execution_count": 170,
   "id": "cfbe62ab-33cd-4843-a16a-465fb58c7c61",
   "metadata": {},
   "outputs": [],
   "source": [
    "dodgers_wins = len(dodgers_wins_df)\n",
    "yankees_wins = len(yankees_wins_df)"
   ]
  },
  {
   "cell_type": "code",
   "execution_count": 184,
   "id": "5a71f432-0348-4ccf-b69e-8f2d5991d149",
   "metadata": {},
   "outputs": [
    {
     "data": {
      "text/plain": [
       "12"
      ]
     },
     "execution_count": 184,
     "metadata": {},
     "output_type": "execute_result"
    }
   ],
   "source": [
    "dodgers_games_won = dodgers_wins_df['w_games'].astype(int).sum()\n",
    "dodgers_games_won"
   ]
  },
  {
   "cell_type": "code",
   "execution_count": null,
   "id": "44c7932a-5712-4f01-9851-e34c90c2846d",
   "metadata": {},
   "outputs": [],
   "source": [
    "yankees_games_won = yankees_wins_df['w_games'].astype(int).sum()\n",
    "yankees_games_won"
   ]
  },
  {
   "cell_type": "code",
   "execution_count": 194,
   "id": "c1c4771b-7945-4c37-bced-b69bef2a9e74",
   "metadata": {},
   "outputs": [],
   "source": [
    "ws_games_count = yankees_games_won + dodgers_games_won"
   ]
  },
  {
   "cell_type": "code",
   "execution_count": 187,
   "id": "ddaa2e5c-3309-4f8e-bf34-eef1e0e9806f",
   "metadata": {},
   "outputs": [
    {
     "data": {
      "text/plain": [
       "66"
      ]
     },
     "execution_count": 187,
     "metadata": {},
     "output_type": "execute_result"
    }
   ],
   "source": [
    "total_games_played = yankees_games_won + dodgers_games_won + reg_season_games\n",
    "total_games_played"
   ]
  },
  {
   "cell_type": "code",
   "execution_count": 209,
   "id": "f1c43547-db7e-4f52-8c07-efa01ad6938a",
   "metadata": {},
   "outputs": [
    {
     "data": {
      "text/plain": [
       "'Baseball games between the Los Angeles Dodgers and New York Yankees are relatively rare. Historically, the teams have been in different Major League Baseball leagues, leading to only 66 matchups over the past 100 years, most of which were in the World Series. They have faced off in the championship 11 times, starting in 1941, with the most recent encounter in 1981. The Yankees have dominated, winning 8 of those series, while the Dodgers have claimed victory in 3. Since the introduction of interleague play in 1997, the teams have also met 22 times outside the World Series.'"
      ]
     },
     "execution_count": 209,
     "metadata": {},
     "output_type": "execute_result"
    }
   ],
   "source": [
    "f\"Baseball games between the Los Angeles Dodgers and New York Yankees are relatively rare. Historically, the teams have been in different Major League Baseball leagues, leading to only {total_games_played} matchups over the past 100 years, most of which were in the World Series. They have faced off in the championship {ws_together_count} times, starting in {first_ws_year}, with the most recent encounter in {last_ws_year}. The Yankees have dominated, winning {yankees_wins} of those series, while the Dodgers have claimed victory in {dodgers_wins}. Since the introduction of interleague play in 1997, the teams have also met {reg_season_games} times outside the World Series.\""
   ]
  },
  {
   "cell_type": "code",
   "execution_count": null,
   "id": "4009dff5-2327-48ef-90c1-b9547c29eb57",
   "metadata": {},
   "outputs": [],
   "source": []
  }
 ],
 "metadata": {
  "kernelspec": {
   "display_name": "Python 3 (ipykernel)",
   "language": "python",
   "name": "python3"
  },
  "language_info": {
   "codemirror_mode": {
    "name": "ipython",
    "version": 3
   },
   "file_extension": ".py",
   "mimetype": "text/x-python",
   "name": "python",
   "nbconvert_exporter": "python",
   "pygments_lexer": "ipython3",
   "version": "3.9.15"
  }
 },
 "nbformat": 4,
 "nbformat_minor": 5
}
