{
 "cells": [
  {
   "cell_type": "markdown",
   "id": "77ab12ec-6a2c-4fd8-8b1a-45b8e69448cb",
   "metadata": {
    "panel-layout": {
     "height": 93.5781,
     "visible": true,
     "width": 100
    }
   },
   "source": [
    "# Dodgers Jumbo Jack\n",
    "> This notebook processes game logs from Baseball Reference and calculates the share of games in which Dodgers pitchers had at least seven strikeouts. This triggers a promotion at Jack in the Box."
   ]
  },
  {
   "cell_type": "markdown",
   "id": "277c96d0-48d1-4944-8f3d-369979dbae0c",
   "metadata": {
    "panel-layout": {
     "height": 24,
     "visible": true,
     "width": 100
    }
   },
   "source": [
    "---"
   ]
  },
  {
   "cell_type": "code",
   "execution_count": null,
   "id": "b2d0b42e-eb9d-4f79-81f3-20ed112e462f",
   "metadata": {},
   "outputs": [],
   "source": [
    "import os\n",
    "import requests\n",
    "import time\n",
    "import pandas as pd\n",
    "import jupyter_black\n",
    "from tqdm.notebook import tqdm\n",
    "from datetime import datetime\n",
    "import altair as alt\n",
    "import altair_stiles as altstiles"
   ]
  },
  {
   "cell_type": "code",
   "execution_count": null,
   "id": "8883a38f-ba47-4625-b179-956caaf147bf",
   "metadata": {
    "panel-layout": {
     "height": 27.1406,
     "visible": true,
     "width": 100
    },
    "tags": []
   },
   "outputs": [],
   "source": [
    "jupyter_black.load()\n",
    "pd.options.display.max_columns = 100\n",
    "pd.options.display.max_rows = 1000\n",
    "pd.options.display.max_colwidth = None\n",
    "alt.themes.register(\"stiles\", altstiles.theme)\n",
    "alt.themes.enable(\"stiles\")"
   ]
  },
  {
   "cell_type": "markdown",
   "id": "fd4c08bc-ce9c-49b0-af2e-877593871769",
   "metadata": {
    "panel-layout": {
     "height": 24,
     "visible": true,
     "width": 100
    }
   },
   "source": [
    "---"
   ]
  },
  {
   "cell_type": "code",
   "execution_count": null,
   "id": "52b4947c-cc2c-438f-9dac-e1c05b22df3f",
   "metadata": {},
   "outputs": [],
   "source": [
    "base_url = \"https://www.baseball-reference.com/teams/tgl.cgi?team=LAD&t=p&year={year}\"\n",
    "years = range(2000, datetime.now().year + 1)"
   ]
  },
  {
   "cell_type": "code",
   "execution_count": null,
   "id": "b37515f9-e1a3-491f-8dfa-94beb38b8328",
   "metadata": {},
   "outputs": [],
   "source": [
    "frames = []\n",
    "for yr in tqdm(years):\n",
    "    url = base_url.format(year=yr)\n",
    "    try:\n",
    "        src = pd.read_html(url)[0]\n",
    "        src.columns = src.columns.droplevel(0)  # drop first level\n",
    "        src.columns = src.columns.str.lower()\n",
    "        df = src.rename(columns={\"unnamed: 3_level_1\": \"home_away\"}).copy()\n",
    "        df[\"year\"] = yr  # tag year\n",
    "        df_slim = df[[\"date\", \"home_away\", \"so\", \"year\"]]\n",
    "        frames.append(df_slim)\n",
    "    except Exception as e:\n",
    "        print(f\"Failed on {yr}: {e}\")\n",
    "    time.sleep(5)"
   ]
  },
  {
   "cell_type": "code",
   "execution_count": null,
   "id": "aaa22d96-b631-4fe6-b152-28b4c1eb3e6c",
   "metadata": {},
   "outputs": [],
   "source": [
    "all_years = pd.concat(frames, ignore_index=True).query('so != \"SO\" and ~date.isnull()')\n",
    "all_years[\"so\"] = all_years[\"so\"].astype(int)"
   ]
  },
  {
   "cell_type": "code",
   "execution_count": null,
   "id": "e54ce790-d498-4a79-98a3-1f6c7fee85b8",
   "metadata": {},
   "outputs": [],
   "source": [
    "all_years[\"jumbo_jack\"] = all_years[\"so\"] >= 7"
   ]
  },
  {
   "cell_type": "code",
   "execution_count": null,
   "id": "58f9416a-7c1b-4a70-b368-2099feac42e0",
   "metadata": {},
   "outputs": [],
   "source": [
    "alt.Chart(all_years).mark_bar(binSpacing=0).encode(\n",
    "    x=alt.X(\n",
    "        \"so:Q\",\n",
    "        axis=alt.Axis(format=\".0f\", values=[1, 7, 15, 21]),\n",
    "        bin=alt.Bin(maxbins=20, nice=False),\n",
    "        title=\"Strikeouts\",\n",
    "    ),\n",
    "    y=alt.Y(\"count()\", title=\"Games\"),\n",
    ").properties(width=200, height=100).facet(\"year:O\", columns=6)"
   ]
  },
  {
   "cell_type": "code",
   "execution_count": null,
   "id": "3729d4c5-83eb-496b-8d4d-8727f1ebc7b2",
   "metadata": {},
   "outputs": [],
   "source": [
    "# Mean equals share of true\n",
    "season_share = (\n",
    "    all_years.groupby(\"year\", as_index=False)[\"jumbo_jack\"]\n",
    "    .mean()\n",
    "    .assign(pct_jumbo_jack=lambda d: (d[\"jumbo_jack\"] * 100).round(1))\n",
    "    .drop(columns=\"jumbo_jack\")\n",
    ")\n",
    "season_share"
   ]
  },
  {
   "cell_type": "code",
   "execution_count": null,
   "id": "d1acd0d2-419e-4bc4-b846-36156800824d",
   "metadata": {},
   "outputs": [],
   "source": [
    "# A more traditional route\n",
    "season_summary = (\n",
    "    all_years.groupby(\"year\")\n",
    "    .agg(\n",
    "        n_games=(\"jumbo_jack\", \"size\"),  # includes NaNs\n",
    "        n_true=(\"jumbo_jack\", \"sum\"),  # booleans sum to count of True\n",
    "    )\n",
    "    .assign(pct_jumbo_jack=lambda d: (d.n_true / d.n_games * 100).round(1))\n",
    "    .reset_index()\n",
    ")"
   ]
  },
  {
   "cell_type": "code",
   "execution_count": null,
   "id": "4a31f079-c7ac-46c3-926d-d782d9831db0",
   "metadata": {},
   "outputs": [],
   "source": [
    "# Notes: The 2020 season was shortened by COVID.\n",
    "# The 2011 season only had 161 games because of a late-season rainout that wasn't rescheduled.\n",
    "season_summary"
   ]
  }
 ],
 "metadata": {
  "kernelspec": {
   "display_name": "Python 3 (ipykernel)",
   "language": "python",
   "name": "python3"
  },
  "language_info": {
   "codemirror_mode": {
    "name": "ipython",
    "version": 3
   },
   "file_extension": ".py",
   "mimetype": "text/x-python",
   "name": "python",
   "nbconvert_exporter": "python",
   "pygments_lexer": "ipython3",
   "version": "3.9.6"
  },
  "panel-cell-order": [
   "77ab12ec-6a2c-4fd8-8b1a-45b8e69448cb",
   "277c96d0-48d1-4944-8f3d-369979dbae0c",
   "b26f152f-1b2c-4231-9752-4ecbe64c4e6a",
   "890c26c6-a7d4-42ff-8d19-ef0d8d6cfb5b",
   "fd4c08bc-ce9c-49b0-af2e-877593871769",
   "0028268b-647d-46db-8dbf-2f3ccf9a0651",
   "0e88ea7b-767d-4d28-9c05-0ad7e3cb61c7",
   "2409aca7-c3cd-4d6a-9290-e8acb93c9bd1",
   "6cd092eb-5772-48c9-97cf-0e2d62f0632f",
   "1e7ae03c-c6bf-46ae-a417-ebf155cadad2",
   "aa31605f-50d3-4af6-8bf0-068f3fd9d313",
   "e408b594-904b-4b9c-92c2-55dc41982f0b",
   "2409dbf1-8d23-489f-bea9-d840bae0bae8",
   "3978864d-34d2-4947-8c33-a1d7e40f4121",
   "0e167509-a196-42a6-bf71-084e8a607128",
   "8575f3c0-5cac-4265-8e5c-9c72b135b43f",
   "2cedc251-d7e6-4134-9793-72ce4d5a62f4",
   "d0f77d9e-5f69-4a87-be53-b643029b9c4c",
   "830d1f22-c971-4ad4-ae2c-9a1d2c2e4e27"
  ]
 },
 "nbformat": 4,
 "nbformat_minor": 5
}
