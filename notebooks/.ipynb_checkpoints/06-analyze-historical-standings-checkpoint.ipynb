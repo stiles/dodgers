{
 "cells": [
  {
   "cell_type": "markdown",
   "id": "77ab12ec-6a2c-4fd8-8b1a-45b8e69448cb",
   "metadata": {},
   "source": [
    "# LA Dodgers standings - Sketches\n",
    "> This notebook analyzes the team's current standings table from [Baseball Reference](https://www.baseball-reference.com/teams/LAD/2024-schedule-scores.shtml) and compares it with historic records. "
   ]
  },
  {
   "cell_type": "markdown",
   "id": "277c96d0-48d1-4944-8f3d-369979dbae0c",
   "metadata": {},
   "source": [
    "---"
   ]
  },
  {
   "cell_type": "markdown",
   "id": "b26f152f-1b2c-4231-9752-4ecbe64c4e6a",
   "metadata": {},
   "source": [
    "#### Import Python tools and Jupyter config"
   ]
  },
  {
   "cell_type": "code",
   "execution_count": 132,
   "id": "673e5f7a-f032-46db-9af0-4ca203e725b3",
   "metadata": {},
   "outputs": [],
   "source": [
    "import us\n",
    "import json\n",
    "import requests\n",
    "import pandas as pd\n",
    "import jupyter_black\n",
    "import altair_stiles as altstiles\n",
    "from IPython.display import Image, display\n",
    "from sklearn.linear_model import LinearRegression\n",
    "from sklearn.model_selection import train_test_split\n",
    "from sklearn.metrics import mean_squared_error"
   ]
  },
  {
   "cell_type": "code",
   "execution_count": 133,
   "id": "0c2d2205-143f-4a7b-89f3-53f9953acf90",
   "metadata": {},
   "outputs": [
    {
     "data": {
      "text/plain": [
       "ThemeRegistry.enable('stiles')"
      ]
     },
     "execution_count": 133,
     "metadata": {},
     "output_type": "execute_result"
    }
   ],
   "source": [
    "jupyter_black.load()\n",
    "pd.options.display.max_columns = 100\n",
    "pd.options.display.max_rows = 1000\n",
    "pd.options.display.max_colwidth = None\n",
    "alt.data_transformers.disable_max_rows()\n",
    "alt.themes.register(\"stiles\", altstiles.theme)\n",
    "alt.themes.enable(\"stiles\")"
   ]
  },
  {
   "cell_type": "markdown",
   "id": "0f8d905a-abfb-4857-9931-af198b6269eb",
   "metadata": {},
   "source": [
    "---"
   ]
  },
  {
   "cell_type": "markdown",
   "id": "845588a1-1146-47c2-9693-5c589768b76d",
   "metadata": {},
   "source": [
    "## Fetch"
   ]
  },
  {
   "cell_type": "markdown",
   "id": "a62a69a4-1df0-45a8-b048-68a0da7c026d",
   "metadata": {},
   "source": [
    "#### Read game-by-game standings from 1958-present"
   ]
  },
  {
   "cell_type": "code",
   "execution_count": 134,
   "id": "57d3a5a1-c278-4120-8afd-633212e52f43",
   "metadata": {},
   "outputs": [],
   "source": [
    "src = pd.read_parquet(\n",
    "    \"https://stilesdata.com/dodgers/data/standings/dodgers_standings_1958_present.parquet\"\n",
    ")"
   ]
  },
  {
   "cell_type": "code",
   "execution_count": 135,
   "id": "622aed00-796f-4272-a96a-3a79921948ea",
   "metadata": {},
   "outputs": [],
   "source": [
    "games_so_far = int(src.query(\"year == '2024'\")[\"gm\"].max())"
   ]
  },
  {
   "cell_type": "markdown",
   "id": "7dedd8a2-4982-4bf2-abed-547471c9ab47",
   "metadata": {},
   "source": [
    "#### Calculate final wins in each season"
   ]
  },
  {
   "cell_type": "code",
   "execution_count": 136,
   "id": "6c86c11f-e4cb-4ef5-967f-8b663d19ae94",
   "metadata": {},
   "outputs": [],
   "source": [
    "final_wins = src.groupby(\"year\")[\"wins\"].max()"
   ]
  },
  {
   "cell_type": "markdown",
   "id": "e9892643-d746-43ce-8088-1e29ce73b2ac",
   "metadata": {},
   "source": [
    "#### Merge the final wins back to the main dataframe"
   ]
  },
  {
   "cell_type": "code",
   "execution_count": 137,
   "id": "b47f8972-0664-4666-945c-da14e604cb8c",
   "metadata": {},
   "outputs": [],
   "source": [
    "df = src.merge(final_wins.rename(\"final_wins\"), on=\"year\")"
   ]
  },
  {
   "cell_type": "code",
   "execution_count": 138,
   "id": "b78a27e5-7f87-4ac5-9e17-dd8ffce84fd8",
   "metadata": {},
   "outputs": [
    {
     "data": {
      "text/html": [
       "<div>\n",
       "<style scoped>\n",
       "    .dataframe tbody tr th:only-of-type {\n",
       "        vertical-align: middle;\n",
       "    }\n",
       "\n",
       "    .dataframe tbody tr th {\n",
       "        vertical-align: top;\n",
       "    }\n",
       "\n",
       "    .dataframe thead th {\n",
       "        text-align: right;\n",
       "    }\n",
       "</style>\n",
       "<table border=\"1\" class=\"dataframe\">\n",
       "  <thead>\n",
       "    <tr style=\"text-align: right;\">\n",
       "      <th></th>\n",
       "      <th>gm</th>\n",
       "      <th>game_date</th>\n",
       "      <th>home_away</th>\n",
       "      <th>opp</th>\n",
       "      <th>result</th>\n",
       "      <th>r</th>\n",
       "      <th>ra</th>\n",
       "      <th>record</th>\n",
       "      <th>rank</th>\n",
       "      <th>gb</th>\n",
       "      <th>time</th>\n",
       "      <th>time_minutes</th>\n",
       "      <th>wins</th>\n",
       "      <th>losses</th>\n",
       "      <th>win_pct</th>\n",
       "      <th>day_night</th>\n",
       "      <th>attendance</th>\n",
       "      <th>game_day</th>\n",
       "      <th>year</th>\n",
       "      <th>final_wins</th>\n",
       "    </tr>\n",
       "  </thead>\n",
       "  <tbody>\n",
       "    <tr>\n",
       "      <th>0</th>\n",
       "      <td>21</td>\n",
       "      <td>2024-04-17</td>\n",
       "      <td>home</td>\n",
       "      <td>WSN</td>\n",
       "      <td>L</td>\n",
       "      <td>0</td>\n",
       "      <td>2</td>\n",
       "      <td>12-9</td>\n",
       "      <td>1</td>\n",
       "      <td>1.0</td>\n",
       "      <td>2:16:00</td>\n",
       "      <td>136</td>\n",
       "      <td>12</td>\n",
       "      <td>9</td>\n",
       "      <td>0.57</td>\n",
       "      <td>D</td>\n",
       "      <td>44428</td>\n",
       "      <td>Wednesday</td>\n",
       "      <td>2024</td>\n",
       "      <td>12</td>\n",
       "    </tr>\n",
       "    <tr>\n",
       "      <th>1</th>\n",
       "      <td>20</td>\n",
       "      <td>2024-04-16</td>\n",
       "      <td>home</td>\n",
       "      <td>WSN</td>\n",
       "      <td>W</td>\n",
       "      <td>6</td>\n",
       "      <td>2</td>\n",
       "      <td>12-8</td>\n",
       "      <td>1</td>\n",
       "      <td>1.0</td>\n",
       "      <td>2:26:00</td>\n",
       "      <td>146</td>\n",
       "      <td>12</td>\n",
       "      <td>8</td>\n",
       "      <td>0.60</td>\n",
       "      <td>N</td>\n",
       "      <td>52718</td>\n",
       "      <td>Tuesday</td>\n",
       "      <td>2024</td>\n",
       "      <td>12</td>\n",
       "    </tr>\n",
       "    <tr>\n",
       "      <th>2</th>\n",
       "      <td>19</td>\n",
       "      <td>2024-04-15</td>\n",
       "      <td>home</td>\n",
       "      <td>WSN</td>\n",
       "      <td>L</td>\n",
       "      <td>4</td>\n",
       "      <td>6</td>\n",
       "      <td>11-8</td>\n",
       "      <td>1</td>\n",
       "      <td>1.0</td>\n",
       "      <td>2:36:00</td>\n",
       "      <td>156</td>\n",
       "      <td>11</td>\n",
       "      <td>8</td>\n",
       "      <td>0.58</td>\n",
       "      <td>N</td>\n",
       "      <td>42677</td>\n",
       "      <td>Monday</td>\n",
       "      <td>2024</td>\n",
       "      <td>12</td>\n",
       "    </tr>\n",
       "    <tr>\n",
       "      <th>3</th>\n",
       "      <td>18</td>\n",
       "      <td>2024-04-14</td>\n",
       "      <td>home</td>\n",
       "      <td>SDP</td>\n",
       "      <td>L</td>\n",
       "      <td>3</td>\n",
       "      <td>6</td>\n",
       "      <td>11-7</td>\n",
       "      <td>1</td>\n",
       "      <td>2.0</td>\n",
       "      <td>2:58:00</td>\n",
       "      <td>178</td>\n",
       "      <td>11</td>\n",
       "      <td>7</td>\n",
       "      <td>0.61</td>\n",
       "      <td>D</td>\n",
       "      <td>49432</td>\n",
       "      <td>Sunday</td>\n",
       "      <td>2024</td>\n",
       "      <td>12</td>\n",
       "    </tr>\n",
       "    <tr>\n",
       "      <th>4</th>\n",
       "      <td>17</td>\n",
       "      <td>2024-04-13</td>\n",
       "      <td>home</td>\n",
       "      <td>SDP</td>\n",
       "      <td>W</td>\n",
       "      <td>5</td>\n",
       "      <td>2</td>\n",
       "      <td>11-6</td>\n",
       "      <td>1</td>\n",
       "      <td>3.0</td>\n",
       "      <td>2:36:00</td>\n",
       "      <td>156</td>\n",
       "      <td>11</td>\n",
       "      <td>6</td>\n",
       "      <td>0.65</td>\n",
       "      <td>N</td>\n",
       "      <td>44582</td>\n",
       "      <td>Saturday</td>\n",
       "      <td>2024</td>\n",
       "      <td>12</td>\n",
       "    </tr>\n",
       "  </tbody>\n",
       "</table>\n",
       "</div>"
      ],
      "text/plain": [
       "   gm   game_date home_away  opp result  r  ra record  rank   gb     time  \\\n",
       "0  21  2024-04-17      home  WSN      L  0   2   12-9     1  1.0  2:16:00   \n",
       "1  20  2024-04-16      home  WSN      W  6   2   12-8     1  1.0  2:26:00   \n",
       "2  19  2024-04-15      home  WSN      L  4   6   11-8     1  1.0  2:36:00   \n",
       "3  18  2024-04-14      home  SDP      L  3   6   11-7     1  2.0  2:58:00   \n",
       "4  17  2024-04-13      home  SDP      W  5   2   11-6     1  3.0  2:36:00   \n",
       "\n",
       "   time_minutes  wins  losses  win_pct day_night  attendance   game_day  year  \\\n",
       "0           136    12       9     0.57         D       44428  Wednesday  2024   \n",
       "1           146    12       8     0.60         N       52718    Tuesday  2024   \n",
       "2           156    11       8     0.58         N       42677     Monday  2024   \n",
       "3           178    11       7     0.61         D       49432     Sunday  2024   \n",
       "4           156    11       6     0.65         N       44582   Saturday  2024   \n",
       "\n",
       "   final_wins  \n",
       "0          12  \n",
       "1          12  \n",
       "2          12  \n",
       "3          12  \n",
       "4          12  "
      ]
     },
     "execution_count": 138,
     "metadata": {},
     "output_type": "execute_result"
    }
   ],
   "source": [
    "df.head()"
   ]
  },
  {
   "cell_type": "markdown",
   "id": "7f8833d5-f66e-4fc5-ac10-4af9ebe85026",
   "metadata": {},
   "source": [
    "#### Winning percentage at this point in the season historically?"
   ]
  },
  {
   "cell_type": "code",
   "execution_count": 139,
   "id": "e8791923-d169-412b-870c-b44171c8d757",
   "metadata": {},
   "outputs": [],
   "source": [
    "wins_today_df = df.query(f\"gm=={games_so_far}\")[\n",
    "    [\"gm\", \"year\", \"wins\", \"losses\", \"win_pct\", \"final_wins\"]\n",
    "]"
   ]
  },
  {
   "cell_type": "code",
   "execution_count": 140,
   "id": "b62768eb-a503-4f0d-a3dc-9cb041b0ef9e",
   "metadata": {},
   "outputs": [
    {
     "data": {
      "text/html": [
       "<div>\n",
       "<style scoped>\n",
       "    .dataframe tbody tr th:only-of-type {\n",
       "        vertical-align: middle;\n",
       "    }\n",
       "\n",
       "    .dataframe tbody tr th {\n",
       "        vertical-align: top;\n",
       "    }\n",
       "\n",
       "    .dataframe thead th {\n",
       "        text-align: right;\n",
       "    }\n",
       "</style>\n",
       "<table border=\"1\" class=\"dataframe\">\n",
       "  <thead>\n",
       "    <tr style=\"text-align: right;\">\n",
       "      <th></th>\n",
       "      <th>gm</th>\n",
       "      <th>year</th>\n",
       "      <th>wins</th>\n",
       "      <th>losses</th>\n",
       "      <th>win_pct</th>\n",
       "      <th>final_wins</th>\n",
       "    </tr>\n",
       "  </thead>\n",
       "  <tbody>\n",
       "    <tr>\n",
       "      <th>0</th>\n",
       "      <td>21</td>\n",
       "      <td>2024</td>\n",
       "      <td>12</td>\n",
       "      <td>9</td>\n",
       "      <td>0.57</td>\n",
       "      <td>12</td>\n",
       "    </tr>\n",
       "    <tr>\n",
       "      <th>162</th>\n",
       "      <td>21</td>\n",
       "      <td>2023</td>\n",
       "      <td>10</td>\n",
       "      <td>11</td>\n",
       "      <td>0.48</td>\n",
       "      <td>100</td>\n",
       "    </tr>\n",
       "    <tr>\n",
       "      <th>324</th>\n",
       "      <td>21</td>\n",
       "      <td>2022</td>\n",
       "      <td>14</td>\n",
       "      <td>7</td>\n",
       "      <td>0.67</td>\n",
       "      <td>111</td>\n",
       "    </tr>\n",
       "    <tr>\n",
       "      <th>486</th>\n",
       "      <td>21</td>\n",
       "      <td>2021</td>\n",
       "      <td>15</td>\n",
       "      <td>6</td>\n",
       "      <td>0.71</td>\n",
       "      <td>106</td>\n",
       "    </tr>\n",
       "    <tr>\n",
       "      <th>546</th>\n",
       "      <td>21</td>\n",
       "      <td>2020</td>\n",
       "      <td>14</td>\n",
       "      <td>7</td>\n",
       "      <td>0.67</td>\n",
       "      <td>43</td>\n",
       "    </tr>\n",
       "  </tbody>\n",
       "</table>\n",
       "</div>"
      ],
      "text/plain": [
       "     gm  year  wins  losses  win_pct  final_wins\n",
       "0    21  2024    12       9     0.57          12\n",
       "162  21  2023    10      11     0.48         100\n",
       "324  21  2022    14       7     0.67         111\n",
       "486  21  2021    15       6     0.71         106\n",
       "546  21  2020    14       7     0.67          43"
      ]
     },
     "execution_count": 140,
     "metadata": {},
     "output_type": "execute_result"
    }
   ],
   "source": [
    "wins_today_df.head()"
   ]
  },
  {
   "cell_type": "code",
   "execution_count": 141,
   "id": "15a3feb1-8cc4-4519-85e5-b8207f29b40a",
   "metadata": {},
   "outputs": [
    {
     "data": {
      "text/html": [
       "<div>\n",
       "<style scoped>\n",
       "    .dataframe tbody tr th:only-of-type {\n",
       "        vertical-align: middle;\n",
       "    }\n",
       "\n",
       "    .dataframe tbody tr th {\n",
       "        vertical-align: top;\n",
       "    }\n",
       "\n",
       "    .dataframe thead th {\n",
       "        text-align: right;\n",
       "    }\n",
       "</style>\n",
       "<table border=\"1\" class=\"dataframe\">\n",
       "  <thead>\n",
       "    <tr style=\"text-align: right;\">\n",
       "      <th></th>\n",
       "      <th>gm</th>\n",
       "      <th>year</th>\n",
       "      <th>wins</th>\n",
       "      <th>losses</th>\n",
       "      <th>win_pct</th>\n",
       "      <th>final_wins</th>\n",
       "    </tr>\n",
       "  </thead>\n",
       "  <tbody>\n",
       "    <tr>\n",
       "      <th>9822</th>\n",
       "      <td>21</td>\n",
       "      <td>1962</td>\n",
       "      <td>13</td>\n",
       "      <td>8</td>\n",
       "      <td>0.62</td>\n",
       "      <td>102</td>\n",
       "    </tr>\n",
       "    <tr>\n",
       "      <th>9976</th>\n",
       "      <td>21</td>\n",
       "      <td>1961</td>\n",
       "      <td>11</td>\n",
       "      <td>10</td>\n",
       "      <td>0.52</td>\n",
       "      <td>89</td>\n",
       "    </tr>\n",
       "    <tr>\n",
       "      <th>10130</th>\n",
       "      <td>21</td>\n",
       "      <td>1960</td>\n",
       "      <td>10</td>\n",
       "      <td>11</td>\n",
       "      <td>0.48</td>\n",
       "      <td>82</td>\n",
       "    </tr>\n",
       "    <tr>\n",
       "      <th>10287</th>\n",
       "      <td>21</td>\n",
       "      <td>1959</td>\n",
       "      <td>12</td>\n",
       "      <td>9</td>\n",
       "      <td>0.57</td>\n",
       "      <td>88</td>\n",
       "    </tr>\n",
       "    <tr>\n",
       "      <th>10440</th>\n",
       "      <td>21</td>\n",
       "      <td>1958</td>\n",
       "      <td>9</td>\n",
       "      <td>12</td>\n",
       "      <td>0.43</td>\n",
       "      <td>71</td>\n",
       "    </tr>\n",
       "  </tbody>\n",
       "</table>\n",
       "</div>"
      ],
      "text/plain": [
       "       gm  year  wins  losses  win_pct  final_wins\n",
       "9822   21  1962    13       8     0.62         102\n",
       "9976   21  1961    11      10     0.52          89\n",
       "10130  21  1960    10      11     0.48          82\n",
       "10287  21  1959    12       9     0.57          88\n",
       "10440  21  1958     9      12     0.43          71"
      ]
     },
     "execution_count": 141,
     "metadata": {},
     "output_type": "execute_result"
    }
   ],
   "source": [
    "wins_today_df.tail()"
   ]
  },
  {
   "cell_type": "code",
   "execution_count": null,
   "id": "353cc3f7-6a96-4a4c-ba8a-95d7afaa11e9",
   "metadata": {},
   "outputs": [],
   "source": []
  },
  {
   "cell_type": "code",
   "execution_count": null,
   "id": "217acfa3-2c58-4b18-8627-1a6e63ba83ef",
   "metadata": {},
   "outputs": [],
   "source": []
  },
  {
   "cell_type": "code",
   "execution_count": null,
   "id": "56f2be31-6100-4813-b42e-945fb80a90a0",
   "metadata": {},
   "outputs": [],
   "source": []
  }
 ],
 "metadata": {
  "kernelspec": {
   "display_name": "Python 3 (ipykernel)",
   "language": "python",
   "name": "python3"
  },
  "language_info": {
   "codemirror_mode": {
    "name": "ipython",
    "version": 3
   },
   "file_extension": ".py",
   "mimetype": "text/x-python",
   "name": "python",
   "nbconvert_exporter": "python",
   "pygments_lexer": "ipython3",
   "version": "3.9.15"
  }
 },
 "nbformat": 4,
 "nbformat_minor": 5
}
