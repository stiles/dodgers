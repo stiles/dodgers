{
 "cells": [
  {
   "cell_type": "markdown",
   "id": "77ab12ec-6a2c-4fd8-8b1a-45b8e69448cb",
   "metadata": {
    "panel-layout": {
     "height": 93.5781,
     "visible": true,
     "width": 100
    }
   },
   "source": [
    "# Dodgers Data Bot\n",
    "> This notebook is a sketchpad for data collected in this project. Nothing to see here! "
   ]
  },
  {
   "cell_type": "markdown",
   "id": "277c96d0-48d1-4944-8f3d-369979dbae0c",
   "metadata": {
    "panel-layout": {
     "height": 24,
     "visible": true,
     "width": 100
    }
   },
   "source": [
    "---"
   ]
  },
  {
   "cell_type": "code",
   "execution_count": 1,
   "id": "27cdbea4-067e-40fe-8a0e-52d79145a835",
   "metadata": {},
   "outputs": [],
   "source": [
    "import os\n",
    "import requests\n",
    "import time\n",
    "import pandas as pd\n",
    "import jupyter_black\n",
    "import altair as alt\n",
    "from IPython.display import Image\n",
    "from tqdm.notebook import tqdm"
   ]
  },
  {
   "cell_type": "code",
   "execution_count": 2,
   "id": "8883a38f-ba47-4625-b179-956caaf147bf",
   "metadata": {
    "panel-layout": {
     "height": 27.1406,
     "visible": true,
     "width": 100
    },
    "tags": []
   },
   "outputs": [
    {
     "data": {
      "text/html": [
       "\n",
       "                <script type=\"application/javascript\" id=\"jupyter_black\">\n",
       "                (function() {\n",
       "                    if (window.IPython === undefined) {\n",
       "                        return\n",
       "                    }\n",
       "                    var msg = \"WARNING: it looks like you might have loaded \" +\n",
       "                        \"jupyter_black in a non-lab notebook with \" +\n",
       "                        \"`is_lab=True`. Please double check, and if \" +\n",
       "                        \"loading with `%load_ext` please review the README!\"\n",
       "                    console.log(msg)\n",
       "                    alert(msg)\n",
       "                })()\n",
       "                </script>\n",
       "                "
      ],
      "text/plain": [
       "<IPython.core.display.HTML object>"
      ]
     },
     "metadata": {},
     "output_type": "display_data"
    },
    {
     "data": {
      "text/plain": [
       "DataTransformerRegistry.enable('default')"
      ]
     },
     "execution_count": 2,
     "metadata": {},
     "output_type": "execute_result"
    }
   ],
   "source": [
    "jupyter_black.load()\n",
    "pd.options.display.max_columns = 100\n",
    "pd.options.display.max_rows = 1000\n",
    "pd.options.display.max_colwidth = None\n",
    "alt.data_transformers.disable_max_rows()"
   ]
  },
  {
   "cell_type": "code",
   "execution_count": 3,
   "id": "d465bd88-2fb2-4424-9ee0-d43f8364e610",
   "metadata": {
    "panel-layout": {
     "height": 27.1406,
     "visible": true,
     "width": 100
    },
    "tags": []
   },
   "outputs": [],
   "source": [
    "profile_name = os.environ.get(\"AWS_PERSONAL_PROFILE\")"
   ]
  },
  {
   "cell_type": "markdown",
   "id": "fd4c08bc-ce9c-49b0-af2e-877593871769",
   "metadata": {
    "panel-layout": {
     "height": 24,
     "visible": true,
     "width": 100
    }
   },
   "source": [
    "---"
   ]
  },
  {
   "cell_type": "markdown",
   "id": "0028268b-647d-46db-8dbf-2f3ccf9a0651",
   "metadata": {
    "panel-layout": {
     "height": 50.8203,
     "visible": true,
     "width": 100
    }
   },
   "source": [
    "## Fetch"
   ]
  },
  {
   "cell_type": "markdown",
   "id": "0e88ea7b-767d-4d28-9c05-0ad7e3cb61c7",
   "metadata": {
    "panel-layout": {
     "height": 43.7188,
     "visible": true,
     "width": 100
    }
   },
   "source": [
    "#### Read wins, losses"
   ]
  },
  {
   "cell_type": "code",
   "execution_count": 4,
   "id": "a7ca5309-9e6c-4297-b33f-65843ae04b24",
   "metadata": {},
   "outputs": [],
   "source": [
    "df = pd.read_parquet(\n",
    "    \"https://stilesdata.com/dodgers/data/standings/dodgers_wins_losses_current.parquet\"\n",
    ")"
   ]
  },
  {
   "cell_type": "code",
   "execution_count": 5,
   "id": "8f7986f7-5994-42b0-b2d7-b53af3a42b54",
   "metadata": {},
   "outputs": [
    {
     "data": {
      "text/plain": [
       "16"
      ]
     },
     "execution_count": 5,
     "metadata": {},
     "output_type": "execute_result"
    }
   ],
   "source": [
    "game_number = df.query(\"game_date == game_date.max()\")[\"gm\"].iloc[0]\n",
    "game_number"
   ]
  },
  {
   "cell_type": "code",
   "execution_count": 6,
   "id": "a7242ffb-d5b4-41ef-91b4-9a263c06923c",
   "metadata": {},
   "outputs": [
    {
     "data": {
      "text/html": [
       "\n",
       "<style>\n",
       "  #altair-viz-e670d4baffb44853831d30ab3d43bf0d.vega-embed {\n",
       "    width: 100%;\n",
       "    display: flex;\n",
       "  }\n",
       "\n",
       "  #altair-viz-e670d4baffb44853831d30ab3d43bf0d.vega-embed details,\n",
       "  #altair-viz-e670d4baffb44853831d30ab3d43bf0d.vega-embed details summary {\n",
       "    position: relative;\n",
       "  }\n",
       "</style>\n",
       "<div id=\"altair-viz-e670d4baffb44853831d30ab3d43bf0d\"></div>\n",
       "<script type=\"text/javascript\">\n",
       "  var VEGA_DEBUG = (typeof VEGA_DEBUG == \"undefined\") ? {} : VEGA_DEBUG;\n",
       "  (function(spec, embedOpt){\n",
       "    let outputDiv = document.currentScript.previousElementSibling;\n",
       "    if (outputDiv.id !== \"altair-viz-e670d4baffb44853831d30ab3d43bf0d\") {\n",
       "      outputDiv = document.getElementById(\"altair-viz-e670d4baffb44853831d30ab3d43bf0d\");\n",
       "    }\n",
       "    const paths = {\n",
       "      \"vega\": \"https://cdn.jsdelivr.net/npm/vega@5?noext\",\n",
       "      \"vega-lib\": \"https://cdn.jsdelivr.net/npm/vega-lib?noext\",\n",
       "      \"vega-lite\": \"https://cdn.jsdelivr.net/npm/vega-lite@5.17.0?noext\",\n",
       "      \"vega-embed\": \"https://cdn.jsdelivr.net/npm/vega-embed@6?noext\",\n",
       "    };\n",
       "\n",
       "    function maybeLoadScript(lib, version) {\n",
       "      var key = `${lib.replace(\"-\", \"\")}_version`;\n",
       "      return (VEGA_DEBUG[key] == version) ?\n",
       "        Promise.resolve(paths[lib]) :\n",
       "        new Promise(function(resolve, reject) {\n",
       "          var s = document.createElement('script');\n",
       "          document.getElementsByTagName(\"head\")[0].appendChild(s);\n",
       "          s.async = true;\n",
       "          s.onload = () => {\n",
       "            VEGA_DEBUG[key] = version;\n",
       "            return resolve(paths[lib]);\n",
       "          };\n",
       "          s.onerror = () => reject(`Error loading script: ${paths[lib]}`);\n",
       "          s.src = paths[lib];\n",
       "        });\n",
       "    }\n",
       "\n",
       "    function showError(err) {\n",
       "      outputDiv.innerHTML = `<div class=\"error\" style=\"color:red;\">${err}</div>`;\n",
       "      throw err;\n",
       "    }\n",
       "\n",
       "    function displayChart(vegaEmbed) {\n",
       "      vegaEmbed(outputDiv, spec, embedOpt)\n",
       "        .catch(err => showError(`Javascript Error: ${err.message}<br>This usually means there's a typo in your chart specification. See the javascript console for the full traceback.`));\n",
       "    }\n",
       "\n",
       "    if(typeof define === \"function\" && define.amd) {\n",
       "      requirejs.config({paths});\n",
       "      require([\"vega-embed\"], displayChart, err => showError(`Error loading script: ${err.message}`));\n",
       "    } else {\n",
       "      maybeLoadScript(\"vega\", \"5\")\n",
       "        .then(() => maybeLoadScript(\"vega-lite\", \"5.17.0\"))\n",
       "        .then(() => maybeLoadScript(\"vega-embed\", \"6\"))\n",
       "        .catch(showError)\n",
       "        .then(() => displayChart(vegaEmbed));\n",
       "    }\n",
       "  })({\"config\": {\"view\": {\"continuousWidth\": 300, \"continuousHeight\": 300}, \"legend\": {\"orient\": \"top\"}}, \"data\": {\"name\": \"data-3badc06ebefb01dda4bf7c6810685634\"}, \"mark\": {\"type\": \"bar\"}, \"encoding\": {\"color\": {\"field\": \"result\", \"scale\": {\"domain\": [\"W\", \"L\"], \"range\": [\"#005A9C\", \"#EF3E42\"]}, \"title\": \"\", \"type\": \"nominal\"}, \"x\": {\"bin\": {\"maxbins\": 20}, \"field\": \"r\", \"title\": \"Runs Scored\", \"type\": \"quantitative\"}, \"y\": {\"aggregate\": \"count\", \"title\": \"Number of games\", \"type\": \"quantitative\"}}, \"height\": 200, \"title\": \"Distribution of Runs Scored in Wins and Losses\", \"width\": 400, \"$schema\": \"https://vega.github.io/schema/vega-lite/v5.17.0.json\", \"datasets\": {\"data-3badc06ebefb01dda4bf7c6810685634\": [{\"gm\": 16, \"game_date\": \"2025-04-12\", \"result\": \"L\", \"r\": 0, \"ra\": 16, \"run_diff\": -16}, {\"gm\": 15, \"game_date\": \"2025-04-11\", \"result\": \"W\", \"r\": 3, \"ra\": 0, \"run_diff\": 3}, {\"gm\": 14, \"game_date\": \"2025-04-09\", \"result\": \"W\", \"r\": 6, \"ra\": 5, \"run_diff\": 1}, {\"gm\": 13, \"game_date\": \"2025-04-08\", \"result\": \"L\", \"r\": 2, \"ra\": 8, \"run_diff\": -6}, {\"gm\": 12, \"game_date\": \"2025-04-07\", \"result\": \"L\", \"r\": 4, \"ra\": 6, \"run_diff\": -2}, {\"gm\": 11, \"game_date\": \"2025-04-06\", \"result\": \"L\", \"r\": 7, \"ra\": 8, \"run_diff\": -1}, {\"gm\": 10, \"game_date\": \"2025-04-05\", \"result\": \"W\", \"r\": 3, \"ra\": 1, \"run_diff\": 2}, {\"gm\": 9, \"game_date\": \"2025-04-04\", \"result\": \"L\", \"r\": 2, \"ra\": 3, \"run_diff\": -1}, {\"gm\": 8, \"game_date\": \"2025-04-02\", \"result\": \"W\", \"r\": 6, \"ra\": 5, \"run_diff\": 1}, {\"gm\": 7, \"game_date\": \"2025-04-01\", \"result\": \"W\", \"r\": 3, \"ra\": 1, \"run_diff\": 2}, {\"gm\": 6, \"game_date\": \"2025-03-31\", \"result\": \"W\", \"r\": 6, \"ra\": 1, \"run_diff\": 5}, {\"gm\": 5, \"game_date\": \"2025-03-29\", \"result\": \"W\", \"r\": 7, \"ra\": 3, \"run_diff\": 4}, {\"gm\": 4, \"game_date\": \"2025-03-28\", \"result\": \"W\", \"r\": 8, \"ra\": 5, \"run_diff\": 3}, {\"gm\": 3, \"game_date\": \"2025-03-27\", \"result\": \"W\", \"r\": 5, \"ra\": 4, \"run_diff\": 1}, {\"gm\": 2, \"game_date\": \"2025-03-19\", \"result\": \"W\", \"r\": 6, \"ra\": 3, \"run_diff\": 3}, {\"gm\": 1, \"game_date\": \"2025-03-18\", \"result\": \"W\", \"r\": 4, \"ra\": 1, \"run_diff\": 3}]}}, {\"mode\": \"vega-lite\"});\n",
       "</script>"
      ],
      "text/plain": [
       "alt.Chart(...)"
      ]
     },
     "metadata": {},
     "output_type": "display_data"
    }
   ],
   "source": [
    "histogram = (\n",
    "    alt.Chart(df)\n",
    "    .mark_bar()\n",
    "    .encode(\n",
    "        alt.X(\"r:Q\", bin=alt.Bin(maxbins=20), title=\"Runs Scored\"),\n",
    "        alt.Y(\"count()\", title=\"Number of games\"),\n",
    "        alt.Color(\n",
    "            \"result:N\",\n",
    "            scale=alt.Scale(domain=[\"W\", \"L\"], range=[\"#005A9C\", \"#EF3E42\"]),\n",
    "            title=\"\",\n",
    "        ),\n",
    "    )\n",
    "    .properties(\n",
    "        width=400, height=200, title=\"Distribution of Runs Scored in Wins and Losses\"\n",
    "    )\n",
    "    .configure_legend(orient=\"top\")\n",
    ")\n",
    "\n",
    "histogram.display()"
   ]
  },
  {
   "cell_type": "markdown",
   "id": "8d086de2-e46d-49e7-8d07-b4829cca05f4",
   "metadata": {},
   "source": [
    "---"
   ]
  },
  {
   "cell_type": "markdown",
   "id": "1511fa12-f04d-44bb-bddb-98cc9a045ac5",
   "metadata": {},
   "source": [
    "---"
   ]
  },
  {
   "cell_type": "markdown",
   "id": "070e4b35-ca29-4669-8233-538b59c392dc",
   "metadata": {},
   "source": [
    "#### Game logs"
   ]
  },
  {
   "cell_type": "code",
   "execution_count": 9,
   "id": "ef8d39e9-177d-4ba3-a169-339e25f9863d",
   "metadata": {},
   "outputs": [],
   "source": [
    "# Read the table from the website and extract links\n",
    "logs = pd.read_html(\n",
    "    \"https://www.baseball-reference.com/teams/tgl.cgi?team=LAD&t=b&year=2024#rowsum_desc\",\n",
    "    extract_links=\"body\",\n",
    ")[0]\n",
    "\n",
    "# Extract the \"Date\" column which contains tuples of (text, link)\n",
    "date_links = logs[\"Date\"]\n",
    "\n",
    "# Create a new dataframe with separate columns for the date and the link\n",
    "date_link_df = pd.DataFrame(date_links.tolist(), columns=[\"date\", \"link\"]).dropna(\n",
    "    subset=\"link\"\n",
    ")\n",
    "\n",
    "# If you want to merge this back with the original dataframe:\n",
    "logs[\"date\"] = date_link_df[\"date\"]\n",
    "logs[\"link\"] = \"https://www.baseball-reference.com/\" + date_link_df[\"link\"]"
   ]
  },
  {
   "cell_type": "code",
   "execution_count": 10,
   "id": "882adf11-6008-43c9-91e5-cbbff7b7c481",
   "metadata": {},
   "outputs": [],
   "source": [
    "urls = list(logs[\"link\"].dropna())"
   ]
  },
  {
   "cell_type": "code",
   "execution_count": 11,
   "id": "6f974507-8a1e-4841-b26b-52c325916ddd",
   "metadata": {},
   "outputs": [
    {
     "data": {
      "application/vnd.jupyter.widget-view+json": {
       "model_id": "4e4a982e29634651b57beb02b3c7fc90",
       "version_major": 2,
       "version_minor": 0
      },
      "text/plain": [
       "  0%|          | 0/117 [00:00<?, ?it/s]"
      ]
     },
     "metadata": {},
     "output_type": "display_data"
    },
    {
     "ename": "KeyboardInterrupt",
     "evalue": "",
     "output_type": "error",
     "traceback": [
      "\u001b[0;31m---------------------------------------------------------------------------\u001b[0m",
      "\u001b[0;31mKeyboardInterrupt\u001b[0m                         Traceback (most recent call last)",
      "Cell \u001b[0;32mIn[11], line 13\u001b[0m\n\u001b[1;32m      6\u001b[0m box_df \u001b[38;5;241m=\u001b[39m (\n\u001b[1;32m      7\u001b[0m     pd\u001b[38;5;241m.\u001b[39mread_html(url, header\u001b[38;5;241m=\u001b[39m\u001b[38;5;241m0\u001b[39m)[\u001b[38;5;241m0\u001b[39m]\n\u001b[1;32m      8\u001b[0m     \u001b[38;5;241m.\u001b[39mdrop(\u001b[38;5;241m2\u001b[39m)\n\u001b[1;32m      9\u001b[0m     \u001b[38;5;241m.\u001b[39mdrop(\u001b[38;5;124m\"\u001b[39m\u001b[38;5;124mUnnamed: 0\u001b[39m\u001b[38;5;124m\"\u001b[39m, axis\u001b[38;5;241m=\u001b[39m\u001b[38;5;241m1\u001b[39m)\n\u001b[1;32m     10\u001b[0m     \u001b[38;5;241m.\u001b[39mrename(columns\u001b[38;5;241m=\u001b[39m{\u001b[38;5;124m\"\u001b[39m\u001b[38;5;124mUnnamed: 1\u001b[39m\u001b[38;5;124m\"\u001b[39m: \u001b[38;5;124m\"\u001b[39m\u001b[38;5;124mteam\u001b[39m\u001b[38;5;124m\"\u001b[39m})\n\u001b[1;32m     11\u001b[0m )\u001b[38;5;241m.\u001b[39massign(date\u001b[38;5;241m=\u001b[39mdate)\n\u001b[1;32m     12\u001b[0m boxscores\u001b[38;5;241m.\u001b[39mappend(box_df)\n\u001b[0;32m---> 13\u001b[0m \u001b[43mtime\u001b[49m\u001b[38;5;241;43m.\u001b[39;49m\u001b[43msleep\u001b[49m\u001b[43m(\u001b[49m\u001b[38;5;241;43m3\u001b[39;49m\u001b[43m)\u001b[49m\n",
      "\u001b[0;31mKeyboardInterrupt\u001b[0m: "
     ]
    }
   ],
   "source": [
    "boxscores = []\n",
    "\n",
    "for u in tqdm(urls):\n",
    "    url = u\n",
    "    date = date = pd.to_datetime(u[-15:].replace(\"0.shtml\", \"\")).strftime(\"%Y-%m-%d\")\n",
    "    box_df = (\n",
    "        pd.read_html(url, header=0)[0]\n",
    "        .drop(2)\n",
    "        .drop(\"Unnamed: 0\", axis=1)\n",
    "        .rename(columns={\"Unnamed: 1\": \"team\"})\n",
    "    ).assign(date=date)\n",
    "    boxscores.append(box_df)\n",
    "    time.sleep(3)"
   ]
  },
  {
   "cell_type": "code",
   "execution_count": null,
   "id": "42798c52-96a6-476f-a09c-39446479ced7",
   "metadata": {},
   "outputs": [],
   "source": [
    "opp_boxes_df = (\n",
    "    pd.concat(boxscores)\n",
    "    .query('team != \"Los Angeles Dodgers\" and ~team.str.contains(\"Winning\")')\n",
    "    .reset_index(drop=True)[[\"date\", \"1\", \"2\", \"3\", \"4\", \"5\", \"6\", \"7\", \"8\", \"9\"]]\n",
    "    .replace(\"X\", 0)\n",
    "    .assign(team=\"Opponent\")\n",
    ")\n",
    "opp_boxes_df"
   ]
  },
  {
   "cell_type": "code",
   "execution_count": null,
   "id": "895c2618-f5fa-4e5d-a5fb-1ede2ec11d0b",
   "metadata": {},
   "outputs": [],
   "source": [
    "lad_boxes_df = (\n",
    "    pd.concat(boxscores)\n",
    "    .query('team == \"Los Angeles Dodgers\"')\n",
    "    .reset_index(drop=True)[[\"date\", \"1\", \"2\", \"3\", \"4\", \"5\", \"6\", \"7\", \"8\", \"9\"]]\n",
    "    .replace(\"X\", 0)\n",
    "    .assign(team=\"Dodgers\")\n",
    ")\n",
    "lad_boxes_df"
   ]
  },
  {
   "cell_type": "code",
   "execution_count": null,
   "id": "850ff6fc-8356-4e5f-bbb9-107f31b920c8",
   "metadata": {},
   "outputs": [],
   "source": [
    "team_box = pd.concat([lad_boxes_df, opp_boxes_df])"
   ]
  },
  {
   "cell_type": "code",
   "execution_count": null,
   "id": "80d2a73c-a93b-486b-bd1c-0cdfd81f1678",
   "metadata": {},
   "outputs": [],
   "source": [
    "team_box[[\"1\", \"2\", \"3\", \"4\", \"5\", \"6\", \"7\", \"8\", \"9\"]] = team_box[\n",
    "    [\"1\", \"2\", \"3\", \"4\", \"5\", \"6\", \"7\", \"8\", \"9\"]\n",
    "].astype(int)"
   ]
  },
  {
   "cell_type": "code",
   "execution_count": null,
   "id": "fd93fd33-9856-40ec-bf14-5fbbea510d8a",
   "metadata": {},
   "outputs": [],
   "source": [
    "# Add more data for 'Opponent' team similarly.\n",
    "\n",
    "# Melt the dataframe to get a long format\n",
    "melted = team_box.melt(\n",
    "    id_vars=[\"date\", \"team\"],\n",
    "    value_vars=[str(i) for i in range(1, 10)],\n",
    "    var_name=\"inning\",\n",
    "    value_name=\"runs\",\n",
    ")\n",
    "\n",
    "# Convert the inning to an integer for sorting\n",
    "melted[\"inning\"] = melted[\"inning\"].astype(int)\n",
    "\n",
    "# Aggregate the runs by team and inning\n",
    "agg_runs = melted.groupby([\"team\", \"inning\"])[\"runs\"].sum().reset_index()"
   ]
  },
  {
   "cell_type": "code",
   "execution_count": null,
   "id": "2f9cda0a-3cad-4d4d-a1fe-efea2c4aaf09",
   "metadata": {},
   "outputs": [],
   "source": [
    "# Create the heatmap\n",
    "heatmap = (\n",
    "    alt.Chart(agg_runs)\n",
    "    .mark_rect()\n",
    "    .encode(\n",
    "        x=alt.X(\"inning:O\", title=\"\"),\n",
    "        y=alt.Y(\"team:N\", title=\"\"),\n",
    "        color=alt.Color(\n",
    "            \"runs:Q\",\n",
    "            title=\"Total Runs\",\n",
    "            scale=alt.Scale(scheme=\"greys\"),\n",
    "            legend=None,\n",
    "        ),\n",
    "        tooltip=[\"team\", \"inning\", \"runs\"],\n",
    "    )\n",
    "    .properties(width=500, height=50, title=\"Aggregate runs scored by inning\")\n",
    ")\n",
    "\n",
    "heatmap"
   ]
  },
  {
   "cell_type": "code",
   "execution_count": null,
   "id": "77dc5f04-6d3c-4ed6-aa89-986eb44643aa",
   "metadata": {},
   "outputs": [],
   "source": []
  },
  {
   "cell_type": "markdown",
   "id": "beac7153-fc4f-48b6-9ae1-9f7df9bc47ad",
   "metadata": {},
   "source": [
    "# Implement this heatmap ^ "
   ]
  },
  {
   "cell_type": "markdown",
   "id": "dd82a6b6-326d-4d53-874b-47646dbfb6ba",
   "metadata": {},
   "source": [
    "# BAR CODE CHART FOR EACH AT BAT FOR EACH STAR PLAYER WITH OUT VS. NOT OUT or OUT VS. HIT"
   ]
  },
  {
   "cell_type": "markdown",
   "id": "ab60c82c-44f4-48c6-89d9-bf99dbac3158",
   "metadata": {},
   "source": [
    "# TEAM BAR CODE CHART WITH HITS OR HRs OR OUT VS. POSITIVE OUTCOME"
   ]
  },
  {
   "cell_type": "code",
   "execution_count": null,
   "id": "f3b5044d-f192-4e97-8dbd-62790c73d1d0",
   "metadata": {},
   "outputs": [],
   "source": []
  },
  {
   "cell_type": "code",
   "execution_count": null,
   "id": "87546f8e-84b8-4210-9a08-45b71b3eb213",
   "metadata": {},
   "outputs": [],
   "source": []
  },
  {
   "cell_type": "code",
   "execution_count": null,
   "id": "6cef52db-68c2-49e0-85d4-bb81f56689f2",
   "metadata": {},
   "outputs": [],
   "source": []
  },
  {
   "cell_type": "markdown",
   "id": "7f40a548-6387-4e64-ada9-35f21d7de4ce",
   "metadata": {},
   "source": [
    "#### Batting from MLB"
   ]
  },
  {
   "cell_type": "code",
   "execution_count": 15,
   "id": "38276851-2d78-473c-95b1-419e8749e39e",
   "metadata": {},
   "outputs": [],
   "source": [
    "headers = {\n",
    "    \"accept\": \"*/*\",\n",
    "    \"accept-language\": \"en-US,en;q=0.9,es;q=0.8\",\n",
    "    \"origin\": \"https://www.mlb.com\",\n",
    "    \"priority\": \"u=1, i\",\n",
    "    \"referer\": \"https://www.mlb.com/\",\n",
    "    \"sec-ch-ua\": '\"Google Chrome\";v=\"125\", \"Chromium\";v=\"125\", \"Not.A/Brand\";v=\"24\"',\n",
    "    \"sec-ch-ua-mobile\": \"?0\",\n",
    "    \"sec-ch-ua-platform\": '\"macOS\"',\n",
    "    \"sec-fetch-dest\": \"empty\",\n",
    "    \"sec-fetch-mode\": \"cors\",\n",
    "    \"sec-fetch-site\": \"cross-site\",\n",
    "    \"user-agent\": \"Mozilla/5.0 (Macintosh; Intel Mac OS X 10_15_7) AppleWebKit/537.36 (KHTML, like Gecko) Chrome/125.0.0.0 Safari/537.36\",\n",
    "}\n",
    "\n",
    "batting_response = requests.get(\n",
    "    \"https://bdfed.stitch.mlbinfra.com/bdfed/stats/player?&env=prod&season=2024&sportId=1&stats=season&group=hitting&gameType=R&limit=25&offset=0&sortStat=homeRuns&order=desc&playerPool=ALL&teamId=119\",\n",
    "    headers=headers,\n",
    ")"
   ]
  },
  {
   "cell_type": "code",
   "execution_count": 18,
   "id": "ec8654a2-ac9b-48b6-beab-b739865511f9",
   "metadata": {},
   "outputs": [],
   "source": [
    "batting_df = pd.DataFrame(batting_response.json()[\"stats\"])"
   ]
  },
  {
   "cell_type": "code",
   "execution_count": 22,
   "id": "da8b5707-21a0-44e6-846b-9ab0d6129981",
   "metadata": {},
   "outputs": [
    {
     "data": {
      "text/html": [
       "<div>\n",
       "<style scoped>\n",
       "    .dataframe tbody tr th:only-of-type {\n",
       "        vertical-align: middle;\n",
       "    }\n",
       "\n",
       "    .dataframe tbody tr th {\n",
       "        vertical-align: top;\n",
       "    }\n",
       "\n",
       "    .dataframe thead th {\n",
       "        text-align: right;\n",
       "    }\n",
       "</style>\n",
       "<table border=\"1\" class=\"dataframe\">\n",
       "  <thead>\n",
       "    <tr style=\"text-align: right;\">\n",
       "      <th></th>\n",
       "      <th>year</th>\n",
       "      <th>playerId</th>\n",
       "      <th>playerName</th>\n",
       "      <th>type</th>\n",
       "      <th>rank</th>\n",
       "      <th>playerFullName</th>\n",
       "      <th>playerFirstName</th>\n",
       "      <th>playerLastName</th>\n",
       "      <th>playerUseName</th>\n",
       "      <th>playerInitLastName</th>\n",
       "      <th>teamId</th>\n",
       "      <th>teamAbbrev</th>\n",
       "      <th>teamName</th>\n",
       "      <th>teamShortName</th>\n",
       "      <th>leagueName</th>\n",
       "      <th>leagueId</th>\n",
       "      <th>positionAbbrev</th>\n",
       "      <th>position</th>\n",
       "      <th>primaryPositionAbbrev</th>\n",
       "      <th>plateAppearances</th>\n",
       "      <th>totalBases</th>\n",
       "      <th>leftOnBase</th>\n",
       "      <th>sacBunts</th>\n",
       "      <th>sacFlies</th>\n",
       "      <th>babip</th>\n",
       "      <th>extraBaseHits</th>\n",
       "      <th>hitByPitch</th>\n",
       "      <th>gidp</th>\n",
       "      <th>gidpOpp</th>\n",
       "      <th>numberOfPitches</th>\n",
       "      <th>pitchesPerPlateAppearance</th>\n",
       "      <th>walksPerPlateAppearance</th>\n",
       "      <th>strikeoutsPerPlateAppearance</th>\n",
       "      <th>homeRunsPerPlateAppearance</th>\n",
       "      <th>walksPerStrikeout</th>\n",
       "      <th>iso</th>\n",
       "      <th>reachedOnError</th>\n",
       "      <th>walkOffs</th>\n",
       "      <th>flyOuts</th>\n",
       "      <th>totalSwings</th>\n",
       "      <th>swingAndMisses</th>\n",
       "      <th>ballsInPlay</th>\n",
       "      <th>popOuts</th>\n",
       "      <th>lineOuts</th>\n",
       "      <th>groundOuts</th>\n",
       "      <th>flyHits</th>\n",
       "      <th>popHits</th>\n",
       "      <th>lineHits</th>\n",
       "      <th>groundHits</th>\n",
       "      <th>gamesPlayed</th>\n",
       "      <th>airOuts</th>\n",
       "      <th>runs</th>\n",
       "      <th>doubles</th>\n",
       "      <th>triples</th>\n",
       "      <th>homeRuns</th>\n",
       "      <th>strikeOuts</th>\n",
       "      <th>baseOnBalls</th>\n",
       "      <th>intentionalWalks</th>\n",
       "      <th>hits</th>\n",
       "      <th>avg</th>\n",
       "      <th>atBats</th>\n",
       "      <th>obp</th>\n",
       "      <th>slg</th>\n",
       "      <th>ops</th>\n",
       "      <th>caughtStealing</th>\n",
       "      <th>stolenBases</th>\n",
       "      <th>stolenBasePercentage</th>\n",
       "      <th>groundIntoDoublePlay</th>\n",
       "      <th>rbi</th>\n",
       "      <th>groundOutsToAirouts</th>\n",
       "      <th>catchersInterference</th>\n",
       "      <th>atBatsPerHomeRun</th>\n",
       "    </tr>\n",
       "  </thead>\n",
       "  <tbody>\n",
       "    <tr>\n",
       "      <th>0</th>\n",
       "      <td>2024</td>\n",
       "      <td>606192</td>\n",
       "      <td>Teoscar Hernández</td>\n",
       "      <td>player</td>\n",
       "      <td>1</td>\n",
       "      <td>Teoscar Hernández</td>\n",
       "      <td>Teoscar</td>\n",
       "      <td>Hernández</td>\n",
       "      <td>Teoscar</td>\n",
       "      <td>T Hernández</td>\n",
       "      <td>119</td>\n",
       "      <td>LAD</td>\n",
       "      <td>Los Angeles Dodgers</td>\n",
       "      <td>Dodgers</td>\n",
       "      <td>NL</td>\n",
       "      <td>104</td>\n",
       "      <td>RF</td>\n",
       "      <td>Outfielder</td>\n",
       "      <td>RF</td>\n",
       "      <td>279</td>\n",
       "      <td>126</td>\n",
       "      <td>142</td>\n",
       "      <td>0</td>\n",
       "      <td>0</td>\n",
       "      <td>.325</td>\n",
       "      <td>29</td>\n",
       "      <td>3</td>\n",
       "      <td>3</td>\n",
       "      <td>34</td>\n",
       "      <td>1100</td>\n",
       "      <td>3.943</td>\n",
       "      <td>.082</td>\n",
       "      <td>.287</td>\n",
       "      <td>.054</td>\n",
       "      <td>.288</td>\n",
       "      <td>.238</td>\n",
       "      <td>5</td>\n",
       "      <td>0</td>\n",
       "      <td>26</td>\n",
       "      <td>575</td>\n",
       "      <td>191</td>\n",
       "      <td>172</td>\n",
       "      <td>9</td>\n",
       "      <td>16</td>\n",
       "      <td>55</td>\n",
       "      <td>21</td>\n",
       "      <td>0</td>\n",
       "      <td>21</td>\n",
       "      <td>24</td>\n",
       "      <td>66</td>\n",
       "      <td>51</td>\n",
       "      <td>38</td>\n",
       "      <td>13</td>\n",
       "      <td>1</td>\n",
       "      <td>15</td>\n",
       "      <td>80</td>\n",
       "      <td>23</td>\n",
       "      <td>1</td>\n",
       "      <td>66</td>\n",
       "      <td>.262</td>\n",
       "      <td>252</td>\n",
       "      <td>.331</td>\n",
       "      <td>.500</td>\n",
       "      <td>.831</td>\n",
       "      <td>2</td>\n",
       "      <td>4</td>\n",
       "      <td>.667</td>\n",
       "      <td>3</td>\n",
       "      <td>47</td>\n",
       "      <td>1.08</td>\n",
       "      <td>1</td>\n",
       "      <td>16.80</td>\n",
       "    </tr>\n",
       "    <tr>\n",
       "      <th>1</th>\n",
       "      <td>2024</td>\n",
       "      <td>660271</td>\n",
       "      <td>Shohei Ohtani</td>\n",
       "      <td>player</td>\n",
       "      <td>1</td>\n",
       "      <td>Shohei Ohtani</td>\n",
       "      <td>Shohei</td>\n",
       "      <td>Ohtani</td>\n",
       "      <td>Shohei</td>\n",
       "      <td>S Ohtani</td>\n",
       "      <td>119</td>\n",
       "      <td>LAD</td>\n",
       "      <td>Los Angeles Dodgers</td>\n",
       "      <td>Dodgers</td>\n",
       "      <td>NL</td>\n",
       "      <td>104</td>\n",
       "      <td>DH</td>\n",
       "      <td>Designated Hitter</td>\n",
       "      <td>TWP</td>\n",
       "      <td>287</td>\n",
       "      <td>145</td>\n",
       "      <td>116</td>\n",
       "      <td>0</td>\n",
       "      <td>2</td>\n",
       "      <td>.356</td>\n",
       "      <td>34</td>\n",
       "      <td>1</td>\n",
       "      <td>5</td>\n",
       "      <td>49</td>\n",
       "      <td>1135</td>\n",
       "      <td>3.955</td>\n",
       "      <td>.098</td>\n",
       "      <td>.213</td>\n",
       "      <td>.052</td>\n",
       "      <td>.459</td>\n",
       "      <td>.260</td>\n",
       "      <td>4</td>\n",
       "      <td>1</td>\n",
       "      <td>34</td>\n",
       "      <td>547</td>\n",
       "      <td>150</td>\n",
       "      <td>195</td>\n",
       "      <td>8</td>\n",
       "      <td>17</td>\n",
       "      <td>57</td>\n",
       "      <td>17</td>\n",
       "      <td>0</td>\n",
       "      <td>40</td>\n",
       "      <td>22</td>\n",
       "      <td>63</td>\n",
       "      <td>59</td>\n",
       "      <td>46</td>\n",
       "      <td>17</td>\n",
       "      <td>2</td>\n",
       "      <td>15</td>\n",
       "      <td>61</td>\n",
       "      <td>28</td>\n",
       "      <td>1</td>\n",
       "      <td>79</td>\n",
       "      <td>.311</td>\n",
       "      <td>254</td>\n",
       "      <td>.379</td>\n",
       "      <td>.571</td>\n",
       "      <td>.950</td>\n",
       "      <td>1</td>\n",
       "      <td>14</td>\n",
       "      <td>.933</td>\n",
       "      <td>5</td>\n",
       "      <td>41</td>\n",
       "      <td>0.97</td>\n",
       "      <td>2</td>\n",
       "      <td>16.93</td>\n",
       "    </tr>\n",
       "    <tr>\n",
       "      <th>2</th>\n",
       "      <td>2024</td>\n",
       "      <td>605141</td>\n",
       "      <td>Mookie Betts</td>\n",
       "      <td>player</td>\n",
       "      <td>3</td>\n",
       "      <td>Mookie Betts</td>\n",
       "      <td>Markus</td>\n",
       "      <td>Betts</td>\n",
       "      <td>Mookie</td>\n",
       "      <td>M Betts</td>\n",
       "      <td>119</td>\n",
       "      <td>LAD</td>\n",
       "      <td>Los Angeles Dodgers</td>\n",
       "      <td>Dodgers</td>\n",
       "      <td>NL</td>\n",
       "      <td>104</td>\n",
       "      <td>SS</td>\n",
       "      <td>Shortstop</td>\n",
       "      <td>SS</td>\n",
       "      <td>302</td>\n",
       "      <td>130</td>\n",
       "      <td>73</td>\n",
       "      <td>0</td>\n",
       "      <td>0</td>\n",
       "      <td>.321</td>\n",
       "      <td>27</td>\n",
       "      <td>0</td>\n",
       "      <td>3</td>\n",
       "      <td>32</td>\n",
       "      <td>1232</td>\n",
       "      <td>4.079</td>\n",
       "      <td>.149</td>\n",
       "      <td>.096</td>\n",
       "      <td>.033</td>\n",
       "      <td>1.552</td>\n",
       "      <td>.195</td>\n",
       "      <td>0</td>\n",
       "      <td>0</td>\n",
       "      <td>63</td>\n",
       "      <td>459</td>\n",
       "      <td>62</td>\n",
       "      <td>228</td>\n",
       "      <td>16</td>\n",
       "      <td>29</td>\n",
       "      <td>40</td>\n",
       "      <td>17</td>\n",
       "      <td>0</td>\n",
       "      <td>43</td>\n",
       "      <td>20</td>\n",
       "      <td>65</td>\n",
       "      <td>108</td>\n",
       "      <td>48</td>\n",
       "      <td>14</td>\n",
       "      <td>3</td>\n",
       "      <td>10</td>\n",
       "      <td>29</td>\n",
       "      <td>45</td>\n",
       "      <td>0</td>\n",
       "      <td>80</td>\n",
       "      <td>.311</td>\n",
       "      <td>257</td>\n",
       "      <td>.414</td>\n",
       "      <td>.506</td>\n",
       "      <td>.920</td>\n",
       "      <td>1</td>\n",
       "      <td>9</td>\n",
       "      <td>.900</td>\n",
       "      <td>3</td>\n",
       "      <td>35</td>\n",
       "      <td>0.37</td>\n",
       "      <td>0</td>\n",
       "      <td>25.70</td>\n",
       "    </tr>\n",
       "    <tr>\n",
       "      <th>3</th>\n",
       "      <td>2024</td>\n",
       "      <td>571970</td>\n",
       "      <td>Max Muncy</td>\n",
       "      <td>player</td>\n",
       "      <td>4</td>\n",
       "      <td>Max Muncy</td>\n",
       "      <td>Maxwell</td>\n",
       "      <td>Muncy</td>\n",
       "      <td>Max</td>\n",
       "      <td>M Muncy</td>\n",
       "      <td>119</td>\n",
       "      <td>LAD</td>\n",
       "      <td>Los Angeles Dodgers</td>\n",
       "      <td>Dodgers</td>\n",
       "      <td>NL</td>\n",
       "      <td>104</td>\n",
       "      <td>3B</td>\n",
       "      <td>Third Base</td>\n",
       "      <td>3B</td>\n",
       "      <td>167</td>\n",
       "      <td>66</td>\n",
       "      <td>97</td>\n",
       "      <td>0</td>\n",
       "      <td>5</td>\n",
       "      <td>.259</td>\n",
       "      <td>17</td>\n",
       "      <td>2</td>\n",
       "      <td>1</td>\n",
       "      <td>25</td>\n",
       "      <td>704</td>\n",
       "      <td>4.216</td>\n",
       "      <td>.126</td>\n",
       "      <td>.299</td>\n",
       "      <td>.054</td>\n",
       "      <td>.420</td>\n",
       "      <td>.252</td>\n",
       "      <td>0</td>\n",
       "      <td>0</td>\n",
       "      <td>28</td>\n",
       "      <td>292</td>\n",
       "      <td>94</td>\n",
       "      <td>94</td>\n",
       "      <td>13</td>\n",
       "      <td>5</td>\n",
       "      <td>17</td>\n",
       "      <td>13</td>\n",
       "      <td>0</td>\n",
       "      <td>12</td>\n",
       "      <td>6</td>\n",
       "      <td>40</td>\n",
       "      <td>46</td>\n",
       "      <td>24</td>\n",
       "      <td>8</td>\n",
       "      <td>0</td>\n",
       "      <td>9</td>\n",
       "      <td>50</td>\n",
       "      <td>21</td>\n",
       "      <td>2</td>\n",
       "      <td>31</td>\n",
       "      <td>.223</td>\n",
       "      <td>139</td>\n",
       "      <td>.323</td>\n",
       "      <td>.475</td>\n",
       "      <td>.798</td>\n",
       "      <td>0</td>\n",
       "      <td>0</td>\n",
       "      <td>.---</td>\n",
       "      <td>1</td>\n",
       "      <td>28</td>\n",
       "      <td>0.37</td>\n",
       "      <td>0</td>\n",
       "      <td>15.44</td>\n",
       "    </tr>\n",
       "    <tr>\n",
       "      <th>4</th>\n",
       "      <td>2024</td>\n",
       "      <td>669257</td>\n",
       "      <td>Will Smith</td>\n",
       "      <td>player</td>\n",
       "      <td>4</td>\n",
       "      <td>Will Smith</td>\n",
       "      <td>William</td>\n",
       "      <td>Smith</td>\n",
       "      <td>Will</td>\n",
       "      <td>W Smith</td>\n",
       "      <td>119</td>\n",
       "      <td>LAD</td>\n",
       "      <td>Los Angeles Dodgers</td>\n",
       "      <td>Dodgers</td>\n",
       "      <td>NL</td>\n",
       "      <td>104</td>\n",
       "      <td>C</td>\n",
       "      <td>Catcher</td>\n",
       "      <td>C</td>\n",
       "      <td>238</td>\n",
       "      <td>104</td>\n",
       "      <td>102</td>\n",
       "      <td>0</td>\n",
       "      <td>4</td>\n",
       "      <td>.311</td>\n",
       "      <td>25</td>\n",
       "      <td>3</td>\n",
       "      <td>3</td>\n",
       "      <td>43</td>\n",
       "      <td>944</td>\n",
       "      <td>3.966</td>\n",
       "      <td>.092</td>\n",
       "      <td>.155</td>\n",
       "      <td>.038</td>\n",
       "      <td>.595</td>\n",
       "      <td>.206</td>\n",
       "      <td>1</td>\n",
       "      <td>0</td>\n",
       "      <td>46</td>\n",
       "      <td>455</td>\n",
       "      <td>85</td>\n",
       "      <td>176</td>\n",
       "      <td>11</td>\n",
       "      <td>16</td>\n",
       "      <td>42</td>\n",
       "      <td>17</td>\n",
       "      <td>0</td>\n",
       "      <td>29</td>\n",
       "      <td>15</td>\n",
       "      <td>55</td>\n",
       "      <td>73</td>\n",
       "      <td>33</td>\n",
       "      <td>16</td>\n",
       "      <td>0</td>\n",
       "      <td>9</td>\n",
       "      <td>37</td>\n",
       "      <td>22</td>\n",
       "      <td>3</td>\n",
       "      <td>61</td>\n",
       "      <td>.292</td>\n",
       "      <td>209</td>\n",
       "      <td>.361</td>\n",
       "      <td>.498</td>\n",
       "      <td>.859</td>\n",
       "      <td>1</td>\n",
       "      <td>0</td>\n",
       "      <td>.000</td>\n",
       "      <td>3</td>\n",
       "      <td>38</td>\n",
       "      <td>0.58</td>\n",
       "      <td>0</td>\n",
       "      <td>23.22</td>\n",
       "    </tr>\n",
       "  </tbody>\n",
       "</table>\n",
       "</div>"
      ],
      "text/plain": [
       "   year  playerId         playerName    type  rank     playerFullName  \\\n",
       "0  2024    606192  Teoscar Hernández  player     1  Teoscar Hernández   \n",
       "1  2024    660271      Shohei Ohtani  player     1      Shohei Ohtani   \n",
       "2  2024    605141       Mookie Betts  player     3       Mookie Betts   \n",
       "3  2024    571970          Max Muncy  player     4          Max Muncy   \n",
       "4  2024    669257         Will Smith  player     4         Will Smith   \n",
       "\n",
       "  playerFirstName playerLastName playerUseName playerInitLastName  teamId  \\\n",
       "0         Teoscar      Hernández       Teoscar        T Hernández     119   \n",
       "1          Shohei         Ohtani        Shohei           S Ohtani     119   \n",
       "2          Markus          Betts        Mookie            M Betts     119   \n",
       "3         Maxwell          Muncy           Max            M Muncy     119   \n",
       "4         William          Smith          Will            W Smith     119   \n",
       "\n",
       "  teamAbbrev             teamName teamShortName leagueName  leagueId  \\\n",
       "0        LAD  Los Angeles Dodgers       Dodgers         NL       104   \n",
       "1        LAD  Los Angeles Dodgers       Dodgers         NL       104   \n",
       "2        LAD  Los Angeles Dodgers       Dodgers         NL       104   \n",
       "3        LAD  Los Angeles Dodgers       Dodgers         NL       104   \n",
       "4        LAD  Los Angeles Dodgers       Dodgers         NL       104   \n",
       "\n",
       "  positionAbbrev           position primaryPositionAbbrev  plateAppearances  \\\n",
       "0             RF         Outfielder                    RF               279   \n",
       "1             DH  Designated Hitter                   TWP               287   \n",
       "2             SS          Shortstop                    SS               302   \n",
       "3             3B         Third Base                    3B               167   \n",
       "4              C            Catcher                     C               238   \n",
       "\n",
       "   totalBases  leftOnBase  sacBunts  sacFlies babip  extraBaseHits  \\\n",
       "0         126         142         0         0  .325             29   \n",
       "1         145         116         0         2  .356             34   \n",
       "2         130          73         0         0  .321             27   \n",
       "3          66          97         0         5  .259             17   \n",
       "4         104         102         0         4  .311             25   \n",
       "\n",
       "   hitByPitch  gidp  gidpOpp  numberOfPitches pitchesPerPlateAppearance  \\\n",
       "0           3     3       34             1100                     3.943   \n",
       "1           1     5       49             1135                     3.955   \n",
       "2           0     3       32             1232                     4.079   \n",
       "3           2     1       25              704                     4.216   \n",
       "4           3     3       43              944                     3.966   \n",
       "\n",
       "  walksPerPlateAppearance strikeoutsPerPlateAppearance  \\\n",
       "0                    .082                         .287   \n",
       "1                    .098                         .213   \n",
       "2                    .149                         .096   \n",
       "3                    .126                         .299   \n",
       "4                    .092                         .155   \n",
       "\n",
       "  homeRunsPerPlateAppearance walksPerStrikeout   iso  reachedOnError  \\\n",
       "0                       .054              .288  .238               5   \n",
       "1                       .052              .459  .260               4   \n",
       "2                       .033             1.552  .195               0   \n",
       "3                       .054              .420  .252               0   \n",
       "4                       .038              .595  .206               1   \n",
       "\n",
       "   walkOffs  flyOuts  totalSwings  swingAndMisses  ballsInPlay  popOuts  \\\n",
       "0         0       26          575             191          172        9   \n",
       "1         1       34          547             150          195        8   \n",
       "2         0       63          459              62          228       16   \n",
       "3         0       28          292              94           94       13   \n",
       "4         0       46          455              85          176       11   \n",
       "\n",
       "   lineOuts  groundOuts  flyHits  popHits  lineHits  groundHits  gamesPlayed  \\\n",
       "0        16          55       21        0        21          24           66   \n",
       "1        17          57       17        0        40          22           63   \n",
       "2        29          40       17        0        43          20           65   \n",
       "3         5          17       13        0        12           6           40   \n",
       "4        16          42       17        0        29          15           55   \n",
       "\n",
       "   airOuts  runs  doubles  triples  homeRuns  strikeOuts  baseOnBalls  \\\n",
       "0       51    38       13        1        15          80           23   \n",
       "1       59    46       17        2        15          61           28   \n",
       "2      108    48       14        3        10          29           45   \n",
       "3       46    24        8        0         9          50           21   \n",
       "4       73    33       16        0         9          37           22   \n",
       "\n",
       "   intentionalWalks  hits   avg  atBats   obp   slg   ops  caughtStealing  \\\n",
       "0                 1    66  .262     252  .331  .500  .831               2   \n",
       "1                 1    79  .311     254  .379  .571  .950               1   \n",
       "2                 0    80  .311     257  .414  .506  .920               1   \n",
       "3                 2    31  .223     139  .323  .475  .798               0   \n",
       "4                 3    61  .292     209  .361  .498  .859               1   \n",
       "\n",
       "   stolenBases stolenBasePercentage  groundIntoDoublePlay  rbi  \\\n",
       "0            4                 .667                     3   47   \n",
       "1           14                 .933                     5   41   \n",
       "2            9                 .900                     3   35   \n",
       "3            0                 .---                     1   28   \n",
       "4            0                 .000                     3   38   \n",
       "\n",
       "  groundOutsToAirouts  catchersInterference atBatsPerHomeRun  \n",
       "0                1.08                     1            16.80  \n",
       "1                0.97                     2            16.93  \n",
       "2                0.37                     0            25.70  \n",
       "3                0.37                     0            15.44  \n",
       "4                0.58                     0            23.22  "
      ]
     },
     "execution_count": 22,
     "metadata": {},
     "output_type": "execute_result"
    }
   ],
   "source": [
    "batting_df.head()"
   ]
  },
  {
   "cell_type": "code",
   "execution_count": 19,
   "id": "f89cc8b0-9605-48da-aafa-2f5c946f8608",
   "metadata": {},
   "outputs": [],
   "source": [
    "pitching_response = requests.get(\n",
    "    \"https://bdfed.stitch.mlbinfra.com/bdfed/stats/player?&env=prod&season=2024&sportId=1&stats=season&group=pitching&gameType=R&limit=25&offset=0&sortStat=strikeouts&order=desc&teamId=119\",\n",
    "    headers=headers,\n",
    ")"
   ]
  },
  {
   "cell_type": "code",
   "execution_count": 20,
   "id": "6b26a32a-9229-48ff-a70b-0030e6925e6d",
   "metadata": {},
   "outputs": [],
   "source": [
    "pitching_df = pd.DataFrame(pitching_response.json()[\"stats\"])"
   ]
  },
  {
   "cell_type": "code",
   "execution_count": null,
   "id": "01cbf1ef-10d3-4ed9-afbe-bf2322a266d5",
   "metadata": {},
   "outputs": [],
   "source": []
  },
  {
   "cell_type": "code",
   "execution_count": null,
   "id": "07698b63-4ac4-4e57-bfdc-56b6e9c3599d",
   "metadata": {},
   "outputs": [],
   "source": []
  },
  {
   "cell_type": "code",
   "execution_count": null,
   "id": "4d88d044-d62d-4dbf-83fc-b5268f4bbdb1",
   "metadata": {},
   "outputs": [],
   "source": []
  },
  {
   "cell_type": "code",
   "execution_count": null,
   "id": "d8074c6e-487c-4a6c-8fa4-2f30f7e91aec",
   "metadata": {},
   "outputs": [],
   "source": []
  },
  {
   "cell_type": "code",
   "execution_count": null,
   "id": "74070405-269b-40cc-805e-7e8f4cf3cce7",
   "metadata": {},
   "outputs": [],
   "source": []
  },
  {
   "cell_type": "code",
   "execution_count": null,
   "id": "80f3d712-0e9a-416c-9be9-5e5d3b727c08",
   "metadata": {},
   "outputs": [],
   "source": []
  },
  {
   "cell_type": "code",
   "execution_count": null,
   "id": "941e0f7f-f023-4769-9f1e-fc73e512bf53",
   "metadata": {},
   "outputs": [],
   "source": []
  },
  {
   "cell_type": "code",
   "execution_count": null,
   "id": "de5df369-4fd6-4123-8e1a-22dc84676c3d",
   "metadata": {},
   "outputs": [],
   "source": []
  },
  {
   "cell_type": "markdown",
   "id": "06fadece-49e8-49ea-8fc8-7a67b6dd8264",
   "metadata": {},
   "source": [
    "---"
   ]
  },
  {
   "cell_type": "markdown",
   "id": "1e7ae03c-c6bf-46ae-a417-ebf155cadad2",
   "metadata": {
    "panel-layout": {
     "height": 50.8203,
     "visible": true,
     "width": 100
    }
   },
   "source": [
    "## Comparing seasons to this point"
   ]
  },
  {
   "cell_type": "markdown",
   "id": "aa31605f-50d3-4af6-8bf0-068f3fd9d313",
   "metadata": {
    "panel-layout": {
     "height": 43.2188,
     "visible": true,
     "width": 100
    }
   },
   "source": [
    "#### Limit dataframe to latest game number this season"
   ]
  },
  {
   "cell_type": "code",
   "execution_count": null,
   "id": "a2b976b2-279c-492d-b2f9-f559513ba870",
   "metadata": {},
   "outputs": [],
   "source": [
    "limit_df = df.query(f\"gm <= {game_number}\").copy()"
   ]
  },
  {
   "cell_type": "code",
   "execution_count": null,
   "id": "e408b594-904b-4b9c-92c2-55dc41982f0b",
   "metadata": {
    "panel-layout": {
     "height": 501.141,
     "visible": true,
     "width": 100
    }
   },
   "outputs": [],
   "source": [
    "past = (\n",
    "    alt.Chart(df.query(\"year != 2024\"))\n",
    "    .mark_line(size=0.8)\n",
    "    .encode(\n",
    "        x=alt.X(\n",
    "            \"gm\",\n",
    "            title=\"Game number in season\",\n",
    "            axis=alt.Axis(values=[20, 40, 60, 80, 100, 120, 140, 160]),\n",
    "            scale=alt.Scale(domain=[0, 162]),\n",
    "        ),\n",
    "        y=alt.Y(\"gb:Q\", title=\"Games ahead/back by game in the season: 1958-2024\"),\n",
    "        color=alt.Color(\"year:O\", scale={\"range\": [\"#bbbbbb\"]}, legend=None),\n",
    "    )\n",
    "    .properties(\n",
    "        width=800,\n",
    "        height=400,\n",
    "        title=\"LA Dodgers historical standings\",\n",
    "    )\n",
    ")\n",
    "\n",
    "current = (\n",
    "    alt.Chart(df.query(\"year == '2024'\"))\n",
    "    .mark_line(size=2, color=\"#005A9C\")\n",
    "    .encode(\n",
    "        x=alt.X(\"gm\", scale=alt.Scale(domain=[0, 160])),  # Apply the same domain limit\n",
    "        y=\"gb:Q\",\n",
    "    )\n",
    ")\n",
    "\n",
    "hline = (\n",
    "    alt.Chart(pd.DataFrame({\"y\": [0]}))\n",
    "    .mark_rule(color=\"black\", strokeWidth=0.5)\n",
    "    .encode(y=\"y\")\n",
    ")\n",
    "\n",
    "# Define a text annotation just above the horizontal line\n",
    "text = (\n",
    "    alt.Chart(pd.DataFrame({\"y\": [0], \"text\": [\"Leading ↑\"]}))\n",
    "    .mark_text(\n",
    "        color=\"#666666\",\n",
    "        align=\"center\",\n",
    "        baseline=\"bottom\",\n",
    "        dy=-0,\n",
    "        dx=370,\n",
    "        fontSize=12,\n",
    "        fontWeight=\"bold\",\n",
    "    )\n",
    "    .encode(y=\"y:Q\", text=\"text:N\")\n",
    ")\n",
    "\n",
    "# Define a text annotation just above the horizontal line\n",
    "anno_text = (\n",
    "    alt.Chart(pd.DataFrame({\"y\": [20], \"text\": [\"1958-2023\"]}))\n",
    "    .mark_text(\n",
    "        color=\"#bbbbbb\",\n",
    "        align=\"center\",\n",
    "        baseline=\"bottom\",\n",
    "        dy=20,\n",
    "        dx=20,\n",
    "        fontSize=12,\n",
    "        fontWeight=\"bold\",\n",
    "    )\n",
    "    .encode(y=\"y:Q\", text=\"text:N\")\n",
    ")\n",
    "\n",
    "# Extract the last point of the 2024 season\n",
    "last_point_df = df.query(\"year == '2024'\").tail(1).copy()\n",
    "last_point_df[\"annotation\"] = \"2024\"\n",
    "\n",
    "# Create a text annotation chart for the \"current\" line\n",
    "current_text_annotation = (\n",
    "    alt.Chart(last_point_df)\n",
    "    .mark_text(\n",
    "        align=\"left\",\n",
    "        baseline=\"middle\",\n",
    "        dx=15,\n",
    "        dy=-30,\n",
    "        fontSize=12,\n",
    "        fontWeight=\"bold\",\n",
    "        color=\"#005A9C\",  # Match the line color or choose a different one\n",
    "    )\n",
    "    .encode(x=alt.X(\"gm:Q\"), y=alt.Y(\"gb:Q\"), text=\"annotation:N\")\n",
    ")\n",
    "\n",
    "# Combine everything, including the new text annotation\n",
    "chart = past + hline + current + text + anno_text + current_text_annotation\n",
    "\n",
    "# Show the chart\n",
    "chart"
   ]
  },
  {
   "cell_type": "code",
   "execution_count": null,
   "id": "69357f4e-b260-4865-82b1-0f87575f758c",
   "metadata": {},
   "outputs": [],
   "source": [
    "chart.save(\"../visuals/standings.png\")"
   ]
  },
  {
   "cell_type": "code",
   "execution_count": null,
   "id": "e6c79730-df99-40c1-a7ca-2bc9746af86f",
   "metadata": {},
   "outputs": [],
   "source": [
    "titles = [\"1959\", \"1963\", \"1965\", \"1981\", \"1988\", \"2020\"]"
   ]
  },
  {
   "cell_type": "code",
   "execution_count": null,
   "id": "0ccc3134-abd9-49ae-859b-5eaacea88f8e",
   "metadata": {},
   "outputs": [],
   "source": [
    "pct_past = (\n",
    "    alt.Chart(df.query(\"year != '2024'\"))\n",
    "    .mark_line(size=0.8)\n",
    "    .encode(\n",
    "        x=alt.X(\n",
    "            \"gm\",\n",
    "            title=\"Game number in season\",\n",
    "            axis=alt.Axis(values=[20, 40, 60, 80, 100, 120, 140, 160]),\n",
    "            scale=alt.Scale(domain=[0, 162]),\n",
    "        ),\n",
    "        y=alt.Y(\n",
    "            \"win_pct:Q\", title=\"Winning percentage by game in the season: 1958-2024\"\n",
    "        ),\n",
    "        color=alt.Color(\"year:O\", scale={\"range\": [\"#bbbbbb\"]}, legend=None),\n",
    "    )\n",
    "    .properties(\n",
    "        width=800,\n",
    "        height=400,\n",
    "        title=\"LA Dodgers historical performance\",\n",
    "    )\n",
    ")\n",
    "\n",
    "pct_current = (\n",
    "    alt.Chart(df.query(\"year == '2024'\"))\n",
    "    .mark_line(size=2, color=\"#005A9C\")\n",
    "    .encode(\n",
    "        x=alt.X(\"gm\", scale=alt.Scale(domain=[0, 160])),  # Apply the same domain limit\n",
    "        y=alt.Y(\"win_pct:Q\", axis=alt.Axis(format=\"%\")),\n",
    "    )\n",
    ")\n",
    "\n",
    "pct_hline = (\n",
    "    alt.Chart(pd.DataFrame({\"y\": [0.5]}))\n",
    "    .mark_rule(color=\"black\", strokeWidth=0.5)\n",
    "    .encode(y=\"y\")\n",
    ")\n",
    "\n",
    "# Define a text annotation just above the horizontal line\n",
    "pct_text = (\n",
    "    alt.Chart(pd.DataFrame({\"y\": [0.51], \"text\": [\"Winning ↑\"]}))\n",
    "    .mark_text(\n",
    "        color=\"#666666\",\n",
    "        align=\"center\",\n",
    "        baseline=\"bottom\",\n",
    "        dy=-0,\n",
    "        dx=370,\n",
    "        fontSize=11,\n",
    "        fontWeight=\"bold\",\n",
    "    )\n",
    "    .encode(y=\"y:Q\", text=\"text:N\")\n",
    ")\n",
    "\n",
    "# Define a text annotation just above the horizontal line\n",
    "pct_anno_text = (\n",
    "    alt.Chart(pd.DataFrame({\"y\": [0.4], \"text\": [\"1958-2023\"]}))\n",
    "    .mark_text(\n",
    "        color=\"#bbbbbb\",\n",
    "        align=\"center\",\n",
    "        baseline=\"bottom\",\n",
    "        dy=20,\n",
    "        dx=20,\n",
    "        fontSize=12,\n",
    "        fontWeight=\"bold\",\n",
    "    )\n",
    "    .encode(y=\"y:Q\", text=\"text:N\")\n",
    ")\n",
    "\n",
    "# Extract the last point of the 2024 season\n",
    "last_point_df = df.query(\"year == '2024'\").tail(1).copy()\n",
    "last_point_df[\"annotation\"] = \"2024\"\n",
    "\n",
    "# Create a text annotation chart for the \"current\" line\n",
    "pct_current_text_annotation = (\n",
    "    alt.Chart(last_point_df)\n",
    "    .mark_text(\n",
    "        align=\"left\",\n",
    "        baseline=\"middle\",\n",
    "        dx=120,\n",
    "        dy=-60,\n",
    "        fontSize=12,\n",
    "        fontWeight=\"bold\",\n",
    "        color=\"#005A9C\",\n",
    "    )\n",
    "    .encode(x=alt.X(\"gm:Q\"), y=alt.Y(\"gb:Q\"), text=\"annotation:N\")\n",
    ")\n",
    "\n",
    "# Combine everything, including the new text annotation\n",
    "pct_chart = (\n",
    "    pct_past\n",
    "    + pct_hline\n",
    "    + pct_current\n",
    "    + pct_text\n",
    "    + pct_anno_text\n",
    "    + pct_current_text_annotation\n",
    ")\n",
    "\n",
    "# Show the chart\n",
    "pct_chart"
   ]
  },
  {
   "cell_type": "code",
   "execution_count": null,
   "id": "7a468a3b-80df-4b69-be0a-307a83c0570e",
   "metadata": {
    "panel-layout": {
     "height": 484.141,
     "visible": true,
     "width": 100
    }
   },
   "outputs": [],
   "source": [
    "alt.Chart(limit_df.query(f\"gm == {game_number}\")).mark_bar().encode(\n",
    "    x=alt.Y(\n",
    "        \"year:O\",\n",
    "        axis=alt.Axis(\n",
    "            values=[1960, 1970, 1980, 1990, 2000, 2010, 2024],\n",
    "            title=\"\",\n",
    "        ),\n",
    "    ),\n",
    "    y=alt.Y(\"gb:Q\", title=\"\"),\n",
    "    color=alt.condition(\n",
    "        alt.datum.gb > 0,\n",
    "        alt.value(\"#005A9C\"),\n",
    "        alt.value(\"#e9e9e9\"),\n",
    "    ),\n",
    ").properties(\n",
    "    width=650,\n",
    "    height=200,\n",
    "    title=f\"LA Dodgers historical standings: Games back by game {game_number} of the season: 1958-2024\",\n",
    ")"
   ]
  },
  {
   "cell_type": "markdown",
   "id": "f65f7025-dd6a-4d9f-a796-a704a3925340",
   "metadata": {
    "panel-layout": {
     "height": 484.141,
     "visible": true,
     "width": 100
    }
   },
   "source": [
    "---"
   ]
  },
  {
   "cell_type": "markdown",
   "id": "30b7ab28-83ba-47d7-9f16-b370083c3217",
   "metadata": {
    "panel-layout": {
     "height": 484.141,
     "visible": true,
     "width": 100
    }
   },
   "source": [
    "#### Wins vs. Losses"
   ]
  },
  {
   "cell_type": "code",
   "execution_count": null,
   "id": "5c5493ed-c404-48e3-9566-02fb1c9cb605",
   "metadata": {
    "panel-layout": {
     "height": 484.141,
     "visible": true,
     "width": 100
    }
   },
   "outputs": [],
   "source": [
    "wl_df = df.query(\"year == '2024'\")[[\"gm\", \"game_date\", \"result\", \"r\", \"ra\"]].copy()"
   ]
  },
  {
   "cell_type": "code",
   "execution_count": null,
   "id": "0870aadd-8e0b-44f7-bd9b-014e8efd5280",
   "metadata": {
    "panel-layout": {
     "height": 484.141,
     "visible": true,
     "width": 100
    }
   },
   "outputs": [],
   "source": [
    "wl_df[\"result\"] = wl_df[\"result\"].str.split(\"-\", expand=True)[0]"
   ]
  },
  {
   "cell_type": "code",
   "execution_count": null,
   "id": "978cc5c6-7d96-4c4c-9eb7-934ee2832dbd",
   "metadata": {
    "panel-layout": {
     "height": 484.141,
     "visible": true,
     "width": 100
    }
   },
   "outputs": [],
   "source": [
    "wl_df[\"run_diff\"] = wl_df[\"r\"] - wl_df[\"ra\"]"
   ]
  },
  {
   "cell_type": "code",
   "execution_count": null,
   "id": "39a6863a-8cdd-4f3b-b735-1564acb9317f",
   "metadata": {
    "panel-layout": {
     "height": 484.141,
     "visible": true,
     "width": 100
    }
   },
   "outputs": [],
   "source": []
  },
  {
   "cell_type": "code",
   "execution_count": null,
   "id": "e7735f19-04e9-43b6-8021-ce306187c64e",
   "metadata": {
    "panel-layout": {
     "height": 484.141,
     "visible": true,
     "width": 100
    }
   },
   "outputs": [],
   "source": [
    "wl_df = df.query(\"year == '2024'\")[[\"gm\", \"game_date\", \"result\", \"r\", \"ra\"]].copy()\n",
    "wl_df[\"result\"] = wl_df[\"result\"].str.split(\"-\", expand=True)[0]\n",
    "wl_df[\"run_diff\"] = wl_df[\"r\"] - wl_df[\"ra\"]\n",
    "\n",
    "win_loss_chart = (\n",
    "    alt.Chart(wl_df)\n",
    "    .mark_bar()\n",
    "    .encode(\n",
    "        x=alt.Y(\n",
    "            \"game_date:T\",\n",
    "            axis=alt.Axis(\n",
    "                format=\"%B %-d\",\n",
    "                tickCount=6,\n",
    "                title=\"\",\n",
    "            ),\n",
    "        ),\n",
    "        y=alt.Y(\"run_diff:Q\", title=\"\"),\n",
    "        color=alt.condition(\n",
    "            alt.datum.run_diff > 0,\n",
    "            alt.value(\"#005A9C\"),\n",
    "            alt.value(\"#e9e9e9\"),\n",
    "        ),\n",
    "    )\n",
    ")\n",
    "\n",
    "win_loss_chart.properties(\n",
    "    width=900,\n",
    "    height=100,\n",
    "    title=f\"LA Dodgers 2024: Wins/losses and run differential\",\n",
    ")"
   ]
  },
  {
   "cell_type": "markdown",
   "id": "4a375f12-13ea-4073-9cc3-e5937b54069b",
   "metadata": {},
   "source": [
    "---"
   ]
  },
  {
   "cell_type": "markdown",
   "id": "3a2a465a-7752-44b2-b6e4-0ff8a2b5b829",
   "metadata": {},
   "source": [
    "## Scoring"
   ]
  },
  {
   "cell_type": "markdown",
   "id": "a3a04bae-7df0-4f60-bbec-4139331383fa",
   "metadata": {},
   "source": [
    "#### Group by season and sum runs, runs against"
   ]
  },
  {
   "cell_type": "code",
   "execution_count": null,
   "id": "ed005419-b37c-4183-aeed-36cebec8a7d0",
   "metadata": {},
   "outputs": [],
   "source": [
    "runs_season_limit = (\n",
    "    df.groupby(\"year\").agg({\"r\": \"sum\", \"ra\": \"sum\", \"gm\": \"size\"}).reset_index()\n",
    ").rename(columns={\"r\": \"runs\", \"ra\": \"runs_against\", \"gm\": \"games\"})"
   ]
  },
  {
   "cell_type": "markdown",
   "id": "7f05ad60-2f7b-4af9-8db8-7832e176b1a2",
   "metadata": {},
   "source": [
    "#### Runs and runs against per game"
   ]
  },
  {
   "cell_type": "code",
   "execution_count": null,
   "id": "1e25dcda-1333-46ea-8b70-58d3881fc8ef",
   "metadata": {},
   "outputs": [],
   "source": [
    "runs_season_limit[\"runs_per_game\"] = (\n",
    "    runs_season_limit[\"runs\"] / runs_season_limit[\"games\"]\n",
    ").round(2)"
   ]
  },
  {
   "cell_type": "code",
   "execution_count": null,
   "id": "cfbed1b4-b88b-4887-be75-bc9a9b388049",
   "metadata": {},
   "outputs": [],
   "source": [
    "runs_season_limit[\"runs_against_per_game\"] = (\n",
    "    runs_season_limit[\"runs_against\"] / runs_season_limit[\"games\"]\n",
    ").round(2)"
   ]
  },
  {
   "cell_type": "markdown",
   "id": "0d39b410-a59f-4eb8-bcaa-14f2bf516a16",
   "metadata": {},
   "source": [
    "#### Difference"
   ]
  },
  {
   "cell_type": "code",
   "execution_count": null,
   "id": "08fdbbff-d611-4088-974e-494d11e04039",
   "metadata": {},
   "outputs": [],
   "source": [
    "runs_season_limit[\"runs_per_game_diff\"] = (\n",
    "    runs_season_limit[\"runs_per_game\"] - runs_season_limit[\"runs_against_per_game\"]\n",
    ")"
   ]
  },
  {
   "cell_type": "markdown",
   "id": "6cd092eb-5772-48c9-97cf-0e2d62f0632f",
   "metadata": {
    "jp-MarkdownHeadingCollapsed": true,
    "panel-layout": {
     "height": 24,
     "visible": true,
     "width": 100
    }
   },
   "source": [
    "---"
   ]
  },
  {
   "cell_type": "markdown",
   "id": "3978864d-34d2-4947-8c33-a1d7e40f4121",
   "metadata": {
    "panel-layout": {
     "height": 43.2188,
     "visible": true,
     "width": 100
    }
   },
   "source": [
    "#### Runs scrored to this point"
   ]
  },
  {
   "cell_type": "code",
   "execution_count": null,
   "id": "1f0ead23-b9e9-4f67-8ec4-3909b417ec01",
   "metadata": {},
   "outputs": [],
   "source": [
    "limit_df[\"r\"] = limit_df[\"r\"].astype(int)"
   ]
  },
  {
   "cell_type": "code",
   "execution_count": null,
   "id": "24e9a5fd-048c-4ed1-8f5d-3b4fcd4106ac",
   "metadata": {},
   "outputs": [],
   "source": [
    "runs_so_far = (\n",
    "    limit_df.groupby(\"year\")[\"r\"]\n",
    "    .sum()\n",
    "    .reset_index(name=\"runs_to_date\")\n",
    "    .sort_values(\"year\", ascending=False)\n",
    ")"
   ]
  },
  {
   "cell_type": "code",
   "execution_count": null,
   "id": "9af94581-d122-4493-8124-1acdd5812cf3",
   "metadata": {},
   "outputs": [],
   "source": [
    "runs_this_season = int(runs_so_far.query(\"year == year.max()\")[\"runs_to_date\"].iloc[0])"
   ]
  },
  {
   "cell_type": "code",
   "execution_count": null,
   "id": "dfe937c3-0b2f-4291-a504-860240e524aa",
   "metadata": {
    "panel-layout": {
     "height": 1195.14,
     "visible": true,
     "width": 100
    }
   },
   "outputs": [],
   "source": [
    "base = (\n",
    "    alt.Chart(runs_so_far)\n",
    "    .encode(\n",
    "        x=alt.X(\n",
    "            \"runs_to_date\",\n",
    "            title=f\"Runs by game no. {game_number}\",\n",
    "            axis=alt.Axis(tickCount=6),\n",
    "        ),\n",
    "        y=alt.Y(\"year:O\", title=\"\").sort(\"x\"),\n",
    "        color=alt.condition(\n",
    "            alt.datum.year == \"2024\",\n",
    "            alt.value(\"steelblue\"),\n",
    "            alt.value(\"#e3e3e3\"),\n",
    "        ),\n",
    "        text=alt.Text(\"runs_to_date\", title=\"\"),\n",
    "    )\n",
    "    .properties(\n",
    "        height=1100,\n",
    "        width=650,\n",
    "        title=f\"Dodgers historical offense: Total runs through game {game_number}, 1958-2024\",\n",
    "    )\n",
    ")\n",
    "\n",
    "base.mark_bar(color=\"#005A9C\") + base.mark_text(align=\"left\", dx=2, color=\"#000\")\n",
    "\n",
    "# Define the vertical line for \"runs_this_season\"\n",
    "vertical_line = (\n",
    "    alt.Chart(pd.DataFrame({\"x\": [runs_this_season]}))\n",
    "    .mark_rule(color=\"black\", size=0.5)\n",
    "    .encode(\n",
    "        x=\"x:Q\",\n",
    "    )\n",
    ")\n",
    "\n",
    "# Define the text annotation for the vertical line\n",
    "text_annotation = (\n",
    "    alt.Chart(pd.DataFrame({\"x\": [runs_this_season], \"y\": [runs_so_far[\"year\"].max()]}))\n",
    "    .mark_text(\n",
    "        text=[f\"Runs this season: {runs_this_season}\"],\n",
    "        align=\"left\",\n",
    "        dx=5,  # Adjust text position horizontally\n",
    "        dy=-1005,  # Adjust text position vertically\n",
    "    )\n",
    "    .encode(\n",
    "        x=\"x:Q\",\n",
    "        y=alt.Y(\"y:O\", axis=alt.Axis(title=\"\")),\n",
    "    )\n",
    ")\n",
    "\n",
    "# Combine your base chart with the vertical line and text annotation\n",
    "final_chart = (\n",
    "    base.mark_bar(color=\"#005A9C\")\n",
    "    + base.mark_text(align=\"left\", dx=2, color=\"#000\")\n",
    "    + vertical_line\n",
    "    + text_annotation\n",
    ").properties(\n",
    "    height=1100,\n",
    "    width=650,\n",
    "    title=f\"Dodgers historical offense: Total runs through game {game_number}, 1958-2024\",\n",
    ")"
   ]
  },
  {
   "cell_type": "code",
   "execution_count": null,
   "id": "2e43984a",
   "metadata": {},
   "outputs": [],
   "source": [
    "final_chart.save(\"../visuals/runs.png\")"
   ]
  },
  {
   "cell_type": "code",
   "execution_count": null,
   "id": "bf551895-3d24-4f34-8393-9881ce3a33a1",
   "metadata": {
    "panel-layout": {
     "height": 1195.14,
     "visible": true,
     "width": 100
    }
   },
   "outputs": [],
   "source": [
    "# !jupyter nbconvert --to script --no-prompt --output ../03_viz_standings 03_viz_standings.ipynb"
   ]
  }
 ],
 "metadata": {
  "kernelspec": {
   "display_name": "Python 3 (ipykernel)",
   "language": "python",
   "name": "python3"
  },
  "language_info": {
   "codemirror_mode": {
    "name": "ipython",
    "version": 3
   },
   "file_extension": ".py",
   "mimetype": "text/x-python",
   "name": "python",
   "nbconvert_exporter": "python",
   "pygments_lexer": "ipython3",
   "version": "3.9.15"
  },
  "panel-cell-order": [
   "77ab12ec-6a2c-4fd8-8b1a-45b8e69448cb",
   "277c96d0-48d1-4944-8f3d-369979dbae0c",
   "b26f152f-1b2c-4231-9752-4ecbe64c4e6a",
   "890c26c6-a7d4-42ff-8d19-ef0d8d6cfb5b",
   "fd4c08bc-ce9c-49b0-af2e-877593871769",
   "0028268b-647d-46db-8dbf-2f3ccf9a0651",
   "0e88ea7b-767d-4d28-9c05-0ad7e3cb61c7",
   "2409aca7-c3cd-4d6a-9290-e8acb93c9bd1",
   "6cd092eb-5772-48c9-97cf-0e2d62f0632f",
   "1e7ae03c-c6bf-46ae-a417-ebf155cadad2",
   "aa31605f-50d3-4af6-8bf0-068f3fd9d313",
   "e408b594-904b-4b9c-92c2-55dc41982f0b",
   "2409dbf1-8d23-489f-bea9-d840bae0bae8",
   "3978864d-34d2-4947-8c33-a1d7e40f4121",
   "0e167509-a196-42a6-bf71-084e8a607128",
   "8575f3c0-5cac-4265-8e5c-9c72b135b43f",
   "2cedc251-d7e6-4134-9793-72ce4d5a62f4",
   "d0f77d9e-5f69-4a87-be53-b643029b9c4c",
   "830d1f22-c971-4ad4-ae2c-9a1d2c2e4e27"
  ]
 },
 "nbformat": 4,
 "nbformat_minor": 5
}
