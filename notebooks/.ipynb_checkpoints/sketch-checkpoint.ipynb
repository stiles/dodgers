{
 "cells": [
  {
   "cell_type": "code",
   "execution_count": 6,
   "id": "7495942a-f570-4f69-8860-fd4954ac971c",
   "metadata": {},
   "outputs": [],
   "source": [
    "import requests\n",
    "import pandas as pd\n",
    "from bs4 import BeautifulSoup"
   ]
  },
  {
   "cell_type": "code",
   "execution_count": 22,
   "id": "bd3787a1-61f2-4224-b6a0-b6bf3baf0475",
   "metadata": {},
   "outputs": [],
   "source": [
    "url = 'https://www.mlb.com/dodgers/roster/transactions'\n",
    "df = pd.read_html(url)[0]\n",
    "df.columns = df.columns.str.lower()\n",
    "df['transaction'] = df['transaction'].str.replace('Los Angeles Dodgers', 'Dodgers')"
   ]
  },
  {
   "cell_type": "code",
   "execution_count": 18,
   "id": "1d2ffd48-a30c-4754-b98f-e023f1764bfd",
   "metadata": {},
   "outputs": [],
   "source": []
  },
  {
   "cell_type": "code",
   "execution_count": 20,
   "id": "eef39520-f092-42a3-a308-c36d24db6bea",
   "metadata": {},
   "outputs": [
    {
     "data": {
      "text/plain": [
       "date                                                    06/20/25\n",
       "transaction    Dodgers transferred RHP Roki Sasaki from the 1...\n",
       "Name: 0, dtype: object"
      ]
     },
     "execution_count": 20,
     "metadata": {},
     "output_type": "execute_result"
    }
   ],
   "source": [
    "df.iloc[0]"
   ]
  },
  {
   "cell_type": "code",
   "execution_count": null,
   "id": "2f9dec8e-335d-4ddf-84c3-6f51839158c6",
   "metadata": {},
   "outputs": [],
   "source": []
  }
 ],
 "metadata": {
  "kernelspec": {
   "display_name": "Python 3 (ipykernel)",
   "language": "python",
   "name": "python3"
  },
  "language_info": {
   "codemirror_mode": {
    "name": "ipython",
    "version": 3
   },
   "file_extension": ".py",
   "mimetype": "text/x-python",
   "name": "python",
   "nbconvert_exporter": "python",
   "pygments_lexer": "ipython3",
   "version": "3.9.6"
  }
 },
 "nbformat": 4,
 "nbformat_minor": 5
}
