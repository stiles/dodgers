{
 "cells": [
  {
   "cell_type": "markdown",
   "id": "77ab12ec-6a2c-4fd8-8b1a-45b8e69448cb",
   "metadata": {},
   "source": [
    "# LA Dodgers schedule snapshot\n",
    "> This notebook downloads the team's current standings table from [Baseball Reference](https://www.baseball-reference.com/teams/LAD/2024-schedule-scores.shtml) and creates a results/schedule table listing five games in the past and future."
   ]
  },
  {
   "cell_type": "markdown",
   "id": "277c96d0-48d1-4944-8f3d-369979dbae0c",
   "metadata": {},
   "source": [
    "---"
   ]
  },
  {
   "cell_type": "markdown",
   "id": "b26f152f-1b2c-4231-9752-4ecbe64c4e6a",
   "metadata": {},
   "source": [
    "#### Import Python tools and Jupyter config"
   ]
  },
  {
   "cell_type": "code",
   "execution_count": 1,
   "id": "a5dc9022-2252-4acd-828a-66cbdb69823a",
   "metadata": {},
   "outputs": [],
   "source": [
    "import os\n",
    "import pandas as pd\n",
    "import requests\n",
    "from bs4 import BeautifulSoup\n",
    "import boto3\n",
    "from io import StringIO\n",
    "from io import BytesIO\n",
    "import logging"
   ]
  },
  {
   "cell_type": "code",
   "execution_count": 2,
   "id": "837da617-c8b6-4bc9-98b4-f35d1ad3b343",
   "metadata": {},
   "outputs": [
    {
     "name": "stderr",
     "output_type": "stream",
     "text": [
      "2024-05-19 00:33:32,419 - INFO - Found credentials in shared credentials file: ~/.aws/credentials\n"
     ]
    }
   ],
   "source": [
    "# Set up basic configuration for logging\n",
    "logging.basicConfig(level=logging.INFO, format='%(asctime)s - %(levelname)s - %(message)s')\n",
    "\n",
    "# Determine if running in a GitHub Actions environment\n",
    "is_github_actions = os.getenv('GITHUB_ACTIONS') == 'true'\n",
    "\n",
    "# AWS credentials and session initialization\n",
    "aws_key_id = os.environ.get(\"AWS_ACCESS_KEY_ID\")\n",
    "aws_secret_key = os.environ.get(\"AWS_SECRET_ACCESS_KEY\")\n",
    "aws_region = \"us-west-1\"\n",
    "\n",
    "# Conditional AWS session creation based on the environment\n",
    "if is_github_actions:\n",
    "    # In GitHub Actions, use environment variables directly\n",
    "    session = boto3.Session(\n",
    "        aws_access_key_id=aws_key_id,\n",
    "        aws_secret_access_key=aws_secret_key,\n",
    "        region_name=aws_region\n",
    "    )\n",
    "else:\n",
    "    # Locally, use a specific profile\n",
    "    session = boto3.Session(profile_name=\"haekeo\", region_name=aws_region)\n",
    "\n",
    "s3_resource = session.resource(\"s3\")\n",
    "\n",
    "# Base directory settings\n",
    "base_dir = os.getcwd()\n",
    "data_dir = os.path.join(base_dir, 'data', 'standings')\n",
    "# os.makedirs(data_dir, exist_ok=True)\n",
    "\n",
    "profile_name = os.environ.get(\"AWS_PERSONAL_PROFILE\")\n",
    "year = pd.Timestamp.today().year"
   ]
  },
  {
   "cell_type": "code",
   "execution_count": 3,
   "id": "7c91cdd1-3a52-48cf-916e-03c5db1dea49",
   "metadata": {},
   "outputs": [],
   "source": [
    "mlb_teams = {\n",
    "    \"ARI\": \"Arizona Diamondbacks\",\n",
    "    \"ATL\": \"Atlanta Braves\",\n",
    "    \"BAL\": \"Baltimore Orioles\",\n",
    "    \"BOS\": \"Boston Red Sox\",\n",
    "    \"CHC\": \"Chicago Cubs\",\n",
    "    \"CHW\": \"Chicago White Sox\",\n",
    "    \"CIN\": \"Cincinnati Reds\",\n",
    "    \"CLE\": \"Cleveland Guardians\",\n",
    "    \"COL\": \"Colorado Rockies\",\n",
    "    \"DET\": \"Detroit Tigers\",\n",
    "    \"HOU\": \"Houston Astros\",\n",
    "    \"KCR\": \"Kansas City Royals\",\n",
    "    \"LAA\": \"Los Angeles Angels\",\n",
    "    \"LAD\": \"Los Angeles Dodgers\",\n",
    "    \"MIA\": \"Miami Marlins\",\n",
    "    \"MIL\": \"Milwaukee Brewers\",\n",
    "    \"MIN\": \"Minnesota Twins\",\n",
    "    \"NYM\": \"New York Mets\",\n",
    "    \"NYY\": \"New York Yankees\",\n",
    "    \"OAK\": \"Oakland Athletics\",\n",
    "    \"PHI\": \"Philadelphia Phillies\",\n",
    "    \"PIT\": \"Pittsburgh Pirates\",\n",
    "    \"SDP\": \"San Diego Padres\",\n",
    "    \"SFG\": \"San Francisco Giants\",\n",
    "    \"SEA\": \"Seattle Mariners\",\n",
    "    \"STL\": \"St. Louis Cardinals\",\n",
    "    \"TBR\": \"Tampa Bay Rays\",\n",
    "    \"TEX\": \"Texas Rangers\",\n",
    "    \"TOR\": \"Toronto Blue Jays\",\n",
    "    \"WSN\": \"Washington Nationals\"\n",
    "}"
   ]
  },
  {
   "cell_type": "code",
   "execution_count": null,
   "id": "334ca508",
   "metadata": {},
   "outputs": [],
   "source": [
    "# Configuration\n",
    "year = pd.Timestamp.now().year\n",
    "url = f\"https://www.baseball-reference.com/teams/LAD/{year}-schedule-scores.shtml\"\n",
    "output_dir = \"data/standings\"\n",
    "csv_file = f\"{output_dir}/dodgers_schedule.csv\"\n",
    "json_file = f\"{output_dir}/dodgers_schedule.json\"\n",
    "parquet_file = f\"{output_dir}/dodgers_schedule.parquet\"\n",
    "s3_bucket = \"stilesdata.com\""
   ]
  },
  {
   "cell_type": "code",
   "execution_count": 5,
   "id": "1aa02a4f-a25b-4e72-93e5-93ce0cb759f3",
   "metadata": {},
   "outputs": [],
   "source": [
    "def fetch_clean_current_schedule(url, year):\n",
    "    response = requests.get(url)\n",
    "    html_content = BeautifulSoup(response.content, 'html.parser')\n",
    "    raw_df = pd.read_html(StringIO(str(html_content)))[0].rename(columns={\"Gm#\": \"game_no\", \"Unnamed: 4\": \"home_away\", 'W/L': 'result'}).assign(season=year)\n",
    "    df = raw_df.query(\"Tm !='Tm'\").copy()\n",
    "    df.columns = df.columns.str.lower()\n",
    "    df['opp_name'] = df['opp'].map(mlb_teams)\n",
    "    df['date'] = df['date'].dropna().str.split(', ', expand=True)[1]\n",
    "    df['date'] = pd.to_datetime(df['date'].dropna() + \" \" + df['season'].astype(str))\n",
    "    df['date'] = df['date'].dt.strftime('%b %-d')\n",
    "    df['home_away'] = df['home_away'].apply(lambda i: 'away' if i == '@' else 'home')\n",
    "    # df['result'] = df['result'].apply(lambda i: 'win' if i == 'W' else 'loss')\n",
    "    # df['result'] = df['result'].apply(lambda i: 'win' if i == 'W' else 'loss')\n",
    "    df.loc[df[\"result\"] == \"W\", \"result\"] = 'win'\n",
    "    df.loc[df[\"result\"] == \"L\", \"result\"] = 'loss'\n",
    "    df.loc[~df[\"result\"].str.contains(\"win|loss\"), \"result\"] = '--'\n",
    "    df = df.drop([\"unnamed: 2\", \"streak\", \"orig. scheduled\", 'inn', 'tm', 'r', 'ra', 'rank', 'gb', 'win', 'opp', 'loss', 'save', 'time', 'd/n', 'w-l', 'attendance'], axis=1)\n",
    "    return df"
   ]
  },
  {
   "cell_type": "code",
   "execution_count": 6,
   "id": "14f8321d-d644-4a76-9d72-4b49d2b0f2df",
   "metadata": {},
   "outputs": [],
   "source": [
    "src = fetch_clean_current_schedule(url, year)\n",
    "next_five = src.query('cli.isnull()').head().drop(['cli', 'season'], axis=1).copy()\n",
    "last_five = src.query('~cli.isnull()').tail().drop(['cli', 'season'], axis=1).copy()\n",
    "next_five['placement'] = 'next'\n",
    "last_five['placement'] = 'last'"
   ]
  },
  {
   "cell_type": "code",
   "execution_count": 7,
   "id": "463bbcb6-9317-4b99-ba5f-9f8458c1e787",
   "metadata": {},
   "outputs": [],
   "source": [
    "schedule_df = pd.concat([last_five, next_five])[['date', 'opp_name', 'home_away', 'result', 'placement', 'game_no']]"
   ]
  },
  {
   "cell_type": "code",
   "execution_count": 8,
   "id": "bf44c356-61cf-48c1-90bd-26d4e2c8c65a",
   "metadata": {},
   "outputs": [],
   "source": [
    "# Function to save DataFrame to S3\n",
    "def save_to_s3(df, base_path, s3_bucket, formats):\n",
    "    for fmt in formats:\n",
    "        try:\n",
    "            buffer = BytesIO()\n",
    "            if fmt == \"csv\":\n",
    "                df.to_csv(buffer, index=False)\n",
    "                content_type = \"text/csv\"\n",
    "            elif fmt == \"json\":\n",
    "                df.to_json(buffer, indent=4, orient=\"records\", lines=False)\n",
    "                content_type = \"application/json\"\n",
    "            buffer.seek(0)\n",
    "            s3_resource.Bucket(s3_bucket).put_object(Key=f\"{base_path}.{fmt}\", Body=buffer, ContentType=content_type)\n",
    "            logging.info(f\"Uploaded {fmt} to {s3_bucket}/{base_path}.{fmt}\")\n",
    "        except Exception as e:\n",
    "            logging.error(f\"Failed to upload {fmt} to S3: {e}\")"
   ]
  },
  {
   "cell_type": "code",
   "execution_count": 9,
   "id": "336868e7-06b0-4825-85ce-5ad78cd49f10",
   "metadata": {},
   "outputs": [
    {
     "name": "stderr",
     "output_type": "stream",
     "text": [
      "2024-05-19 00:33:32,971 - INFO - Uploaded csv to stilesdata.com/dodgers/data/standings/dodgers_schedule.csv\n",
      "2024-05-19 00:33:33,059 - INFO - Uploaded json to stilesdata.com/dodgers/data/standings/dodgers_schedule.json\n"
     ]
    }
   ],
   "source": [
    "# Saving files locally and to S3\n",
    "file_path = os.path.join(data_dir, 'dodgers_schedule')\n",
    "formats = [\"csv\", \"json\"]\n",
    "# save_dataframe(optimized_df, file_path, formats)\n",
    "save_to_s3(schedule_df, \"dodgers/data/standings/dodgers_schedule\", \"stilesdata.com\", formats)"
   ]
  },
  {
   "cell_type": "code",
   "execution_count": 10,
   "id": "3faa749c-e557-49e8-bc4f-2de0055b5d4a",
   "metadata": {},
   "outputs": [
    {
     "name": "stdout",
     "output_type": "stream",
     "text": [
      "[NbConvertApp] Converting notebook 05_fetch_process_schedule.ipynb to script\n",
      "[NbConvertApp] Writing 5756 bytes to ../scripts/12_fetch_process_schedule.py\n"
     ]
    }
   ],
   "source": [
    "# Save a copy of notebook as a python script\n",
    "!jupyter nbconvert --to script --no-prompt --output ../scripts/12_fetch_process_schedule 05_fetch_process_schedule.ipynb"
   ]
  }
 ],
 "metadata": {
  "kernelspec": {
   "display_name": "Python 3 (ipykernel)",
   "language": "python",
   "name": "python3"
  },
  "language_info": {
   "codemirror_mode": {
    "name": "ipython",
    "version": 3
   },
   "file_extension": ".py",
   "mimetype": "text/x-python",
   "name": "python",
   "nbconvert_exporter": "python",
   "pygments_lexer": "ipython3",
   "version": "3.9.15"
  }
 },
 "nbformat": 4,
 "nbformat_minor": 5
}
